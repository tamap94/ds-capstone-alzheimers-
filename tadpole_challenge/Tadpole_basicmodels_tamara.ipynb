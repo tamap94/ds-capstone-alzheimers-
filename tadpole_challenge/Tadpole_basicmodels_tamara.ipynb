{
 "cells": [
  {
   "cell_type": "markdown",
   "metadata": {},
   "source": [
    "## Further modeling - Tadpole challenge \n",
    "\n",
    "In this Notebook different models will be used on the numerical dataset \n",
    "We will use the already modified dataset which only contains the data from the first visit. Further, we will test it also separately on other data and the brain data only. "
   ]
  },
  {
   "cell_type": "code",
   "execution_count": 1,
   "metadata": {},
   "outputs": [],
   "source": [
    "# Load the required packages \n",
    "import numpy as np\n",
    "import pandas as pd\n",
    "import seaborn as sns\n",
    "import matplotlib.pyplot as plt\n",
    "import os\n",
    "\n",
    "\n",
    "from sklearn.model_selection import train_test_split, GridSearchCV\n",
    "from sklearn.metrics import accuracy_score, confusion_matrix, recall_score, precision_score, precision_recall_curve\n",
    "from sklearn.svm import SVC\n",
    "from sklearn.ensemble import ExtraTreesClassifier\n",
    "from sklearn.preprocessing import OneHotEncoder, StandardScaler\n",
    "from sklearn.neighbors import KNeighborsClassifier\n",
    "from sklearn.impute import KNNImputer\n",
    "\n",
    "# Import TensorFlow packages \n",
    "\n",
    "import tensorflow as tf   \n",
    "import tensorflow_hub as hub\n",
    "from tensorflow import keras\n",
    "from tensorflow.keras import layers\n",
    "from tensorflow.keras import regularizers\n",
    "from keras.models import Sequential\n",
    "from keras.layers import Dense, Activation, Dropout, InputLayer, Flatten, Conv2D, MaxPooling2D\n",
    "from sklearn.linear_model import LogisticRegression\n",
    "\n",
    "np.random.seed(42)"
   ]
  },
  {
   "cell_type": "code",
   "execution_count": 2,
   "metadata": {},
   "outputs": [
    {
     "data": {
      "text/plain": [
       "<Experiment: artifact_location='s3://neuefische-mlflow/mlflow-artifacts/56', experiment_id='56', lifecycle_stage='active', name='alzbusters_numeric_models', tags={}>"
      ]
     },
     "execution_count": 2,
     "metadata": {},
     "output_type": "execute_result"
    }
   ],
   "source": [
    "# Import packages to see models in MLFlow \n",
    "import logging\n",
    "import parsenvy\n",
    "\n",
    "from logging import getLogger\n",
    "import mlflow\n",
    "from config_tp import TRACKING_URI, EXPERIMENT_NAME\n",
    "mlflow.set_tracking_uri(TRACKING_URI)\n",
    "mlflow.set_experiment(EXPERIMENT_NAME)"
   ]
  },
  {
   "cell_type": "code",
   "execution_count": 3,
   "metadata": {},
   "outputs": [],
   "source": [
    "# Load the processed dataset \n",
    "df=pd.read_csv('../tadpole_challenge/df_processed.csv')"
   ]
  },
  {
   "cell_type": "code",
   "execution_count": 4,
   "metadata": {},
   "outputs": [],
   "source": [
    "#Drop all the empty rows and columns with the weird entries \n",
    "df.dropna(axis=0, inplace=True)\n",
    "\n",
    "#drop the column with the IDs and strange symbols\n",
    "df.drop(columns=df[['PTID','ABETA','PTAU']], inplace=True)"
   ]
  },
  {
   "cell_type": "code",
   "execution_count": 5,
   "metadata": {},
   "outputs": [
    {
     "data": {
      "text/html": [
       "<div>\n",
       "<style scoped>\n",
       "    .dataframe tbody tr th:only-of-type {\n",
       "        vertical-align: middle;\n",
       "    }\n",
       "\n",
       "    .dataframe tbody tr th {\n",
       "        vertical-align: top;\n",
       "    }\n",
       "\n",
       "    .dataframe thead th {\n",
       "        text-align: right;\n",
       "    }\n",
       "</style>\n",
       "<table border=\"1\" class=\"dataframe\">\n",
       "  <thead>\n",
       "    <tr style=\"text-align: right;\">\n",
       "      <th></th>\n",
       "      <th>TAU</th>\n",
       "    </tr>\n",
       "  </thead>\n",
       "  <tbody>\n",
       "    <tr>\n",
       "      <th>18</th>\n",
       "      <td>101.20</td>\n",
       "    </tr>\n",
       "    <tr>\n",
       "      <th>19</th>\n",
       "      <td>170.40</td>\n",
       "    </tr>\n",
       "    <tr>\n",
       "      <th>30</th>\n",
       "      <td>347.80</td>\n",
       "    </tr>\n",
       "    <tr>\n",
       "      <th>36</th>\n",
       "      <td>324.80</td>\n",
       "    </tr>\n",
       "    <tr>\n",
       "      <th>90</th>\n",
       "      <td>108.20</td>\n",
       "    </tr>\n",
       "    <tr>\n",
       "      <th>...</th>\n",
       "      <td>...</td>\n",
       "    </tr>\n",
       "    <tr>\n",
       "      <th>1792</th>\n",
       "      <td>279.90</td>\n",
       "    </tr>\n",
       "    <tr>\n",
       "      <th>1793</th>\n",
       "      <td>314.60</td>\n",
       "    </tr>\n",
       "    <tr>\n",
       "      <th>1794</th>\n",
       "      <td>305.00</td>\n",
       "    </tr>\n",
       "    <tr>\n",
       "      <th>1796</th>\n",
       "      <td>300.10</td>\n",
       "    </tr>\n",
       "    <tr>\n",
       "      <th>1805</th>\n",
       "      <td>81.54</td>\n",
       "    </tr>\n",
       "  </tbody>\n",
       "</table>\n",
       "<p>625 rows × 1 columns</p>\n",
       "</div>"
      ],
      "text/plain": [
       "         TAU\n",
       "18    101.20\n",
       "19    170.40\n",
       "30    347.80\n",
       "36    324.80\n",
       "90    108.20\n",
       "...      ...\n",
       "1792  279.90\n",
       "1793  314.60\n",
       "1794  305.00\n",
       "1796  300.10\n",
       "1805   81.54\n",
       "\n",
       "[625 rows x 1 columns]"
      ]
     },
     "execution_count": 5,
     "metadata": {},
     "output_type": "execute_result"
    }
   ],
   "source": [
    "#Convert everything to numerical values \n",
    "df[['TAU']].astype(float)"
   ]
  },
  {
   "cell_type": "code",
   "execution_count": 6,
   "metadata": {},
   "outputs": [],
   "source": [
    "# Use get_dummies for the PTGENDER and APOE4 column \n",
    "df=pd.get_dummies(df, columns=['PTGENDER', 'APOE4'], drop_first=False)"
   ]
  },
  {
   "cell_type": "code",
   "execution_count": 7,
   "metadata": {},
   "outputs": [
    {
     "data": {
      "text/plain": [
       "Unnamed: 0         0\n",
       "AGE                0\n",
       "FDG                0\n",
       "AV45               0\n",
       "TAU                0\n",
       "CDRSB              0\n",
       "ADAS11             0\n",
       "ADAS13             0\n",
       "MMSE               0\n",
       "RAVLT_immediate    0\n",
       "Ventricles         0\n",
       "Hippocampus        0\n",
       "WholeBrain         0\n",
       "Entorhinal         0\n",
       "MidTemp            0\n",
       "DX                 0\n",
       "PTGENDER_Female    0\n",
       "PTGENDER_Male      0\n",
       "APOE4_0.0          0\n",
       "APOE4_1.0          0\n",
       "APOE4_2.0          0\n",
       "dtype: int64"
      ]
     },
     "execution_count": 7,
     "metadata": {},
     "output_type": "execute_result"
    }
   ],
   "source": [
    "df.isnull().sum()"
   ]
  },
  {
   "cell_type": "code",
   "execution_count": 8,
   "metadata": {},
   "outputs": [],
   "source": [
    "df[\"TAU\"].replace(\"<80\",np.nan, inplace=True)\n",
    "df[\"TAU\"].replace(\">1300\",np.nan, inplace=True)"
   ]
  },
  {
   "cell_type": "code",
   "execution_count": 9,
   "metadata": {},
   "outputs": [],
   "source": [
    "#Convert the entries in DX into 0-2 values \n",
    "def replace_dx(df, feature):\n",
    "    df[feature] = df[feature].replace('CN', 0)\n",
    "    df[feature] = df[feature].replace('MCI', 1)\n",
    "    df[feature] = df[feature].replace('Dementia', 2)\n",
    "    return df\n",
    "\n",
    "col_pass = ['DX']\n",
    "\n",
    "for col in col_pass: \n",
    "    df = replace_dx(df, col)"
   ]
  },
  {
   "cell_type": "code",
   "execution_count": 10,
   "metadata": {},
   "outputs": [],
   "source": [
    "# Train-test split \n",
    "\n",
    "X=df.drop('DX', axis=1)\n",
    "y=df['DX']\n",
    "\n",
    "X_train, X_test, y_train, y_test = train_test_split(X,y, stratify = y, random_state=42)"
   ]
  },
  {
   "cell_type": "code",
   "execution_count": 11,
   "metadata": {},
   "outputs": [],
   "source": [
    "#Use Standard Scaler for the numeric data \n",
    "scaler = StandardScaler()\n",
    "X_train_scaled=scaler.fit_transform(X_train)\n",
    "X_test_scaled=scaler.fit_transform(X_test)"
   ]
  },
  {
   "cell_type": "code",
   "execution_count": 12,
   "metadata": {},
   "outputs": [],
   "source": [
    "# setting the MLFlow connection and experiment\n",
    "mlflow.start_run(run_name='1_SVM_scaled')\n",
    "run = mlflow.active_run()"
   ]
  },
  {
   "cell_type": "code",
   "execution_count": 13,
   "metadata": {},
   "outputs": [
    {
     "data": {
      "text/plain": [
       "SVC()"
      ]
     },
     "execution_count": 13,
     "metadata": {},
     "output_type": "execute_result"
    }
   ],
   "source": [
    "# Start with a SVM model \n",
    "model = SVC(kernel='rbf')\n",
    "model.fit(X_train_scaled, y_train)"
   ]
  },
  {
   "cell_type": "code",
   "execution_count": 14,
   "metadata": {},
   "outputs": [],
   "source": [
    "y_pred=model.predict(X_test_scaled)"
   ]
  },
  {
   "cell_type": "code",
   "execution_count": 15,
   "metadata": {},
   "outputs": [
    {
     "name": "stdout",
     "output_type": "stream",
     "text": [
      "0.821656050955414\n",
      "0.9465811965811965\n"
     ]
    }
   ],
   "source": [
    "# Check out the metrics\n",
    "acc_test = accuracy_score(y_test, y_pred)\n",
    "print(acc_test)\n",
    "acc_train=accuracy_score(y_train, model.predict(X_train_scaled))\n",
    "print(acc_train)"
   ]
  },
  {
   "cell_type": "code",
   "execution_count": 16,
   "metadata": {},
   "outputs": [
    {
     "data": {
      "text/plain": [
       "<Run: data=<RunData: metrics={'test-accuracy': 0.821656050955414, 'train-accuracy': 0.9465811965811965}, params={}, tags={'mlflow.runName': '1_SVM_scaled',\n",
       " 'mlflow.source.git.commit': 'd605302d01200a4536da993e7ae45ed46232dc60',\n",
       " 'mlflow.source.name': '/Users/tamarapallien/neuefische/capstone '\n",
       "                       '/ds-capstone-alzheimers-/.venv/lib/python3.9/site-packages/ipykernel_launcher.py',\n",
       " 'mlflow.source.type': 'LOCAL',\n",
       " 'mlflow.user': 'tamarapallien'}>, info=<RunInfo: artifact_uri='s3://neuefische-mlflow/mlflow-artifacts/56/ae0416924545459194a17cba06626e13/artifacts', end_time=1661779923261, experiment_id='56', lifecycle_stage='active', run_id='ae0416924545459194a17cba06626e13', run_uuid='ae0416924545459194a17cba06626e13', start_time=1661779923035, status='FINISHED', user_id='tamarapallien'>>"
      ]
     },
     "execution_count": 16,
     "metadata": {},
     "output_type": "execute_result"
    }
   ],
   "source": [
    "#logging metrics\n",
    "mlflow.log_metric(\"train-\" + \"accuracy\", acc_train)\n",
    "mlflow.log_metric(\"test-\" + \"accuracy\", acc_test)\n",
    "\n",
    "# mlflow.sklearn.log_model(reg, \"model\")\n",
    "mlflow.end_run()\n",
    "\n",
    "mlflow.get_run(run_id=run.info.run_id)"
   ]
  },
  {
   "cell_type": "code",
   "execution_count": 17,
   "metadata": {},
   "outputs": [],
   "source": [
    "# setting the MLFlow connection and experiment\n",
    "mlflow.start_run(run_name='2_KNN_scaled')\n",
    "run = mlflow.active_run()"
   ]
  },
  {
   "cell_type": "code",
   "execution_count": 18,
   "metadata": {},
   "outputs": [
    {
     "data": {
      "text/plain": [
       "KNeighborsClassifier(metric='euclidean')"
      ]
     },
     "execution_count": 18,
     "metadata": {},
     "output_type": "execute_result"
    }
   ],
   "source": [
    "# Train a KNN model \n",
    "knn = KNeighborsClassifier(n_neighbors=5, metric='euclidean')\n",
    "knn.fit(X_train_scaled, np.ravel(y_train))"
   ]
  },
  {
   "cell_type": "code",
   "execution_count": 19,
   "metadata": {},
   "outputs": [
    {
     "name": "stdout",
     "output_type": "stream",
     "text": [
      "0.6751592356687898\n",
      "0.9465811965811965\n"
     ]
    },
    {
     "name": "stderr",
     "output_type": "stream",
     "text": [
      "/Users/tamarapallien/neuefische/capstone /ds-capstone-alzheimers-/.venv/lib/python3.9/site-packages/sklearn/neighbors/_classification.py:228: FutureWarning: Unlike other reduction functions (e.g. `skew`, `kurtosis`), the default behavior of `mode` typically preserves the axis it acts along. In SciPy 1.11.0, this behavior will change: the default value of `keepdims` will become False, the `axis` over which the statistic is taken will be eliminated, and the value None will no longer be accepted. Set `keepdims` to True or False to avoid this warning.\n",
      "  mode, _ = stats.mode(_y[neigh_ind, k], axis=1)\n"
     ]
    }
   ],
   "source": [
    "y_pred=knn.predict(X_test_scaled)\n",
    "\n",
    "# Check out the metrics\n",
    "acc_test = accuracy_score(y_test, y_pred)\n",
    "print(acc_test)\n",
    "acc_train=accuracy_score(y_train, model.predict(X_train_scaled))\n",
    "print(acc_train)"
   ]
  },
  {
   "cell_type": "code",
   "execution_count": 20,
   "metadata": {},
   "outputs": [
    {
     "data": {
      "text/plain": [
       "<Run: data=<RunData: metrics={'test-accuracy': 0.6751592356687898, 'train-accuracy': 0.9465811965811965}, params={}, tags={'mlflow.runName': '2_KNN_scaled',\n",
       " 'mlflow.source.git.commit': 'd605302d01200a4536da993e7ae45ed46232dc60',\n",
       " 'mlflow.source.name': '/Users/tamarapallien/neuefische/capstone '\n",
       "                       '/ds-capstone-alzheimers-/.venv/lib/python3.9/site-packages/ipykernel_launcher.py',\n",
       " 'mlflow.source.type': 'LOCAL',\n",
       " 'mlflow.user': 'tamarapallien'}>, info=<RunInfo: artifact_uri='s3://neuefische-mlflow/mlflow-artifacts/56/2079dd923097433e9727c4a80ccd00f1/artifacts', end_time=1661779923823, experiment_id='56', lifecycle_stage='active', run_id='2079dd923097433e9727c4a80ccd00f1', run_uuid='2079dd923097433e9727c4a80ccd00f1', start_time=1661779923432, status='FINISHED', user_id='tamarapallien'>>"
      ]
     },
     "execution_count": 20,
     "metadata": {},
     "output_type": "execute_result"
    }
   ],
   "source": [
    "#logging metrics\n",
    "mlflow.log_metric(\"train-\" + \"accuracy\", acc_train)\n",
    "mlflow.log_metric(\"test-\" + \"accuracy\", acc_test)\n",
    "\n",
    "# mlflow.sklearn.log_model(reg, \"model\")\n",
    "mlflow.end_run()\n",
    "\n",
    "mlflow.get_run(run_id=run.info.run_id)"
   ]
  },
  {
   "cell_type": "code",
   "execution_count": 21,
   "metadata": {},
   "outputs": [],
   "source": [
    "#Try out as simple DNN model \n",
    "mlflow.start_run(run_name='3_DNN_scaled')\n",
    "run = mlflow.active_run()"
   ]
  },
  {
   "cell_type": "code",
   "execution_count": 22,
   "metadata": {},
   "outputs": [],
   "source": [
    "X_train=np.asarray(X_train_scaled).astype(np.float32)\n",
    "y_train=np.asarray(y_train).astype(np.float32)"
   ]
  },
  {
   "cell_type": "code",
   "execution_count": 23,
   "metadata": {},
   "outputs": [
    {
     "name": "stdout",
     "output_type": "stream",
     "text": [
      "Metal device set to: Apple M1\n",
      "\n",
      "systemMemory: 8.00 GB\n",
      "maxCacheSize: 2.67 GB\n",
      "\n"
     ]
    },
    {
     "name": "stderr",
     "output_type": "stream",
     "text": [
      "2022-08-29 15:32:04.090009: I tensorflow/core/common_runtime/pluggable_device/pluggable_device_factory.cc:305] Could not identify NUMA node of platform GPU ID 0, defaulting to 0. Your kernel may not have been built with NUMA support.\n",
      "2022-08-29 15:32:04.090283: I tensorflow/core/common_runtime/pluggable_device/pluggable_device_factory.cc:271] Created TensorFlow device (/job:localhost/replica:0/task:0/device:GPU:0 with 0 MB memory) -> physical PluggableDevice (device: 0, name: METAL, pci bus id: <undefined>)\n"
     ]
    }
   ],
   "source": [
    "# Built a model \n",
    "model=Sequential()\n",
    "model.add(Dense(units=20, activation='relu'))\n",
    "model.add(Dense(units=20, activation='relu'))\n",
    "model.add(Dropout(0.2))\n",
    "model.add(Dense(units=1, activation='sigmoid'))"
   ]
  },
  {
   "cell_type": "code",
   "execution_count": 24,
   "metadata": {},
   "outputs": [],
   "source": [
    "#Compile model \n",
    "\n",
    "model.compile(optimizer='adam', loss='binary_crossentropy',metrics=['accuracy'])"
   ]
  },
  {
   "cell_type": "code",
   "execution_count": 25,
   "metadata": {},
   "outputs": [
    {
     "name": "stdout",
     "output_type": "stream",
     "text": [
      "Epoch 1/200\n"
     ]
    },
    {
     "name": "stderr",
     "output_type": "stream",
     "text": [
      "2022-08-29 15:32:04.330249: W tensorflow/core/platform/profile_utils/cpu_utils.cc:128] Failed to get CPU frequency: 0 Hz\n",
      "2022-08-29 15:32:04.583001: I tensorflow/core/grappler/optimizers/custom_graph_optimizer_registry.cc:113] Plugin optimizer for device_type GPU is enabled.\n"
     ]
    },
    {
     "name": "stdout",
     "output_type": "stream",
     "text": [
      "8/8 [==============================] - 1s 31ms/step - loss: 0.7197 - accuracy: 0.4251 - val_loss: 0.5331 - val_accuracy: 0.4894\n",
      "Epoch 2/200\n",
      "8/8 [==============================] - 0s 9ms/step - loss: 0.5881 - accuracy: 0.4572 - val_loss: 0.3870 - val_accuracy: 0.4894\n",
      "Epoch 3/200\n",
      "1/8 [==>...........................] - ETA: 0s - loss: 0.4864 - accuracy: 0.6667"
     ]
    },
    {
     "name": "stderr",
     "output_type": "stream",
     "text": [
      "2022-08-29 15:32:04.942848: I tensorflow/core/grappler/optimizers/custom_graph_optimizer_registry.cc:113] Plugin optimizer for device_type GPU is enabled.\n"
     ]
    },
    {
     "name": "stdout",
     "output_type": "stream",
     "text": [
      "8/8 [==============================] - 0s 9ms/step - loss: 0.4503 - accuracy: 0.5535 - val_loss: 0.2661 - val_accuracy: 0.5426\n",
      "Epoch 4/200\n",
      "8/8 [==============================] - 0s 9ms/step - loss: 0.3670 - accuracy: 0.5535 - val_loss: 0.1516 - val_accuracy: 0.5638\n",
      "Epoch 5/200\n",
      "8/8 [==============================] - 0s 9ms/step - loss: 0.2791 - accuracy: 0.5722 - val_loss: 0.0352 - val_accuracy: 0.5851\n",
      "Epoch 6/200\n",
      "8/8 [==============================] - 0s 9ms/step - loss: 0.1633 - accuracy: 0.6096 - val_loss: -0.0972 - val_accuracy: 0.6170\n",
      "Epoch 7/200\n",
      "8/8 [==============================] - 0s 9ms/step - loss: 0.0605 - accuracy: 0.6096 - val_loss: -0.2437 - val_accuracy: 0.6277\n",
      "Epoch 8/200\n",
      "8/8 [==============================] - 0s 9ms/step - loss: -0.0910 - accuracy: 0.6203 - val_loss: -0.4041 - val_accuracy: 0.6489\n",
      "Epoch 9/200\n",
      "8/8 [==============================] - 0s 9ms/step - loss: -0.1969 - accuracy: 0.6123 - val_loss: -0.6043 - val_accuracy: 0.6596\n",
      "Epoch 10/200\n",
      "8/8 [==============================] - 0s 9ms/step - loss: -0.3643 - accuracy: 0.6444 - val_loss: -0.8405 - val_accuracy: 0.6596\n",
      "Epoch 11/200\n",
      "8/8 [==============================] - 0s 9ms/step - loss: -0.5516 - accuracy: 0.6551 - val_loss: -1.1110 - val_accuracy: 0.6596\n",
      "Epoch 12/200\n",
      "8/8 [==============================] - 0s 9ms/step - loss: -0.8625 - accuracy: 0.6658 - val_loss: -1.4507 - val_accuracy: 0.6596\n",
      "Epoch 13/200\n",
      "8/8 [==============================] - 0s 9ms/step - loss: -1.0417 - accuracy: 0.6524 - val_loss: -1.8551 - val_accuracy: 0.6596\n",
      "Epoch 14/200\n",
      "8/8 [==============================] - 0s 9ms/step - loss: -1.3152 - accuracy: 0.6711 - val_loss: -2.3020 - val_accuracy: 0.6702\n",
      "Epoch 15/200\n",
      "8/8 [==============================] - 0s 9ms/step - loss: -1.7906 - accuracy: 0.6765 - val_loss: -2.8242 - val_accuracy: 0.6702\n",
      "Epoch 16/200\n",
      "8/8 [==============================] - 0s 9ms/step - loss: -2.1443 - accuracy: 0.6684 - val_loss: -3.4280 - val_accuracy: 0.6702\n",
      "Epoch 17/200\n",
      "8/8 [==============================] - 0s 9ms/step - loss: -2.6827 - accuracy: 0.6551 - val_loss: -4.1490 - val_accuracy: 0.6702\n",
      "Epoch 18/200\n",
      "8/8 [==============================] - 0s 9ms/step - loss: -3.3483 - accuracy: 0.6925 - val_loss: -5.0068 - val_accuracy: 0.6809\n",
      "Epoch 19/200\n",
      "8/8 [==============================] - 0s 9ms/step - loss: -3.9211 - accuracy: 0.6765 - val_loss: -6.0071 - val_accuracy: 0.6809\n",
      "Epoch 20/200\n",
      "8/8 [==============================] - 0s 9ms/step - loss: -4.7239 - accuracy: 0.6631 - val_loss: -7.0994 - val_accuracy: 0.6915\n",
      "Epoch 21/200\n",
      "8/8 [==============================] - 0s 15ms/step - loss: -5.5189 - accuracy: 0.6738 - val_loss: -8.3493 - val_accuracy: 0.6809\n",
      "Epoch 22/200\n",
      "8/8 [==============================] - 0s 9ms/step - loss: -6.5579 - accuracy: 0.6925 - val_loss: -9.7353 - val_accuracy: 0.6809\n",
      "Epoch 23/200\n",
      "8/8 [==============================] - 0s 9ms/step - loss: -7.6048 - accuracy: 0.6845 - val_loss: -11.3498 - val_accuracy: 0.6809\n",
      "Epoch 24/200\n",
      "8/8 [==============================] - 0s 9ms/step - loss: -8.8313 - accuracy: 0.6658 - val_loss: -13.0706 - val_accuracy: 0.6809\n",
      "Epoch 25/200\n",
      "8/8 [==============================] - 0s 9ms/step - loss: -10.6499 - accuracy: 0.6952 - val_loss: -14.9056 - val_accuracy: 0.6915\n",
      "Epoch 26/200\n",
      "8/8 [==============================] - 0s 9ms/step - loss: -11.6096 - accuracy: 0.6872 - val_loss: -17.1377 - val_accuracy: 0.6915\n",
      "Epoch 27/200\n",
      "8/8 [==============================] - 0s 9ms/step - loss: -13.7818 - accuracy: 0.6791 - val_loss: -19.5402 - val_accuracy: 0.6915\n",
      "Epoch 28/200\n",
      "8/8 [==============================] - 0s 9ms/step - loss: -15.3338 - accuracy: 0.7005 - val_loss: -22.1486 - val_accuracy: 0.6809\n",
      "Epoch 29/200\n",
      "8/8 [==============================] - 0s 10ms/step - loss: -17.7910 - accuracy: 0.6898 - val_loss: -25.0782 - val_accuracy: 0.6809\n",
      "Epoch 30/200\n",
      "8/8 [==============================] - 0s 9ms/step - loss: -20.0285 - accuracy: 0.6979 - val_loss: -28.3456 - val_accuracy: 0.6809\n",
      "Epoch 31/200\n",
      "8/8 [==============================] - 0s 11ms/step - loss: -22.3840 - accuracy: 0.6898 - val_loss: -31.8190 - val_accuracy: 0.6809\n",
      "Epoch 32/200\n",
      "8/8 [==============================] - 0s 17ms/step - loss: -26.4984 - accuracy: 0.6898 - val_loss: -35.6396 - val_accuracy: 0.6702\n",
      "Epoch 33/200\n",
      "8/8 [==============================] - 0s 14ms/step - loss: -29.0780 - accuracy: 0.7032 - val_loss: -39.6478 - val_accuracy: 0.6596\n",
      "Epoch 34/200\n",
      "8/8 [==============================] - 0s 14ms/step - loss: -31.4610 - accuracy: 0.6979 - val_loss: -44.1826 - val_accuracy: 0.6702\n",
      "Epoch 35/200\n",
      "8/8 [==============================] - 0s 12ms/step - loss: -34.0919 - accuracy: 0.7059 - val_loss: -48.9157 - val_accuracy: 0.6702\n",
      "Epoch 36/200\n",
      "8/8 [==============================] - 0s 12ms/step - loss: -37.9390 - accuracy: 0.7193 - val_loss: -53.7401 - val_accuracy: 0.6809\n",
      "Epoch 37/200\n",
      "8/8 [==============================] - 0s 18ms/step - loss: -41.0147 - accuracy: 0.7139 - val_loss: -58.8688 - val_accuracy: 0.6702\n",
      "Epoch 38/200\n",
      "8/8 [==============================] - 0s 13ms/step - loss: -44.6091 - accuracy: 0.7166 - val_loss: -64.5136 - val_accuracy: 0.6596\n",
      "Epoch 39/200\n",
      "8/8 [==============================] - 0s 10ms/step - loss: -50.2809 - accuracy: 0.7166 - val_loss: -70.2429 - val_accuracy: 0.6489\n",
      "Epoch 40/200\n",
      "8/8 [==============================] - 0s 10ms/step - loss: -56.1251 - accuracy: 0.7219 - val_loss: -76.7084 - val_accuracy: 0.6489\n",
      "Epoch 41/200\n",
      "8/8 [==============================] - 0s 9ms/step - loss: -61.5810 - accuracy: 0.7219 - val_loss: -83.5838 - val_accuracy: 0.6489\n",
      "Epoch 42/200\n",
      "8/8 [==============================] - 0s 9ms/step - loss: -64.4673 - accuracy: 0.7219 - val_loss: -90.2389 - val_accuracy: 0.6277\n",
      "Epoch 43/200\n",
      "8/8 [==============================] - 0s 9ms/step - loss: -71.6491 - accuracy: 0.7166 - val_loss: -97.4462 - val_accuracy: 0.6277\n",
      "Epoch 44/200\n",
      "8/8 [==============================] - 0s 9ms/step - loss: -74.3946 - accuracy: 0.7193 - val_loss: -105.0565 - val_accuracy: 0.6277\n",
      "Epoch 45/200\n",
      "8/8 [==============================] - 0s 9ms/step - loss: -81.2112 - accuracy: 0.7273 - val_loss: -112.9791 - val_accuracy: 0.6277\n",
      "Epoch 46/200\n",
      "8/8 [==============================] - 0s 9ms/step - loss: -91.6978 - accuracy: 0.7166 - val_loss: -121.4865 - val_accuracy: 0.6277\n",
      "Epoch 47/200\n",
      "8/8 [==============================] - 0s 9ms/step - loss: -92.6515 - accuracy: 0.7273 - val_loss: -130.3138 - val_accuracy: 0.6277\n",
      "Epoch 48/200\n",
      "8/8 [==============================] - 0s 8ms/step - loss: -101.7157 - accuracy: 0.7246 - val_loss: -139.2279 - val_accuracy: 0.6277\n",
      "Epoch 49/200\n",
      "8/8 [==============================] - 0s 9ms/step - loss: -110.1723 - accuracy: 0.7273 - val_loss: -148.9946 - val_accuracy: 0.6277\n",
      "Epoch 50/200\n",
      "8/8 [==============================] - 0s 9ms/step - loss: -116.0153 - accuracy: 0.7246 - val_loss: -159.2677 - val_accuracy: 0.6383\n",
      "Epoch 51/200\n",
      "8/8 [==============================] - 0s 10ms/step - loss: -123.1210 - accuracy: 0.7166 - val_loss: -169.6227 - val_accuracy: 0.6383\n",
      "Epoch 52/200\n",
      "8/8 [==============================] - 0s 12ms/step - loss: -136.7725 - accuracy: 0.7246 - val_loss: -181.0438 - val_accuracy: 0.6383\n",
      "Epoch 53/200\n",
      "8/8 [==============================] - 0s 10ms/step - loss: -142.0275 - accuracy: 0.7193 - val_loss: -192.9622 - val_accuracy: 0.6383\n",
      "Epoch 54/200\n",
      "8/8 [==============================] - 0s 9ms/step - loss: -148.8254 - accuracy: 0.7219 - val_loss: -204.9659 - val_accuracy: 0.6277\n",
      "Epoch 55/200\n",
      "8/8 [==============================] - 0s 9ms/step - loss: -162.2065 - accuracy: 0.7219 - val_loss: -217.5256 - val_accuracy: 0.6277\n",
      "Epoch 56/200\n",
      "8/8 [==============================] - 0s 9ms/step - loss: -168.4540 - accuracy: 0.7193 - val_loss: -230.7921 - val_accuracy: 0.6383\n",
      "Epoch 57/200\n",
      "8/8 [==============================] - 0s 10ms/step - loss: -180.5989 - accuracy: 0.7219 - val_loss: -244.4987 - val_accuracy: 0.6383\n",
      "Epoch 58/200\n",
      "8/8 [==============================] - 0s 9ms/step - loss: -193.0536 - accuracy: 0.7193 - val_loss: -259.0451 - val_accuracy: 0.6383\n",
      "Epoch 59/200\n",
      "8/8 [==============================] - 0s 9ms/step - loss: -208.2090 - accuracy: 0.7193 - val_loss: -273.9455 - val_accuracy: 0.6383\n",
      "Epoch 60/200\n",
      "8/8 [==============================] - 0s 9ms/step - loss: -221.3932 - accuracy: 0.7246 - val_loss: -289.7813 - val_accuracy: 0.6383\n",
      "Epoch 61/200\n",
      "8/8 [==============================] - 0s 10ms/step - loss: -223.3009 - accuracy: 0.7193 - val_loss: -305.6430 - val_accuracy: 0.6383\n",
      "Epoch 62/200\n",
      "8/8 [==============================] - 0s 10ms/step - loss: -233.6703 - accuracy: 0.7112 - val_loss: -321.8481 - val_accuracy: 0.6383\n",
      "Epoch 63/200\n",
      "8/8 [==============================] - 0s 9ms/step - loss: -245.3993 - accuracy: 0.7166 - val_loss: -338.7899 - val_accuracy: 0.6383\n",
      "Epoch 64/200\n",
      "8/8 [==============================] - 0s 9ms/step - loss: -258.9741 - accuracy: 0.7139 - val_loss: -355.5321 - val_accuracy: 0.6383\n",
      "Epoch 65/200\n",
      "8/8 [==============================] - 0s 9ms/step - loss: -270.4221 - accuracy: 0.7086 - val_loss: -373.6785 - val_accuracy: 0.6383\n",
      "Epoch 66/200\n",
      "8/8 [==============================] - 0s 9ms/step - loss: -293.8877 - accuracy: 0.7139 - val_loss: -392.4042 - val_accuracy: 0.6383\n",
      "Epoch 67/200\n",
      "8/8 [==============================] - 0s 9ms/step - loss: -299.6414 - accuracy: 0.7112 - val_loss: -412.1575 - val_accuracy: 0.6383\n",
      "Epoch 68/200\n",
      "8/8 [==============================] - 0s 9ms/step - loss: -324.4573 - accuracy: 0.7139 - val_loss: -430.2013 - val_accuracy: 0.6383\n",
      "Epoch 69/200\n",
      "8/8 [==============================] - 0s 8ms/step - loss: -349.5056 - accuracy: 0.7059 - val_loss: -451.4611 - val_accuracy: 0.6383\n",
      "Epoch 70/200\n",
      "8/8 [==============================] - 0s 8ms/step - loss: -356.2211 - accuracy: 0.7059 - val_loss: -471.1015 - val_accuracy: 0.6383\n",
      "Epoch 71/200\n",
      "8/8 [==============================] - 0s 9ms/step - loss: -362.6700 - accuracy: 0.7059 - val_loss: -493.0623 - val_accuracy: 0.6383\n",
      "Epoch 72/200\n",
      "8/8 [==============================] - 0s 8ms/step - loss: -379.3534 - accuracy: 0.6952 - val_loss: -514.6872 - val_accuracy: 0.6383\n",
      "Epoch 73/200\n",
      "8/8 [==============================] - 0s 11ms/step - loss: -389.6776 - accuracy: 0.7086 - val_loss: -537.1678 - val_accuracy: 0.6383\n",
      "Epoch 74/200\n",
      "8/8 [==============================] - 0s 8ms/step - loss: -425.7998 - accuracy: 0.7032 - val_loss: -560.0537 - val_accuracy: 0.6383\n",
      "Epoch 75/200\n",
      "8/8 [==============================] - 0s 9ms/step - loss: -424.0350 - accuracy: 0.7032 - val_loss: -583.7146 - val_accuracy: 0.6383\n",
      "Epoch 76/200\n",
      "8/8 [==============================] - 0s 9ms/step - loss: -431.7134 - accuracy: 0.6952 - val_loss: -606.1678 - val_accuracy: 0.6383\n",
      "Epoch 77/200\n",
      "8/8 [==============================] - 0s 8ms/step - loss: -467.9590 - accuracy: 0.7032 - val_loss: -630.0953 - val_accuracy: 0.6277\n",
      "Epoch 78/200\n",
      "8/8 [==============================] - 0s 8ms/step - loss: -480.3357 - accuracy: 0.7059 - val_loss: -655.1661 - val_accuracy: 0.6277\n",
      "Epoch 79/200\n",
      "8/8 [==============================] - 0s 8ms/step - loss: -491.3019 - accuracy: 0.7005 - val_loss: -681.1696 - val_accuracy: 0.6277\n",
      "Epoch 80/200\n",
      "8/8 [==============================] - 0s 8ms/step - loss: -521.9594 - accuracy: 0.7032 - val_loss: -706.7329 - val_accuracy: 0.6383\n",
      "Epoch 81/200\n",
      "8/8 [==============================] - 0s 10ms/step - loss: -538.6584 - accuracy: 0.7005 - val_loss: -733.6176 - val_accuracy: 0.6383\n",
      "Epoch 82/200\n",
      "8/8 [==============================] - 0s 11ms/step - loss: -569.8528 - accuracy: 0.6952 - val_loss: -760.9376 - val_accuracy: 0.6383\n",
      "Epoch 83/200\n",
      "8/8 [==============================] - 0s 10ms/step - loss: -611.4670 - accuracy: 0.7059 - val_loss: -787.9401 - val_accuracy: 0.6383\n",
      "Epoch 84/200\n",
      "8/8 [==============================] - 0s 9ms/step - loss: -612.3181 - accuracy: 0.6979 - val_loss: -817.3568 - val_accuracy: 0.6383\n",
      "Epoch 85/200\n",
      "8/8 [==============================] - 0s 10ms/step - loss: -615.6233 - accuracy: 0.6979 - val_loss: -846.6984 - val_accuracy: 0.6383\n",
      "Epoch 86/200\n",
      "8/8 [==============================] - 0s 8ms/step - loss: -651.2878 - accuracy: 0.7005 - val_loss: -875.6445 - val_accuracy: 0.6383\n",
      "Epoch 87/200\n",
      "8/8 [==============================] - 0s 9ms/step - loss: -683.4491 - accuracy: 0.6979 - val_loss: -908.5945 - val_accuracy: 0.6383\n",
      "Epoch 88/200\n",
      "8/8 [==============================] - 0s 9ms/step - loss: -713.3510 - accuracy: 0.6925 - val_loss: -940.3229 - val_accuracy: 0.6383\n",
      "Epoch 89/200\n",
      "8/8 [==============================] - 0s 11ms/step - loss: -720.6733 - accuracy: 0.6925 - val_loss: -972.9047 - val_accuracy: 0.6383\n",
      "Epoch 90/200\n",
      "8/8 [==============================] - 0s 10ms/step - loss: -762.5230 - accuracy: 0.6925 - val_loss: -1007.3177 - val_accuracy: 0.6383\n",
      "Epoch 91/200\n",
      "8/8 [==============================] - 0s 9ms/step - loss: -783.5726 - accuracy: 0.7032 - val_loss: -1040.8506 - val_accuracy: 0.6383\n",
      "Epoch 92/200\n",
      "8/8 [==============================] - 0s 9ms/step - loss: -802.2715 - accuracy: 0.7032 - val_loss: -1075.2953 - val_accuracy: 0.6383\n",
      "Epoch 93/200\n",
      "8/8 [==============================] - 0s 10ms/step - loss: -825.7805 - accuracy: 0.7005 - val_loss: -1109.3351 - val_accuracy: 0.6383\n",
      "Epoch 94/200\n",
      "8/8 [==============================] - 0s 8ms/step - loss: -807.3010 - accuracy: 0.6952 - val_loss: -1144.5963 - val_accuracy: 0.6383\n",
      "Epoch 95/200\n",
      "8/8 [==============================] - 0s 9ms/step - loss: -888.5876 - accuracy: 0.7112 - val_loss: -1178.6350 - val_accuracy: 0.6383\n",
      "Epoch 96/200\n",
      "8/8 [==============================] - 0s 9ms/step - loss: -926.7830 - accuracy: 0.6979 - val_loss: -1216.1300 - val_accuracy: 0.6383\n",
      "Epoch 97/200\n",
      "8/8 [==============================] - 0s 9ms/step - loss: -941.0433 - accuracy: 0.6925 - val_loss: -1255.0674 - val_accuracy: 0.6383\n",
      "Epoch 98/200\n",
      "8/8 [==============================] - 0s 8ms/step - loss: -1006.4406 - accuracy: 0.6952 - val_loss: -1295.3798 - val_accuracy: 0.6383\n",
      "Epoch 99/200\n",
      "8/8 [==============================] - 0s 8ms/step - loss: -1006.2847 - accuracy: 0.6845 - val_loss: -1335.6997 - val_accuracy: 0.6383\n",
      "Epoch 100/200\n",
      "8/8 [==============================] - 0s 8ms/step - loss: -998.6693 - accuracy: 0.6925 - val_loss: -1376.4749 - val_accuracy: 0.6277\n",
      "Epoch 101/200\n",
      "8/8 [==============================] - 0s 10ms/step - loss: -1091.6603 - accuracy: 0.6952 - val_loss: -1416.0868 - val_accuracy: 0.6277\n",
      "Epoch 102/200\n",
      "8/8 [==============================] - 0s 10ms/step - loss: -1068.1702 - accuracy: 0.6898 - val_loss: -1456.5632 - val_accuracy: 0.6277\n",
      "Epoch 103/200\n",
      "8/8 [==============================] - 0s 14ms/step - loss: -1129.8490 - accuracy: 0.6818 - val_loss: -1500.0839 - val_accuracy: 0.6277\n",
      "Epoch 104/200\n",
      "8/8 [==============================] - 0s 13ms/step - loss: -1150.8447 - accuracy: 0.7032 - val_loss: -1543.7614 - val_accuracy: 0.6383\n",
      "Epoch 105/200\n",
      "8/8 [==============================] - 0s 11ms/step - loss: -1178.5292 - accuracy: 0.6845 - val_loss: -1588.5706 - val_accuracy: 0.6489\n",
      "Epoch 106/200\n",
      "8/8 [==============================] - 0s 9ms/step - loss: -1193.9355 - accuracy: 0.6952 - val_loss: -1631.6703 - val_accuracy: 0.6383\n",
      "Epoch 107/200\n",
      "8/8 [==============================] - 0s 8ms/step - loss: -1297.4075 - accuracy: 0.6898 - val_loss: -1678.2112 - val_accuracy: 0.6383\n",
      "Epoch 108/200\n",
      "8/8 [==============================] - 0s 10ms/step - loss: -1296.5782 - accuracy: 0.6845 - val_loss: -1725.5972 - val_accuracy: 0.6383\n",
      "Epoch 109/200\n",
      "8/8 [==============================] - 0s 8ms/step - loss: -1383.4629 - accuracy: 0.6979 - val_loss: -1774.0762 - val_accuracy: 0.6277\n",
      "Epoch 110/200\n",
      "8/8 [==============================] - 0s 9ms/step - loss: -1353.1204 - accuracy: 0.6898 - val_loss: -1821.3467 - val_accuracy: 0.6277\n",
      "Epoch 111/200\n",
      "8/8 [==============================] - 0s 9ms/step - loss: -1430.8188 - accuracy: 0.6872 - val_loss: -1871.4716 - val_accuracy: 0.6277\n",
      "Epoch 112/200\n",
      "8/8 [==============================] - 0s 9ms/step - loss: -1473.4036 - accuracy: 0.6952 - val_loss: -1920.8333 - val_accuracy: 0.6277\n",
      "Epoch 113/200\n",
      "8/8 [==============================] - 0s 8ms/step - loss: -1494.2269 - accuracy: 0.6898 - val_loss: -1971.5127 - val_accuracy: 0.6277\n",
      "Epoch 114/200\n",
      "8/8 [==============================] - 0s 9ms/step - loss: -1480.5503 - accuracy: 0.6898 - val_loss: -2023.9612 - val_accuracy: 0.6277\n",
      "Epoch 115/200\n",
      "8/8 [==============================] - 0s 8ms/step - loss: -1621.9907 - accuracy: 0.6872 - val_loss: -2076.8569 - val_accuracy: 0.6277\n",
      "Epoch 116/200\n",
      "8/8 [==============================] - 0s 9ms/step - loss: -1561.6571 - accuracy: 0.6872 - val_loss: -2127.8013 - val_accuracy: 0.6277\n",
      "Epoch 117/200\n",
      "8/8 [==============================] - 0s 10ms/step - loss: -1630.8773 - accuracy: 0.6898 - val_loss: -2180.3049 - val_accuracy: 0.6277\n",
      "Epoch 118/200\n",
      "8/8 [==============================] - 0s 8ms/step - loss: -1643.3645 - accuracy: 0.6845 - val_loss: -2235.8372 - val_accuracy: 0.6277\n",
      "Epoch 119/200\n",
      "8/8 [==============================] - 0s 8ms/step - loss: -1742.8556 - accuracy: 0.6925 - val_loss: -2290.2183 - val_accuracy: 0.6277\n",
      "Epoch 120/200\n",
      "8/8 [==============================] - 0s 9ms/step - loss: -1770.7064 - accuracy: 0.6872 - val_loss: -2348.3591 - val_accuracy: 0.6277\n",
      "Epoch 121/200\n",
      "8/8 [==============================] - 0s 9ms/step - loss: -1832.3263 - accuracy: 0.6845 - val_loss: -2406.6069 - val_accuracy: 0.6170\n",
      "Epoch 122/200\n",
      "8/8 [==============================] - 0s 8ms/step - loss: -1884.3345 - accuracy: 0.6791 - val_loss: -2464.5044 - val_accuracy: 0.6170\n",
      "Epoch 123/200\n",
      "8/8 [==============================] - 0s 8ms/step - loss: -1943.4176 - accuracy: 0.6925 - val_loss: -2526.2710 - val_accuracy: 0.6170\n",
      "Epoch 124/200\n",
      "8/8 [==============================] - 0s 9ms/step - loss: -1892.8373 - accuracy: 0.6818 - val_loss: -2588.1042 - val_accuracy: 0.6170\n",
      "Epoch 125/200\n",
      "8/8 [==============================] - 0s 9ms/step - loss: -2055.7693 - accuracy: 0.6765 - val_loss: -2647.1567 - val_accuracy: 0.6170\n",
      "Epoch 126/200\n",
      "8/8 [==============================] - 0s 8ms/step - loss: -2049.8425 - accuracy: 0.6872 - val_loss: -2708.6655 - val_accuracy: 0.6170\n",
      "Epoch 127/200\n",
      "8/8 [==============================] - 0s 8ms/step - loss: -2131.7849 - accuracy: 0.6845 - val_loss: -2773.4363 - val_accuracy: 0.6170\n",
      "Epoch 128/200\n",
      "8/8 [==============================] - 0s 8ms/step - loss: -2120.9993 - accuracy: 0.6818 - val_loss: -2837.4226 - val_accuracy: 0.6170\n",
      "Epoch 129/200\n",
      "8/8 [==============================] - 0s 8ms/step - loss: -2140.8140 - accuracy: 0.6872 - val_loss: -2901.3904 - val_accuracy: 0.6170\n",
      "Epoch 130/200\n",
      "8/8 [==============================] - 0s 8ms/step - loss: -2289.1873 - accuracy: 0.6818 - val_loss: -2965.5337 - val_accuracy: 0.6170\n",
      "Epoch 131/200\n",
      "8/8 [==============================] - 0s 8ms/step - loss: -2217.6965 - accuracy: 0.6872 - val_loss: -3027.1216 - val_accuracy: 0.6170\n",
      "Epoch 132/200\n",
      "8/8 [==============================] - 0s 8ms/step - loss: -2432.7798 - accuracy: 0.6845 - val_loss: -3096.4441 - val_accuracy: 0.6170\n",
      "Epoch 133/200\n",
      "8/8 [==============================] - 0s 8ms/step - loss: -2415.8022 - accuracy: 0.6791 - val_loss: -3167.3398 - val_accuracy: 0.6170\n",
      "Epoch 134/200\n",
      "8/8 [==============================] - 0s 9ms/step - loss: -2397.5295 - accuracy: 0.6791 - val_loss: -3236.2542 - val_accuracy: 0.6170\n",
      "Epoch 135/200\n",
      "8/8 [==============================] - 0s 8ms/step - loss: -2534.6160 - accuracy: 0.6872 - val_loss: -3307.2661 - val_accuracy: 0.6064\n",
      "Epoch 136/200\n",
      "8/8 [==============================] - 0s 8ms/step - loss: -2554.0044 - accuracy: 0.6738 - val_loss: -3376.7966 - val_accuracy: 0.6064\n",
      "Epoch 137/200\n",
      "8/8 [==============================] - 0s 8ms/step - loss: -2609.4258 - accuracy: 0.6738 - val_loss: -3449.7327 - val_accuracy: 0.6064\n",
      "Epoch 138/200\n",
      "8/8 [==============================] - 0s 9ms/step - loss: -2677.4692 - accuracy: 0.6818 - val_loss: -3524.8918 - val_accuracy: 0.6064\n",
      "Epoch 139/200\n",
      "8/8 [==============================] - 0s 11ms/step - loss: -2816.6423 - accuracy: 0.6738 - val_loss: -3597.0361 - val_accuracy: 0.6064\n",
      "Epoch 140/200\n",
      "8/8 [==============================] - 0s 10ms/step - loss: -2823.7556 - accuracy: 0.6791 - val_loss: -3673.5195 - val_accuracy: 0.5957\n",
      "Epoch 141/200\n",
      "8/8 [==============================] - 0s 8ms/step - loss: -2855.3176 - accuracy: 0.6711 - val_loss: -3749.2754 - val_accuracy: 0.5957\n",
      "Epoch 142/200\n",
      "8/8 [==============================] - 0s 8ms/step - loss: -2898.3921 - accuracy: 0.6818 - val_loss: -3825.2234 - val_accuracy: 0.6064\n",
      "Epoch 143/200\n",
      "8/8 [==============================] - 0s 9ms/step - loss: -3035.0630 - accuracy: 0.6711 - val_loss: -3904.9497 - val_accuracy: 0.6064\n",
      "Epoch 144/200\n",
      "8/8 [==============================] - 0s 9ms/step - loss: -2892.9126 - accuracy: 0.6845 - val_loss: -3981.6997 - val_accuracy: 0.5957\n",
      "Epoch 145/200\n",
      "8/8 [==============================] - 0s 11ms/step - loss: -3111.2998 - accuracy: 0.6872 - val_loss: -4058.9177 - val_accuracy: 0.6064\n",
      "Epoch 146/200\n",
      "8/8 [==============================] - 0s 12ms/step - loss: -3080.0750 - accuracy: 0.6898 - val_loss: -4139.0854 - val_accuracy: 0.6064\n",
      "Epoch 147/200\n",
      "8/8 [==============================] - 0s 10ms/step - loss: -3279.5132 - accuracy: 0.6738 - val_loss: -4216.7144 - val_accuracy: 0.6064\n",
      "Epoch 148/200\n",
      "8/8 [==============================] - 0s 9ms/step - loss: -3188.7073 - accuracy: 0.6845 - val_loss: -4303.1997 - val_accuracy: 0.6064\n",
      "Epoch 149/200\n",
      "8/8 [==============================] - 0s 9ms/step - loss: -3242.7732 - accuracy: 0.6765 - val_loss: -4379.2090 - val_accuracy: 0.5957\n",
      "Epoch 150/200\n",
      "8/8 [==============================] - 0s 8ms/step - loss: -3418.5635 - accuracy: 0.6845 - val_loss: -4465.3911 - val_accuracy: 0.5957\n",
      "Epoch 151/200\n",
      "8/8 [==============================] - 0s 10ms/step - loss: -3315.4980 - accuracy: 0.6765 - val_loss: -4549.6738 - val_accuracy: 0.5957\n",
      "Epoch 152/200\n",
      "8/8 [==============================] - 0s 9ms/step - loss: -3509.3667 - accuracy: 0.6818 - val_loss: -4633.8281 - val_accuracy: 0.5957\n",
      "Epoch 153/200\n",
      "8/8 [==============================] - 0s 8ms/step - loss: -3549.9861 - accuracy: 0.6818 - val_loss: -4720.1152 - val_accuracy: 0.5957\n",
      "Epoch 154/200\n",
      "8/8 [==============================] - 0s 9ms/step - loss: -3728.6819 - accuracy: 0.6711 - val_loss: -4806.4634 - val_accuracy: 0.5957\n",
      "Epoch 155/200\n",
      "8/8 [==============================] - 0s 8ms/step - loss: -3737.9963 - accuracy: 0.6738 - val_loss: -4890.9609 - val_accuracy: 0.5957\n",
      "Epoch 156/200\n",
      "8/8 [==============================] - 0s 8ms/step - loss: -3805.7590 - accuracy: 0.6791 - val_loss: -4984.9243 - val_accuracy: 0.5957\n",
      "Epoch 157/200\n",
      "8/8 [==============================] - 0s 8ms/step - loss: -3755.7642 - accuracy: 0.6684 - val_loss: -5072.3330 - val_accuracy: 0.6064\n",
      "Epoch 158/200\n",
      "8/8 [==============================] - 0s 8ms/step - loss: -3854.0315 - accuracy: 0.6765 - val_loss: -5160.8457 - val_accuracy: 0.6064\n",
      "Epoch 159/200\n",
      "8/8 [==============================] - 0s 17ms/step - loss: -3947.2073 - accuracy: 0.6791 - val_loss: -5252.8213 - val_accuracy: 0.6064\n",
      "Epoch 160/200\n",
      "8/8 [==============================] - 0s 9ms/step - loss: -3920.2891 - accuracy: 0.6765 - val_loss: -5342.1255 - val_accuracy: 0.6064\n",
      "Epoch 161/200\n",
      "8/8 [==============================] - 0s 9ms/step - loss: -4095.9565 - accuracy: 0.6738 - val_loss: -5436.3115 - val_accuracy: 0.6064\n",
      "Epoch 162/200\n",
      "8/8 [==============================] - 0s 9ms/step - loss: -4207.9053 - accuracy: 0.6765 - val_loss: -5533.9351 - val_accuracy: 0.6064\n",
      "Epoch 163/200\n",
      "8/8 [==============================] - 0s 9ms/step - loss: -4242.4004 - accuracy: 0.6818 - val_loss: -5627.9619 - val_accuracy: 0.6064\n",
      "Epoch 164/200\n",
      "8/8 [==============================] - 0s 9ms/step - loss: -4083.1646 - accuracy: 0.6791 - val_loss: -5721.3057 - val_accuracy: 0.6064\n",
      "Epoch 165/200\n",
      "8/8 [==============================] - 0s 9ms/step - loss: -4260.0820 - accuracy: 0.6845 - val_loss: -5814.1963 - val_accuracy: 0.6064\n",
      "Epoch 166/200\n",
      "8/8 [==============================] - 0s 9ms/step - loss: -4503.1689 - accuracy: 0.6711 - val_loss: -5908.4360 - val_accuracy: 0.6064\n",
      "Epoch 167/200\n",
      "8/8 [==============================] - 0s 9ms/step - loss: -4415.5229 - accuracy: 0.6765 - val_loss: -6007.8882 - val_accuracy: 0.6064\n",
      "Epoch 168/200\n",
      "8/8 [==============================] - 0s 8ms/step - loss: -4527.9067 - accuracy: 0.6738 - val_loss: -6103.7881 - val_accuracy: 0.6064\n",
      "Epoch 169/200\n",
      "8/8 [==============================] - 0s 9ms/step - loss: -4632.0137 - accuracy: 0.6738 - val_loss: -6204.9067 - val_accuracy: 0.6064\n",
      "Epoch 170/200\n",
      "8/8 [==============================] - 0s 9ms/step - loss: -4676.3408 - accuracy: 0.6738 - val_loss: -6304.9180 - val_accuracy: 0.6064\n",
      "Epoch 171/200\n",
      "8/8 [==============================] - 0s 10ms/step - loss: -4784.5479 - accuracy: 0.6631 - val_loss: -6404.8652 - val_accuracy: 0.6064\n",
      "Epoch 172/200\n",
      "8/8 [==============================] - 0s 8ms/step - loss: -4688.6792 - accuracy: 0.6791 - val_loss: -6506.0981 - val_accuracy: 0.6064\n",
      "Epoch 173/200\n",
      "8/8 [==============================] - 0s 9ms/step - loss: -5138.0205 - accuracy: 0.6872 - val_loss: -6607.1108 - val_accuracy: 0.6064\n",
      "Epoch 174/200\n",
      "8/8 [==============================] - 0s 8ms/step - loss: -4849.6284 - accuracy: 0.6711 - val_loss: -6717.9277 - val_accuracy: 0.6064\n",
      "Epoch 175/200\n",
      "8/8 [==============================] - 0s 8ms/step - loss: -5063.0850 - accuracy: 0.6711 - val_loss: -6822.4204 - val_accuracy: 0.6064\n",
      "Epoch 176/200\n",
      "8/8 [==============================] - 0s 9ms/step - loss: -5328.0361 - accuracy: 0.6738 - val_loss: -6930.5078 - val_accuracy: 0.6064\n",
      "Epoch 177/200\n",
      "8/8 [==============================] - 0s 9ms/step - loss: -5375.7646 - accuracy: 0.6818 - val_loss: -7044.2622 - val_accuracy: 0.6064\n",
      "Epoch 178/200\n",
      "8/8 [==============================] - 0s 8ms/step - loss: -5565.8667 - accuracy: 0.6738 - val_loss: -7156.1538 - val_accuracy: 0.6064\n",
      "Epoch 179/200\n",
      "8/8 [==============================] - 0s 9ms/step - loss: -5496.2104 - accuracy: 0.6765 - val_loss: -7272.9180 - val_accuracy: 0.6064\n",
      "Epoch 180/200\n",
      "8/8 [==============================] - 0s 8ms/step - loss: -5333.0615 - accuracy: 0.6738 - val_loss: -7381.9673 - val_accuracy: 0.6064\n",
      "Epoch 181/200\n",
      "8/8 [==============================] - 0s 8ms/step - loss: -5628.3125 - accuracy: 0.6658 - val_loss: -7496.3057 - val_accuracy: 0.6064\n",
      "Epoch 182/200\n",
      "8/8 [==============================] - 0s 9ms/step - loss: -5662.0591 - accuracy: 0.6818 - val_loss: -7610.8369 - val_accuracy: 0.6064\n",
      "Epoch 183/200\n",
      "8/8 [==============================] - 0s 8ms/step - loss: -5911.9404 - accuracy: 0.6711 - val_loss: -7725.5601 - val_accuracy: 0.6064\n",
      "Epoch 184/200\n",
      "8/8 [==============================] - 0s 9ms/step - loss: -5927.3477 - accuracy: 0.6711 - val_loss: -7836.4766 - val_accuracy: 0.6064\n",
      "Epoch 185/200\n",
      "8/8 [==============================] - 0s 8ms/step - loss: -5856.0737 - accuracy: 0.6684 - val_loss: -7954.4497 - val_accuracy: 0.6064\n",
      "Epoch 186/200\n",
      "8/8 [==============================] - 0s 8ms/step - loss: -6278.1919 - accuracy: 0.6791 - val_loss: -8073.9624 - val_accuracy: 0.6064\n",
      "Epoch 187/200\n",
      "8/8 [==============================] - 0s 8ms/step - loss: -6322.6841 - accuracy: 0.6818 - val_loss: -8198.6494 - val_accuracy: 0.6064\n",
      "Epoch 188/200\n",
      "8/8 [==============================] - 0s 8ms/step - loss: -6483.7383 - accuracy: 0.6765 - val_loss: -8323.2090 - val_accuracy: 0.6064\n",
      "Epoch 189/200\n",
      "8/8 [==============================] - 0s 8ms/step - loss: -6389.8110 - accuracy: 0.6684 - val_loss: -8447.2783 - val_accuracy: 0.6064\n",
      "Epoch 190/200\n",
      "8/8 [==============================] - 0s 10ms/step - loss: -6375.3550 - accuracy: 0.6684 - val_loss: -8572.8955 - val_accuracy: 0.6064\n",
      "Epoch 191/200\n",
      "8/8 [==============================] - 0s 11ms/step - loss: -6731.7744 - accuracy: 0.6711 - val_loss: -8695.4404 - val_accuracy: 0.6064\n",
      "Epoch 192/200\n",
      "8/8 [==============================] - 0s 9ms/step - loss: -6714.2661 - accuracy: 0.6711 - val_loss: -8819.8398 - val_accuracy: 0.6064\n",
      "Epoch 193/200\n",
      "8/8 [==============================] - 0s 8ms/step - loss: -6734.6699 - accuracy: 0.6711 - val_loss: -8950.1318 - val_accuracy: 0.6064\n",
      "Epoch 194/200\n",
      "8/8 [==============================] - 0s 8ms/step - loss: -6903.8535 - accuracy: 0.6658 - val_loss: -9078.2441 - val_accuracy: 0.6064\n",
      "Epoch 195/200\n",
      "8/8 [==============================] - 0s 9ms/step - loss: -6950.7100 - accuracy: 0.6684 - val_loss: -9204.7637 - val_accuracy: 0.6064\n",
      "Epoch 196/200\n",
      "8/8 [==============================] - 0s 9ms/step - loss: -7176.6123 - accuracy: 0.6631 - val_loss: -9338.8135 - val_accuracy: 0.6064\n",
      "Epoch 197/200\n",
      "8/8 [==============================] - 0s 8ms/step - loss: -7025.8711 - accuracy: 0.6711 - val_loss: -9465.4043 - val_accuracy: 0.6064\n",
      "Epoch 198/200\n",
      "8/8 [==============================] - 0s 8ms/step - loss: -7381.7856 - accuracy: 0.6791 - val_loss: -9590.4033 - val_accuracy: 0.6064\n",
      "Epoch 199/200\n",
      "8/8 [==============================] - 0s 8ms/step - loss: -7106.1265 - accuracy: 0.6604 - val_loss: -9720.2939 - val_accuracy: 0.6064\n",
      "Epoch 200/200\n",
      "8/8 [==============================] - 0s 8ms/step - loss: -7664.7563 - accuracy: 0.6711 - val_loss: -9851.9502 - val_accuracy: 0.6064\n"
     ]
    }
   ],
   "source": [
    "#Train the model \n",
    "training = model.fit(X_train_scaled, y_train, batch_size=48, validation_split=0.2, epochs=200)"
   ]
  },
  {
   "cell_type": "code",
   "execution_count": 26,
   "metadata": {},
   "outputs": [
    {
     "data": {
      "image/png": "[encoded data removed]",
      "text/plain": [
       "<Figure size 432x288 with 1 Axes>"
      ]
     },
     "metadata": {
      "needs_background": "light"
     },
     "output_type": "display_data"
    }
   ],
   "source": [
    "# summarize history for accuracy\n",
    "plt.plot(training.history['accuracy'])\n",
    "plt.plot(training.history['val_accuracy'])\n",
    "plt.title('model accuracy')\n",
    "plt.ylabel('accuracy')\n",
    "plt.xlabel('epoch')\n",
    "plt.legend(['train', 'validation'], loc='upper left')\n",
    "plt.show()"
   ]
  },
  {
   "cell_type": "code",
   "execution_count": 27,
   "metadata": {},
   "outputs": [
    {
     "name": "stderr",
     "output_type": "stream",
     "text": [
      "2022-08-29 15:32:20.009970: I tensorflow/core/grappler/optimizers/custom_graph_optimizer_registry.cc:113] Plugin optimizer for device_type GPU is enabled.\n"
     ]
    },
    {
     "data": {
      "image/png": "[encoded data removed]",
      "text/plain": [
       "<Figure size 432x288 with 1 Axes>"
      ]
     },
     "metadata": {
      "needs_background": "light"
     },
     "output_type": "display_data"
    }
   ],
   "source": [
    "y_predd = model.predict(X_test_scaled)\n",
    "y_pred = (y_predd>0.5).astype(int)\n",
    "\n",
    "# Plotting the confusing matrix\n",
    "mat = confusion_matrix(y_test, y_pred.round())\n",
    "sns.heatmap(mat.T, square=True, annot=True, fmt='d', cbar=False)\n",
    "plt.xlabel('true label')\n",
    "plt.ylabel('predicted label');"
   ]
  },
  {
   "cell_type": "code",
   "execution_count": 28,
   "metadata": {},
   "outputs": [
    {
     "name": "stdout",
     "output_type": "stream",
     "text": [
      "0.6114649681528662\n"
     ]
    }
   ],
   "source": [
    "# Check out the metrics\n",
    "acc_train = accuracy_score(y_train, model.predict(X_train_scaled).astype(int))\n",
    "acc_test = accuracy_score(y_test, y_pred.round())\n",
    "print(acc_test)\n"
   ]
  },
  {
   "cell_type": "code",
   "execution_count": 29,
   "metadata": {},
   "outputs": [
    {
     "data": {
      "text/plain": [
       "<Run: data=<RunData: metrics={'test-accuracy': 0.6114649681528662, 'train-accuracy': 0.6388888888888888}, params={}, tags={'mlflow.runName': '3_DNN_scaled',\n",
       " 'mlflow.source.git.commit': 'd605302d01200a4536da993e7ae45ed46232dc60',\n",
       " 'mlflow.source.name': '/Users/tamarapallien/neuefische/capstone '\n",
       "                       '/ds-capstone-alzheimers-/.venv/lib/python3.9/site-packages/ipykernel_launcher.py',\n",
       " 'mlflow.source.type': 'LOCAL',\n",
       " 'mlflow.user': 'tamarapallien'}>, info=<RunInfo: artifact_uri='s3://neuefische-mlflow/mlflow-artifacts/56/76948f82defa46fb8ecc4b61d38104d4/artifacts', end_time=1661779940290, experiment_id='56', lifecycle_stage='active', run_id='76948f82defa46fb8ecc4b61d38104d4', run_uuid='76948f82defa46fb8ecc4b61d38104d4', start_time=1661779923981, status='FINISHED', user_id='tamarapallien'>>"
      ]
     },
     "execution_count": 29,
     "metadata": {},
     "output_type": "execute_result"
    }
   ],
   "source": [
    "#logging metrics\n",
    "mlflow.log_metric(\"train-\" + \"accuracy\", acc_train)\n",
    "mlflow.log_metric(\"test-\" + \"accuracy\", acc_test)\n",
    "\n",
    "# mlflow.sklearn.log_model(reg, \"model\")\n",
    "mlflow.end_run()\n",
    "\n",
    "mlflow.get_run(run_id=run.info.run_id)"
   ]
  },
  {
   "cell_type": "code",
   "execution_count": 30,
   "metadata": {},
   "outputs": [],
   "source": [
    "#Try out as simple DNN model \n",
    "mlflow.start_run(run_name='4_SVM_gs_scaled')\n",
    "run = mlflow.active_run()"
   ]
  },
  {
   "cell_type": "code",
   "execution_count": 31,
   "metadata": {},
   "outputs": [
    {
     "name": "stdout",
     "output_type": "stream",
     "text": [
      "Fitting 5 folds for each of 420 candidates, totalling 2100 fits\n"
     ]
    },
    {
     "data": {
      "text/plain": [
       "GridSearchCV(cv=5, estimator=SVC(), n_jobs=-1,\n",
       "             param_grid=[{'C': [0.01, 0.1, 1, 10, 100], 'degree': [2, 3, 4],\n",
       "                          'gamma': [0.0001, 0.001, 0.01, 0.1, 1, 'auto',\n",
       "                                    'scale'],\n",
       "                          'kernel': ['rbf', 'linear', 'poly', 'sigmoid']}],\n",
       "             scoring='accuracy', verbose=1)"
      ]
     },
     "execution_count": 31,
     "metadata": {},
     "output_type": "execute_result"
    }
   ],
   "source": [
    "# Since the SVM performed the best we will perform a GridSearch to see if we can improve our outcome \n",
    "# Define hyperparameter grid \n",
    "param_grid = [{'kernel': ['rbf', 'linear', 'poly', 'sigmoid'], \n",
    "               'gamma': [0.0001, 0.001, 0.01, 0.1, 1, 'auto', 'scale'],\n",
    "               'C': [0.01, 0.1, 1, 10, 100],\n",
    "               'degree': [2, 3, 4]\n",
    "              }]\n",
    "\n",
    "gs = GridSearchCV(SVC(), param_grid, scoring='accuracy', cv=5, verbose=1, n_jobs=-1)\n",
    "\n",
    "gs.fit(X_train_scaled, y_train)"
   ]
  },
  {
   "cell_type": "code",
   "execution_count": 32,
   "metadata": {},
   "outputs": [
    {
     "name": "stdout",
     "output_type": "stream",
     "text": [
      "Best Parameters: {'C': 1, 'degree': 2, 'gamma': 0.0001, 'kernel': 'linear'}\n"
     ]
    }
   ],
   "source": [
    "# Print best parameters \n",
    "print('Best Parameters:', gs.best_params_)"
   ]
  },
  {
   "cell_type": "code",
   "execution_count": 33,
   "metadata": {},
   "outputs": [
    {
     "name": "stdout",
     "output_type": "stream",
     "text": [
      "Best accuracy 0.947\n"
     ]
    }
   ],
   "source": [
    "# Print best score\n",
    "print('Best accuracy', gs.best_score_.round(3))"
   ]
  },
  {
   "cell_type": "code",
   "execution_count": 34,
   "metadata": {},
   "outputs": [],
   "source": [
    "# Evaluate on test set\n",
    "best_model = gs.best_estimator_\n",
    "y_pred_tuned = best_model.predict(X_test_scaled)"
   ]
  },
  {
   "cell_type": "code",
   "execution_count": 35,
   "metadata": {},
   "outputs": [
    {
     "name": "stdout",
     "output_type": "stream",
     "text": [
      "0.8980891719745223\n"
     ]
    }
   ],
   "source": [
    "# Check out the metrics\n",
    "acc_train = accuracy_score(y_train, best_model.predict(X_train_scaled))\n",
    "acc_test = accuracy_score(y_test, y_pred_tuned)\n",
    "print(acc_test)"
   ]
  },
  {
   "cell_type": "code",
   "execution_count": 36,
   "metadata": {},
   "outputs": [
    {
     "data": {
      "text/plain": [
       "<Run: data=<RunData: metrics={'test-accuracy': 0.8980891719745223, 'train-accuracy': 0.9615384615384616}, params={}, tags={'mlflow.runName': '4_SVM_gs_scaled',\n",
       " 'mlflow.source.git.commit': 'd605302d01200a4536da993e7ae45ed46232dc60',\n",
       " 'mlflow.source.name': '/Users/tamarapallien/neuefische/capstone '\n",
       "                       '/ds-capstone-alzheimers-/.venv/lib/python3.9/site-packages/ipykernel_launcher.py',\n",
       " 'mlflow.source.type': 'LOCAL',\n",
       " 'mlflow.user': 'tamarapallien'}>, info=<RunInfo: artifact_uri='s3://neuefische-mlflow/mlflow-artifacts/56/c1d651cb4d1249bfa3df7de01d9b3bd6/artifacts', end_time=1661779945257, experiment_id='56', lifecycle_stage='active', run_id='c1d651cb4d1249bfa3df7de01d9b3bd6', run_uuid='c1d651cb4d1249bfa3df7de01d9b3bd6', start_time=1661779940456, status='FINISHED', user_id='tamarapallien'>>"
      ]
     },
     "execution_count": 36,
     "metadata": {},
     "output_type": "execute_result"
    }
   ],
   "source": [
    "#logging metrics\n",
    "mlflow.log_metric(\"train-\" + \"accuracy\", acc_train)\n",
    "mlflow.log_metric(\"test-\" + \"accuracy\", acc_test)\n",
    "\n",
    "# mlflow.sklearn.log_model(reg, \"model\")\n",
    "mlflow.end_run()\n",
    "\n",
    "mlflow.get_run(run_id=run.info.run_id)"
   ]
  },
  {
   "cell_type": "code",
   "execution_count": 37,
   "metadata": {},
   "outputs": [],
   "source": [
    "#Load the df_other dataframe \n",
    "df_other=pd.read_csv('../tadpole_challenge/df_other.csv')"
   ]
  },
  {
   "cell_type": "code",
   "execution_count": 38,
   "metadata": {},
   "outputs": [
    {
     "data": {
      "text/plain": [
       "(2122, 11)"
      ]
     },
     "execution_count": 38,
     "metadata": {},
     "output_type": "execute_result"
    }
   ],
   "source": [
    "df_other.shape"
   ]
  },
  {
   "cell_type": "code",
   "execution_count": 39,
   "metadata": {},
   "outputs": [],
   "source": [
    "X_other= df_other.drop('DX', axis=1)\n",
    "y_other=df_other['DX']\n",
    "X_train_other, X_test_other, y_train_other, y_test_other=train_test_split(X_other, y_other, random_state=42, stratify=y_other)"
   ]
  },
  {
   "cell_type": "code",
   "execution_count": 40,
   "metadata": {},
   "outputs": [],
   "source": [
    "X_train_other['AGE'].fillna(X_train_other['AGE'].mean(), inplace=True);\n",
    "X_test_other['AGE'].fillna(X_train_other['AGE'].mean(), inplace=True);"
   ]
  },
  {
   "cell_type": "code",
   "execution_count": 41,
   "metadata": {},
   "outputs": [],
   "source": [
    "#Use the KNN imputer to fill the other missing values in the X_train and apply this to X_test \n",
    "#define imputer\n",
    "imputer = KNNImputer(n_neighbors=5, weights='uniform', metric='nan_euclidean')\n",
    "\n",
    "# fit on the dataset\n",
    "imputer.fit(X_train_other)\n",
    "\n",
    "# transform X_train und X_test\n",
    "X_train_other_trans = imputer.transform(X_train_other)\n",
    "X_test_other_trans = imputer.transform(X_test_other)"
   ]
  },
  {
   "cell_type": "code",
   "execution_count": 42,
   "metadata": {},
   "outputs": [],
   "source": [
    "scaler = StandardScaler()\n",
    "X_train_other_trans_scaled=scaler.fit_transform(X_train_other_trans)\n",
    "X_test_other_trans_scaled=scaler.transform(X_test_other_trans)"
   ]
  },
  {
   "cell_type": "code",
   "execution_count": 43,
   "metadata": {},
   "outputs": [],
   "source": [
    "# setting the MLFlow connection and experiment\n",
    "mlflow.start_run(run_name='5_SVM_other_scaled_trans')\n",
    "run = mlflow.active_run()"
   ]
  },
  {
   "cell_type": "code",
   "execution_count": 44,
   "metadata": {},
   "outputs": [
    {
     "data": {
      "text/plain": [
       "SVC()"
      ]
     },
     "execution_count": 44,
     "metadata": {},
     "output_type": "execute_result"
    }
   ],
   "source": [
    "# Start with a SVM model \n",
    "model = SVC(kernel='rbf')\n",
    "model.fit(X_train_other_trans_scaled, y_train_other)"
   ]
  },
  {
   "cell_type": "code",
   "execution_count": 45,
   "metadata": {},
   "outputs": [],
   "source": [
    "y_pred=model.predict(X_test_other_trans_scaled)"
   ]
  },
  {
   "cell_type": "code",
   "execution_count": 46,
   "metadata": {},
   "outputs": [
    {
     "name": "stdout",
     "output_type": "stream",
     "text": [
      "0.9152542372881356\n",
      "0.9296040226272785\n"
     ]
    }
   ],
   "source": [
    "# Check out the metrics\n",
    "acc_test = accuracy_score(y_test_other, y_pred)\n",
    "print(acc_test)\n",
    "acc_train=accuracy_score(y_train_other, model.predict(X_train_other_trans_scaled))\n",
    "print(acc_train)"
   ]
  },
  {
   "cell_type": "code",
   "execution_count": 47,
   "metadata": {},
   "outputs": [
    {
     "data": {
      "text/plain": [
       "<Run: data=<RunData: metrics={'test-accuracy': 0.9152542372881356, 'train-accuracy': 0.9296040226272785}, params={}, tags={'mlflow.runName': '5_SVM_other_scaled_trans',\n",
       " 'mlflow.source.git.commit': 'd605302d01200a4536da993e7ae45ed46232dc60',\n",
       " 'mlflow.source.name': '/Users/tamarapallien/neuefische/capstone '\n",
       "                       '/ds-capstone-alzheimers-/.venv/lib/python3.9/site-packages/ipykernel_launcher.py',\n",
       " 'mlflow.source.type': 'LOCAL',\n",
       " 'mlflow.user': 'tamarapallien'}>, info=<RunInfo: artifact_uri='s3://neuefische-mlflow/mlflow-artifacts/56/11b00a437afc4e5ea250ce17a0ecac02/artifacts', end_time=1661779946043, experiment_id='56', lifecycle_stage='active', run_id='11b00a437afc4e5ea250ce17a0ecac02', run_uuid='11b00a437afc4e5ea250ce17a0ecac02', start_time=1661779945723, status='FINISHED', user_id='tamarapallien'>>"
      ]
     },
     "execution_count": 47,
     "metadata": {},
     "output_type": "execute_result"
    }
   ],
   "source": [
    "#logging metrics\n",
    "mlflow.log_metric(\"train-\" + \"accuracy\", acc_train)\n",
    "mlflow.log_metric(\"test-\" + \"accuracy\", acc_test)\n",
    "\n",
    "# mlflow.sklearn.log_model(reg, \"model\")\n",
    "mlflow.end_run()\n",
    "\n",
    "mlflow.get_run(run_id=run.info.run_id)"
   ]
  },
  {
   "cell_type": "code",
   "execution_count": 48,
   "metadata": {},
   "outputs": [],
   "source": [
    "#Try the GridSearch on df_other \n",
    "#Try out as simple DNN model \n",
    "mlflow.start_run(run_name='6_SVM_gs_other_scaled_trans')\n",
    "run = mlflow.active_run()"
   ]
  },
  {
   "cell_type": "code",
   "execution_count": 49,
   "metadata": {},
   "outputs": [
    {
     "name": "stdout",
     "output_type": "stream",
     "text": [
      "Fitting 5 folds for each of 420 candidates, totalling 2100 fits\n"
     ]
    },
    {
     "data": {
      "text/plain": [
       "GridSearchCV(cv=5, estimator=SVC(), n_jobs=-1,\n",
       "             param_grid=[{'C': [0.01, 0.1, 1, 10, 100], 'degree': [2, 3, 4],\n",
       "                          'gamma': [0.0001, 0.001, 0.01, 0.1, 1, 'auto',\n",
       "                                    'scale'],\n",
       "                          'kernel': ['rbf', 'linear', 'poly', 'sigmoid']}],\n",
       "             scoring='accuracy', verbose=1)"
      ]
     },
     "execution_count": 49,
     "metadata": {},
     "output_type": "execute_result"
    }
   ],
   "source": [
    "# Since the SVM performed the best we will perform a GridSearch to see if we can improve our outcome \n",
    "# Define hyperparameter grid \n",
    "param_grid = [{'kernel': ['rbf', 'linear', 'poly', 'sigmoid'], \n",
    "               'gamma': [0.0001, 0.001, 0.01, 0.1, 1, 'auto', 'scale'],\n",
    "               'C': [0.01, 0.1, 1, 10, 100],\n",
    "               'degree': [2, 3, 4]\n",
    "              }]\n",
    "\n",
    "gs = GridSearchCV(SVC(), param_grid, scoring='accuracy', cv=5, verbose=1, n_jobs=-1)\n",
    "\n",
    "gs.fit(X_train_other_trans_scaled, y_train_other)"
   ]
  },
  {
   "cell_type": "code",
   "execution_count": 50,
   "metadata": {},
   "outputs": [],
   "source": [
    "# Evaluate on test set\n",
    "best_model = gs.best_estimator_\n",
    "y_pred_tuned = best_model.predict(X_test_other_trans_scaled)"
   ]
  },
  {
   "cell_type": "code",
   "execution_count": 51,
   "metadata": {},
   "outputs": [
    {
     "name": "stdout",
     "output_type": "stream",
     "text": [
      "0.9246704331450094\n"
     ]
    }
   ],
   "source": [
    "# Check out the metrics\n",
    "acc_train = accuracy_score(y_train_other, best_model.predict(X_train_other_trans_scaled))\n",
    "acc_test = accuracy_score(y_test_other, y_pred_tuned)\n",
    "print(acc_test)"
   ]
  },
  {
   "cell_type": "code",
   "execution_count": 52,
   "metadata": {},
   "outputs": [
    {
     "data": {
      "text/plain": [
       "<Run: data=<RunData: metrics={'test-accuracy': 0.9246704331450094, 'train-accuracy': 0.9327467001885607}, params={}, tags={'mlflow.runName': '6_SVM_gs_other_scaled_trans',\n",
       " 'mlflow.source.git.commit': 'd605302d01200a4536da993e7ae45ed46232dc60',\n",
       " 'mlflow.source.name': '/Users/tamarapallien/neuefische/capstone '\n",
       "                       '/ds-capstone-alzheimers-/.venv/lib/python3.9/site-packages/ipykernel_launcher.py',\n",
       " 'mlflow.source.type': 'LOCAL',\n",
       " 'mlflow.user': 'tamarapallien'}>, info=<RunInfo: artifact_uri='s3://neuefische-mlflow/mlflow-artifacts/56/4ea6893f19954f7d967d8284296c8a94/artifacts', end_time=1661779992644, experiment_id='56', lifecycle_stage='active', run_id='4ea6893f19954f7d967d8284296c8a94', run_uuid='4ea6893f19954f7d967d8284296c8a94', start_time=1661779946206, status='FINISHED', user_id='tamarapallien'>>"
      ]
     },
     "execution_count": 52,
     "metadata": {},
     "output_type": "execute_result"
    }
   ],
   "source": [
    "#logging metrics\n",
    "mlflow.log_metric(\"train-\" + \"accuracy\", acc_train)\n",
    "mlflow.log_metric(\"test-\" + \"accuracy\", acc_test)\n",
    "\n",
    "# mlflow.sklearn.log_model(reg, \"model\")\n",
    "mlflow.end_run()\n",
    "\n",
    "mlflow.get_run(run_id=run.info.run_id)"
   ]
  }
 ],
 "metadata": {
  "kernelspec": {
   "display_name": "Python 3.9.8 ('.venv': venv)",
   "language": "python",
   "name": "python3"
  },
  "language_info": {
   "codemirror_mode": {
    "name": "ipython",
    "version": 3
   },
   "file_extension": ".py",
   "mimetype": "text/x-python",
   "name": "python",
   "nbconvert_exporter": "python",
   "pygments_lexer": "ipython3",
   "version": "3.9.8"
  },
  "orig_nbformat": 4,
  "vscode": {
   "interpreter": {
    "hash": "68df357d1236ea760662511d700563405db38e78ff847247caa8274b511a18ea"
   }
  }
 },
 "nbformat": 4,
 "nbformat_minor": 2
}
