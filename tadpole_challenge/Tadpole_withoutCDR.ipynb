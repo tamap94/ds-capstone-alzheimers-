{
 "cells": [
  {
   "cell_type": "markdown",
   "metadata": {},
   "source": [
    "In this notebook we will use the numerical data but without the CDR (what is basically what we want to predict in the OASIS dataset)."
   ]
  },
  {
   "cell_type": "code",
   "execution_count": 1,
   "metadata": {},
   "outputs": [],
   "source": [
    "# Load the required packages \n",
    "import numpy as np\n",
    "import pandas as pd\n",
    "import seaborn as sns\n",
    "import matplotlib.pyplot as plt\n",
    "import os\n",
    "\n",
    "\n",
    "from sklearn.model_selection import train_test_split, GridSearchCV\n",
    "from sklearn.metrics import accuracy_score, confusion_matrix, recall_score, precision_score, precision_recall_curve, classification_report\n",
    "from sklearn.svm import SVC\n",
    "from sklearn.ensemble import ExtraTreesClassifier\n",
    "from sklearn.preprocessing import OneHotEncoder, StandardScaler\n",
    "from sklearn.neighbors import KNeighborsClassifier\n",
    "from sklearn.impute import KNNImputer\n",
    "\n",
    "# Import TensorFlow packages \n",
    "\n",
    "import tensorflow as tf   \n",
    "import tensorflow_hub as hub\n",
    "from tensorflow import keras\n",
    "from tensorflow.keras import layers\n",
    "from tensorflow.keras import regularizers\n",
    "from keras.models import Sequential\n",
    "from keras.layers import Dense, Activation, Dropout, InputLayer, Flatten, Conv2D, MaxPooling2D\n",
    "from sklearn.linear_model import LogisticRegression\n",
    "\n",
    "np.random.seed(42)"
   ]
  },
  {
   "cell_type": "code",
   "execution_count": 2,
   "metadata": {},
   "outputs": [
    {
     "data": {
      "text/plain": [
       "<Experiment: artifact_location='s3://neuefische-mlflow/mlflow-artifacts/56', experiment_id='56', lifecycle_stage='active', name='alzbusters_numeric_models', tags={}>"
      ]
     },
     "execution_count": 2,
     "metadata": {},
     "output_type": "execute_result"
    }
   ],
   "source": [
    "# Import packages to see models in MLFlow \n",
    "import logging\n",
    "import parsenvy\n",
    "\n",
    "from logging import getLogger\n",
    "import mlflow\n",
    "from config_tp import TRACKING_URI, EXPERIMENT_NAME\n",
    "mlflow.set_tracking_uri(TRACKING_URI)\n",
    "mlflow.set_experiment(EXPERIMENT_NAME)"
   ]
  },
  {
   "cell_type": "code",
   "execution_count": 3,
   "metadata": {},
   "outputs": [],
   "source": [
    "# Load the processed dataset \n",
    "df=pd.read_csv('../tadpole_challenge/df_processed.csv')"
   ]
  },
  {
   "cell_type": "code",
   "execution_count": 4,
   "metadata": {},
   "outputs": [],
   "source": [
    "#Drop all the empty rows and columns with the weird entries \n",
    "df.dropna(axis=0, inplace=True)\n",
    "\n",
    "#drop the column with the IDs and strange symbols and also the one with the CDR \n",
    "df.drop(columns=df[['PTID','ABETA','PTAU', 'CDRSB']], inplace=True)"
   ]
  },
  {
   "cell_type": "code",
   "execution_count": 5,
   "metadata": {},
   "outputs": [
    {
     "data": {
      "text/html": [
       "<div>\n",
       "<style scoped>\n",
       "    .dataframe tbody tr th:only-of-type {\n",
       "        vertical-align: middle;\n",
       "    }\n",
       "\n",
       "    .dataframe tbody tr th {\n",
       "        vertical-align: top;\n",
       "    }\n",
       "\n",
       "    .dataframe thead th {\n",
       "        text-align: right;\n",
       "    }\n",
       "</style>\n",
       "<table border=\"1\" class=\"dataframe\">\n",
       "  <thead>\n",
       "    <tr style=\"text-align: right;\">\n",
       "      <th></th>\n",
       "      <th>TAU</th>\n",
       "    </tr>\n",
       "  </thead>\n",
       "  <tbody>\n",
       "    <tr>\n",
       "      <th>18</th>\n",
       "      <td>101.20</td>\n",
       "    </tr>\n",
       "    <tr>\n",
       "      <th>19</th>\n",
       "      <td>170.40</td>\n",
       "    </tr>\n",
       "    <tr>\n",
       "      <th>30</th>\n",
       "      <td>347.80</td>\n",
       "    </tr>\n",
       "    <tr>\n",
       "      <th>36</th>\n",
       "      <td>324.80</td>\n",
       "    </tr>\n",
       "    <tr>\n",
       "      <th>90</th>\n",
       "      <td>108.20</td>\n",
       "    </tr>\n",
       "    <tr>\n",
       "      <th>...</th>\n",
       "      <td>...</td>\n",
       "    </tr>\n",
       "    <tr>\n",
       "      <th>1792</th>\n",
       "      <td>279.90</td>\n",
       "    </tr>\n",
       "    <tr>\n",
       "      <th>1793</th>\n",
       "      <td>314.60</td>\n",
       "    </tr>\n",
       "    <tr>\n",
       "      <th>1794</th>\n",
       "      <td>305.00</td>\n",
       "    </tr>\n",
       "    <tr>\n",
       "      <th>1796</th>\n",
       "      <td>300.10</td>\n",
       "    </tr>\n",
       "    <tr>\n",
       "      <th>1805</th>\n",
       "      <td>81.54</td>\n",
       "    </tr>\n",
       "  </tbody>\n",
       "</table>\n",
       "<p>625 rows × 1 columns</p>\n",
       "</div>"
      ],
      "text/plain": [
       "         TAU\n",
       "18    101.20\n",
       "19    170.40\n",
       "30    347.80\n",
       "36    324.80\n",
       "90    108.20\n",
       "...      ...\n",
       "1792  279.90\n",
       "1793  314.60\n",
       "1794  305.00\n",
       "1796  300.10\n",
       "1805   81.54\n",
       "\n",
       "[625 rows x 1 columns]"
      ]
     },
     "execution_count": 5,
     "metadata": {},
     "output_type": "execute_result"
    }
   ],
   "source": [
    "#Convert everything to numerical values \n",
    "df[['TAU']].astype(float)"
   ]
  },
  {
   "cell_type": "code",
   "execution_count": 6,
   "metadata": {},
   "outputs": [],
   "source": [
    "# Use get_dummies for the PTGENDER and APOE4 column \n",
    "df=pd.get_dummies(df, columns=['PTGENDER', 'APOE4'], drop_first=False)"
   ]
  },
  {
   "cell_type": "code",
   "execution_count": 7,
   "metadata": {},
   "outputs": [],
   "source": [
    "df[\"TAU\"].replace(\"<80\",np.nan, inplace=True)\n",
    "df[\"TAU\"].replace(\">1300\",np.nan, inplace=True)"
   ]
  },
  {
   "cell_type": "code",
   "execution_count": 8,
   "metadata": {},
   "outputs": [],
   "source": [
    "#Convert the entries in DX into 0-2 values \n",
    "def replace_dx(df, feature):\n",
    "    df[feature] = df[feature].replace('CN', 0)\n",
    "    df[feature] = df[feature].replace('MCI', 1)\n",
    "    df[feature] = df[feature].replace('Dementia', 2)\n",
    "    return df\n",
    "\n",
    "col_pass = ['DX']\n",
    "\n",
    "for col in col_pass: \n",
    "    df = replace_dx(df, col)"
   ]
  },
  {
   "cell_type": "code",
   "execution_count": 9,
   "metadata": {},
   "outputs": [],
   "source": [
    "# Train-test split \n",
    "\n",
    "X=df.drop('DX', axis=1)\n",
    "y=df['DX']\n",
    "\n",
    "X_train, X_test, y_train, y_test = train_test_split(X,y, stratify = y, random_state=42)"
   ]
  },
  {
   "cell_type": "code",
   "execution_count": 10,
   "metadata": {},
   "outputs": [],
   "source": [
    "#Use Standard Scaler for the numeric data \n",
    "scaler = StandardScaler()\n",
    "X_train_scaled=scaler.fit_transform(X_train)\n",
    "X_test_scaled=scaler.fit_transform(X_test)"
   ]
  },
  {
   "cell_type": "code",
   "execution_count": 11,
   "metadata": {},
   "outputs": [],
   "source": [
    "# setting the MLFlow connection and experiment\n",
    "mlflow.start_run(run_name='1_SVM_noCDR_scaled')\n",
    "run = mlflow.active_run()"
   ]
  },
  {
   "cell_type": "code",
   "execution_count": 12,
   "metadata": {},
   "outputs": [
    {
     "name": "stdout",
     "output_type": "stream",
     "text": [
      "Fitting 5 folds for each of 420 candidates, totalling 2100 fits\n"
     ]
    },
    {
     "data": {
      "text/plain": [
       "GridSearchCV(cv=5, estimator=SVC(), n_jobs=-1,\n",
       "             param_grid=[{'C': [0.01, 0.1, 1, 10, 100], 'degree': [2, 3, 4],\n",
       "                          'gamma': [0.0001, 0.001, 0.01, 0.1, 1, 'auto',\n",
       "                                    'scale'],\n",
       "                          'kernel': ['rbf', 'linear', 'poly', 'sigmoid']}],\n",
       "             scoring='accuracy', verbose=1)"
      ]
     },
     "execution_count": 12,
     "metadata": {},
     "output_type": "execute_result"
    }
   ],
   "source": [
    "#Run the SVM first. Use Gridsearch to find the best parameters. \n",
    "# Define hyperparameter grid \n",
    "param_grid = [{'kernel': ['rbf', 'linear', 'poly', 'sigmoid'], \n",
    "               'gamma': [0.0001, 0.001, 0.01, 0.1, 1, 'auto', 'scale'],\n",
    "               'C': [0.01, 0.1, 1, 10, 100],\n",
    "               'degree': [2, 3, 4]\n",
    "              }]\n",
    "\n",
    "gs = GridSearchCV(SVC(), param_grid, scoring='accuracy', cv=5, verbose=1, n_jobs=-1)\n",
    "\n",
    "gs.fit(X_train_scaled, y_train)"
   ]
  },
  {
   "cell_type": "code",
   "execution_count": 13,
   "metadata": {},
   "outputs": [
    {
     "name": "stdout",
     "output_type": "stream",
     "text": [
      "Best Parameters: {'C': 10, 'degree': 2, 'gamma': 'auto', 'kernel': 'rbf'}\n"
     ]
    }
   ],
   "source": [
    "# Print best parameters \n",
    "print('Best Parameters:', gs.best_params_)"
   ]
  },
  {
   "cell_type": "code",
   "execution_count": 14,
   "metadata": {},
   "outputs": [
    {
     "name": "stdout",
     "output_type": "stream",
     "text": [
      "Best accuracy 0.739\n"
     ]
    }
   ],
   "source": [
    "# Print best score\n",
    "print('Best accuracy', gs.best_score_.round(3))"
   ]
  },
  {
   "cell_type": "code",
   "execution_count": 15,
   "metadata": {},
   "outputs": [],
   "source": [
    "# Evaluate on test set\n",
    "best_model = gs.best_estimator_\n",
    "y_pred_tuned = best_model.predict(X_test_scaled)"
   ]
  },
  {
   "cell_type": "code",
   "execution_count": 16,
   "metadata": {},
   "outputs": [
    {
     "name": "stdout",
     "output_type": "stream",
     "text": [
      "0.9615384615384616 0.6942675159235668\n"
     ]
    }
   ],
   "source": [
    "# Check out the metrics\n",
    "acc_train = accuracy_score(y_train, best_model.predict(X_train_scaled))\n",
    "acc_test = accuracy_score(y_test, y_pred_tuned)\n",
    "print(acc_train, acc_test)"
   ]
  },
  {
   "cell_type": "markdown",
   "metadata": {},
   "source": [
    "We can see here, that the model performs much worse on the test set when using the dataframe without the CDR. "
   ]
  },
  {
   "cell_type": "code",
   "execution_count": 17,
   "metadata": {},
   "outputs": [
    {
     "data": {
      "text/plain": [
       "<Run: data=<RunData: metrics={'test-accuracy': 0.6942675159235668, 'train-accuracy': 0.9615384615384616}, params={}, tags={'mlflow.runName': '1_SVM_noCDR_scaled',\n",
       " 'mlflow.source.git.commit': 'fec7fbc79a3ffae3b9c9fb784985cfd3a66b9538',\n",
       " 'mlflow.source.name': '/Users/tamarapallien/neuefische/capstone '\n",
       "                       '/ds-capstone-alzheimers-/.venv/lib/python3.9/site-packages/ipykernel_launcher.py',\n",
       " 'mlflow.source.type': 'LOCAL',\n",
       " 'mlflow.user': 'tamarapallien'}>, info=<RunInfo: artifact_uri='s3://neuefische-mlflow/mlflow-artifacts/56/d7a425d0a28d406aa3962066c1c6dc55/artifacts', end_time=1661862247101, experiment_id='56', lifecycle_stage='active', run_id='d7a425d0a28d406aa3962066c1c6dc55', run_uuid='d7a425d0a28d406aa3962066c1c6dc55', start_time=1661862231543, status='FINISHED', user_id='tamarapallien'>>"
      ]
     },
     "execution_count": 17,
     "metadata": {},
     "output_type": "execute_result"
    }
   ],
   "source": [
    "#logging metrics\n",
    "mlflow.log_metric(\"train-\" + \"accuracy\", acc_train)\n",
    "mlflow.log_metric(\"test-\" + \"accuracy\", acc_test)\n",
    "\n",
    "# mlflow.sklearn.log_model(reg, \"model\")\n",
    "mlflow.end_run()\n",
    "\n",
    "mlflow.get_run(run_id=run.info.run_id)"
   ]
  },
  {
   "cell_type": "markdown",
   "metadata": {},
   "source": [
    "Next, we will try a simple logistic regression model. "
   ]
  },
  {
   "cell_type": "code",
   "execution_count": 18,
   "metadata": {},
   "outputs": [],
   "source": [
    "# setting the MLFlow connection and experiment\n",
    "mlflow.start_run(run_name='2_logReg_noCDR_scaled')\n",
    "run = mlflow.active_run()"
   ]
  },
  {
   "cell_type": "code",
   "execution_count": 19,
   "metadata": {},
   "outputs": [
    {
     "data": {
      "text/plain": [
       "LogisticRegression()"
      ]
     },
     "execution_count": 19,
     "metadata": {},
     "output_type": "execute_result"
    }
   ],
   "source": [
    "model = LogisticRegression()\n",
    "model.fit(X_train_scaled, y_train)"
   ]
  },
  {
   "cell_type": "code",
   "execution_count": 20,
   "metadata": {},
   "outputs": [],
   "source": [
    "y_pred=model.predict(X_test_scaled)"
   ]
  },
  {
   "cell_type": "code",
   "execution_count": 21,
   "metadata": {},
   "outputs": [
    {
     "name": "stdout",
     "output_type": "stream",
     "text": [
      "0.7388535031847133\n",
      "0.7670940170940171\n"
     ]
    }
   ],
   "source": [
    "# Check out the metrics\n",
    "acc_test = accuracy_score(y_test, y_pred)\n",
    "print(acc_test)\n",
    "acc_train=accuracy_score(y_train, model.predict(X_train_scaled))\n",
    "print(acc_train)"
   ]
  },
  {
   "cell_type": "code",
   "execution_count": 22,
   "metadata": {},
   "outputs": [
    {
     "data": {
      "text/plain": [
       "<Run: data=<RunData: metrics={'test-accuracy': 0.7388535031847133, 'train-accuracy': 0.7670940170940171}, params={}, tags={'mlflow.runName': '2_logReg_noCDR_scaled',\n",
       " 'mlflow.source.git.commit': 'fec7fbc79a3ffae3b9c9fb784985cfd3a66b9538',\n",
       " 'mlflow.source.name': '/Users/tamarapallien/neuefische/capstone '\n",
       "                       '/ds-capstone-alzheimers-/.venv/lib/python3.9/site-packages/ipykernel_launcher.py',\n",
       " 'mlflow.source.type': 'LOCAL',\n",
       " 'mlflow.user': 'tamarapallien'}>, info=<RunInfo: artifact_uri='s3://neuefische-mlflow/mlflow-artifacts/56/8ef833591d2544b5883f6c0027819ecf/artifacts', end_time=1661862247697, experiment_id='56', lifecycle_stage='active', run_id='8ef833591d2544b5883f6c0027819ecf', run_uuid='8ef833591d2544b5883f6c0027819ecf', start_time=1661862247302, status='FINISHED', user_id='tamarapallien'>>"
      ]
     },
     "execution_count": 22,
     "metadata": {},
     "output_type": "execute_result"
    }
   ],
   "source": [
    "#logging metrics\n",
    "mlflow.log_metric(\"train-\" + \"accuracy\", acc_train)\n",
    "mlflow.log_metric(\"test-\" + \"accuracy\", acc_test)\n",
    "\n",
    "# mlflow.sklearn.log_model(reg, \"model\")\n",
    "mlflow.end_run()\n",
    "\n",
    "mlflow.get_run(run_id=run.info.run_id)"
   ]
  },
  {
   "cell_type": "markdown",
   "metadata": {},
   "source": [
    "The logistic regression also performs much worse without the CDR. Let us try the ExtraTreeClassifier. "
   ]
  },
  {
   "cell_type": "code",
   "execution_count": 23,
   "metadata": {},
   "outputs": [],
   "source": [
    "# setting the MLFlow connection and experiment\n",
    "mlflow.start_run(run_name='3_XTree_noCDR_scaled')\n",
    "run = mlflow.active_run()"
   ]
  },
  {
   "cell_type": "code",
   "execution_count": 24,
   "metadata": {},
   "outputs": [
    {
     "name": "stdout",
     "output_type": "stream",
     "text": [
      "Fitting 5 folds for each of 3 candidates, totalling 15 fits\n",
      "[CV 1/5] END criterion=gini, max_depth=20, min_samples_leaf=2, min_samples_split=60, n_estimators=50;, score=0.766 total time=   0.1s\n",
      "[CV 5/5] END criterion=gini, max_depth=20, min_samples_leaf=2, min_samples_split=60, n_estimators=50;, score=0.763 total time=   0.1s\n",
      "[CV 3/5] END criterion=gini, max_depth=20, min_samples_leaf=2, min_samples_split=60, n_estimators=50;, score=0.649 total time=   0.1s\n",
      "[CV 2/5] END criterion=gini, max_depth=20, min_samples_leaf=2, min_samples_split=60, n_estimators=50;, score=0.702 total time=   0.1s\n",
      "[CV 4/5] END criterion=gini, max_depth=20, min_samples_leaf=2, min_samples_split=60, n_estimators=50;, score=0.742 total time=   0.1s\n",
      "[CV 1/5] END criterion=gini, max_depth=20, min_samples_leaf=2, min_samples_split=60, n_estimators=100;, score=0.777 total time=   0.2s\n",
      "[CV 4/5] END criterion=gini, max_depth=20, min_samples_leaf=2, min_samples_split=60, n_estimators=100;, score=0.796 total time=   0.2s\n",
      "[CV 3/5] END criterion=gini, max_depth=20, min_samples_leaf=2, min_samples_split=60, n_estimators=100;, score=0.649 total time=   0.2s\n",
      "[CV 5/5] END criterion=gini, max_depth=20, min_samples_leaf=2, min_samples_split=60, n_estimators=100;, score=0.796 total time=   0.2s\n",
      "[CV 2/5] END criterion=gini, max_depth=20, min_samples_leaf=2, min_samples_split=60, n_estimators=100;, score=0.702 total time=   0.2s\n",
      "[CV 1/5] END criterion=gini, max_depth=20, min_samples_leaf=2, min_samples_split=60, n_estimators=200;, score=0.766 total time=   0.3s\n",
      "[CV 3/5] END criterion=gini, max_depth=20, min_samples_leaf=2, min_samples_split=60, n_estimators=200;, score=0.670 total time=   0.2s\n",
      "[CV 2/5] END criterion=gini, max_depth=20, min_samples_leaf=2, min_samples_split=60, n_estimators=200;, score=0.691 total time=   0.3s\n",
      "[CV 4/5] END criterion=gini, max_depth=20, min_samples_leaf=2, min_samples_split=60, n_estimators=200;, score=0.774 total time=   0.2s\n",
      "[CV 5/5] END criterion=gini, max_depth=20, min_samples_leaf=2, min_samples_split=60, n_estimators=200;, score=0.785 total time=   0.2s\n"
     ]
    },
    {
     "data": {
      "text/plain": [
       "{'criterion': 'gini',\n",
       " 'max_depth': 20,\n",
       " 'min_samples_leaf': 2,\n",
       " 'min_samples_split': 60,\n",
       " 'n_estimators': 100}"
      ]
     },
     "execution_count": 24,
     "metadata": {},
     "output_type": "execute_result"
    }
   ],
   "source": [
    "#We analyze the performance of the ExtraTreeClassifier using GridSearch \n",
    "\n",
    "param_grid = {'n_estimators': [50,100,200],\n",
    "                'criterion': ['gini'],\n",
    "                'max_depth': [20],\n",
    "                'min_samples_split': [60],\n",
    "                'min_samples_leaf': [2]\n",
    "}\n",
    "\n",
    "gs = GridSearchCV(ExtraTreesClassifier(), param_grid=param_grid, n_jobs=-1, verbose=3, scoring='accuracy')\n",
    "\n",
    "gs.fit(X_train_scaled, y_train)\n",
    "gs.best_params_"
   ]
  },
  {
   "cell_type": "code",
   "execution_count": 25,
   "metadata": {},
   "outputs": [],
   "source": [
    "# Evaluate on test set\n",
    "best_model = gs.best_estimator_\n",
    "y_pred_tuned = best_model.predict(X_test_scaled)"
   ]
  },
  {
   "cell_type": "code",
   "execution_count": 26,
   "metadata": {},
   "outputs": [
    {
     "name": "stdout",
     "output_type": "stream",
     "text": [
      "0.7388535031847133\n",
      "0.7756410256410257\n"
     ]
    }
   ],
   "source": [
    "# Check out the metrics\n",
    "acc_test = accuracy_score(y_test, y_pred)\n",
    "print(acc_test)\n",
    "acc_train=accuracy_score(y_train, best_model.predict(X_train_scaled))\n",
    "print(acc_train)"
   ]
  },
  {
   "cell_type": "code",
   "execution_count": 27,
   "metadata": {},
   "outputs": [
    {
     "data": {
      "image/png": "[encoded data removed]",
      "text/plain": [
       "<Figure size 432x288 with 1 Axes>"
      ]
     },
     "metadata": {
      "needs_background": "light"
     },
     "output_type": "display_data"
    }
   ],
   "source": [
    "# Plotting the confusing matrix\n",
    "mat = confusion_matrix(y_test, y_pred.round())\n",
    "sns.heatmap(mat.T, square=True, annot=True, fmt='d', cbar=False)\n",
    "plt.xlabel('true label')\n",
    "plt.ylabel('predicted label');"
   ]
  },
  {
   "cell_type": "code",
   "execution_count": 28,
   "metadata": {},
   "outputs": [
    {
     "name": "stdout",
     "output_type": "stream",
     "text": [
      "              precision    recall  f1-score   support\n",
      "\n",
      "           0       0.72      0.61      0.66        51\n",
      "           1       0.73      0.81      0.77        84\n",
      "           2       0.81      0.77      0.79        22\n",
      "\n",
      "    accuracy                           0.74       157\n",
      "   macro avg       0.75      0.73      0.74       157\n",
      "weighted avg       0.74      0.74      0.74       157\n",
      "\n"
     ]
    }
   ],
   "source": [
    "print(classification_report(y_test, y_pred))"
   ]
  },
  {
   "cell_type": "code",
   "execution_count": 29,
   "metadata": {},
   "outputs": [
    {
     "data": {
      "text/plain": [
       "<Run: data=<RunData: metrics={'test-accuracy': 0.7388535031847133, 'train-accuracy': 0.7756410256410257}, params={}, tags={'mlflow.runName': '3_XTree_noCDR_scaled',\n",
       " 'mlflow.source.git.commit': 'fec7fbc79a3ffae3b9c9fb784985cfd3a66b9538',\n",
       " 'mlflow.source.name': '/Users/tamarapallien/neuefische/capstone '\n",
       "                       '/ds-capstone-alzheimers-/.venv/lib/python3.9/site-packages/ipykernel_launcher.py',\n",
       " 'mlflow.source.type': 'LOCAL',\n",
       " 'mlflow.user': 'tamarapallien'}>, info=<RunInfo: artifact_uri='s3://neuefische-mlflow/mlflow-artifacts/56/a2aebad9d08a4e4ea9cb08c7d07dd0fb/artifacts', end_time=1661862252783, experiment_id='56', lifecycle_stage='active', run_id='a2aebad9d08a4e4ea9cb08c7d07dd0fb', run_uuid='a2aebad9d08a4e4ea9cb08c7d07dd0fb', start_time=1661862247885, status='FINISHED', user_id='tamarapallien'>>"
      ]
     },
     "execution_count": 29,
     "metadata": {},
     "output_type": "execute_result"
    }
   ],
   "source": [
    "#logging metrics\n",
    "mlflow.log_metric(\"train-\" + \"accuracy\", acc_train)\n",
    "mlflow.log_metric(\"test-\" + \"accuracy\", acc_test)\n",
    "\n",
    "# mlflow.sklearn.log_model(reg, \"model\")\n",
    "mlflow.end_run()\n",
    "\n",
    "mlflow.get_run(run_id=run.info.run_id)"
   ]
  },
  {
   "cell_type": "markdown",
   "metadata": {},
   "source": [
    "We see that all our models perform much worse without the CDR. I will try to predict the missing values in the original dataframe, to not lose that many entries and see if that improves something. "
   ]
  },
  {
   "cell_type": "code",
   "execution_count": 30,
   "metadata": {},
   "outputs": [],
   "source": [
    "# Load the processed dataset \n",
    "df=pd.read_csv('../tadpole_challenge/df_processed.csv')"
   ]
  },
  {
   "cell_type": "code",
   "execution_count": 31,
   "metadata": {},
   "outputs": [],
   "source": [
    "#We still drop CDR and ID columns but keep all the others \n",
    "\n",
    "df.drop(columns=df[['PTID','CDRSB', 'Unnamed: 0']], inplace=True)"
   ]
  },
  {
   "cell_type": "code",
   "execution_count": 32,
   "metadata": {},
   "outputs": [
    {
     "data": {
      "text/plain": [
       "AGE                   2\n",
       "PTGENDER              0\n",
       "APOE4               104\n",
       "FDG                 800\n",
       "AV45               1146\n",
       "ABETA               940\n",
       "TAU                 940\n",
       "PTAU                940\n",
       "ADAS11               17\n",
       "ADAS13               29\n",
       "MMSE                  0\n",
       "RAVLT_immediate      17\n",
       "Ventricles          497\n",
       "Hippocampus         663\n",
       "WholeBrain          463\n",
       "Entorhinal          687\n",
       "MidTemp             687\n",
       "DX                   33\n",
       "dtype: int64"
      ]
     },
     "execution_count": 32,
     "metadata": {},
     "output_type": "execute_result"
    }
   ],
   "source": [
    "df.isnull().sum()"
   ]
  },
  {
   "cell_type": "code",
   "execution_count": 33,
   "metadata": {},
   "outputs": [
    {
     "name": "stdout",
     "output_type": "stream",
     "text": [
      "<class 'pandas.core.frame.DataFrame'>\n",
      "RangeIndex: 2155 entries, 0 to 2154\n",
      "Data columns (total 18 columns):\n",
      " #   Column           Non-Null Count  Dtype  \n",
      "---  ------           --------------  -----  \n",
      " 0   AGE              2153 non-null   float64\n",
      " 1   PTGENDER         2155 non-null   object \n",
      " 2   APOE4            2051 non-null   float64\n",
      " 3   FDG              1355 non-null   float64\n",
      " 4   AV45             1009 non-null   float64\n",
      " 5   ABETA            1215 non-null   object \n",
      " 6   TAU              1215 non-null   object \n",
      " 7   PTAU             1215 non-null   object \n",
      " 8   ADAS11           2138 non-null   float64\n",
      " 9   ADAS13           2126 non-null   float64\n",
      " 10  MMSE             2155 non-null   float64\n",
      " 11  RAVLT_immediate  2138 non-null   float64\n",
      " 12  Ventricles       1658 non-null   float64\n",
      " 13  Hippocampus      1492 non-null   float64\n",
      " 14  WholeBrain       1692 non-null   float64\n",
      " 15  Entorhinal       1468 non-null   float64\n",
      " 16  MidTemp          1468 non-null   float64\n",
      " 17  DX               2122 non-null   object \n",
      "dtypes: float64(13), object(5)\n",
      "memory usage: 303.2+ KB\n"
     ]
    }
   ],
   "source": [
    "df.info()"
   ]
  },
  {
   "cell_type": "code",
   "execution_count": 34,
   "metadata": {},
   "outputs": [],
   "source": [
    "df[\"PTAU\"].replace(\"<8\",np.nan, inplace=True)\n",
    "df[\"PTAU\"].replace(\">120\",np.nan, inplace=True)\n",
    "df[\"ABETA\"].replace(\"<200\",np.nan, inplace=True)\n",
    "df[\"ABETA\"].replace(\">1700\",np.nan, inplace=True)\n",
    "df[\"TAU\"].replace(\"<80\",np.nan, inplace=True)\n",
    "df[\"TAU\"].replace(\">1300\",np.nan, inplace=True)"
   ]
  },
  {
   "cell_type": "code",
   "execution_count": 35,
   "metadata": {},
   "outputs": [
    {
     "data": {
      "text/html": [
       "<div>\n",
       "<style scoped>\n",
       "    .dataframe tbody tr th:only-of-type {\n",
       "        vertical-align: middle;\n",
       "    }\n",
       "\n",
       "    .dataframe tbody tr th {\n",
       "        vertical-align: top;\n",
       "    }\n",
       "\n",
       "    .dataframe thead th {\n",
       "        text-align: right;\n",
       "    }\n",
       "</style>\n",
       "<table border=\"1\" class=\"dataframe\">\n",
       "  <thead>\n",
       "    <tr style=\"text-align: right;\">\n",
       "      <th></th>\n",
       "      <th>TAU</th>\n",
       "      <th>ABETA</th>\n",
       "      <th>PTAU</th>\n",
       "      <th>APOE4</th>\n",
       "    </tr>\n",
       "  </thead>\n",
       "  <tbody>\n",
       "    <tr>\n",
       "      <th>0</th>\n",
       "      <td>NaN</td>\n",
       "      <td>NaN</td>\n",
       "      <td>NaN</td>\n",
       "      <td>0.0</td>\n",
       "    </tr>\n",
       "    <tr>\n",
       "      <th>1</th>\n",
       "      <td>239.7</td>\n",
       "      <td>741.5</td>\n",
       "      <td>22.83</td>\n",
       "      <td>1.0</td>\n",
       "    </tr>\n",
       "    <tr>\n",
       "      <th>2</th>\n",
       "      <td>153.1</td>\n",
       "      <td>1501.0</td>\n",
       "      <td>13.29</td>\n",
       "      <td>0.0</td>\n",
       "    </tr>\n",
       "    <tr>\n",
       "      <th>3</th>\n",
       "      <td>337.0</td>\n",
       "      <td>547.3</td>\n",
       "      <td>33.43</td>\n",
       "      <td>0.0</td>\n",
       "    </tr>\n",
       "    <tr>\n",
       "      <th>4</th>\n",
       "      <td>NaN</td>\n",
       "      <td>NaN</td>\n",
       "      <td>NaN</td>\n",
       "      <td>0.0</td>\n",
       "    </tr>\n",
       "    <tr>\n",
       "      <th>...</th>\n",
       "      <td>...</td>\n",
       "      <td>...</td>\n",
       "      <td>...</td>\n",
       "      <td>...</td>\n",
       "    </tr>\n",
       "    <tr>\n",
       "      <th>2150</th>\n",
       "      <td>NaN</td>\n",
       "      <td>NaN</td>\n",
       "      <td>NaN</td>\n",
       "      <td>NaN</td>\n",
       "    </tr>\n",
       "    <tr>\n",
       "      <th>2151</th>\n",
       "      <td>NaN</td>\n",
       "      <td>NaN</td>\n",
       "      <td>NaN</td>\n",
       "      <td>NaN</td>\n",
       "    </tr>\n",
       "    <tr>\n",
       "      <th>2152</th>\n",
       "      <td>NaN</td>\n",
       "      <td>NaN</td>\n",
       "      <td>NaN</td>\n",
       "      <td>NaN</td>\n",
       "    </tr>\n",
       "    <tr>\n",
       "      <th>2153</th>\n",
       "      <td>NaN</td>\n",
       "      <td>NaN</td>\n",
       "      <td>NaN</td>\n",
       "      <td>NaN</td>\n",
       "    </tr>\n",
       "    <tr>\n",
       "      <th>2154</th>\n",
       "      <td>NaN</td>\n",
       "      <td>NaN</td>\n",
       "      <td>NaN</td>\n",
       "      <td>NaN</td>\n",
       "    </tr>\n",
       "  </tbody>\n",
       "</table>\n",
       "<p>2155 rows × 4 columns</p>\n",
       "</div>"
      ],
      "text/plain": [
       "        TAU   ABETA   PTAU  APOE4\n",
       "0       NaN     NaN    NaN    0.0\n",
       "1     239.7   741.5  22.83    1.0\n",
       "2     153.1  1501.0  13.29    0.0\n",
       "3     337.0   547.3  33.43    0.0\n",
       "4       NaN     NaN    NaN    0.0\n",
       "...     ...     ...    ...    ...\n",
       "2150    NaN     NaN    NaN    NaN\n",
       "2151    NaN     NaN    NaN    NaN\n",
       "2152    NaN     NaN    NaN    NaN\n",
       "2153    NaN     NaN    NaN    NaN\n",
       "2154    NaN     NaN    NaN    NaN\n",
       "\n",
       "[2155 rows x 4 columns]"
      ]
     },
     "execution_count": 35,
     "metadata": {},
     "output_type": "execute_result"
    }
   ],
   "source": [
    "#Convert everything to numerical values \n",
    "df[['TAU', 'ABETA', 'PTAU', 'APOE4']].astype(float)"
   ]
  },
  {
   "cell_type": "code",
   "execution_count": 36,
   "metadata": {},
   "outputs": [],
   "source": [
    "#Convert the entries in DX into 0-2 values \n",
    "def replace_dx(df, feature):\n",
    "    df[feature] = df[feature].replace('CN', 0)\n",
    "    df[feature] = df[feature].replace('MCI', 1)\n",
    "    df[feature] = df[feature].replace('Dementia', 2)\n",
    "    return df\n",
    "\n",
    "col_pass = ['DX']\n",
    "\n",
    "for col in col_pass: \n",
    "    df = replace_dx(df, col)"
   ]
  },
  {
   "cell_type": "code",
   "execution_count": 37,
   "metadata": {},
   "outputs": [],
   "source": [
    "#Drop the rows in DX that are empty because Python can not work with missing values in the target column \n",
    "df.dropna(subset=[\"DX\"], inplace=True)"
   ]
  },
  {
   "cell_type": "code",
   "execution_count": 38,
   "metadata": {},
   "outputs": [],
   "source": [
    "df=pd.get_dummies(df, columns=['PTGENDER'], drop_first=False)"
   ]
  },
  {
   "cell_type": "code",
   "execution_count": 39,
   "metadata": {},
   "outputs": [],
   "source": [
    "#Train test split for the df_brain dataframe to avoid data leakage into our test set \n",
    "X= df.drop('DX', axis=1)\n",
    "y=df['DX']\n",
    "X_train, X_test, y_train, y_test=train_test_split(X, y, random_state=42, stratify=y)"
   ]
  },
  {
   "cell_type": "code",
   "execution_count": 40,
   "metadata": {},
   "outputs": [],
   "source": [
    "#Use the KNN imputer to fill the other missing values in the X_train and apply this to X_test \n",
    "#define imputer\n",
    "imputer = KNNImputer(n_neighbors=5, weights='uniform', metric='nan_euclidean')\n",
    "\n",
    "# fit on the dataset\n",
    "imputer.fit(X_train)\n",
    "\n",
    "columns=X_train.columns\n",
    "\n",
    "# transform X_train und X_test\n",
    "X_train = pd.DataFrame(imputer.transform(X_train), columns=columns)\n",
    "X_test = pd.DataFrame(imputer.transform(X_test), columns=columns)"
   ]
  },
  {
   "cell_type": "code",
   "execution_count": 41,
   "metadata": {},
   "outputs": [
    {
     "name": "stdout",
     "output_type": "stream",
     "text": [
      "Missing in train:\n",
      "AGE                0\n",
      "APOE4              0\n",
      "FDG                0\n",
      "AV45               0\n",
      "ABETA              0\n",
      "TAU                0\n",
      "PTAU               0\n",
      "ADAS11             0\n",
      "ADAS13             0\n",
      "MMSE               0\n",
      "RAVLT_immediate    0\n",
      "Ventricles         0\n",
      "Hippocampus        0\n",
      "WholeBrain         0\n",
      "Entorhinal         0\n",
      "MidTemp            0\n",
      "PTGENDER_Female    0\n",
      "PTGENDER_Male      0\n",
      "dtype: int64\n",
      "====================\n",
      "Missing in test:\n",
      "AGE                0\n",
      "APOE4              0\n",
      "FDG                0\n",
      "AV45               0\n",
      "ABETA              0\n",
      "TAU                0\n",
      "PTAU               0\n",
      "ADAS11             0\n",
      "ADAS13             0\n",
      "MMSE               0\n",
      "RAVLT_immediate    0\n",
      "Ventricles         0\n",
      "Hippocampus        0\n",
      "WholeBrain         0\n",
      "Entorhinal         0\n",
      "MidTemp            0\n",
      "PTGENDER_Female    0\n",
      "PTGENDER_Male      0\n",
      "dtype: int64\n"
     ]
    }
   ],
   "source": [
    "print(\"Missing in train:\")\n",
    "print(X_train.isnull().sum())\n",
    "print(\"====================\")\n",
    "print(\"Missing in test:\")\n",
    "print(X_test.isnull().sum())"
   ]
  },
  {
   "cell_type": "code",
   "execution_count": 42,
   "metadata": {},
   "outputs": [],
   "source": [
    "#Use Standard Scaler for the numeric data \n",
    "scaler = StandardScaler()\n",
    "X_train_scaled=scaler.fit_transform(X_train)\n",
    "X_test_scaled=scaler.fit_transform(X_test)"
   ]
  },
  {
   "cell_type": "code",
   "execution_count": 43,
   "metadata": {},
   "outputs": [],
   "source": [
    "# setting the MLFlow connection and experiment\n",
    "mlflow.start_run(run_name='4_XTree_noCDR_trans_scaled')\n",
    "run = mlflow.active_run()"
   ]
  },
  {
   "cell_type": "code",
   "execution_count": 44,
   "metadata": {},
   "outputs": [
    {
     "name": "stdout",
     "output_type": "stream",
     "text": [
      "Fitting 5 folds for each of 3 candidates, totalling 15 fits\n",
      "[CV 1/5] END criterion=gini, max_depth=20, min_samples_leaf=2, min_samples_split=60, n_estimators=50;, score=0.699 total time=   0.0s\n",
      "[CV 4/5] END criterion=gini, max_depth=20, min_samples_leaf=2, min_samples_split=60, n_estimators=50;, score=0.748 total time=   0.0s\n",
      "[CV 2/5] END criterion=gini, max_depth=20, min_samples_leaf=2, min_samples_split=60, n_estimators=50;, score=0.726 total time=   0.1s\n",
      "[CV 5/5] END criterion=gini, max_depth=20, min_samples_leaf=2, min_samples_split=60, n_estimators=50;, score=0.761 total time=   0.1s\n",
      "[CV 3/5] END criterion=gini, max_depth=20, min_samples_leaf=2, min_samples_split=60, n_estimators=50;, score=0.723 total time=   0.1s\n",
      "[CV 3/5] END criterion=gini, max_depth=20, min_samples_leaf=2, min_samples_split=60, n_estimators=100;, score=0.711 total time=   0.1s\n",
      "[CV 5/5] END criterion=gini, max_depth=20, min_samples_leaf=2, min_samples_split=60, n_estimators=100;, score=0.755 total time=   0.1s[CV 4/5] END criterion=gini, max_depth=20, min_samples_leaf=2, min_samples_split=60, n_estimators=100;, score=0.755 total time=   0.1s\n",
      "\n",
      "[CV 2/5] END criterion=gini, max_depth=20, min_samples_leaf=2, min_samples_split=60, n_estimators=100;, score=0.730 total time=   0.1s\n",
      "[CV 1/5] END criterion=gini, max_depth=20, min_samples_leaf=2, min_samples_split=60, n_estimators=100;, score=0.693 total time=   0.1s\n",
      "[CV 2/5] END criterion=gini, max_depth=20, min_samples_leaf=2, min_samples_split=60, n_estimators=200;, score=0.736 total time=   0.2s\n",
      "[CV 1/5] END criterion=gini, max_depth=20, min_samples_leaf=2, min_samples_split=60, n_estimators=200;, score=0.712 total time=   0.2s\n",
      "[CV 3/5] END criterion=gini, max_depth=20, min_samples_leaf=2, min_samples_split=60, n_estimators=200;, score=0.730 total time=   0.2s\n",
      "[CV 4/5] END criterion=gini, max_depth=20, min_samples_leaf=2, min_samples_split=60, n_estimators=200;, score=0.755 total time=   0.2s\n",
      "[CV 5/5] END criterion=gini, max_depth=20, min_samples_leaf=2, min_samples_split=60, n_estimators=200;, score=0.767 total time=   0.2s\n"
     ]
    },
    {
     "data": {
      "text/plain": [
       "{'criterion': 'gini',\n",
       " 'max_depth': 20,\n",
       " 'min_samples_leaf': 2,\n",
       " 'min_samples_split': 60,\n",
       " 'n_estimators': 200}"
      ]
     },
     "execution_count": 44,
     "metadata": {},
     "output_type": "execute_result"
    }
   ],
   "source": [
    "#We analyze the performance of the ExtraTreeClassifier using GridSearch \n",
    "\n",
    "param_grid = {'n_estimators': [50,100,200],\n",
    "                'criterion': ['gini'],\n",
    "                'max_depth': [20],\n",
    "                'min_samples_split': [60],\n",
    "                'min_samples_leaf': [2]\n",
    "}\n",
    "\n",
    "gs = GridSearchCV(ExtraTreesClassifier(), param_grid=param_grid, n_jobs=-1, verbose=3, scoring='accuracy')\n",
    "\n",
    "gs.fit(X_train_scaled, y_train)\n",
    "gs.best_params_"
   ]
  },
  {
   "cell_type": "code",
   "execution_count": 45,
   "metadata": {},
   "outputs": [],
   "source": [
    "# Evaluate on test set\n",
    "best_model = gs.best_estimator_\n",
    "y_pred_tuned = best_model.predict(X_test_scaled)"
   ]
  },
  {
   "cell_type": "code",
   "execution_count": 46,
   "metadata": {},
   "outputs": [
    {
     "name": "stdout",
     "output_type": "stream",
     "text": [
      "0.7419962335216572\n",
      "0.7837837837837838\n"
     ]
    }
   ],
   "source": [
    "# Check out the metrics\n",
    "acc_test = accuracy_score(y_test, y_pred_tuned)\n",
    "print(acc_test)\n",
    "acc_train=accuracy_score(y_train, best_model.predict(X_train_scaled))\n",
    "print(acc_train)"
   ]
  },
  {
   "cell_type": "code",
   "execution_count": 47,
   "metadata": {},
   "outputs": [
    {
     "data": {
      "image/png": "[encoded data removed]",
      "text/plain": [
       "<Figure size 432x288 with 1 Axes>"
      ]
     },
     "metadata": {
      "needs_background": "light"
     },
     "output_type": "display_data"
    }
   ],
   "source": [
    "# Plotting the confusing matrix\n",
    "mat = confusion_matrix(y_test, y_pred_tuned.round())\n",
    "sns.heatmap(mat.T, square=True, annot=True, fmt='d', cbar=False)\n",
    "plt.xlabel('true label')\n",
    "plt.ylabel('predicted label');"
   ]
  },
  {
   "cell_type": "code",
   "execution_count": 49,
   "metadata": {},
   "outputs": [
    {
     "name": "stdout",
     "output_type": "stream",
     "text": [
      "              precision    recall  f1-score   support\n",
      "\n",
      "         0.0       0.73      0.80      0.76       198\n",
      "         1.0       0.71      0.72      0.72       241\n",
      "         2.0       0.86      0.68      0.76        92\n",
      "\n",
      "    accuracy                           0.74       531\n",
      "   macro avg       0.77      0.73      0.75       531\n",
      "weighted avg       0.75      0.74      0.74       531\n",
      "\n"
     ]
    }
   ],
   "source": [
    "print(classification_report(y_test, y_pred_tuned))"
   ]
  },
  {
   "cell_type": "code",
   "execution_count": 50,
   "metadata": {},
   "outputs": [
    {
     "data": {
      "text/plain": [
       "<Run: data=<RunData: metrics={'test-accuracy': 0.7419962335216572, 'train-accuracy': 0.7837837837837838}, params={}, tags={'mlflow.runName': '4_XTree_noCDR_trans_scaled',\n",
       " 'mlflow.source.git.commit': 'fec7fbc79a3ffae3b9c9fb784985cfd3a66b9538',\n",
       " 'mlflow.source.name': '/Users/tamarapallien/neuefische/capstone '\n",
       "                       '/ds-capstone-alzheimers-/.venv/lib/python3.9/site-packages/ipykernel_launcher.py',\n",
       " 'mlflow.source.type': 'LOCAL',\n",
       " 'mlflow.user': 'tamarapallien'}>, info=<RunInfo: artifact_uri='s3://neuefische-mlflow/mlflow-artifacts/56/9164292ffde247c58f598b1502e074dc/artifacts', end_time=1661862367401, experiment_id='56', lifecycle_stage='active', run_id='9164292ffde247c58f598b1502e074dc', run_uuid='9164292ffde247c58f598b1502e074dc', start_time=1661862254254, status='FINISHED', user_id='tamarapallien'>>"
      ]
     },
     "execution_count": 50,
     "metadata": {},
     "output_type": "execute_result"
    }
   ],
   "source": [
    "#logging metrics\n",
    "mlflow.log_metric(\"train-\" + \"accuracy\", acc_train)\n",
    "mlflow.log_metric(\"test-\" + \"accuracy\", acc_test)\n",
    "\n",
    "# mlflow.sklearn.log_model(reg, \"model\")\n",
    "mlflow.end_run()\n",
    "\n",
    "mlflow.get_run(run_id=run.info.run_id)"
   ]
  }
 ],
 "metadata": {
  "kernelspec": {
   "display_name": "Python 3.9.8 ('.venv': venv)",
   "language": "python",
   "name": "python3"
  },
  "language_info": {
   "codemirror_mode": {
    "name": "ipython",
    "version": 3
   },
   "file_extension": ".py",
   "mimetype": "text/x-python",
   "name": "python",
   "nbconvert_exporter": "python",
   "pygments_lexer": "ipython3",
   "version": "3.9.8"
  },
  "orig_nbformat": 4,
  "vscode": {
   "interpreter": {
    "hash": "68df357d1236ea760662511d700563405db38e78ff847247caa8274b511a18ea"
   }
  }
 },
 "nbformat": 4,
 "nbformat_minor": 2
}
