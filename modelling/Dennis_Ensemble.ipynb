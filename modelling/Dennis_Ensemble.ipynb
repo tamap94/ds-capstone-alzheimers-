{
 "cells": [
  {
   "cell_type": "code",
   "execution_count": 1,
   "metadata": {},
   "outputs": [],
   "source": [
    "import numpy as np\n",
    "import pandas as pd\n",
    "import seaborn as sns\n",
    "import matplotlib.pyplot as plt\n",
    "import os\n",
    "import sys\n",
    "sys.path.append('../')\n",
    "\n",
    "from sklearn.model_selection import train_test_split\n",
    "from sklearn.metrics import accuracy_score, confusion_matrix, recall_score, precision_score, precision_recall_curve\n",
    "\n",
    "import tensorflow as tf\n",
    "import keras \n",
    "\n",
    "from keras.models import Sequential\n",
    "from keras.layers import Dense, Activation, Dropout, InputLayer, Flatten, Conv2D, MaxPooling2D\n",
    "\n",
    "np.random.seed(42)\n",
    "tf.random.set_seed(42)\n",
    "\n",
    "from preprocessing.getdata import *"
   ]
  },
  {
   "cell_type": "code",
   "execution_count": 2,
   "metadata": {},
   "outputs": [],
   "source": [
    "df_a = get_csvdata_ADNI(False)\n",
    "df_o= get_csvdata(drop_young=False, drop_contradictions=False)\n",
    "\n",
    "df_a_train, df_a_test, y_a_train, y_a_test = train_test_split(df_a['ID'], df_a['label'], stratify=df_a['label'], random_state=42)\n",
    "\n",
    "df_o_train, df_o_test, y_o_train, y_o_test = train_test_split(df_o['ID'], df_o['label'], stratify=df_o['label'], random_state=42)\n",
    "\n",
    "y_test = np.concatenate((y_o_test, y_a_test))"
   ]
  },
  {
   "cell_type": "code",
   "execution_count": 3,
   "metadata": {},
   "outputs": [],
   "source": [
    "N = 0\n",
    "d = 2\n",
    "mdict = {0: 90, 1: 110, 2: 90}\n",
    "\n",
    "def get_test(dim, N, d):\n",
    "    m = mdict[dim]\n",
    "    X_test_o = get_slices(df_o_test, dim=dim, m=m, N=N, d=d)\n",
    "    X_test_a = get_slices_ADNI_new(df_a_test, dim=dim, m=m, N=N, d=d)\n",
    "\n",
    "    X_test = np.concatenate((X_test_o, X_test_a), axis=0)\n",
    "\n",
    "    X_test = np.repeat(X_test[..., np.newaxis], 3, -1)\n",
    "    return X_test\n",
    "\n",
    "X_test0 = get_test(0, N, d)\n",
    "X_test1 = get_test(1, N, d)\n",
    "X_test2 = get_test(2, N, d)"
   ]
  },
  {
   "cell_type": "code",
   "execution_count": 4,
   "metadata": {},
   "outputs": [],
   "source": [
    "model0 = tf.keras.models.load_model('../models/axis00')\n",
    "model1 = tf.keras.models.load_model('../models/axis01')\n",
    "model2 = tf.keras.models.load_model('../models/axis02')"
   ]
  },
  {
   "cell_type": "code",
   "execution_count": 5,
   "metadata": {},
   "outputs": [
    {
     "name": "stdout",
     "output_type": "stream",
     "text": [
      "10/10 [==============================] - 14s 1s/step\n",
      "10/10 [==============================] - 12s 1s/step\n",
      "10/10 [==============================] - 14s 1s/step\n"
     ]
    }
   ],
   "source": [
    "y_prob0 = model0.predict(X_test0)\n",
    "y_prob1 = model1.predict(X_test1)\n",
    "y_prob2 = model2.predict(X_test2)"
   ]
  },
  {
   "cell_type": "code",
   "execution_count": 6,
   "metadata": {},
   "outputs": [],
   "source": [
    "y_prob0 = y_prob0.reshape(len(df_o_test)+len(df_a_test),1+2*N)\n",
    "y_prob1 = y_prob1.reshape(len(df_o_test)+len(df_a_test),1+2*N)\n",
    "y_prob2 = y_prob2.reshape(len(df_o_test)+len(df_a_test),1+2*N)"
   ]
  },
  {
   "cell_type": "code",
   "execution_count": 6,
   "metadata": {},
   "outputs": [],
   "source": [
    "y_prob0 = np.mean(y_prob0, axis=1)\n",
    "y_prob1 = np.mean(y_prob1, axis=1)\n",
    "y_prob2 = np.mean(y_prob2, axis=1)"
   ]
  },
  {
   "cell_type": "code",
   "execution_count": 8,
   "metadata": {},
   "outputs": [],
   "source": [
    "y_test = y_test.repeat(1+2*N)"
   ]
  },
  {
   "cell_type": "code",
   "execution_count": 9,
   "metadata": {},
   "outputs": [
    {
     "data": {
      "text/plain": [
       "(951,)"
      ]
     },
     "execution_count": 9,
     "metadata": {},
     "output_type": "execute_result"
    }
   ],
   "source": [
    "y_test.shape"
   ]
  },
  {
   "cell_type": "code",
   "execution_count": 7,
   "metadata": {},
   "outputs": [
    {
     "name": "stdout",
     "output_type": "stream",
     "text": [
      "accuracy of axis 0:  0.7634069400630915\n",
      "accuracy of axis 1:  0.7728706624605678\n",
      "accuracy of axis 2:  0.7665615141955836\n"
     ]
    }
   ],
   "source": [
    "print('accuracy of axis 0: ', accuracy_score(y_test, y_prob0.round()))\n",
    "print('accuracy of axis 1: ', accuracy_score(y_test, y_prob1.round()))\n",
    "print('accuracy of axis 2: ', accuracy_score(y_test, y_prob2.round()))"
   ]
  },
  {
   "cell_type": "code",
   "execution_count": 8,
   "metadata": {},
   "outputs": [],
   "source": [
    "y_prob = np.stack((y_prob0, y_prob1, y_prob2)).T"
   ]
  },
  {
   "cell_type": "code",
   "execution_count": 14,
   "metadata": {},
   "outputs": [],
   "source": [
    "#y_pred = np.mean(y_prob, axis=1).round()\n",
    "y_pred = np.mean(y_prob.round(), axis=1).round()"
   ]
  },
  {
   "cell_type": "code",
   "execution_count": 15,
   "metadata": {},
   "outputs": [
    {
     "name": "stdout",
     "output_type": "stream",
     "text": [
      "accuracy:  0.773\n",
      "recall:  0.94\n",
      "precision:  0.73\n"
     ]
    },
    {
     "data": {
      "image/png": "[encoded data removed]",
      "text/plain": [
       "<Figure size 432x288 with 1 Axes>"
      ]
     },
     "metadata": {
      "needs_background": "light"
     },
     "output_type": "display_data"
    }
   ],
   "source": [
    "mat = confusion_matrix(y_test, y_pred.round())\n",
    "sns.heatmap(mat.T, square=True, annot=True, fmt='d', cbar=False)\n",
    "plt.xlabel('true label')\n",
    "plt.ylabel('predicted label')\n",
    "print('accuracy: ' , accuracy_score(y_test, y_pred.round()).round(3))\n",
    "print('recall: ' , recall_score(y_test, y_pred.round()).round(2))\n",
    "print('precision: ' , precision_score(y_test, y_pred.round()).round(2))"
   ]
  },
  {
   "cell_type": "code",
   "execution_count": 18,
   "metadata": {},
   "outputs": [],
   "source": [
    "mask = (y_test == 1) & (y_pred == 0)"
   ]
  },
  {
   "cell_type": "code",
   "execution_count": 44,
   "metadata": {},
   "outputs": [],
   "source": [
    "mask = (y_test == 0) & (y_pred == 1)"
   ]
  },
  {
   "cell_type": "code",
   "execution_count": 46,
   "metadata": {},
   "outputs": [],
   "source": [
    "mask = (y_test == 0) & (y_pred == 0)"
   ]
  },
  {
   "cell_type": "code",
   "execution_count": 36,
   "metadata": {},
   "outputs": [],
   "source": [
    "mask = (y_test == 0)"
   ]
  },
  {
   "cell_type": "code",
   "execution_count": 36,
   "metadata": {},
   "outputs": [],
   "source": [
    "mask = ((y_test == 0) & (y_pred == 1) |  (y_test == 1) & (y_pred == 0))"
   ]
  },
  {
   "cell_type": "code",
   "execution_count": 40,
   "metadata": {},
   "outputs": [],
   "source": [
    "dff = pd.concat([pd.merge(df_o_test, df_o), pd.merge(df_a_test, df_a)])"
   ]
  },
  {
   "cell_type": "code",
   "execution_count": 50,
   "metadata": {},
   "outputs": [
    {
     "data": {
      "text/plain": [
       "45.5"
      ]
     },
     "execution_count": 50,
     "metadata": {},
     "output_type": "execute_result"
    }
   ],
   "source": [
    "dff[mask]['Age']#.groupby('dataset').count()"
   ]
  },
  {
   "cell_type": "code",
   "execution_count": 32,
   "metadata": {},
   "outputs": [],
   "source": [
    "N = 0\n",
    "d = 5\n",
    "mdict = {0: 95, 1: 110, 2: 90}\n",
    "\n",
    "def get_test(dim, N, d, m):\n",
    "    X_test_o = get_slices(df_o_test, dim=dim, m=m, N=N, d=d)\n",
    "    X_test_a = get_slices_ADNI_new(df_a_test, dim=dim, m=m, N=N, d=d)\n",
    "\n",
    "    X_test = np.concatenate((X_test_o, X_test_a), axis=0)\n",
    "\n",
    "    X_test = np.repeat(X_test[..., np.newaxis], 3, -1)\n",
    "    return X_test\n",
    "\n"
   ]
  },
  {
   "cell_type": "code",
   "execution_count": 33,
   "metadata": {},
   "outputs": [
    {
     "name": "stdout",
     "output_type": "stream",
     "text": [
      "10/10 [==============================] - 14s 1s/step\n",
      "10/10 [==============================] - 13s 1s/step\n",
      "10/10 [==============================] - 14s 1s/step\n",
      "[0.7192429022082019] [0.7318611987381703] [0.7570977917981072]\n",
      "10/10 [==============================] - 14s 1s/step\n",
      "10/10 [==============================] - 12s 1s/step\n",
      "10/10 [==============================] - 14s 1s/step\n",
      "[0.7192429022082019, 0.722397476340694] [0.7318611987381703, 0.6845425867507886] [0.7570977917981072, 0.7697160883280757]\n",
      "10/10 [==============================] - 14s 1s/step\n",
      "10/10 [==============================] - 12s 1s/step\n",
      "10/10 [==============================] - 14s 1s/step\n",
      "[0.7192429022082019, 0.722397476340694, 0.7539432176656151] [0.7318611987381703, 0.6845425867507886, 0.7066246056782335] [0.7570977917981072, 0.7697160883280757, 0.7287066246056783]\n",
      "10/10 [==============================] - 14s 1s/step\n",
      "10/10 [==============================] - 12s 1s/step\n",
      "10/10 [==============================] - 14s 1s/step\n",
      "[0.7192429022082019, 0.722397476340694, 0.7539432176656151, 0.7255520504731862] [0.7318611987381703, 0.6845425867507886, 0.7066246056782335, 0.6813880126182965] [0.7570977917981072, 0.7697160883280757, 0.7287066246056783, 0.7570977917981072]\n",
      "10/10 [==============================] - 14s 1s/step\n",
      "10/10 [==============================] - 12s 1s/step\n",
      "10/10 [==============================] - 14s 1s/step\n",
      "[0.7192429022082019, 0.722397476340694, 0.7539432176656151, 0.7255520504731862, 0.7413249211356467] [0.7318611987381703, 0.6845425867507886, 0.7066246056782335, 0.6813880126182965, 0.7476340694006309] [0.7570977917981072, 0.7697160883280757, 0.7287066246056783, 0.7570977917981072, 0.7634069400630915]\n",
      "10/10 [==============================] - 14s 1s/step\n",
      "10/10 [==============================] - 12s 1s/step\n",
      "10/10 [==============================] - 14s 1s/step\n",
      "[0.7192429022082019, 0.722397476340694, 0.7539432176656151, 0.7255520504731862, 0.7413249211356467, 0.7570977917981072] [0.7318611987381703, 0.6845425867507886, 0.7066246056782335, 0.6813880126182965, 0.7476340694006309, 0.7255520504731862] [0.7570977917981072, 0.7697160883280757, 0.7287066246056783, 0.7570977917981072, 0.7634069400630915, 0.750788643533123]\n",
      "10/10 [==============================] - 14s 1s/step\n",
      "10/10 [==============================] - 12s 1s/step\n",
      "10/10 [==============================] - 14s 1s/step\n",
      "[0.7192429022082019, 0.722397476340694, 0.7539432176656151, 0.7255520504731862, 0.7413249211356467, 0.7570977917981072, 0.7476340694006309] [0.7318611987381703, 0.6845425867507886, 0.7066246056782335, 0.6813880126182965, 0.7476340694006309, 0.7255520504731862, 0.6971608832807571] [0.7570977917981072, 0.7697160883280757, 0.7287066246056783, 0.7570977917981072, 0.7634069400630915, 0.750788643533123, 0.7697160883280757]\n",
      "10/10 [==============================] - 14s 1s/step\n",
      "10/10 [==============================] - 12s 1s/step\n",
      "10/10 [==============================] - 14s 1s/step\n",
      "[0.7192429022082019, 0.722397476340694, 0.7539432176656151, 0.7255520504731862, 0.7413249211356467, 0.7570977917981072, 0.7476340694006309, 0.7287066246056783] [0.7318611987381703, 0.6845425867507886, 0.7066246056782335, 0.6813880126182965, 0.7476340694006309, 0.7255520504731862, 0.6971608832807571, 0.7381703470031545] [0.7570977917981072, 0.7697160883280757, 0.7287066246056783, 0.7570977917981072, 0.7634069400630915, 0.750788643533123, 0.7697160883280757, 0.7634069400630915]\n",
      "10/10 [==============================] - 15s 1s/step\n",
      "10/10 [==============================] - 12s 1s/step\n",
      "10/10 [==============================] - 14s 1s/step\n",
      "[0.7192429022082019, 0.722397476340694, 0.7539432176656151, 0.7255520504731862, 0.7413249211356467, 0.7570977917981072, 0.7476340694006309, 0.7287066246056783, 0.6750788643533123] [0.7318611987381703, 0.6845425867507886, 0.7066246056782335, 0.6813880126182965, 0.7476340694006309, 0.7255520504731862, 0.6971608832807571, 0.7381703470031545, 0.7854889589905363] [0.7570977917981072, 0.7697160883280757, 0.7287066246056783, 0.7570977917981072, 0.7634069400630915, 0.750788643533123, 0.7697160883280757, 0.7634069400630915, 0.7318611987381703]\n",
      "10/10 [==============================] - 15s 1s/step\n",
      "10/10 [==============================] - 12s 1s/step\n",
      "10/10 [==============================] - 14s 1s/step\n",
      "[0.7192429022082019, 0.722397476340694, 0.7539432176656151, 0.7255520504731862, 0.7413249211356467, 0.7570977917981072, 0.7476340694006309, 0.7287066246056783, 0.6750788643533123, 0.637223974763407] [0.7318611987381703, 0.6845425867507886, 0.7066246056782335, 0.6813880126182965, 0.7476340694006309, 0.7255520504731862, 0.6971608832807571, 0.7381703470031545, 0.7854889589905363, 0.7444794952681388] [0.7570977917981072, 0.7697160883280757, 0.7287066246056783, 0.7570977917981072, 0.7634069400630915, 0.750788643533123, 0.7697160883280757, 0.7634069400630915, 0.7318611987381703, 0.7160883280757098]\n"
     ]
    }
   ],
   "source": [
    "results0 = []\n",
    "results1 = []\n",
    "results2 = []\n",
    "for m in range(70,120,5):\n",
    "    X_test0 = get_test(0, N, d, m)\n",
    "    X_test1 = get_test(1, N, d, m)\n",
    "    X_test2 = get_test(2, N, d, m)\n",
    "    y_prob0 = model0.predict(X_test0)\n",
    "    y_prob1 = model1.predict(X_test1)\n",
    "    y_prob2 = model2.predict(X_test2)\n",
    "    results0.append(accuracy_score(y_test, y_prob0.round()))\n",
    "    results1.append(accuracy_score(y_test, y_prob1.round()))\n",
    "    results2.append(accuracy_score(y_test, y_prob2.round()))\n",
    "    print(results0, results1, results2)"
   ]
  },
  {
   "cell_type": "code",
   "execution_count": 36,
   "metadata": {},
   "outputs": [
    {
     "data": {
      "text/plain": [
       "[<matplotlib.lines.Line2D at 0x23caaa76350>]"
      ]
     },
     "execution_count": 36,
     "metadata": {},
     "output_type": "execute_result"
    },
    {
     "data": {
      "image/png": "[encoded data removed]",
      "text/plain": [
       "<Figure size 432x288 with 1 Axes>"
      ]
     },
     "metadata": {
      "needs_background": "light"
     },
     "output_type": "display_data"
    }
   ],
   "source": [
    "plt.plot(range(70,120,5), results2)"
   ]
  },
  {
   "cell_type": "code",
   "execution_count": 11,
   "metadata": {},
   "outputs": [
    {
     "data": {
      "text/plain": [
       "array([0.22, 0.58, 0.12, 0.15, 0.22, 0.11, 0.59, 0.15, 0.14, 0.2 , 0.26,\n",
       "       0.56, 0.41, 0.63, 0.09, 0.83, 0.12, 0.31, 0.12, 0.41, 0.12, 0.6 ,\n",
       "       0.16, 0.28, 0.14, 0.08, 0.24, 0.18, 0.12, 0.12, 0.16, 0.13, 0.51,\n",
       "       0.17, 0.13, 0.12, 0.57, 0.49, 0.16, 0.09, 0.22, 0.41, 0.14, 0.16,\n",
       "       0.43, 0.46, 0.58, 0.17, 0.08, 0.12, 0.44, 0.75, 0.17, 0.48, 0.51,\n",
       "       0.24, 0.73, 0.17, 0.19, 0.12, 0.13, 0.85, 0.34, 0.31, 0.13, 0.08,\n",
       "       0.14, 0.72, 0.73, 0.35, 0.25, 0.32, 0.11, 0.1 , 0.13, 0.15, 0.51,\n",
       "       0.33, 0.1 , 0.82, 0.65, 0.51, 0.57, 0.08, 0.12, 0.36, 0.19, 0.5 ,\n",
       "       0.18, 0.28, 0.12, 0.12, 0.47, 0.38, 0.2 , 0.25, 0.13, 0.09, 0.53,\n",
       "       0.11, 0.18, 0.64, 0.59, 0.45, 0.47, 0.45, 0.09, 0.12, 0.09, 0.68,\n",
       "       0.65, 0.8 , 0.55, 0.73, 0.72, 0.78, 0.72, 0.81, 0.57, 0.65, 0.59,\n",
       "       0.63, 0.61, 0.84, 0.8 , 0.78, 0.86, 0.86, 0.69, 0.72, 0.61, 0.62,\n",
       "       0.77, 0.55, 0.81, 0.73, 0.71, 0.85, 0.82, 0.53, 0.52, 0.62, 0.78,\n",
       "       0.81, 0.71, 0.77, 0.79, 0.8 , 0.74, 0.86, 0.79, 0.64, 0.72, 0.8 ,\n",
       "       0.72, 0.53, 0.65, 0.68, 0.73, 0.69, 0.63, 0.62, 0.74, 0.88, 0.56,\n",
       "       0.7 , 0.64, 0.62, 0.79, 0.56, 0.72, 0.57, 0.73, 0.8 , 0.68, 0.6 ,\n",
       "       0.58, 0.56, 0.81, 0.76, 0.67, 0.82, 0.83, 0.63, 0.65, 0.78, 0.65,\n",
       "       0.8 , 0.95, 0.5 , 0.83, 0.76, 0.86, 0.78, 0.68, 0.65, 0.69, 0.8 ,\n",
       "       0.63, 0.8 , 0.84, 0.77, 0.81, 0.63, 0.72, 0.78, 0.72, 0.75, 0.8 ,\n",
       "       0.77, 0.73, 0.77, 0.52, 0.81, 0.79, 0.78, 0.77, 0.57, 0.43, 0.77,\n",
       "       0.85, 0.53, 0.9 , 0.85, 0.73, 0.73, 0.8 , 0.75, 0.8 , 0.86, 0.61,\n",
       "       0.8 , 0.78, 0.61, 0.75, 0.77, 0.69, 0.71, 0.65, 0.72, 0.79, 0.62,\n",
       "       0.89, 0.68, 0.57, 0.8 , 0.77, 0.91, 0.76, 0.33, 0.78, 0.84, 0.61,\n",
       "       0.62, 0.83, 0.68, 0.73, 0.74, 0.82, 0.69, 0.67, 0.46, 0.74, 0.78,\n",
       "       0.63, 0.79, 0.85, 0.63, 0.62, 0.58, 0.56, 0.59, 0.58, 0.84, 0.68,\n",
       "       0.72, 0.74, 0.83, 0.72, 0.8 , 0.85, 0.61, 0.79, 0.59, 0.77, 0.57,\n",
       "       0.94, 0.73, 0.7 , 0.76, 0.67, 0.92, 0.72, 0.6 , 0.52, 0.78, 0.56,\n",
       "       0.66, 0.69, 0.66, 0.86, 0.66, 0.72, 0.63, 0.81, 0.83, 0.51, 0.82,\n",
       "       0.62, 0.67, 0.77, 0.62, 0.68, 0.72, 0.72, 0.76, 0.56],\n",
       "      dtype=float32)"
      ]
     },
     "execution_count": 11,
     "metadata": {},
     "output_type": "execute_result"
    }
   ],
   "source": [
    "y_prob1.round(2)"
   ]
  },
  {
   "cell_type": "code",
   "execution_count": null,
   "metadata": {},
   "outputs": [],
   "source": [
    "dim = 0\n",
    "85: 0.751\n",
    "90: 0.767\n",
    "95: 0.757\n",
    "100: 0.754\n",
    "105: 0.751"
   ]
  },
  {
   "cell_type": "code",
   "execution_count": 17,
   "metadata": {},
   "outputs": [
    {
     "data": {
      "text/plain": [
       "(317,)"
      ]
     },
     "execution_count": 17,
     "metadata": {},
     "output_type": "execute_result"
    }
   ],
   "source": [
    "y_prob0.shape\n"
   ]
  },
  {
   "cell_type": "code",
   "execution_count": 29,
   "metadata": {},
   "outputs": [],
   "source": [
    "df = pd.concat([df_o, df_a])"
   ]
  },
  {
   "cell_type": "code",
   "execution_count": 33,
   "metadata": {},
   "outputs": [
    {
     "data": {
      "text/html": [
       "<div>\n",
       "<style scoped>\n",
       "    .dataframe tbody tr th:only-of-type {\n",
       "        vertical-align: middle;\n",
       "    }\n",
       "\n",
       "    .dataframe tbody tr th {\n",
       "        vertical-align: top;\n",
       "    }\n",
       "\n",
       "    .dataframe thead th {\n",
       "        text-align: right;\n",
       "    }\n",
       "</style>\n",
       "<table border=\"1\" class=\"dataframe\">\n",
       "  <thead>\n",
       "    <tr style=\"text-align: right;\">\n",
       "      <th></th>\n",
       "      <th>ID</th>\n",
       "      <th>M/F</th>\n",
       "      <th>Age</th>\n",
       "      <th>Educ</th>\n",
       "      <th>SES</th>\n",
       "      <th>MMSE</th>\n",
       "      <th>CDR</th>\n",
       "      <th>eTIV</th>\n",
       "      <th>nWBV</th>\n",
       "      <th>ASF</th>\n",
       "      <th>...</th>\n",
       "      <th>dataset</th>\n",
       "      <th>Image Data ID</th>\n",
       "      <th>Sex</th>\n",
       "      <th>Visit</th>\n",
       "      <th>Modality</th>\n",
       "      <th>Description</th>\n",
       "      <th>Type</th>\n",
       "      <th>Acq Date</th>\n",
       "      <th>Format</th>\n",
       "      <th>Downloaded</th>\n",
       "    </tr>\n",
       "    <tr>\n",
       "      <th>Group</th>\n",
       "      <th></th>\n",
       "      <th></th>\n",
       "      <th></th>\n",
       "      <th></th>\n",
       "      <th></th>\n",
       "      <th></th>\n",
       "      <th></th>\n",
       "      <th></th>\n",
       "      <th></th>\n",
       "      <th></th>\n",
       "      <th></th>\n",
       "      <th></th>\n",
       "      <th></th>\n",
       "      <th></th>\n",
       "      <th></th>\n",
       "      <th></th>\n",
       "      <th></th>\n",
       "      <th></th>\n",
       "      <th></th>\n",
       "      <th></th>\n",
       "      <th></th>\n",
       "    </tr>\n",
       "  </thead>\n",
       "  <tbody>\n",
       "    <tr>\n",
       "      <th>AD</th>\n",
       "      <td>198</td>\n",
       "      <td>0</td>\n",
       "      <td>198</td>\n",
       "      <td>0</td>\n",
       "      <td>0</td>\n",
       "      <td>0</td>\n",
       "      <td>0</td>\n",
       "      <td>0</td>\n",
       "      <td>0</td>\n",
       "      <td>0</td>\n",
       "      <td>...</td>\n",
       "      <td>198</td>\n",
       "      <td>198</td>\n",
       "      <td>198</td>\n",
       "      <td>198</td>\n",
       "      <td>198</td>\n",
       "      <td>198</td>\n",
       "      <td>198</td>\n",
       "      <td>198</td>\n",
       "      <td>198</td>\n",
       "      <td>198</td>\n",
       "    </tr>\n",
       "    <tr>\n",
       "      <th>CN</th>\n",
       "      <td>228</td>\n",
       "      <td>0</td>\n",
       "      <td>228</td>\n",
       "      <td>0</td>\n",
       "      <td>0</td>\n",
       "      <td>0</td>\n",
       "      <td>0</td>\n",
       "      <td>0</td>\n",
       "      <td>0</td>\n",
       "      <td>0</td>\n",
       "      <td>...</td>\n",
       "      <td>228</td>\n",
       "      <td>228</td>\n",
       "      <td>228</td>\n",
       "      <td>228</td>\n",
       "      <td>228</td>\n",
       "      <td>228</td>\n",
       "      <td>228</td>\n",
       "      <td>228</td>\n",
       "      <td>228</td>\n",
       "      <td>228</td>\n",
       "    </tr>\n",
       "    <tr>\n",
       "      <th>MCI</th>\n",
       "      <td>405</td>\n",
       "      <td>0</td>\n",
       "      <td>405</td>\n",
       "      <td>0</td>\n",
       "      <td>0</td>\n",
       "      <td>0</td>\n",
       "      <td>0</td>\n",
       "      <td>0</td>\n",
       "      <td>0</td>\n",
       "      <td>0</td>\n",
       "      <td>...</td>\n",
       "      <td>405</td>\n",
       "      <td>405</td>\n",
       "      <td>405</td>\n",
       "      <td>405</td>\n",
       "      <td>405</td>\n",
       "      <td>405</td>\n",
       "      <td>405</td>\n",
       "      <td>405</td>\n",
       "      <td>405</td>\n",
       "      <td>405</td>\n",
       "    </tr>\n",
       "  </tbody>\n",
       "</table>\n",
       "<p>3 rows × 22 columns</p>\n",
       "</div>"
      ],
      "text/plain": [
       "        ID  M/F  Age  Educ  SES  MMSE  CDR  eTIV  nWBV  ASF  ...  dataset  \\\n",
       "Group                                                        ...            \n",
       "AD     198    0  198     0    0     0    0     0     0    0  ...      198   \n",
       "CN     228    0  228     0    0     0    0     0     0    0  ...      228   \n",
       "MCI    405    0  405     0    0     0    0     0     0    0  ...      405   \n",
       "\n",
       "       Image Data ID  Sex  Visit  Modality  Description  Type  Acq Date  \\\n",
       "Group                                                                     \n",
       "AD               198  198    198       198          198   198       198   \n",
       "CN               228  228    228       228          228   228       228   \n",
       "MCI              405  405    405       405          405   405       405   \n",
       "\n",
       "       Format  Downloaded  \n",
       "Group                      \n",
       "AD        198         198  \n",
       "CN        228         228  \n",
       "MCI       405         405  \n",
       "\n",
       "[3 rows x 22 columns]"
      ]
     },
     "execution_count": 33,
     "metadata": {},
     "output_type": "execute_result"
    }
   ],
   "source": [
    "df.groupby('Group').count()"
   ]
  },
  {
   "cell_type": "code",
   "execution_count": 35,
   "metadata": {},
   "outputs": [
    {
     "data": {
      "text/html": [
       "<div>\n",
       "<style scoped>\n",
       "    .dataframe tbody tr th:only-of-type {\n",
       "        vertical-align: middle;\n",
       "    }\n",
       "\n",
       "    .dataframe tbody tr th {\n",
       "        vertical-align: top;\n",
       "    }\n",
       "\n",
       "    .dataframe thead th {\n",
       "        text-align: right;\n",
       "    }\n",
       "</style>\n",
       "<table border=\"1\" class=\"dataframe\">\n",
       "  <thead>\n",
       "    <tr style=\"text-align: right;\">\n",
       "      <th></th>\n",
       "      <th>ID</th>\n",
       "      <th>M/F</th>\n",
       "      <th>Age</th>\n",
       "      <th>Educ</th>\n",
       "      <th>SES</th>\n",
       "      <th>MMSE</th>\n",
       "      <th>CDR</th>\n",
       "      <th>eTIV</th>\n",
       "      <th>nWBV</th>\n",
       "      <th>ASF</th>\n",
       "      <th>...</th>\n",
       "      <th>Image Data ID</th>\n",
       "      <th>Group</th>\n",
       "      <th>Sex</th>\n",
       "      <th>Visit</th>\n",
       "      <th>Modality</th>\n",
       "      <th>Description</th>\n",
       "      <th>Type</th>\n",
       "      <th>Acq Date</th>\n",
       "      <th>Format</th>\n",
       "      <th>Downloaded</th>\n",
       "    </tr>\n",
       "    <tr>\n",
       "      <th>CDR_</th>\n",
       "      <th></th>\n",
       "      <th></th>\n",
       "      <th></th>\n",
       "      <th></th>\n",
       "      <th></th>\n",
       "      <th></th>\n",
       "      <th></th>\n",
       "      <th></th>\n",
       "      <th></th>\n",
       "      <th></th>\n",
       "      <th></th>\n",
       "      <th></th>\n",
       "      <th></th>\n",
       "      <th></th>\n",
       "      <th></th>\n",
       "      <th></th>\n",
       "      <th></th>\n",
       "      <th></th>\n",
       "      <th></th>\n",
       "      <th></th>\n",
       "      <th></th>\n",
       "    </tr>\n",
       "  </thead>\n",
       "  <tbody>\n",
       "    <tr>\n",
       "      <th>0.0</th>\n",
       "      <td>336</td>\n",
       "      <td>336</td>\n",
       "      <td>336</td>\n",
       "      <td>135</td>\n",
       "      <td>133</td>\n",
       "      <td>135</td>\n",
       "      <td>336</td>\n",
       "      <td>336</td>\n",
       "      <td>336</td>\n",
       "      <td>336</td>\n",
       "      <td>...</td>\n",
       "      <td>0</td>\n",
       "      <td>0</td>\n",
       "      <td>0</td>\n",
       "      <td>0</td>\n",
       "      <td>0</td>\n",
       "      <td>0</td>\n",
       "      <td>0</td>\n",
       "      <td>0</td>\n",
       "      <td>0</td>\n",
       "      <td>0</td>\n",
       "    </tr>\n",
       "    <tr>\n",
       "      <th>0.5</th>\n",
       "      <td>70</td>\n",
       "      <td>70</td>\n",
       "      <td>70</td>\n",
       "      <td>70</td>\n",
       "      <td>57</td>\n",
       "      <td>70</td>\n",
       "      <td>70</td>\n",
       "      <td>70</td>\n",
       "      <td>70</td>\n",
       "      <td>70</td>\n",
       "      <td>...</td>\n",
       "      <td>0</td>\n",
       "      <td>0</td>\n",
       "      <td>0</td>\n",
       "      <td>0</td>\n",
       "      <td>0</td>\n",
       "      <td>0</td>\n",
       "      <td>0</td>\n",
       "      <td>0</td>\n",
       "      <td>0</td>\n",
       "      <td>0</td>\n",
       "    </tr>\n",
       "    <tr>\n",
       "      <th>1.0</th>\n",
       "      <td>28</td>\n",
       "      <td>28</td>\n",
       "      <td>28</td>\n",
       "      <td>28</td>\n",
       "      <td>24</td>\n",
       "      <td>28</td>\n",
       "      <td>28</td>\n",
       "      <td>28</td>\n",
       "      <td>28</td>\n",
       "      <td>28</td>\n",
       "      <td>...</td>\n",
       "      <td>0</td>\n",
       "      <td>0</td>\n",
       "      <td>0</td>\n",
       "      <td>0</td>\n",
       "      <td>0</td>\n",
       "      <td>0</td>\n",
       "      <td>0</td>\n",
       "      <td>0</td>\n",
       "      <td>0</td>\n",
       "      <td>0</td>\n",
       "    </tr>\n",
       "    <tr>\n",
       "      <th>2.0</th>\n",
       "      <td>2</td>\n",
       "      <td>2</td>\n",
       "      <td>2</td>\n",
       "      <td>2</td>\n",
       "      <td>2</td>\n",
       "      <td>2</td>\n",
       "      <td>2</td>\n",
       "      <td>2</td>\n",
       "      <td>2</td>\n",
       "      <td>2</td>\n",
       "      <td>...</td>\n",
       "      <td>0</td>\n",
       "      <td>0</td>\n",
       "      <td>0</td>\n",
       "      <td>0</td>\n",
       "      <td>0</td>\n",
       "      <td>0</td>\n",
       "      <td>0</td>\n",
       "      <td>0</td>\n",
       "      <td>0</td>\n",
       "      <td>0</td>\n",
       "    </tr>\n",
       "  </tbody>\n",
       "</table>\n",
       "<p>4 rows × 22 columns</p>\n",
       "</div>"
      ],
      "text/plain": [
       "       ID  M/F  Age  Educ  SES  MMSE  CDR  eTIV  nWBV  ASF  ...  \\\n",
       "CDR_                                                        ...   \n",
       "0.0   336  336  336   135  133   135  336   336   336  336  ...   \n",
       "0.5    70   70   70    70   57    70   70    70    70   70  ...   \n",
       "1.0    28   28   28    28   24    28   28    28    28   28  ...   \n",
       "2.0     2    2    2     2    2     2    2     2     2    2  ...   \n",
       "\n",
       "      Image Data ID  Group  Sex  Visit  Modality  Description  Type  Acq Date  \\\n",
       "CDR_                                                                            \n",
       "0.0               0      0    0      0         0            0     0         0   \n",
       "0.5               0      0    0      0         0            0     0         0   \n",
       "1.0               0      0    0      0         0            0     0         0   \n",
       "2.0               0      0    0      0         0            0     0         0   \n",
       "\n",
       "      Format  Downloaded  \n",
       "CDR_                      \n",
       "0.0        0           0  \n",
       "0.5        0           0  \n",
       "1.0        0           0  \n",
       "2.0        0           0  \n",
       "\n",
       "[4 rows x 22 columns]"
      ]
     },
     "execution_count": 35,
     "metadata": {},
     "output_type": "execute_result"
    }
   ],
   "source": [
    "df.groupby('CDR_').count()"
   ]
  },
  {
   "cell_type": "code",
   "execution_count": null,
   "metadata": {},
   "outputs": [],
   "source": []
  }
 ],
 "metadata": {
  "kernelspec": {
   "display_name": "Python 3.10.6 64-bit (windows store)",
   "language": "python",
   "name": "python3"
  },
  "language_info": {
   "codemirror_mode": {
    "name": "ipython",
    "version": 3
   },
   "file_extension": ".py",
   "mimetype": "text/x-python",
   "name": "python",
   "nbconvert_exporter": "python",
   "pygments_lexer": "ipython3",
   "version": "3.10.6"
  },
  "orig_nbformat": 4,
  "vscode": {
   "interpreter": {
    "hash": "9b383195b675b67791e82ad62cbf7cbb4047b0afc7d769a8e8e1166673f5e5eb"
   }
  }
 },
 "nbformat": 4,
 "nbformat_minor": 2
}
