{
 "cells": [
  {
   "cell_type": "code",
   "execution_count": 1,
   "metadata": {},
   "outputs": [],
   "source": [
    "import numpy as np\n",
    "import pandas as pd\n",
    "import seaborn as sns\n",
    "import matplotlib.pyplot as plt\n",
    "import os\n",
    "import sys\n",
    "sys.path.append('../')\n",
    "\n",
    "from sklearn.model_selection import train_test_split\n",
    "from sklearn.metrics import accuracy_score, confusion_matrix, recall_score, precision_score, precision_recall_curve\n",
    "\n",
    "import tensorflow as tf\n",
    "from tensorflow.keras.utils import plot_model\n",
    "\n",
    "import keras \n",
    "from keras.models import Sequential\n",
    "from keras.layers import Dense, Activation, Dropout, InputLayer, Flatten, Conv2D, MaxPooling2D, BatchNormalization\n",
    "\n",
    "np.random.seed(42)\n",
    "tf.random.set_seed(42)\n",
    "\n",
    "from preprocessing.getdata import *"
   ]
  },
  {
   "cell_type": "code",
   "execution_count": null,
   "metadata": {},
   "outputs": [],
   "source": []
  },
  {
   "cell_type": "code",
   "execution_count": 2,
   "metadata": {},
   "outputs": [],
   "source": [
    "df = get_csvdata()\n",
    "dfTrain, dfTest, y_train, y_test = train_test_split(df, df['CDR'], stratify = df['CDR'], random_state=42)\n",
    "N=5\n",
    "X_train = get_slices(dfTrain['ID'], N=N, d=2, dim=2, m=90)\n",
    "y_train = y_train.repeat(1+2*N)\n",
    "X_test = get_slices(dfTest['ID'], dim=2, m=90)"
   ]
  },
  {
   "cell_type": "code",
   "execution_count": 3,
   "metadata": {},
   "outputs": [],
   "source": [
    "HEIGHT = X_train.shape[1]\n",
    "WIDTH = X_train.shape[2]"
   ]
  },
  {
   "cell_type": "code",
   "execution_count": 4,
   "metadata": {},
   "outputs": [
    {
     "name": "stdout",
     "output_type": "stream",
     "text": [
      "Metal device set to: Apple M1\n",
      "\n",
      "systemMemory: 8.00 GB\n",
      "maxCacheSize: 2.67 GB\n",
      "\n"
     ]
    },
    {
     "name": "stderr",
     "output_type": "stream",
     "text": [
      "2022-08-22 15:59:00.265577: I tensorflow/core/common_runtime/pluggable_device/pluggable_device_factory.cc:305] Could not identify NUMA node of platform GPU ID 0, defaulting to 0. Your kernel may not have been built with NUMA support.\n",
      "2022-08-22 15:59:00.267021: I tensorflow/core/common_runtime/pluggable_device/pluggable_device_factory.cc:271] Created TensorFlow device (/job:localhost/replica:0/task:0/device:GPU:0 with 0 MB memory) -> physical PluggableDevice (device: 0, name: METAL, pci bus id: <undefined>)\n"
     ]
    },
    {
     "name": "stdout",
     "output_type": "stream",
     "text": [
      "Model: \"sequential\"\n",
      "_________________________________________________________________\n",
      " Layer (type)                Output Shape              Param #   \n",
      "=================================================================\n",
      " conv2d (Conv2D)             (None, 176, 208, 8)       80        \n",
      "                                                                 \n",
      " conv2d_1 (Conv2D)           (None, 176, 208, 8)       584       \n",
      "                                                                 \n",
      " max_pooling2d (MaxPooling2D  (None, 88, 104, 8)       0         \n",
      " )                                                               \n",
      "                                                                 \n",
      " batch_normalization (BatchN  (None, 88, 104, 8)       32        \n",
      " ormalization)                                                   \n",
      "                                                                 \n",
      " conv2d_2 (Conv2D)           (None, 88, 104, 16)       1168      \n",
      "                                                                 \n",
      " conv2d_3 (Conv2D)           (None, 88, 104, 16)       2320      \n",
      "                                                                 \n",
      " max_pooling2d_1 (MaxPooling  (None, 44, 52, 16)       0         \n",
      " 2D)                                                             \n",
      "                                                                 \n",
      " batch_normalization_1 (Batc  (None, 44, 52, 16)       64        \n",
      " hNormalization)                                                 \n",
      "                                                                 \n",
      " flatten (Flatten)           (None, 36608)             0         \n",
      "                                                                 \n",
      " dense (Dense)               (None, 64)                2342976   \n",
      "                                                                 \n",
      " dropout (Dropout)           (None, 64)                0         \n",
      "                                                                 \n",
      " dense_1 (Dense)             (None, 1)                 65        \n",
      "                                                                 \n",
      "=================================================================\n",
      "Total params: 2,347,289\n",
      "Trainable params: 2,347,241\n",
      "Non-trainable params: 48\n",
      "_________________________________________________________________\n",
      "None\n"
     ]
    }
   ],
   "source": [
    "model = Sequential()\n",
    "\n",
    "# layers\n",
    "model.add(InputLayer(input_shape=[HEIGHT, WIDTH, 1], name='image'))\n",
    "model.add(Conv2D(8, 3, activation=\"relu\", padding=\"same\", kernel_regularizer=keras.regularizers.l2(l=0.1)))\n",
    "model.add(Conv2D(8, 3, activation=\"relu\", padding=\"same\", kernel_regularizer=keras.regularizers.l2(l=0.1)))\n",
    "model.add(MaxPooling2D(pool_size=[2, 2], strides=2))\n",
    "model.add(BatchNormalization())\n",
    "model.add(Conv2D(16, 3, activation=\"relu\", padding=\"same\", kernel_regularizer=keras.regularizers.l2(l=0.1)))\n",
    "model.add(Conv2D(16, 3, activation=\"relu\", padding=\"same\", kernel_regularizer=keras.regularizers.l2(l=0.1)))\n",
    "model.add(MaxPooling2D(pool_size=[2, 2], strides=2))\n",
    "model.add(BatchNormalization())\n",
    "#model.add(Dropout(0.2))\n",
    "model.add(Flatten())\n",
    "model.add(Dense(units=64, activation=\"relu\", kernel_regularizer=keras.regularizers.l2(l=0.5)))\n",
    "model.add(Dropout(0.2))\n",
    "model.add(Dense(units = 1, kernel_initializer = 'uniform', activation = 'sigmoid'))\n",
    "\n",
    "optimizer = tf.keras.optimizers.Adam(learning_rate=0.0001, name='Adam')\n",
    "model.compile(optimizer = optimizer, loss = 'binary_crossentropy', metrics = ['accuracy']) #[keras.metrics.Precision(), keras.metrics.Recall()])\n",
    "print(model.summary())"
   ]
  },
  {
   "cell_type": "code",
   "execution_count": 5,
   "metadata": {},
   "outputs": [
    {
     "name": "stdout",
     "output_type": "stream",
     "text": [
      "Epoch 1/100\n"
     ]
    },
    {
     "name": "stderr",
     "output_type": "stream",
     "text": [
      "2022-08-22 15:59:01.142498: W tensorflow/core/platform/profile_utils/cpu_utils.cc:128] Failed to get CPU frequency: 0 Hz\n",
      "2022-08-22 15:59:01.552686: I tensorflow/core/grappler/optimizers/custom_graph_optimizer_registry.cc:113] Plugin optimizer for device_type GPU is enabled.\n"
     ]
    },
    {
     "name": "stdout",
     "output_type": "stream",
     "text": [
      "94/94 [==============================] - ETA: 0s - loss: 28.8540 - accuracy: 0.5795"
     ]
    },
    {
     "name": "stderr",
     "output_type": "stream",
     "text": [
      "2022-08-22 15:59:07.463396: I tensorflow/core/grappler/optimizers/custom_graph_optimizer_registry.cc:113] Plugin optimizer for device_type GPU is enabled.\n"
     ]
    },
    {
     "name": "stdout",
     "output_type": "stream",
     "text": [
      "94/94 [==============================] - 7s 62ms/step - loss: 28.8540 - accuracy: 0.5795 - val_loss: 8.7791 - val_accuracy: 0.5000\n",
      "Epoch 2/100\n",
      "94/94 [==============================] - 6s 59ms/step - loss: 5.1310 - accuracy: 0.6811 - val_loss: 3.6547 - val_accuracy: 0.5000\n",
      "Epoch 3/100\n",
      "94/94 [==============================] - 6s 59ms/step - loss: 3.1953 - accuracy: 0.6979 - val_loss: 3.1022 - val_accuracy: 0.5000\n",
      "Epoch 4/100\n",
      "94/94 [==============================] - 5s 57ms/step - loss: 2.7957 - accuracy: 0.7166 - val_loss: 2.8020 - val_accuracy: 0.5000\n",
      "Epoch 5/100\n",
      "94/94 [==============================] - 6s 61ms/step - loss: 2.4932 - accuracy: 0.7507 - val_loss: 2.5755 - val_accuracy: 0.5000\n",
      "Epoch 6/100\n",
      "94/94 [==============================] - 5s 58ms/step - loss: 2.2512 - accuracy: 0.7373 - val_loss: 2.2831 - val_accuracy: 0.5435\n",
      "Epoch 7/100\n",
      "94/94 [==============================] - 6s 61ms/step - loss: 2.0385 - accuracy: 0.7527 - val_loss: 2.2001 - val_accuracy: 0.5217\n",
      "Epoch 8/100\n",
      "94/94 [==============================] - 7s 73ms/step - loss: 1.8815 - accuracy: 0.7547 - val_loss: 1.9924 - val_accuracy: 0.5000\n",
      "Epoch 9/100\n",
      "94/94 [==============================] - 6s 63ms/step - loss: 1.7155 - accuracy: 0.7734 - val_loss: 1.8488 - val_accuracy: 0.5217\n",
      "Epoch 10/100\n",
      "94/94 [==============================] - 6s 62ms/step - loss: 1.5862 - accuracy: 0.7914 - val_loss: 1.6609 - val_accuracy: 0.6522\n",
      "Epoch 11/100\n",
      "94/94 [==============================] - 6s 64ms/step - loss: 1.4781 - accuracy: 0.7774 - val_loss: 1.6633 - val_accuracy: 0.5217\n",
      "Epoch 12/100\n",
      "94/94 [==============================] - 6s 67ms/step - loss: 1.3844 - accuracy: 0.7807 - val_loss: 1.5319 - val_accuracy: 0.6087\n",
      "Epoch 13/100\n",
      "94/94 [==============================] - 6s 67ms/step - loss: 1.2965 - accuracy: 0.8142 - val_loss: 1.4829 - val_accuracy: 0.5870\n",
      "Epoch 14/100\n",
      "94/94 [==============================] - 6s 69ms/step - loss: 1.2189 - accuracy: 0.8142 - val_loss: 1.4271 - val_accuracy: 0.6739\n",
      "Epoch 15/100\n",
      "94/94 [==============================] - 6s 69ms/step - loss: 1.1696 - accuracy: 0.8128 - val_loss: 1.3587 - val_accuracy: 0.5870\n",
      "Epoch 16/100\n",
      "94/94 [==============================] - 7s 73ms/step - loss: 1.1455 - accuracy: 0.7921 - val_loss: 1.3842 - val_accuracy: 0.5652\n",
      "Epoch 17/100\n",
      "94/94 [==============================] - 7s 76ms/step - loss: 1.0624 - accuracy: 0.8402 - val_loss: 1.3164 - val_accuracy: 0.6087\n",
      "Epoch 18/100\n",
      "94/94 [==============================] - 7s 78ms/step - loss: 1.0366 - accuracy: 0.8262 - val_loss: 1.3006 - val_accuracy: 0.5435\n",
      "Epoch 19/100\n",
      "94/94 [==============================] - 7s 79ms/step - loss: 0.9869 - accuracy: 0.8402 - val_loss: 1.2920 - val_accuracy: 0.5217\n",
      "Epoch 20/100\n",
      "94/94 [==============================] - 8s 80ms/step - loss: 0.9592 - accuracy: 0.8316 - val_loss: 1.2837 - val_accuracy: 0.5870\n",
      "Epoch 21/100\n",
      "94/94 [==============================] - 8s 81ms/step - loss: 0.9197 - accuracy: 0.8590 - val_loss: 1.2023 - val_accuracy: 0.5870\n",
      "Epoch 22/100\n",
      "94/94 [==============================] - 8s 82ms/step - loss: 0.9019 - accuracy: 0.8509 - val_loss: 1.2370 - val_accuracy: 0.6304\n",
      "Epoch 23/100\n",
      "94/94 [==============================] - 8s 82ms/step - loss: 0.8610 - accuracy: 0.8676 - val_loss: 1.2313 - val_accuracy: 0.5870\n",
      "Epoch 24/100\n",
      "94/94 [==============================] - 8s 83ms/step - loss: 0.8579 - accuracy: 0.8549 - val_loss: 1.1542 - val_accuracy: 0.6522\n",
      "Epoch 25/100\n",
      "94/94 [==============================] - 8s 83ms/step - loss: 0.8165 - accuracy: 0.8810 - val_loss: 1.1978 - val_accuracy: 0.6304\n",
      "Epoch 26/100\n",
      "94/94 [==============================] - 8s 87ms/step - loss: 0.7875 - accuracy: 0.8890 - val_loss: 1.1909 - val_accuracy: 0.6087\n",
      "Epoch 27/100\n",
      "94/94 [==============================] - 8s 84ms/step - loss: 0.7764 - accuracy: 0.8964 - val_loss: 1.1420 - val_accuracy: 0.6304\n",
      "Epoch 28/100\n",
      "94/94 [==============================] - 8s 85ms/step - loss: 0.7534 - accuracy: 0.9024 - val_loss: 1.2665 - val_accuracy: 0.5652\n",
      "Epoch 29/100\n",
      "94/94 [==============================] - 8s 84ms/step - loss: 0.7611 - accuracy: 0.8884 - val_loss: 1.1196 - val_accuracy: 0.6304\n",
      "Epoch 30/100\n",
      "94/94 [==============================] - 8s 86ms/step - loss: 0.7351 - accuracy: 0.9051 - val_loss: 1.1134 - val_accuracy: 0.6087\n",
      "Epoch 31/100\n",
      "94/94 [==============================] - 8s 84ms/step - loss: 0.7320 - accuracy: 0.8984 - val_loss: 1.1203 - val_accuracy: 0.6304\n",
      "Epoch 32/100\n",
      "94/94 [==============================] - 8s 85ms/step - loss: 0.7176 - accuracy: 0.9098 - val_loss: 1.0699 - val_accuracy: 0.6522\n",
      "Epoch 33/100\n",
      "94/94 [==============================] - 8s 87ms/step - loss: 0.6882 - accuracy: 0.9171 - val_loss: 1.0830 - val_accuracy: 0.6522\n",
      "Epoch 34/100\n",
      "94/94 [==============================] - 8s 84ms/step - loss: 0.6935 - accuracy: 0.9091 - val_loss: 1.2108 - val_accuracy: 0.5652\n",
      "Epoch 35/100\n",
      "94/94 [==============================] - 8s 86ms/step - loss: 0.6635 - accuracy: 0.9251 - val_loss: 1.1299 - val_accuracy: 0.6957\n",
      "Epoch 36/100\n",
      "94/94 [==============================] - 8s 89ms/step - loss: 0.6462 - accuracy: 0.9345 - val_loss: 1.0522 - val_accuracy: 0.6957\n",
      "Epoch 37/100\n",
      "94/94 [==============================] - 8s 82ms/step - loss: 0.6338 - accuracy: 0.9291 - val_loss: 1.1338 - val_accuracy: 0.6087\n",
      "Epoch 38/100\n",
      "94/94 [==============================] - 8s 82ms/step - loss: 0.6255 - accuracy: 0.9352 - val_loss: 1.1162 - val_accuracy: 0.6522\n",
      "Epoch 39/100\n",
      "94/94 [==============================] - 8s 85ms/step - loss: 0.6017 - accuracy: 0.9425 - val_loss: 1.0630 - val_accuracy: 0.6957\n",
      "Epoch 40/100\n",
      "94/94 [==============================] - 8s 85ms/step - loss: 0.6097 - accuracy: 0.9439 - val_loss: 1.0943 - val_accuracy: 0.5652\n",
      "Epoch 41/100\n",
      "94/94 [==============================] - 8s 86ms/step - loss: 0.6075 - accuracy: 0.9318 - val_loss: 1.0534 - val_accuracy: 0.6739\n",
      "Epoch 42/100\n",
      "94/94 [==============================] - 8s 83ms/step - loss: 0.5705 - accuracy: 0.9539 - val_loss: 1.0939 - val_accuracy: 0.6522\n",
      "Epoch 43/100\n",
      "94/94 [==============================] - 8s 82ms/step - loss: 0.5599 - accuracy: 0.9532 - val_loss: 1.1094 - val_accuracy: 0.6304\n",
      "Epoch 44/100\n",
      "94/94 [==============================] - 8s 83ms/step - loss: 0.5662 - accuracy: 0.9479 - val_loss: 1.1077 - val_accuracy: 0.6304\n",
      "Epoch 45/100\n",
      "94/94 [==============================] - 8s 82ms/step - loss: 0.5557 - accuracy: 0.9499 - val_loss: 1.0906 - val_accuracy: 0.6522\n",
      "Epoch 46/100\n",
      "94/94 [==============================] - 8s 83ms/step - loss: 0.5491 - accuracy: 0.9459 - val_loss: 1.0371 - val_accuracy: 0.6522\n",
      "Epoch 47/100\n",
      "94/94 [==============================] - 8s 86ms/step - loss: 0.5395 - accuracy: 0.9572 - val_loss: 1.1742 - val_accuracy: 0.6087\n",
      "Epoch 48/100\n",
      "94/94 [==============================] - 8s 82ms/step - loss: 0.5296 - accuracy: 0.9579 - val_loss: 1.1694 - val_accuracy: 0.6304\n",
      "Epoch 49/100\n",
      "94/94 [==============================] - 8s 90ms/step - loss: 0.5252 - accuracy: 0.9586 - val_loss: 1.0660 - val_accuracy: 0.5652\n",
      "Epoch 50/100\n",
      "94/94 [==============================] - 8s 87ms/step - loss: 0.5185 - accuracy: 0.9512 - val_loss: 1.0456 - val_accuracy: 0.6522\n",
      "Epoch 51/100\n",
      "94/94 [==============================] - 8s 88ms/step - loss: 0.5049 - accuracy: 0.9599 - val_loss: 1.0429 - val_accuracy: 0.6522\n",
      "Epoch 52/100\n",
      "94/94 [==============================] - 8s 89ms/step - loss: 0.4926 - accuracy: 0.9586 - val_loss: 1.0771 - val_accuracy: 0.7174\n",
      "Epoch 53/100\n",
      "94/94 [==============================] - 9s 94ms/step - loss: 0.5045 - accuracy: 0.9626 - val_loss: 1.0343 - val_accuracy: 0.6522\n",
      "Epoch 54/100\n",
      "94/94 [==============================] - 8s 87ms/step - loss: 0.4944 - accuracy: 0.9586 - val_loss: 1.0637 - val_accuracy: 0.6739\n",
      "Epoch 55/100\n",
      "94/94 [==============================] - 8s 87ms/step - loss: 0.4763 - accuracy: 0.9706 - val_loss: 1.0269 - val_accuracy: 0.6522\n",
      "Epoch 56/100\n",
      "94/94 [==============================] - 8s 87ms/step - loss: 0.4706 - accuracy: 0.9639 - val_loss: 1.0805 - val_accuracy: 0.6739\n",
      "Epoch 57/100\n",
      "94/94 [==============================] - 8s 89ms/step - loss: 0.4546 - accuracy: 0.9739 - val_loss: 1.1025 - val_accuracy: 0.6522\n",
      "Epoch 58/100\n",
      "94/94 [==============================] - 8s 89ms/step - loss: 0.4504 - accuracy: 0.9719 - val_loss: 0.9637 - val_accuracy: 0.6739\n",
      "Epoch 59/100\n",
      "94/94 [==============================] - 8s 86ms/step - loss: 0.4708 - accuracy: 0.9612 - val_loss: 1.1187 - val_accuracy: 0.6522\n",
      "Epoch 60/100\n",
      "94/94 [==============================] - 8s 87ms/step - loss: 0.4573 - accuracy: 0.9599 - val_loss: 1.0477 - val_accuracy: 0.6087\n",
      "Epoch 61/100\n",
      "94/94 [==============================] - 8s 86ms/step - loss: 0.4435 - accuracy: 0.9699 - val_loss: 0.9849 - val_accuracy: 0.6957\n",
      "Epoch 62/100\n",
      "94/94 [==============================] - 8s 87ms/step - loss: 0.4335 - accuracy: 0.9706 - val_loss: 1.0240 - val_accuracy: 0.6304\n",
      "Epoch 63/100\n",
      "94/94 [==============================] - 8s 87ms/step - loss: 0.4545 - accuracy: 0.9619 - val_loss: 1.0063 - val_accuracy: 0.6739\n",
      "Epoch 64/100\n",
      "94/94 [==============================] - 8s 89ms/step - loss: 0.4279 - accuracy: 0.9699 - val_loss: 1.1016 - val_accuracy: 0.6304\n",
      "Epoch 65/100\n",
      "94/94 [==============================] - 8s 86ms/step - loss: 0.4710 - accuracy: 0.9439 - val_loss: 1.0127 - val_accuracy: 0.6957\n",
      "Epoch 66/100\n",
      "94/94 [==============================] - 8s 85ms/step - loss: 0.4163 - accuracy: 0.9786 - val_loss: 1.0860 - val_accuracy: 0.6522\n",
      "Epoch 67/100\n",
      "94/94 [==============================] - 8s 86ms/step - loss: 0.4229 - accuracy: 0.9719 - val_loss: 1.0772 - val_accuracy: 0.6522\n",
      "Epoch 68/100\n",
      "94/94 [==============================] - 8s 87ms/step - loss: 0.3948 - accuracy: 0.9793 - val_loss: 1.1020 - val_accuracy: 0.6522\n",
      "Epoch 69/100\n",
      "94/94 [==============================] - 8s 89ms/step - loss: 0.4035 - accuracy: 0.9753 - val_loss: 0.9989 - val_accuracy: 0.6739\n",
      "Epoch 70/100\n",
      "94/94 [==============================] - 8s 88ms/step - loss: 0.3954 - accuracy: 0.9779 - val_loss: 1.0814 - val_accuracy: 0.6304\n",
      "Epoch 71/100\n",
      "94/94 [==============================] - 9s 97ms/step - loss: 0.3862 - accuracy: 0.9793 - val_loss: 1.1549 - val_accuracy: 0.6087\n",
      "Epoch 72/100\n",
      "94/94 [==============================] - 8s 86ms/step - loss: 0.3839 - accuracy: 0.9779 - val_loss: 0.9913 - val_accuracy: 0.6739\n",
      "Epoch 73/100\n",
      "94/94 [==============================] - 10s 109ms/step - loss: 0.3895 - accuracy: 0.9726 - val_loss: 1.1877 - val_accuracy: 0.5870\n",
      "Epoch 74/100\n",
      "94/94 [==============================] - 9s 93ms/step - loss: 0.4039 - accuracy: 0.9699 - val_loss: 1.1261 - val_accuracy: 0.6087\n",
      "Epoch 75/100\n",
      "94/94 [==============================] - 9s 94ms/step - loss: 0.3666 - accuracy: 0.9826 - val_loss: 1.0297 - val_accuracy: 0.6957\n",
      "Epoch 76/100\n",
      "94/94 [==============================] - 9s 95ms/step - loss: 0.3583 - accuracy: 0.9853 - val_loss: 1.0774 - val_accuracy: 0.6304\n",
      "Epoch 77/100\n",
      "94/94 [==============================] - 9s 91ms/step - loss: 0.3667 - accuracy: 0.9766 - val_loss: 0.9410 - val_accuracy: 0.7609\n",
      "Epoch 78/100\n",
      "94/94 [==============================] - 9s 91ms/step - loss: 0.4019 - accuracy: 0.9632 - val_loss: 1.0602 - val_accuracy: 0.6304\n",
      "Epoch 79/100\n",
      "94/94 [==============================] - 8s 89ms/step - loss: 0.3921 - accuracy: 0.9659 - val_loss: 1.0996 - val_accuracy: 0.6304\n",
      "Epoch 80/100\n",
      "94/94 [==============================] - 8s 88ms/step - loss: 0.3977 - accuracy: 0.9699 - val_loss: 1.0476 - val_accuracy: 0.6304\n",
      "Epoch 81/100\n",
      "94/94 [==============================] - 9s 99ms/step - loss: 0.3474 - accuracy: 0.9893 - val_loss: 1.0521 - val_accuracy: 0.6304\n",
      "Epoch 82/100\n",
      "94/94 [==============================] - 9s 93ms/step - loss: 0.3454 - accuracy: 0.9813 - val_loss: 0.9572 - val_accuracy: 0.6739\n",
      "Epoch 83/100\n",
      "94/94 [==============================] - 8s 90ms/step - loss: 0.3629 - accuracy: 0.9773 - val_loss: 1.0010 - val_accuracy: 0.6739\n",
      "Epoch 84/100\n",
      "94/94 [==============================] - 8s 89ms/step - loss: 0.3674 - accuracy: 0.9719 - val_loss: 1.1166 - val_accuracy: 0.5870\n",
      "Epoch 85/100\n",
      "94/94 [==============================] - 8s 87ms/step - loss: 0.3453 - accuracy: 0.9853 - val_loss: 1.0403 - val_accuracy: 0.6739\n",
      "Epoch 86/100\n",
      "94/94 [==============================] - 8s 88ms/step - loss: 0.3206 - accuracy: 0.9860 - val_loss: 0.9371 - val_accuracy: 0.7174\n",
      "Epoch 87/100\n",
      "94/94 [==============================] - 9s 94ms/step - loss: 0.3560 - accuracy: 0.9753 - val_loss: 0.9566 - val_accuracy: 0.6739\n",
      "Epoch 88/100\n",
      "94/94 [==============================] - 8s 87ms/step - loss: 0.3435 - accuracy: 0.9799 - val_loss: 1.0620 - val_accuracy: 0.6522\n",
      "Epoch 89/100\n",
      "94/94 [==============================] - 8s 87ms/step - loss: 0.3455 - accuracy: 0.9793 - val_loss: 1.2958 - val_accuracy: 0.6304\n",
      "Epoch 90/100\n",
      "94/94 [==============================] - 8s 86ms/step - loss: 0.3458 - accuracy: 0.9813 - val_loss: 1.0898 - val_accuracy: 0.6304\n",
      "Epoch 91/100\n",
      "94/94 [==============================] - 8s 86ms/step - loss: 0.3502 - accuracy: 0.9699 - val_loss: 0.9191 - val_accuracy: 0.6522\n",
      "Epoch 92/100\n",
      "94/94 [==============================] - 8s 85ms/step - loss: 0.3589 - accuracy: 0.9719 - val_loss: 1.0657 - val_accuracy: 0.7174\n",
      "Epoch 93/100\n",
      "94/94 [==============================] - 8s 85ms/step - loss: 0.3337 - accuracy: 0.9853 - val_loss: 1.1005 - val_accuracy: 0.6304\n",
      "Epoch 94/100\n",
      "94/94 [==============================] - 8s 89ms/step - loss: 0.3390 - accuracy: 0.9753 - val_loss: 1.1355 - val_accuracy: 0.7391\n",
      "Epoch 95/100\n",
      "94/94 [==============================] - 9s 93ms/step - loss: 0.3365 - accuracy: 0.9846 - val_loss: 1.1430 - val_accuracy: 0.6739\n",
      "Epoch 96/100\n",
      "94/94 [==============================] - 9s 93ms/step - loss: 0.3290 - accuracy: 0.9773 - val_loss: 1.0600 - val_accuracy: 0.6304\n",
      "Epoch 97/100\n",
      "94/94 [==============================] - 8s 90ms/step - loss: 0.3678 - accuracy: 0.9713 - val_loss: 1.1723 - val_accuracy: 0.6522\n",
      "Epoch 98/100\n",
      "94/94 [==============================] - 9s 92ms/step - loss: 0.3171 - accuracy: 0.9853 - val_loss: 0.9664 - val_accuracy: 0.6957\n",
      "Epoch 99/100\n",
      "94/94 [==============================] - 8s 86ms/step - loss: 0.3166 - accuracy: 0.9853 - val_loss: 1.0089 - val_accuracy: 0.6304\n",
      "Epoch 100/100\n",
      "94/94 [==============================] - 8s 87ms/step - loss: 0.3117 - accuracy: 0.9833 - val_loss: 1.2050 - val_accuracy: 0.6304\n"
     ]
    }
   ],
   "source": [
    "training = model.fit(X_train, y_train, batch_size = 16, validation_split=0.0, epochs = 100, validation_data=(X_test, y_test))\n",
    "        #callbacks=[tf.keras.callbacks.LearningRateScheduler(lambda epoch: 1.0*10**(-epoch/30))])"
   ]
  },
  {
   "cell_type": "code",
   "execution_count": 6,
   "metadata": {},
   "outputs": [
    {
     "data": {
      "image/png": "[encoded data removed]",
      "text/plain": [
       "<Figure size 432x288 with 1 Axes>"
      ]
     },
     "metadata": {
      "needs_background": "light"
     },
     "output_type": "display_data"
    }
   ],
   "source": [
    "# summarize history for accuracy\n",
    "plt.plot(training.history['accuracy'])\n",
    "plt.plot(training.history['val_accuracy'])\n",
    "plt.title('model accuracy')\n",
    "plt.ylabel('accuracy')\n",
    "plt.xlabel('epoch')\n",
    "plt.legend(['train', 'validation'], loc='upper left')\n",
    "plt.ylim([0.5,1.1])\n",
    "plt.show()"
   ]
  },
  {
   "cell_type": "code",
   "execution_count": 7,
   "metadata": {},
   "outputs": [
    {
     "name": "stderr",
     "output_type": "stream",
     "text": [
      "2022-08-22 16:12:07.717241: I tensorflow/core/grappler/optimizers/custom_graph_optimizer_registry.cc:113] Plugin optimizer for device_type GPU is enabled.\n"
     ]
    },
    {
     "name": "stdout",
     "output_type": "stream",
     "text": [
      "accuracy:  0.63\n",
      "recall:  0.87\n",
      "precision:  0.59\n"
     ]
    },
    {
     "data": {
      "image/png": "[encoded data removed]",
      "text/plain": [
       "<Figure size 432x288 with 1 Axes>"
      ]
     },
     "metadata": {
      "needs_background": "light"
     },
     "output_type": "display_data"
    }
   ],
   "source": [
    "y_predd = model.predict(X_test)\n",
    "y_pred = (y_predd>0.5).astype(int)\n",
    "\n",
    "# Plotting the confusing matrix\n",
    "mat = confusion_matrix(y_test, y_pred.round())\n",
    "sns.heatmap(mat.T, square=True, annot=True, fmt='d', cbar=False)\n",
    "plt.xlabel('true label')\n",
    "plt.ylabel('predicted label')\n",
    "print('accuracy: ' , accuracy_score(y_test, y_pred.round()).round(2))\n",
    "print('recall: ' , recall_score(y_test, y_pred.round()).round(2))\n",
    "print('precision: ' , precision_score(y_test, y_pred.round()).round(2))"
   ]
  },
  {
   "cell_type": "code",
   "execution_count": 8,
   "metadata": {},
   "outputs": [
    {
     "data": {
      "text/plain": [
       "(0.0, 1.1)"
      ]
     },
     "execution_count": 8,
     "metadata": {},
     "output_type": "execute_result"
    },
    {
     "data": {
      "image/png": "[encoded data removed]",
      "text/plain": [
       "<Figure size 432x288 with 1 Axes>"
      ]
     },
     "metadata": {
      "needs_background": "light"
     },
     "output_type": "display_data"
    }
   ],
   "source": [
    "precision, recall, thresholds = precision_recall_curve(y_test, y_predd)\n",
    "\n",
    "plt.plot(recall, precision)\n",
    "plt.xlabel('recall')\n",
    "plt.ylabel('precision')\n",
    "plt.xlim([0,1.1])\n",
    "plt.ylim([0,1.1])"
   ]
  }
 ],
 "metadata": {
  "kernelspec": {
   "display_name": "Python 3.9.8 ('.venv': venv)",
   "language": "python",
   "name": "python3"
  },
  "language_info": {
   "codemirror_mode": {
    "name": "ipython",
    "version": 3
   },
   "file_extension": ".py",
   "mimetype": "text/x-python",
   "name": "python",
   "nbconvert_exporter": "python",
   "pygments_lexer": "ipython3",
   "version": "3.9.8"
  },
  "orig_nbformat": 4,
  "vscode": {
   "interpreter": {
    "hash": "4aabaac7d428528a0ce6def5bece3fccfbe94dd49d29425f23b4abc8d9df7555"
   }
  }
 },
 "nbformat": 4,
 "nbformat_minor": 2
}
