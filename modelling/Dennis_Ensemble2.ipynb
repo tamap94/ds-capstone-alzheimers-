{
 "cells": [
  {
   "cell_type": "code",
   "execution_count": 1,
   "metadata": {},
   "outputs": [],
   "source": [
    "import numpy as np\n",
    "import pandas as pd\n",
    "import seaborn as sns\n",
    "import matplotlib.pyplot as plt\n",
    "import os\n",
    "import sys\n",
    "sys.path.append('../')\n",
    "\n",
    "from sklearn.model_selection import train_test_split\n",
    "from sklearn.metrics import accuracy_score, confusion_matrix, recall_score, precision_score, precision_recall_curve\n",
    "\n",
    "import tensorflow as tf\n",
    "import keras \n",
    "\n",
    "from keras.models import Sequential\n",
    "from keras.layers import Dense, Activation, Dropout, InputLayer, Flatten, Conv2D, MaxPooling2D\n",
    "\n",
    "np.random.seed(42)\n",
    "tf.random.set_seed(42)\n",
    "\n",
    "from preprocessing.getdata import *"
   ]
  },
  {
   "cell_type": "code",
   "execution_count": 34,
   "metadata": {},
   "outputs": [],
   "source": [
    "df_a = get_csvdata_ADNI()\n",
    "df_o= get_csvdata(drop_young=True, drop_contradictions=False)\n",
    "\n",
    "for ID in ['013_S_1275', '099_S_0533', '123_S_0050', '131_S_0457', '137_S_0796']:\n",
    "    df_a = df_a[df_a['ID']!=ID]\n",
    "\n",
    "df_a = df_a[df_a['Group']!='MCI']\n",
    "y_a = (df_a['Group']!='CN').astype(int)\n",
    "df_a_train, df_a_test, y_a_train, y_a_test = train_test_split(df_a['ID'], y_a, stratify=y_a, random_state=42)\n",
    "\n",
    "y_o = df_o['CDR']\n",
    "df_o_train, df_o_test, y_o_train, y_o_test = train_test_split(df_o['ID'], y_o, stratify=y_o, random_state=42)\n",
    "\n",
    "y_test = np.concatenate((y_o_test, y_a_test))"
   ]
  },
  {
   "cell_type": "code",
   "execution_count": 27,
   "metadata": {},
   "outputs": [],
   "source": [
    "N = 5\n",
    "d = 1\n",
    "mdict = {0: 95, 1: 110, 2: 90}\n",
    "\n",
    "def get_test(dim, N, d):\n",
    "    m = mdict[dim]\n",
    "    X_test_o = get_slices(df_o_test, dim=dim, m=m, N=N, d=d)\n",
    "    X_test_a = get_slices_ADNI2(df_a_test, dim=dim, m=m, N=N, d=d)\n",
    "\n",
    "    X_test = np.concatenate((X_test_o, X_test_a), axis=0)\n",
    "\n",
    "    X_test = np.repeat(X_test[..., np.newaxis], 3, -1)\n",
    "    return X_test\n",
    "\n",
    "X_test0 = get_test(0, N, d)\n",
    "X_test1 = get_test(1, N, d)\n",
    "X_test2 = get_test(2, N, d)"
   ]
  },
  {
   "cell_type": "code",
   "execution_count": 19,
   "metadata": {},
   "outputs": [],
   "source": [
    "model0 = tf.keras.models.load_model('../models/axis0')\n",
    "model1 = tf.keras.models.load_model('../models/axis1')\n",
    "model2 = tf.keras.models.load_model('../models/axis2')"
   ]
  },
  {
   "cell_type": "code",
   "execution_count": 28,
   "metadata": {},
   "outputs": [],
   "source": [
    "y_prob0 = model0.predict(X_test0)\n",
    "y_prob1 = model1.predict(X_test1)\n",
    "y_prob2 = model2.predict(X_test2)"
   ]
  },
  {
   "cell_type": "code",
   "execution_count": 29,
   "metadata": {},
   "outputs": [],
   "source": [
    "y_prob0 = y_prob0.reshape(len(df_o_test)+len(df_a_test),1+2*N)\n",
    "y_prob1 = y_prob1.reshape(len(df_o_test)+len(df_a_test),1+2*N)\n",
    "y_prob2 = y_prob2.reshape(len(df_o_test)+len(df_a_test),1+2*N)"
   ]
  },
  {
   "cell_type": "code",
   "execution_count": 30,
   "metadata": {},
   "outputs": [],
   "source": [
    "y_prob0 = np.mean(y_prob0, axis=1)\n",
    "y_prob1 = np.mean(y_prob1, axis=1)\n",
    "y_prob2 = np.mean(y_prob2, axis=1)"
   ]
  },
  {
   "cell_type": "code",
   "execution_count": 32,
   "metadata": {},
   "outputs": [
    {
     "data": {
      "text/plain": [
       "(1716,)"
      ]
     },
     "execution_count": 32,
     "metadata": {},
     "output_type": "execute_result"
    }
   ],
   "source": [
    "y_test.shape"
   ]
  },
  {
   "cell_type": "code",
   "execution_count": 35,
   "metadata": {},
   "outputs": [
    {
     "name": "stdout",
     "output_type": "stream",
     "text": [
      "accuracy of axis 0:  0.6538461538461539\n",
      "accuracy of axis 1:  0.75\n",
      "accuracy of axis 2:  0.6923076923076923\n"
     ]
    }
   ],
   "source": [
    "print('accuracy of axis 0: ', accuracy_score(y_test, y_prob0.round()))\n",
    "print('accuracy of axis 1: ', accuracy_score(y_test, y_prob1.round()))\n",
    "print('accuracy of axis 2: ', accuracy_score(y_test, y_prob2.round()))"
   ]
  },
  {
   "cell_type": "code",
   "execution_count": 36,
   "metadata": {},
   "outputs": [],
   "source": [
    "y_prob = np.stack((y_prob0, y_prob1, y_prob2)).T"
   ]
  },
  {
   "cell_type": "code",
   "execution_count": 37,
   "metadata": {},
   "outputs": [],
   "source": [
    "y_pred = np.mean(y_prob, axis=1).round()"
   ]
  },
  {
   "cell_type": "code",
   "execution_count": 38,
   "metadata": {},
   "outputs": [
    {
     "name": "stdout",
     "output_type": "stream",
     "text": [
      "accuracy:  0.71\n",
      "recall:  0.74\n",
      "precision:  0.67\n"
     ]
    },
    {
     "data": {
      "image/png": "[encoded data removed]",
      "text/plain": [
       "<Figure size 432x288 with 1 Axes>"
      ]
     },
     "metadata": {
      "needs_background": "light"
     },
     "output_type": "display_data"
    }
   ],
   "source": [
    "mat = confusion_matrix(y_test, y_pred.round())\n",
    "sns.heatmap(mat.T, square=True, annot=True, fmt='d', cbar=False)\n",
    "plt.xlabel('true label')\n",
    "plt.ylabel('predicted label')\n",
    "print('accuracy: ' , accuracy_score(y_test, y_pred.round()).round(2))\n",
    "print('recall: ' , recall_score(y_test, y_pred.round()).round(2))\n",
    "print('precision: ' , precision_score(y_test, y_pred.round()).round(2))"
   ]
  },
  {
   "cell_type": "code",
   "execution_count": 39,
   "metadata": {},
   "outputs": [
    {
     "data": {
      "text/plain": [
       "[80, 85, 90, 95, 100, 105, 110, 115]"
      ]
     },
     "execution_count": 39,
     "metadata": {},
     "output_type": "execute_result"
    }
   ],
   "source": [
    "list(range(80,120,5))"
   ]
  },
  {
   "cell_type": "code",
   "execution_count": null,
   "metadata": {},
   "outputs": [],
   "source": []
  }
 ],
 "metadata": {
  "kernelspec": {
   "display_name": "Python 3.9.8 ('.venv': venv)",
   "language": "python",
   "name": "python3"
  },
  "language_info": {
   "codemirror_mode": {
    "name": "ipython",
    "version": 3
   },
   "file_extension": ".py",
   "mimetype": "text/x-python",
   "name": "python",
   "nbconvert_exporter": "python",
   "pygments_lexer": "ipython3",
   "version": "3.9.8"
  },
  "orig_nbformat": 4,
  "vscode": {
   "interpreter": {
    "hash": "4aabaac7d428528a0ce6def5bece3fccfbe94dd49d29425f23b4abc8d9df7555"
   }
  }
 },
 "nbformat": 4,
 "nbformat_minor": 2
}
