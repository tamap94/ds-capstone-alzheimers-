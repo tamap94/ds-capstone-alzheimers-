{
 "cells": [
  {
   "cell_type": "code",
   "execution_count": 1,
   "metadata": {},
   "outputs": [],
   "source": [
    "import pandas as pd\n",
    "import seaborn as sns\n",
    "import matplotlib.pyplot as plt\n",
    "import sys, os\n",
    "sys.path.append('../')\n",
    "from preprocessing.getdata import *"
   ]
  },
  {
   "cell_type": "code",
   "execution_count": 2,
   "metadata": {},
   "outputs": [],
   "source": [
    "from sklearn.metrics import precision_recall_curve"
   ]
  },
  {
   "cell_type": "code",
   "execution_count": 3,
   "metadata": {},
   "outputs": [
    {
     "data": {
      "text/html": [
       "<div>\n",
       "<style scoped>\n",
       "    .dataframe tbody tr th:only-of-type {\n",
       "        vertical-align: middle;\n",
       "    }\n",
       "\n",
       "    .dataframe tbody tr th {\n",
       "        vertical-align: top;\n",
       "    }\n",
       "\n",
       "    .dataframe thead th {\n",
       "        text-align: right;\n",
       "    }\n",
       "</style>\n",
       "<table border=\"1\" class=\"dataframe\">\n",
       "  <thead>\n",
       "    <tr style=\"text-align: right;\">\n",
       "      <th></th>\n",
       "      <th>Unnamed: 0</th>\n",
       "      <th>ID</th>\n",
       "      <th>y_test</th>\n",
       "      <th>y_pred</th>\n",
       "    </tr>\n",
       "  </thead>\n",
       "  <tbody>\n",
       "    <tr>\n",
       "      <th>0</th>\n",
       "      <td>0</td>\n",
       "      <td>OAS1_0145_MR1</td>\n",
       "      <td>0</td>\n",
       "      <td>0.002277</td>\n",
       "    </tr>\n",
       "    <tr>\n",
       "      <th>1</th>\n",
       "      <td>1</td>\n",
       "      <td>OAS1_0019_MR1</td>\n",
       "      <td>0</td>\n",
       "      <td>0.605508</td>\n",
       "    </tr>\n",
       "    <tr>\n",
       "      <th>2</th>\n",
       "      <td>2</td>\n",
       "      <td>OAS1_0372_MR1</td>\n",
       "      <td>0</td>\n",
       "      <td>0.006064</td>\n",
       "    </tr>\n",
       "    <tr>\n",
       "      <th>3</th>\n",
       "      <td>3</td>\n",
       "      <td>OAS1_0018_MR1</td>\n",
       "      <td>0</td>\n",
       "      <td>0.001319</td>\n",
       "    </tr>\n",
       "    <tr>\n",
       "      <th>4</th>\n",
       "      <td>4</td>\n",
       "      <td>OAS1_0266_MR1</td>\n",
       "      <td>0</td>\n",
       "      <td>0.060436</td>\n",
       "    </tr>\n",
       "    <tr>\n",
       "      <th>...</th>\n",
       "      <td>...</td>\n",
       "      <td>...</td>\n",
       "      <td>...</td>\n",
       "      <td>...</td>\n",
       "    </tr>\n",
       "    <tr>\n",
       "      <th>312</th>\n",
       "      <td>312</td>\n",
       "      <td>099_S_0352</td>\n",
       "      <td>0</td>\n",
       "      <td>0.554856</td>\n",
       "    </tr>\n",
       "    <tr>\n",
       "      <th>313</th>\n",
       "      <td>313</td>\n",
       "      <td>027_S_0116</td>\n",
       "      <td>1</td>\n",
       "      <td>0.217359</td>\n",
       "    </tr>\n",
       "    <tr>\n",
       "      <th>314</th>\n",
       "      <td>314</td>\n",
       "      <td>128_S_0740</td>\n",
       "      <td>1</td>\n",
       "      <td>0.891688</td>\n",
       "    </tr>\n",
       "    <tr>\n",
       "      <th>315</th>\n",
       "      <td>315</td>\n",
       "      <td>021_S_0626</td>\n",
       "      <td>1</td>\n",
       "      <td>0.630802</td>\n",
       "    </tr>\n",
       "    <tr>\n",
       "      <th>316</th>\n",
       "      <td>316</td>\n",
       "      <td>123_S_0072</td>\n",
       "      <td>0</td>\n",
       "      <td>0.553199</td>\n",
       "    </tr>\n",
       "  </tbody>\n",
       "</table>\n",
       "<p>317 rows × 4 columns</p>\n",
       "</div>"
      ],
      "text/plain": [
       "     Unnamed: 0             ID  y_test    y_pred\n",
       "0             0  OAS1_0145_MR1       0  0.002277\n",
       "1             1  OAS1_0019_MR1       0  0.605508\n",
       "2             2  OAS1_0372_MR1       0  0.006064\n",
       "3             3  OAS1_0018_MR1       0  0.001319\n",
       "4             4  OAS1_0266_MR1       0  0.060436\n",
       "..          ...            ...     ...       ...\n",
       "312         312     099_S_0352       0  0.554856\n",
       "313         313     027_S_0116       1  0.217359\n",
       "314         314     128_S_0740       1  0.891688\n",
       "315         315     021_S_0626       1  0.630802\n",
       "316         316     123_S_0072       0  0.553199\n",
       "\n",
       "[317 rows x 4 columns]"
      ]
     },
     "execution_count": 3,
     "metadata": {},
     "output_type": "execute_result"
    }
   ],
   "source": [
    "file= \"results_both_datasets.csv\"\n",
    "df_result= pd.read_csv(\"../modelling/predictions/\"+file)\n",
    "df_result"
   ]
  },
  {
   "cell_type": "code",
   "execution_count": 4,
   "metadata": {},
   "outputs": [],
   "source": [
    "df_o = get_csvdata(drop_young=False, drop_contradictions=False, multiclass=True)\n",
    "df_a = get_csvdata_ADNI(drop_MCI=False, multiclass=True)\n",
    "df= pd.concat([df_o, df_a], axis=0)"
   ]
  },
  {
   "cell_type": "code",
   "execution_count": 5,
   "metadata": {},
   "outputs": [],
   "source": [
    "df_result = df_result.merge(df, on=\"ID\", how=\"left\")\n",
    "df_result= df_result[[\"ID\", \"Age\", \"label\", \"y_test\", \"y_pred\", \"dataset\", \"Sex\", \"M/F\"]]"
   ]
  },
  {
   "cell_type": "code",
   "execution_count": 6,
   "metadata": {},
   "outputs": [],
   "source": [
    "df_result[\"Sex\"].fillna(df_result[\"M/F\"], inplace=True)"
   ]
  },
  {
   "cell_type": "code",
   "execution_count": 7,
   "metadata": {},
   "outputs": [
    {
     "data": {
      "text/html": [
       "<div>\n",
       "<style scoped>\n",
       "    .dataframe tbody tr th:only-of-type {\n",
       "        vertical-align: middle;\n",
       "    }\n",
       "\n",
       "    .dataframe tbody tr th {\n",
       "        vertical-align: top;\n",
       "    }\n",
       "\n",
       "    .dataframe thead th {\n",
       "        text-align: right;\n",
       "    }\n",
       "</style>\n",
       "<table border=\"1\" class=\"dataframe\">\n",
       "  <thead>\n",
       "    <tr style=\"text-align: right;\">\n",
       "      <th></th>\n",
       "      <th>ID</th>\n",
       "      <th>Age</th>\n",
       "      <th>label</th>\n",
       "      <th>y_test</th>\n",
       "      <th>y_pred</th>\n",
       "      <th>dataset</th>\n",
       "      <th>Sex</th>\n",
       "    </tr>\n",
       "  </thead>\n",
       "  <tbody>\n",
       "    <tr>\n",
       "      <th>0</th>\n",
       "      <td>OAS1_0145_MR1</td>\n",
       "      <td>34</td>\n",
       "      <td>CN</td>\n",
       "      <td>0</td>\n",
       "      <td>0.002277</td>\n",
       "      <td>OASIS</td>\n",
       "      <td>M</td>\n",
       "    </tr>\n",
       "    <tr>\n",
       "      <th>1</th>\n",
       "      <td>OAS1_0019_MR1</td>\n",
       "      <td>89</td>\n",
       "      <td>CN</td>\n",
       "      <td>0</td>\n",
       "      <td>0.605508</td>\n",
       "      <td>OASIS</td>\n",
       "      <td>F</td>\n",
       "    </tr>\n",
       "    <tr>\n",
       "      <th>2</th>\n",
       "      <td>OAS1_0372_MR1</td>\n",
       "      <td>59</td>\n",
       "      <td>CN</td>\n",
       "      <td>0</td>\n",
       "      <td>0.006064</td>\n",
       "      <td>OASIS</td>\n",
       "      <td>M</td>\n",
       "    </tr>\n",
       "    <tr>\n",
       "      <th>3</th>\n",
       "      <td>OAS1_0018_MR1</td>\n",
       "      <td>39</td>\n",
       "      <td>CN</td>\n",
       "      <td>0</td>\n",
       "      <td>0.001319</td>\n",
       "      <td>OASIS</td>\n",
       "      <td>M</td>\n",
       "    </tr>\n",
       "    <tr>\n",
       "      <th>4</th>\n",
       "      <td>OAS1_0266_MR1</td>\n",
       "      <td>51</td>\n",
       "      <td>CN</td>\n",
       "      <td>0</td>\n",
       "      <td>0.060436</td>\n",
       "      <td>OASIS</td>\n",
       "      <td>M</td>\n",
       "    </tr>\n",
       "    <tr>\n",
       "      <th>...</th>\n",
       "      <td>...</td>\n",
       "      <td>...</td>\n",
       "      <td>...</td>\n",
       "      <td>...</td>\n",
       "      <td>...</td>\n",
       "      <td>...</td>\n",
       "      <td>...</td>\n",
       "    </tr>\n",
       "    <tr>\n",
       "      <th>312</th>\n",
       "      <td>099_S_0352</td>\n",
       "      <td>77</td>\n",
       "      <td>CN</td>\n",
       "      <td>0</td>\n",
       "      <td>0.554856</td>\n",
       "      <td>ADNI</td>\n",
       "      <td>F</td>\n",
       "    </tr>\n",
       "    <tr>\n",
       "      <th>313</th>\n",
       "      <td>027_S_0116</td>\n",
       "      <td>79</td>\n",
       "      <td>MCI</td>\n",
       "      <td>1</td>\n",
       "      <td>0.217359</td>\n",
       "      <td>ADNI</td>\n",
       "      <td>M</td>\n",
       "    </tr>\n",
       "    <tr>\n",
       "      <th>314</th>\n",
       "      <td>128_S_0740</td>\n",
       "      <td>72</td>\n",
       "      <td>AD</td>\n",
       "      <td>1</td>\n",
       "      <td>0.891688</td>\n",
       "      <td>ADNI</td>\n",
       "      <td>M</td>\n",
       "    </tr>\n",
       "    <tr>\n",
       "      <th>315</th>\n",
       "      <td>021_S_0626</td>\n",
       "      <td>83</td>\n",
       "      <td>MCI</td>\n",
       "      <td>1</td>\n",
       "      <td>0.630802</td>\n",
       "      <td>ADNI</td>\n",
       "      <td>M</td>\n",
       "    </tr>\n",
       "    <tr>\n",
       "      <th>316</th>\n",
       "      <td>123_S_0072</td>\n",
       "      <td>71</td>\n",
       "      <td>CN</td>\n",
       "      <td>0</td>\n",
       "      <td>0.553199</td>\n",
       "      <td>ADNI</td>\n",
       "      <td>M</td>\n",
       "    </tr>\n",
       "  </tbody>\n",
       "</table>\n",
       "<p>317 rows × 7 columns</p>\n",
       "</div>"
      ],
      "text/plain": [
       "                ID  Age label  y_test    y_pred dataset Sex\n",
       "0    OAS1_0145_MR1   34    CN       0  0.002277   OASIS   M\n",
       "1    OAS1_0019_MR1   89    CN       0  0.605508   OASIS   F\n",
       "2    OAS1_0372_MR1   59    CN       0  0.006064   OASIS   M\n",
       "3    OAS1_0018_MR1   39    CN       0  0.001319   OASIS   M\n",
       "4    OAS1_0266_MR1   51    CN       0  0.060436   OASIS   M\n",
       "..             ...  ...   ...     ...       ...     ...  ..\n",
       "312     099_S_0352   77    CN       0  0.554856    ADNI   F\n",
       "313     027_S_0116   79   MCI       1  0.217359    ADNI   M\n",
       "314     128_S_0740   72    AD       1  0.891688    ADNI   M\n",
       "315     021_S_0626   83   MCI       1  0.630802    ADNI   M\n",
       "316     123_S_0072   71    CN       0  0.553199    ADNI   M\n",
       "\n",
       "[317 rows x 7 columns]"
      ]
     },
     "execution_count": 7,
     "metadata": {},
     "output_type": "execute_result"
    }
   ],
   "source": [
    "df_result.drop(\"M/F\", inplace=True, axis=1)\n",
    "df_result"
   ]
  },
  {
   "cell_type": "code",
   "execution_count": 8,
   "metadata": {},
   "outputs": [],
   "source": [
    "df_result[\"prediction\"] = (df_result[\"y_pred\"]+0.1).round()"
   ]
  },
  {
   "cell_type": "code",
   "execution_count": 9,
   "metadata": {},
   "outputs": [
    {
     "data": {
      "text/html": [
       "<div>\n",
       "<style scoped>\n",
       "    .dataframe tbody tr th:only-of-type {\n",
       "        vertical-align: middle;\n",
       "    }\n",
       "\n",
       "    .dataframe tbody tr th {\n",
       "        vertical-align: top;\n",
       "    }\n",
       "\n",
       "    .dataframe thead th {\n",
       "        text-align: right;\n",
       "    }\n",
       "</style>\n",
       "<table border=\"1\" class=\"dataframe\">\n",
       "  <thead>\n",
       "    <tr style=\"text-align: right;\">\n",
       "      <th></th>\n",
       "      <th>ID</th>\n",
       "      <th>Age</th>\n",
       "      <th>label</th>\n",
       "      <th>y_test</th>\n",
       "      <th>y_pred</th>\n",
       "      <th>dataset</th>\n",
       "      <th>Sex</th>\n",
       "      <th>prediction</th>\n",
       "    </tr>\n",
       "  </thead>\n",
       "  <tbody>\n",
       "    <tr>\n",
       "      <th>0</th>\n",
       "      <td>OAS1_0145_MR1</td>\n",
       "      <td>34</td>\n",
       "      <td>CN</td>\n",
       "      <td>0</td>\n",
       "      <td>0.002277</td>\n",
       "      <td>OASIS</td>\n",
       "      <td>M</td>\n",
       "      <td>0.0</td>\n",
       "    </tr>\n",
       "    <tr>\n",
       "      <th>1</th>\n",
       "      <td>OAS1_0019_MR1</td>\n",
       "      <td>89</td>\n",
       "      <td>CN</td>\n",
       "      <td>0</td>\n",
       "      <td>0.605508</td>\n",
       "      <td>OASIS</td>\n",
       "      <td>F</td>\n",
       "      <td>1.0</td>\n",
       "    </tr>\n",
       "    <tr>\n",
       "      <th>2</th>\n",
       "      <td>OAS1_0372_MR1</td>\n",
       "      <td>59</td>\n",
       "      <td>CN</td>\n",
       "      <td>0</td>\n",
       "      <td>0.006064</td>\n",
       "      <td>OASIS</td>\n",
       "      <td>M</td>\n",
       "      <td>0.0</td>\n",
       "    </tr>\n",
       "    <tr>\n",
       "      <th>3</th>\n",
       "      <td>OAS1_0018_MR1</td>\n",
       "      <td>39</td>\n",
       "      <td>CN</td>\n",
       "      <td>0</td>\n",
       "      <td>0.001319</td>\n",
       "      <td>OASIS</td>\n",
       "      <td>M</td>\n",
       "      <td>0.0</td>\n",
       "    </tr>\n",
       "    <tr>\n",
       "      <th>4</th>\n",
       "      <td>OAS1_0266_MR1</td>\n",
       "      <td>51</td>\n",
       "      <td>CN</td>\n",
       "      <td>0</td>\n",
       "      <td>0.060436</td>\n",
       "      <td>OASIS</td>\n",
       "      <td>M</td>\n",
       "      <td>0.0</td>\n",
       "    </tr>\n",
       "    <tr>\n",
       "      <th>...</th>\n",
       "      <td>...</td>\n",
       "      <td>...</td>\n",
       "      <td>...</td>\n",
       "      <td>...</td>\n",
       "      <td>...</td>\n",
       "      <td>...</td>\n",
       "      <td>...</td>\n",
       "      <td>...</td>\n",
       "    </tr>\n",
       "    <tr>\n",
       "      <th>312</th>\n",
       "      <td>099_S_0352</td>\n",
       "      <td>77</td>\n",
       "      <td>CN</td>\n",
       "      <td>0</td>\n",
       "      <td>0.554856</td>\n",
       "      <td>ADNI</td>\n",
       "      <td>F</td>\n",
       "      <td>1.0</td>\n",
       "    </tr>\n",
       "    <tr>\n",
       "      <th>313</th>\n",
       "      <td>027_S_0116</td>\n",
       "      <td>79</td>\n",
       "      <td>MCI</td>\n",
       "      <td>1</td>\n",
       "      <td>0.217359</td>\n",
       "      <td>ADNI</td>\n",
       "      <td>M</td>\n",
       "      <td>0.0</td>\n",
       "    </tr>\n",
       "    <tr>\n",
       "      <th>314</th>\n",
       "      <td>128_S_0740</td>\n",
       "      <td>72</td>\n",
       "      <td>AD</td>\n",
       "      <td>1</td>\n",
       "      <td>0.891688</td>\n",
       "      <td>ADNI</td>\n",
       "      <td>M</td>\n",
       "      <td>1.0</td>\n",
       "    </tr>\n",
       "    <tr>\n",
       "      <th>315</th>\n",
       "      <td>021_S_0626</td>\n",
       "      <td>83</td>\n",
       "      <td>MCI</td>\n",
       "      <td>1</td>\n",
       "      <td>0.630802</td>\n",
       "      <td>ADNI</td>\n",
       "      <td>M</td>\n",
       "      <td>1.0</td>\n",
       "    </tr>\n",
       "    <tr>\n",
       "      <th>316</th>\n",
       "      <td>123_S_0072</td>\n",
       "      <td>71</td>\n",
       "      <td>CN</td>\n",
       "      <td>0</td>\n",
       "      <td>0.553199</td>\n",
       "      <td>ADNI</td>\n",
       "      <td>M</td>\n",
       "      <td>1.0</td>\n",
       "    </tr>\n",
       "  </tbody>\n",
       "</table>\n",
       "<p>317 rows × 8 columns</p>\n",
       "</div>"
      ],
      "text/plain": [
       "                ID  Age label  y_test    y_pred dataset Sex  prediction\n",
       "0    OAS1_0145_MR1   34    CN       0  0.002277   OASIS   M         0.0\n",
       "1    OAS1_0019_MR1   89    CN       0  0.605508   OASIS   F         1.0\n",
       "2    OAS1_0372_MR1   59    CN       0  0.006064   OASIS   M         0.0\n",
       "3    OAS1_0018_MR1   39    CN       0  0.001319   OASIS   M         0.0\n",
       "4    OAS1_0266_MR1   51    CN       0  0.060436   OASIS   M         0.0\n",
       "..             ...  ...   ...     ...       ...     ...  ..         ...\n",
       "312     099_S_0352   77    CN       0  0.554856    ADNI   F         1.0\n",
       "313     027_S_0116   79   MCI       1  0.217359    ADNI   M         0.0\n",
       "314     128_S_0740   72    AD       1  0.891688    ADNI   M         1.0\n",
       "315     021_S_0626   83   MCI       1  0.630802    ADNI   M         1.0\n",
       "316     123_S_0072   71    CN       0  0.553199    ADNI   M         1.0\n",
       "\n",
       "[317 rows x 8 columns]"
      ]
     },
     "execution_count": 9,
     "metadata": {},
     "output_type": "execute_result"
    }
   ],
   "source": [
    "df_result"
   ]
  },
  {
   "cell_type": "code",
   "execution_count": 10,
   "metadata": {},
   "outputs": [
    {
     "name": "stdout",
     "output_type": "stream",
     "text": [
      "Accuracy is 0.76, \n",
      "Recall is 0.94, \n",
      "Precision is 0.72, \n",
      "Balanced Accuracy is 0.74\n"
     ]
    }
   ],
   "source": [
    "TP = df_result[(df_result.y_test == 1) & (df_result.prediction == 1)]\n",
    "FP = df_result[(df_result.y_test == 0) & (df_result.prediction == 1)]\n",
    "TN = df_result[(df_result.y_test == 0) & (df_result.prediction == 0)]\n",
    "FN = df_result[(df_result.y_test == 1) & (df_result.prediction == 0)]\n",
    "\n",
    "acc =round((TP.shape[0]+TN.shape[0])/(TP.shape[0]+FP.shape[0]+TN.shape[0]+FN.shape[0]),2)\n",
    "recall= round((TP.shape[0])/(TP.shape[0]+FN.shape[0]),2)\n",
    "specificity = round((TN.shape[0])/(TN.shape[0]+FP.shape[0]),2)\n",
    "bal_acc = round((recall+ specificity )/2, 2)\n",
    "\n",
    "try:\n",
    "    precision= round((TP.shape[0])/(TP.shape[0]+FP.shape[0]),2)\n",
    "except:\n",
    "    precision = 0.0\n",
    "print(f\"Accuracy is {acc}, \\nRecall is {recall}, \\nPrecision is {precision}, \\nBalanced Accuracy is {bal_acc}\")"
   ]
  },
  {
   "cell_type": "code",
   "execution_count": 11,
   "metadata": {},
   "outputs": [],
   "source": [
    "def classification(row):\n",
    "    if (row.y_test == 1) & (row .prediction == 1):\n",
    "        return \"TP\"\n",
    "    if (row.y_test == 0) & (row .prediction == 1):\n",
    "        return \"FP\"\n",
    "    if (row.y_test == 0) & (row .prediction == 0):\n",
    "        return \"TN\"\n",
    "    if (row.y_test == 1) & (row .prediction == 0):\n",
    "        return \"FN\"\n",
    "\n",
    "df_result[\"classification\"] = df_result.apply(lambda row: classification(row), axis=1)"
   ]
  },
  {
   "cell_type": "code",
   "execution_count": 12,
   "metadata": {},
   "outputs": [
    {
     "data": {
      "image/png": "[encoded data removed]",
      "text/plain": [
       "<Figure size 497.875x432 with 4 Axes>"
      ]
     },
     "metadata": {
      "needs_background": "light"
     },
     "output_type": "display_data"
    }
   ],
   "source": [
    "plot= sns.FacetGrid(data=df_result, col=\"classification\", col_wrap=2, col_order=[\"TN\", \"FN\", \"FP\", \"TP\"], hue=\"dataset\", legend_out=True)\n",
    "plot.map_dataframe(sns.histplot, x=\"Age\", binrange=(10,90), binwidth=10, alpha=0.4)\n",
    "plot.add_legend();"
   ]
  },
  {
   "cell_type": "code",
   "execution_count": 13,
   "metadata": {},
   "outputs": [],
   "source": [
    "precision, recall, thresholds = precision_recall_curve(df_result[\"y_test\"], df_result[\"y_pred\"])"
   ]
  },
  {
   "cell_type": "code",
   "execution_count": 14,
   "metadata": {},
   "outputs": [],
   "source": [
    "thresholds = np.append(thresholds, 1)"
   ]
  },
  {
   "cell_type": "code",
   "execution_count": 15,
   "metadata": {},
   "outputs": [
    {
     "data": {
      "text/plain": [
       "[<matplotlib.lines.Line2D at 0x14fac9fa0>]"
      ]
     },
     "execution_count": 15,
     "metadata": {},
     "output_type": "execute_result"
    },
    {
     "data": {
      "image/png": "[encoded data removed]",
      "text/plain": [
       "<Figure size 432x288 with 1 Axes>"
      ]
     },
     "metadata": {
      "needs_background": "light"
     },
     "output_type": "display_data"
    }
   ],
   "source": [
    "plt.plot(thresholds, recall)"
   ]
  },
  {
   "cell_type": "code",
   "execution_count": 16,
   "metadata": {},
   "outputs": [
    {
     "data": {
      "image/png": "[encoded data removed]",
      "text/plain": [
       "<Figure size 432x432 with 4 Axes>"
      ]
     },
     "metadata": {
      "needs_background": "light"
     },
     "output_type": "display_data"
    }
   ],
   "source": [
    "plot= sns.FacetGrid(data=df_result, col=\"classification\", col_wrap=2, col_order=[\"TN\", \"FN\", \"FP\", \"TP\"], hue=\"label\")#, hue=\"dataset\", legend_out=True)\n",
    "plot.map_dataframe(sns.histplot, x=\"y_pred\", binrange=(0,1), binwidth=0.1, alpha=0.5);"
   ]
  },
  {
   "cell_type": "code",
   "execution_count": 17,
   "metadata": {},
   "outputs": [
    {
     "data": {
      "image/png": "[encoded data removed]",
      "text/plain": [
       "<Figure size 432x432 with 4 Axes>"
      ]
     },
     "metadata": {
      "needs_background": "light"
     },
     "output_type": "display_data"
    }
   ],
   "source": [
    "plot= sns.FacetGrid(data=df_result, col=\"classification\", col_wrap=2, col_order=[\"TN\", \"FN\", \"FP\", \"TP\"], hue=\"dataset\")#, hue=\"dataset\", legend_out=True)\n",
    "plot.map_dataframe(sns.histplot, x=\"y_pred\", binrange=(0,1), binwidth=0.1, alpha=0.5);"
   ]
  },
  {
   "cell_type": "code",
   "execution_count": 32,
   "metadata": {},
   "outputs": [
    {
     "data": {
      "text/html": [
       "<div>\n",
       "<style scoped>\n",
       "    .dataframe tbody tr th:only-of-type {\n",
       "        vertical-align: middle;\n",
       "    }\n",
       "\n",
       "    .dataframe tbody tr th {\n",
       "        vertical-align: top;\n",
       "    }\n",
       "\n",
       "    .dataframe thead th {\n",
       "        text-align: right;\n",
       "    }\n",
       "</style>\n",
       "<table border=\"1\" class=\"dataframe\">\n",
       "  <thead>\n",
       "    <tr style=\"text-align: right;\">\n",
       "      <th></th>\n",
       "      <th>ID</th>\n",
       "      <th>Age</th>\n",
       "      <th>label</th>\n",
       "      <th>y_test</th>\n",
       "      <th>y_pred</th>\n",
       "      <th>dataset</th>\n",
       "      <th>Sex</th>\n",
       "      <th>prediction</th>\n",
       "      <th>classification</th>\n",
       "      <th>order</th>\n",
       "    </tr>\n",
       "  </thead>\n",
       "  <tbody>\n",
       "    <tr>\n",
       "      <th>0</th>\n",
       "      <td>OAS1_0145_MR1</td>\n",
       "      <td>34</td>\n",
       "      <td>CN</td>\n",
       "      <td>0</td>\n",
       "      <td>0.002277</td>\n",
       "      <td>OASIS</td>\n",
       "      <td>M</td>\n",
       "      <td>0.0</td>\n",
       "      <td>TN</td>\n",
       "      <td>29</td>\n",
       "    </tr>\n",
       "    <tr>\n",
       "      <th>1</th>\n",
       "      <td>OAS1_0019_MR1</td>\n",
       "      <td>89</td>\n",
       "      <td>CN</td>\n",
       "      <td>0</td>\n",
       "      <td>0.605508</td>\n",
       "      <td>OASIS</td>\n",
       "      <td>F</td>\n",
       "      <td>1.0</td>\n",
       "      <td>FP</td>\n",
       "      <td>145</td>\n",
       "    </tr>\n",
       "    <tr>\n",
       "      <th>2</th>\n",
       "      <td>OAS1_0372_MR1</td>\n",
       "      <td>59</td>\n",
       "      <td>CN</td>\n",
       "      <td>0</td>\n",
       "      <td>0.006064</td>\n",
       "      <td>OASIS</td>\n",
       "      <td>M</td>\n",
       "      <td>0.0</td>\n",
       "      <td>TN</td>\n",
       "      <td>40</td>\n",
       "    </tr>\n",
       "    <tr>\n",
       "      <th>3</th>\n",
       "      <td>OAS1_0018_MR1</td>\n",
       "      <td>39</td>\n",
       "      <td>CN</td>\n",
       "      <td>0</td>\n",
       "      <td>0.001319</td>\n",
       "      <td>OASIS</td>\n",
       "      <td>M</td>\n",
       "      <td>0.0</td>\n",
       "      <td>TN</td>\n",
       "      <td>24</td>\n",
       "    </tr>\n",
       "    <tr>\n",
       "      <th>4</th>\n",
       "      <td>OAS1_0266_MR1</td>\n",
       "      <td>51</td>\n",
       "      <td>CN</td>\n",
       "      <td>0</td>\n",
       "      <td>0.060436</td>\n",
       "      <td>OASIS</td>\n",
       "      <td>M</td>\n",
       "      <td>0.0</td>\n",
       "      <td>TN</td>\n",
       "      <td>53</td>\n",
       "    </tr>\n",
       "    <tr>\n",
       "      <th>...</th>\n",
       "      <td>...</td>\n",
       "      <td>...</td>\n",
       "      <td>...</td>\n",
       "      <td>...</td>\n",
       "      <td>...</td>\n",
       "      <td>...</td>\n",
       "      <td>...</td>\n",
       "      <td>...</td>\n",
       "      <td>...</td>\n",
       "      <td>...</td>\n",
       "    </tr>\n",
       "    <tr>\n",
       "      <th>312</th>\n",
       "      <td>099_S_0352</td>\n",
       "      <td>77</td>\n",
       "      <td>CN</td>\n",
       "      <td>0</td>\n",
       "      <td>0.554856</td>\n",
       "      <td>ADNI</td>\n",
       "      <td>F</td>\n",
       "      <td>1.0</td>\n",
       "      <td>FP</td>\n",
       "      <td>115</td>\n",
       "    </tr>\n",
       "    <tr>\n",
       "      <th>313</th>\n",
       "      <td>027_S_0116</td>\n",
       "      <td>79</td>\n",
       "      <td>MCI</td>\n",
       "      <td>1</td>\n",
       "      <td>0.217359</td>\n",
       "      <td>ADNI</td>\n",
       "      <td>M</td>\n",
       "      <td>0.0</td>\n",
       "      <td>FN</td>\n",
       "      <td>64</td>\n",
       "    </tr>\n",
       "    <tr>\n",
       "      <th>314</th>\n",
       "      <td>128_S_0740</td>\n",
       "      <td>72</td>\n",
       "      <td>AD</td>\n",
       "      <td>1</td>\n",
       "      <td>0.891688</td>\n",
       "      <td>ADNI</td>\n",
       "      <td>M</td>\n",
       "      <td>1.0</td>\n",
       "      <td>TP</td>\n",
       "      <td>307</td>\n",
       "    </tr>\n",
       "    <tr>\n",
       "      <th>315</th>\n",
       "      <td>021_S_0626</td>\n",
       "      <td>83</td>\n",
       "      <td>MCI</td>\n",
       "      <td>1</td>\n",
       "      <td>0.630802</td>\n",
       "      <td>ADNI</td>\n",
       "      <td>M</td>\n",
       "      <td>1.0</td>\n",
       "      <td>TP</td>\n",
       "      <td>165</td>\n",
       "    </tr>\n",
       "    <tr>\n",
       "      <th>316</th>\n",
       "      <td>123_S_0072</td>\n",
       "      <td>71</td>\n",
       "      <td>CN</td>\n",
       "      <td>0</td>\n",
       "      <td>0.553199</td>\n",
       "      <td>ADNI</td>\n",
       "      <td>M</td>\n",
       "      <td>1.0</td>\n",
       "      <td>FP</td>\n",
       "      <td>114</td>\n",
       "    </tr>\n",
       "  </tbody>\n",
       "</table>\n",
       "<p>317 rows × 10 columns</p>\n",
       "</div>"
      ],
      "text/plain": [
       "                ID  Age label  y_test    y_pred dataset Sex  prediction  \\\n",
       "0    OAS1_0145_MR1   34    CN       0  0.002277   OASIS   M         0.0   \n",
       "1    OAS1_0019_MR1   89    CN       0  0.605508   OASIS   F         1.0   \n",
       "2    OAS1_0372_MR1   59    CN       0  0.006064   OASIS   M         0.0   \n",
       "3    OAS1_0018_MR1   39    CN       0  0.001319   OASIS   M         0.0   \n",
       "4    OAS1_0266_MR1   51    CN       0  0.060436   OASIS   M         0.0   \n",
       "..             ...  ...   ...     ...       ...     ...  ..         ...   \n",
       "312     099_S_0352   77    CN       0  0.554856    ADNI   F         1.0   \n",
       "313     027_S_0116   79   MCI       1  0.217359    ADNI   M         0.0   \n",
       "314     128_S_0740   72    AD       1  0.891688    ADNI   M         1.0   \n",
       "315     021_S_0626   83   MCI       1  0.630802    ADNI   M         1.0   \n",
       "316     123_S_0072   71    CN       0  0.553199    ADNI   M         1.0   \n",
       "\n",
       "    classification  order  \n",
       "0               TN     29  \n",
       "1               FP    145  \n",
       "2               TN     40  \n",
       "3               TN     24  \n",
       "4               TN     53  \n",
       "..             ...    ...  \n",
       "312             FP    115  \n",
       "313             FN     64  \n",
       "314             TP    307  \n",
       "315             TP    165  \n",
       "316             FP    114  \n",
       "\n",
       "[317 rows x 10 columns]"
      ]
     },
     "execution_count": 32,
     "metadata": {},
     "output_type": "execute_result"
    }
   ],
   "source": [
    "df = df_result.copy()\n",
    "df[\"orig_order\"] = df.index\n",
    "df.sort_values(\"y_pred\", inplace=True)\n",
    "df= df.reset_index(drop=True)\n",
    "df[\"order\"] = df.index\n",
    "df.sort_values(\"orig_order\", inplace=True)\n",
    "df= df.reset_index(drop=True)\n",
    "df.drop(\"orig_order\", axis=1, inplace=True)\n",
    "df\n"
   ]
  },
  {
   "cell_type": "code",
   "execution_count": 18,
   "metadata": {},
   "outputs": [
    {
     "data": {
      "text/plain": [
       "<AxesSubplot:xlabel='label', ylabel='count'>"
      ]
     },
     "execution_count": 18,
     "metadata": {},
     "output_type": "execute_result"
    },
    {
     "data": {
      "image/png": "[encoded data removed]",
      "text/plain": [
       "<Figure size 432x288 with 1 Axes>"
      ]
     },
     "metadata": {
      "needs_background": "light"
     },
     "output_type": "display_data"
    }
   ],
   "source": [
    "sns.countplot(data= df,  x=\"label\", hue=\"dataset\")"
   ]
  },
  {
   "cell_type": "code",
   "execution_count": 66,
   "metadata": {},
   "outputs": [
    {
     "data": {
      "image/png": "[encoded data removed]",
      "text/plain": [
       "<Figure size 432x432 with 4 Axes>"
      ]
     },
     "metadata": {
      "needs_background": "light"
     },
     "output_type": "display_data"
    }
   ],
   "source": [
    "plot= sns.FacetGrid(data=df, col=\"classification\", col_wrap=2, col_order=[\"TN\", \"FN\", \"FP\", \"TP\"])\n",
    "plot.map_dataframe(sns.countplot, x=\"label\");"
   ]
  },
  {
   "cell_type": "code",
   "execution_count": 73,
   "metadata": {},
   "outputs": [
    {
     "data": {
      "text/plain": [
       "(317, 176, 208)"
      ]
     },
     "execution_count": 73,
     "metadata": {},
     "output_type": "execute_result"
    }
   ],
   "source": [
    "sys.path.append('../')\n",
    "from preprocessing.getdata import *\n",
    "IDs_o = df[df[\"dataset\"]== \"OASIS\"][\"ID\"]\n",
    "IDs_a = df[df[\"dataset\"]== \"ADNI\"][\"ID\"]\n",
    "\n",
    "imgs = get_slices_both(OASIS_IDs =IDs_o, ADNI_IDs =IDs_a, dim=2, m=90, normalize=True)\n",
    "#imgs= get_slices(IDs_o, dim=2, m=90, normalize=False)\n",
    "#imgs= get_slices_ADNI(IDs_a, dim=2, m=90, normalize=False)\n",
    "imgs.shape"
   ]
  },
  {
   "cell_type": "code",
   "execution_count": 74,
   "metadata": {},
   "outputs": [],
   "source": [
    "order= np.array(df[\"order\"])\n",
    "sort = order.argsort()\n",
    "imgs_sorted= imgs[sort]"
   ]
  },
  {
   "cell_type": "code",
   "execution_count": 75,
   "metadata": {},
   "outputs": [
    {
     "data": {
      "text/plain": [
       "<matplotlib.image.AxesImage at 0x28a45b880>"
      ]
     },
     "execution_count": 75,
     "metadata": {},
     "output_type": "execute_result"
    },
    {
     "data": {
      "image/png": "[encoded data removed]",
      "text/plain": [
       "<Figure size 432x288 with 1 Axes>"
      ]
     },
     "metadata": {
      "needs_background": "light"
     },
     "output_type": "display_data"
    }
   ],
   "source": [
    "#most confident CN\n",
    "plt.imshow(imgs_sorted[284])"
   ]
  },
  {
   "cell_type": "code",
   "execution_count": 77,
   "metadata": {},
   "outputs": [
    {
     "data": {
      "image/png": "[encoded data removed]",
      "text/plain": [
       "<Figure size 432x288 with 1 Axes>"
      ]
     },
     "metadata": {
      "needs_background": "light"
     },
     "output_type": "display_data"
    }
   ],
   "source": [
    "#most confident AD\n",
    "im = plt.imshow(imgs_sorted[-1])"
   ]
  },
  {
   "cell_type": "code",
   "execution_count": 52,
   "metadata": {},
   "outputs": [
    {
     "data": {
      "text/plain": [
       "matplotlib.image.AxesImage"
      ]
     },
     "execution_count": 52,
     "metadata": {},
     "output_type": "execute_result"
    }
   ],
   "source": [
    "type(im)"
   ]
  },
  {
   "cell_type": "code",
   "execution_count": 78,
   "metadata": {},
   "outputs": [],
   "source": [
    "from matplotlib import animation\n",
    "\n",
    "\n",
    "# generating gif out of slices of 3-dimensional numpy array\n",
    "def generate_gif(numpy_3d_array, y_pred, path=\"test.gif\"):\n",
    "    fig = plt.figure()\n",
    "    im = plt.imshow(numpy_3d_array[0, :, :],    # display first slice\n",
    "                    animated=True,\n",
    "                    cmap='Greys',               # color mapping\n",
    "                    vmin=0, # lowest value in numpy_3d_array\n",
    "                    vmax=1) # highest value in numpy_3d_array\n",
    "    \n",
    "\n",
    "    def init():\n",
    "        im.set_data(numpy_3d_array[0, :, :])\n",
    "        return im,\n",
    "\n",
    "    def animate(i):\n",
    "        im.set_array(numpy_3d_array[i, :, :])\n",
    "        #plt.text(180,20, y_pred[i], fontsize=20)\n",
    "        return im,\n",
    "\n",
    "    # calling animation function of matplotlib\n",
    "    anim = animation.FuncAnimation(fig,\n",
    "                                   animate,\n",
    "                                   init_func=init,\n",
    "                                   frames=np.shape(numpy_3d_array)[0],  # amount of frames being animated\n",
    "                                   interval=100,                       # update every x-milliseconds\n",
    "                                   blit=True)\n",
    "    anim.save(path)   # save as gif\n",
    "    plt.show()"
   ]
  },
  {
   "cell_type": "code",
   "execution_count": 79,
   "metadata": {},
   "outputs": [],
   "source": [
    "os.makedirs(\"./gifs/\", exist_ok=True)\n",
    "generate_gif(imgs_sorted, y_pred=df[\"y_pred\"], path=\"./gifs/\"+file[:-4]+\"final_model.gif\")"
   ]
  },
  {
   "cell_type": "code",
   "execution_count": 28,
   "metadata": {},
   "outputs": [
    {
     "data": {
      "text/html": [
       "<div>\n",
       "<style scoped>\n",
       "    .dataframe tbody tr th:only-of-type {\n",
       "        vertical-align: middle;\n",
       "    }\n",
       "\n",
       "    .dataframe tbody tr th {\n",
       "        vertical-align: top;\n",
       "    }\n",
       "\n",
       "    .dataframe thead th {\n",
       "        text-align: right;\n",
       "    }\n",
       "</style>\n",
       "<table border=\"1\" class=\"dataframe\">\n",
       "  <thead>\n",
       "    <tr style=\"text-align: right;\">\n",
       "      <th></th>\n",
       "      <th>ID</th>\n",
       "      <th>Age</th>\n",
       "      <th>label</th>\n",
       "      <th>y_test</th>\n",
       "      <th>y_pred</th>\n",
       "      <th>dataset</th>\n",
       "      <th>Sex</th>\n",
       "      <th>prediction</th>\n",
       "      <th>classification</th>\n",
       "      <th>orig_order</th>\n",
       "      <th>order</th>\n",
       "    </tr>\n",
       "  </thead>\n",
       "  <tbody>\n",
       "    <tr>\n",
       "      <th>29</th>\n",
       "      <td>OAS1_0145_MR1</td>\n",
       "      <td>34</td>\n",
       "      <td>CN</td>\n",
       "      <td>0</td>\n",
       "      <td>0.002277</td>\n",
       "      <td>OASIS</td>\n",
       "      <td>M</td>\n",
       "      <td>0.0</td>\n",
       "      <td>TN</td>\n",
       "      <td>0</td>\n",
       "      <td>29</td>\n",
       "    </tr>\n",
       "    <tr>\n",
       "      <th>145</th>\n",
       "      <td>OAS1_0019_MR1</td>\n",
       "      <td>89</td>\n",
       "      <td>CN</td>\n",
       "      <td>0</td>\n",
       "      <td>0.605508</td>\n",
       "      <td>OASIS</td>\n",
       "      <td>F</td>\n",
       "      <td>1.0</td>\n",
       "      <td>FP</td>\n",
       "      <td>1</td>\n",
       "      <td>145</td>\n",
       "    </tr>\n",
       "    <tr>\n",
       "      <th>40</th>\n",
       "      <td>OAS1_0372_MR1</td>\n",
       "      <td>59</td>\n",
       "      <td>CN</td>\n",
       "      <td>0</td>\n",
       "      <td>0.006064</td>\n",
       "      <td>OASIS</td>\n",
       "      <td>M</td>\n",
       "      <td>0.0</td>\n",
       "      <td>TN</td>\n",
       "      <td>2</td>\n",
       "      <td>40</td>\n",
       "    </tr>\n",
       "    <tr>\n",
       "      <th>24</th>\n",
       "      <td>OAS1_0018_MR1</td>\n",
       "      <td>39</td>\n",
       "      <td>CN</td>\n",
       "      <td>0</td>\n",
       "      <td>0.001319</td>\n",
       "      <td>OASIS</td>\n",
       "      <td>M</td>\n",
       "      <td>0.0</td>\n",
       "      <td>TN</td>\n",
       "      <td>3</td>\n",
       "      <td>24</td>\n",
       "    </tr>\n",
       "    <tr>\n",
       "      <th>53</th>\n",
       "      <td>OAS1_0266_MR1</td>\n",
       "      <td>51</td>\n",
       "      <td>CN</td>\n",
       "      <td>0</td>\n",
       "      <td>0.060436</td>\n",
       "      <td>OASIS</td>\n",
       "      <td>M</td>\n",
       "      <td>0.0</td>\n",
       "      <td>TN</td>\n",
       "      <td>4</td>\n",
       "      <td>53</td>\n",
       "    </tr>\n",
       "    <tr>\n",
       "      <th>...</th>\n",
       "      <td>...</td>\n",
       "      <td>...</td>\n",
       "      <td>...</td>\n",
       "      <td>...</td>\n",
       "      <td>...</td>\n",
       "      <td>...</td>\n",
       "      <td>...</td>\n",
       "      <td>...</td>\n",
       "      <td>...</td>\n",
       "      <td>...</td>\n",
       "      <td>...</td>\n",
       "    </tr>\n",
       "    <tr>\n",
       "      <th>115</th>\n",
       "      <td>099_S_0352</td>\n",
       "      <td>77</td>\n",
       "      <td>CN</td>\n",
       "      <td>0</td>\n",
       "      <td>0.554856</td>\n",
       "      <td>ADNI</td>\n",
       "      <td>F</td>\n",
       "      <td>1.0</td>\n",
       "      <td>FP</td>\n",
       "      <td>312</td>\n",
       "      <td>115</td>\n",
       "    </tr>\n",
       "    <tr>\n",
       "      <th>64</th>\n",
       "      <td>027_S_0116</td>\n",
       "      <td>79</td>\n",
       "      <td>MCI</td>\n",
       "      <td>1</td>\n",
       "      <td>0.217359</td>\n",
       "      <td>ADNI</td>\n",
       "      <td>M</td>\n",
       "      <td>0.0</td>\n",
       "      <td>FN</td>\n",
       "      <td>313</td>\n",
       "      <td>64</td>\n",
       "    </tr>\n",
       "    <tr>\n",
       "      <th>307</th>\n",
       "      <td>128_S_0740</td>\n",
       "      <td>72</td>\n",
       "      <td>AD</td>\n",
       "      <td>1</td>\n",
       "      <td>0.891688</td>\n",
       "      <td>ADNI</td>\n",
       "      <td>M</td>\n",
       "      <td>1.0</td>\n",
       "      <td>TP</td>\n",
       "      <td>314</td>\n",
       "      <td>307</td>\n",
       "    </tr>\n",
       "    <tr>\n",
       "      <th>165</th>\n",
       "      <td>021_S_0626</td>\n",
       "      <td>83</td>\n",
       "      <td>MCI</td>\n",
       "      <td>1</td>\n",
       "      <td>0.630802</td>\n",
       "      <td>ADNI</td>\n",
       "      <td>M</td>\n",
       "      <td>1.0</td>\n",
       "      <td>TP</td>\n",
       "      <td>315</td>\n",
       "      <td>165</td>\n",
       "    </tr>\n",
       "    <tr>\n",
       "      <th>114</th>\n",
       "      <td>123_S_0072</td>\n",
       "      <td>71</td>\n",
       "      <td>CN</td>\n",
       "      <td>0</td>\n",
       "      <td>0.553199</td>\n",
       "      <td>ADNI</td>\n",
       "      <td>M</td>\n",
       "      <td>1.0</td>\n",
       "      <td>FP</td>\n",
       "      <td>316</td>\n",
       "      <td>114</td>\n",
       "    </tr>\n",
       "  </tbody>\n",
       "</table>\n",
       "<p>317 rows × 11 columns</p>\n",
       "</div>"
      ],
      "text/plain": [
       "                ID  Age label  y_test    y_pred dataset Sex  prediction  \\\n",
       "29   OAS1_0145_MR1   34    CN       0  0.002277   OASIS   M         0.0   \n",
       "145  OAS1_0019_MR1   89    CN       0  0.605508   OASIS   F         1.0   \n",
       "40   OAS1_0372_MR1   59    CN       0  0.006064   OASIS   M         0.0   \n",
       "24   OAS1_0018_MR1   39    CN       0  0.001319   OASIS   M         0.0   \n",
       "53   OAS1_0266_MR1   51    CN       0  0.060436   OASIS   M         0.0   \n",
       "..             ...  ...   ...     ...       ...     ...  ..         ...   \n",
       "115     099_S_0352   77    CN       0  0.554856    ADNI   F         1.0   \n",
       "64      027_S_0116   79   MCI       1  0.217359    ADNI   M         0.0   \n",
       "307     128_S_0740   72    AD       1  0.891688    ADNI   M         1.0   \n",
       "165     021_S_0626   83   MCI       1  0.630802    ADNI   M         1.0   \n",
       "114     123_S_0072   71    CN       0  0.553199    ADNI   M         1.0   \n",
       "\n",
       "    classification  orig_order  order  \n",
       "29              TN           0     29  \n",
       "145             FP           1    145  \n",
       "40              TN           2     40  \n",
       "24              TN           3     24  \n",
       "53              TN           4     53  \n",
       "..             ...         ...    ...  \n",
       "115             FP         312    115  \n",
       "64              FN         313     64  \n",
       "307             TP         314    307  \n",
       "165             TP         315    165  \n",
       "114             FP         316    114  \n",
       "\n",
       "[317 rows x 11 columns]"
      ]
     },
     "execution_count": 28,
     "metadata": {},
     "output_type": "execute_result"
    }
   ],
   "source": [
    "df"
   ]
  },
  {
   "cell_type": "code",
   "execution_count": null,
   "metadata": {},
   "outputs": [],
   "source": [
    "plt.imshow"
   ]
  }
 ],
 "metadata": {
  "kernelspec": {
   "display_name": "Python 3.9.8 ('.venv': venv)",
   "language": "python",
   "name": "python3"
  },
  "language_info": {
   "codemirror_mode": {
    "name": "ipython",
    "version": 3
   },
   "file_extension": ".py",
   "mimetype": "text/x-python",
   "name": "python",
   "nbconvert_exporter": "python",
   "pygments_lexer": "ipython3",
   "version": "3.9.8"
  },
  "orig_nbformat": 4,
  "vscode": {
   "interpreter": {
    "hash": "28d7a5be6aa37377b3c28a3b570a70259e8597afc38d6715f828fee2716552b7"
   }
  }
 },
 "nbformat": 4,
 "nbformat_minor": 2
}
