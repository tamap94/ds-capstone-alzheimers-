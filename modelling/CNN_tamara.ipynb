{
 "cells": [
  {
   "cell_type": "code",
   "execution_count": 1,
   "metadata": {},
   "outputs": [
    {
     "name": "stdout",
     "output_type": "stream",
     "text": [
      "Requirement already satisfied: jupyterlab==3.2.6 in /Users/tamarapallien/neuefische/capstone /ds-capstone-alzheimers-/.venv/lib/python3.9/site-packages (from -r ../requirements.txt (line 1)) (3.2.6)\n",
      "Requirement already satisfied: matplotlib==3.5.1 in /Users/tamarapallien/neuefische/capstone /ds-capstone-alzheimers-/.venv/lib/python3.9/site-packages (from -r ../requirements.txt (line 2)) (3.5.1)\n",
      "Requirement already satisfied: seaborn==0.11.2 in /Users/tamarapallien/neuefische/capstone /ds-capstone-alzheimers-/.venv/lib/python3.9/site-packages (from -r ../requirements.txt (line 3)) (0.11.2)\n",
      "Requirement already satisfied: numpy==1.22.0 in /Users/tamarapallien/neuefische/capstone /ds-capstone-alzheimers-/.venv/lib/python3.9/site-packages (from -r ../requirements.txt (line 4)) (1.22.0)\n",
      "Requirement already satisfied: pandas==1.3.5 in /Users/tamarapallien/neuefische/capstone /ds-capstone-alzheimers-/.venv/lib/python3.9/site-packages (from -r ../requirements.txt (line 5)) (1.3.5)\n",
      "Requirement already satisfied: scikit-learn==1.0.2 in /Users/tamarapallien/neuefische/capstone /ds-capstone-alzheimers-/.venv/lib/python3.9/site-packages (from -r ../requirements.txt (line 6)) (1.0.2)\n",
      "Requirement already satisfied: pyimagej==1.2.1 in /Users/tamarapallien/neuefische/capstone /ds-capstone-alzheimers-/.venv/lib/python3.9/site-packages (from -r ../requirements.txt (line 7)) (1.2.1)\n",
      "Requirement already satisfied: tensorflow-macos==2.8.0 in /Users/tamarapallien/neuefische/capstone /ds-capstone-alzheimers-/.venv/lib/python3.9/site-packages (from -r ../requirements.txt (line 8)) (2.8.0)\n",
      "Requirement already satisfied: tensorflow-metal==0.4.0 in /Users/tamarapallien/neuefische/capstone /ds-capstone-alzheimers-/.venv/lib/python3.9/site-packages (from -r ../requirements.txt (line 9)) (0.4.0)\n",
      "Requirement already satisfied: Keras==2.8.0 in /Users/tamarapallien/neuefische/capstone /ds-capstone-alzheimers-/.venv/lib/python3.9/site-packages (from -r ../requirements.txt (line 10)) (2.8.0)\n",
      "Requirement already satisfied: tensorflow-hub==0.12.0 in /Users/tamarapallien/neuefische/capstone /ds-capstone-alzheimers-/.venv/lib/python3.9/site-packages (from -r ../requirements.txt (line 11)) (0.12.0)\n",
      "Requirement already satisfied: protobuf==3.20.1 in /Users/tamarapallien/neuefische/capstone /ds-capstone-alzheimers-/.venv/lib/python3.9/site-packages (from -r ../requirements.txt (line 12)) (3.20.1)\n",
      "Requirement already satisfied: tensorflow-addons==0.17.1 in /Users/tamarapallien/neuefische/capstone /ds-capstone-alzheimers-/.venv/lib/python3.9/site-packages (from -r ../requirements.txt (line 13)) (0.17.1)\n",
      "Requirement already satisfied: jupyter-core in /Users/tamarapallien/neuefische/capstone /ds-capstone-alzheimers-/.venv/lib/python3.9/site-packages (from jupyterlab==3.2.6->-r ../requirements.txt (line 1)) (4.11.1)\n",
      "Requirement already satisfied: jinja2>=2.1 in /Users/tamarapallien/neuefische/capstone /ds-capstone-alzheimers-/.venv/lib/python3.9/site-packages (from jupyterlab==3.2.6->-r ../requirements.txt (line 1)) (3.1.2)\n",
      "Requirement already satisfied: jupyterlab-server~=2.3 in /Users/tamarapallien/neuefische/capstone /ds-capstone-alzheimers-/.venv/lib/python3.9/site-packages (from jupyterlab==3.2.6->-r ../requirements.txt (line 1)) (2.15.0)\n",
      "Requirement already satisfied: nbclassic~=0.2 in /Users/tamarapallien/neuefische/capstone /ds-capstone-alzheimers-/.venv/lib/python3.9/site-packages (from jupyterlab==3.2.6->-r ../requirements.txt (line 1)) (0.4.3)\n",
      "Requirement already satisfied: packaging in /Users/tamarapallien/neuefische/capstone /ds-capstone-alzheimers-/.venv/lib/python3.9/site-packages (from jupyterlab==3.2.6->-r ../requirements.txt (line 1)) (21.3)\n",
      "Requirement already satisfied: jupyter-server~=1.4 in /Users/tamarapallien/neuefische/capstone /ds-capstone-alzheimers-/.venv/lib/python3.9/site-packages (from jupyterlab==3.2.6->-r ../requirements.txt (line 1)) (1.18.1)\n",
      "Requirement already satisfied: ipython in /Users/tamarapallien/neuefische/capstone /ds-capstone-alzheimers-/.venv/lib/python3.9/site-packages (from jupyterlab==3.2.6->-r ../requirements.txt (line 1)) (8.4.0)\n",
      "Requirement already satisfied: tornado>=6.1.0 in /Users/tamarapallien/neuefische/capstone /ds-capstone-alzheimers-/.venv/lib/python3.9/site-packages (from jupyterlab==3.2.6->-r ../requirements.txt (line 1)) (6.2)\n",
      "Requirement already satisfied: fonttools>=4.22.0 in /Users/tamarapallien/neuefische/capstone /ds-capstone-alzheimers-/.venv/lib/python3.9/site-packages (from matplotlib==3.5.1->-r ../requirements.txt (line 2)) (4.35.0)\n",
      "Requirement already satisfied: python-dateutil>=2.7 in /Users/tamarapallien/neuefische/capstone /ds-capstone-alzheimers-/.venv/lib/python3.9/site-packages (from matplotlib==3.5.1->-r ../requirements.txt (line 2)) (2.8.2)\n",
      "Requirement already satisfied: pillow>=6.2.0 in /Users/tamarapallien/neuefische/capstone /ds-capstone-alzheimers-/.venv/lib/python3.9/site-packages (from matplotlib==3.5.1->-r ../requirements.txt (line 2)) (9.2.0)\n",
      "Requirement already satisfied: pyparsing>=2.2.1 in /Users/tamarapallien/neuefische/capstone /ds-capstone-alzheimers-/.venv/lib/python3.9/site-packages (from matplotlib==3.5.1->-r ../requirements.txt (line 2)) (3.0.9)\n",
      "Requirement already satisfied: kiwisolver>=1.0.1 in /Users/tamarapallien/neuefische/capstone /ds-capstone-alzheimers-/.venv/lib/python3.9/site-packages (from matplotlib==3.5.1->-r ../requirements.txt (line 2)) (1.4.4)\n",
      "Requirement already satisfied: cycler>=0.10 in /Users/tamarapallien/neuefische/capstone /ds-capstone-alzheimers-/.venv/lib/python3.9/site-packages (from matplotlib==3.5.1->-r ../requirements.txt (line 2)) (0.11.0)\n",
      "Requirement already satisfied: scipy>=1.0 in /Users/tamarapallien/neuefische/capstone /ds-capstone-alzheimers-/.venv/lib/python3.9/site-packages (from seaborn==0.11.2->-r ../requirements.txt (line 3)) (1.9.0)\n",
      "Requirement already satisfied: pytz>=2017.3 in /Users/tamarapallien/neuefische/capstone /ds-capstone-alzheimers-/.venv/lib/python3.9/site-packages (from pandas==1.3.5->-r ../requirements.txt (line 5)) (2022.2.1)\n",
      "Requirement already satisfied: threadpoolctl>=2.0.0 in /Users/tamarapallien/neuefische/capstone /ds-capstone-alzheimers-/.venv/lib/python3.9/site-packages (from scikit-learn==1.0.2->-r ../requirements.txt (line 6)) (3.1.0)\n",
      "Requirement already satisfied: joblib>=0.11 in /Users/tamarapallien/neuefische/capstone /ds-capstone-alzheimers-/.venv/lib/python3.9/site-packages (from scikit-learn==1.0.2->-r ../requirements.txt (line 6)) (1.1.0)\n",
      "Requirement already satisfied: jgo>=1.0.3 in /Users/tamarapallien/neuefische/capstone /ds-capstone-alzheimers-/.venv/lib/python3.9/site-packages (from pyimagej==1.2.1->-r ../requirements.txt (line 7)) (1.0.4)\n",
      "Requirement already satisfied: scyjava>=1.5.0 in /Users/tamarapallien/neuefische/capstone /ds-capstone-alzheimers-/.venv/lib/python3.9/site-packages (from pyimagej==1.2.1->-r ../requirements.txt (line 7)) (1.5.1)\n",
      "Requirement already satisfied: labeling>=0.1.12 in /Users/tamarapallien/neuefische/capstone /ds-capstone-alzheimers-/.venv/lib/python3.9/site-packages (from pyimagej==1.2.1->-r ../requirements.txt (line 7)) (0.1.13)\n",
      "Requirement already satisfied: jpype1>=1.3.0 in /Users/tamarapallien/neuefische/capstone /ds-capstone-alzheimers-/.venv/lib/python3.9/site-packages (from pyimagej==1.2.1->-r ../requirements.txt (line 7)) (1.4.0)\n",
      "Requirement already satisfied: xarray in /Users/tamarapallien/neuefische/capstone /ds-capstone-alzheimers-/.venv/lib/python3.9/site-packages (from pyimagej==1.2.1->-r ../requirements.txt (line 7)) (2022.6.0)\n",
      "Requirement already satisfied: imglyb>=2.0.1 in /Users/tamarapallien/neuefische/capstone /ds-capstone-alzheimers-/.venv/lib/python3.9/site-packages (from pyimagej==1.2.1->-r ../requirements.txt (line 7)) (2.0.1)\n",
      "Requirement already satisfied: tensorboard<2.9,>=2.8 in /Users/tamarapallien/neuefische/capstone /ds-capstone-alzheimers-/.venv/lib/python3.9/site-packages (from tensorflow-macos==2.8.0->-r ../requirements.txt (line 8)) (2.8.0)\n",
      "Requirement already satisfied: flatbuffers>=1.12 in /Users/tamarapallien/neuefische/capstone /ds-capstone-alzheimers-/.venv/lib/python3.9/site-packages (from tensorflow-macos==2.8.0->-r ../requirements.txt (line 8)) (2.0)\n",
      "Requirement already satisfied: h5py>=2.9.0 in /Users/tamarapallien/neuefische/capstone /ds-capstone-alzheimers-/.venv/lib/python3.9/site-packages (from tensorflow-macos==2.8.0->-r ../requirements.txt (line 8)) (3.7.0)\n",
      "Requirement already satisfied: astunparse>=1.6.0 in /Users/tamarapallien/neuefische/capstone /ds-capstone-alzheimers-/.venv/lib/python3.9/site-packages (from tensorflow-macos==2.8.0->-r ../requirements.txt (line 8)) (1.6.3)\n",
      "Requirement already satisfied: typing-extensions>=3.6.6 in /Users/tamarapallien/neuefische/capstone /ds-capstone-alzheimers-/.venv/lib/python3.9/site-packages (from tensorflow-macos==2.8.0->-r ../requirements.txt (line 8)) (4.3.0)\n",
      "Requirement already satisfied: tf-estimator-nightly==2.8.0.dev2021122109 in /Users/tamarapallien/neuefische/capstone /ds-capstone-alzheimers-/.venv/lib/python3.9/site-packages (from tensorflow-macos==2.8.0->-r ../requirements.txt (line 8)) (2.8.0.dev2021122109)\n",
      "Requirement already satisfied: termcolor>=1.1.0 in /Users/tamarapallien/neuefische/capstone /ds-capstone-alzheimers-/.venv/lib/python3.9/site-packages (from tensorflow-macos==2.8.0->-r ../requirements.txt (line 8)) (1.1.0)\n",
      "Requirement already satisfied: keras-preprocessing>=1.1.1 in /Users/tamarapallien/neuefische/capstone /ds-capstone-alzheimers-/.venv/lib/python3.9/site-packages (from tensorflow-macos==2.8.0->-r ../requirements.txt (line 8)) (1.1.2)\n",
      "Requirement already satisfied: gast>=0.2.1 in /Users/tamarapallien/neuefische/capstone /ds-capstone-alzheimers-/.venv/lib/python3.9/site-packages (from tensorflow-macos==2.8.0->-r ../requirements.txt (line 8)) (0.5.3)\n",
      "Requirement already satisfied: libclang>=9.0.1 in /Users/tamarapallien/neuefische/capstone /ds-capstone-alzheimers-/.venv/lib/python3.9/site-packages (from tensorflow-macos==2.8.0->-r ../requirements.txt (line 8)) (14.0.6)\n",
      "Requirement already satisfied: google-pasta>=0.1.1 in /Users/tamarapallien/neuefische/capstone /ds-capstone-alzheimers-/.venv/lib/python3.9/site-packages (from tensorflow-macos==2.8.0->-r ../requirements.txt (line 8)) (0.2.0)\n",
      "Requirement already satisfied: opt-einsum>=2.3.2 in /Users/tamarapallien/neuefische/capstone /ds-capstone-alzheimers-/.venv/lib/python3.9/site-packages (from tensorflow-macos==2.8.0->-r ../requirements.txt (line 8)) (3.3.0)\n",
      "Requirement already satisfied: absl-py>=0.4.0 in /Users/tamarapallien/neuefische/capstone /ds-capstone-alzheimers-/.venv/lib/python3.9/site-packages (from tensorflow-macos==2.8.0->-r ../requirements.txt (line 8)) (1.2.0)\n",
      "Requirement already satisfied: setuptools in /Users/tamarapallien/neuefische/capstone /ds-capstone-alzheimers-/.venv/lib/python3.9/site-packages (from tensorflow-macos==2.8.0->-r ../requirements.txt (line 8)) (58.1.0)\n",
      "Requirement already satisfied: grpcio<2.0,>=1.24.3 in /Users/tamarapallien/neuefische/capstone /ds-capstone-alzheimers-/.venv/lib/python3.9/site-packages (from tensorflow-macos==2.8.0->-r ../requirements.txt (line 8)) (1.47.0)\n",
      "Requirement already satisfied: wrapt>=1.11.0 in /Users/tamarapallien/neuefische/capstone /ds-capstone-alzheimers-/.venv/lib/python3.9/site-packages (from tensorflow-macos==2.8.0->-r ../requirements.txt (line 8)) (1.14.1)\n",
      "Requirement already satisfied: six>=1.12.0 in /Users/tamarapallien/neuefische/capstone /ds-capstone-alzheimers-/.venv/lib/python3.9/site-packages (from tensorflow-macos==2.8.0->-r ../requirements.txt (line 8)) (1.15.0)\n",
      "Requirement already satisfied: wheel~=0.35 in /Users/tamarapallien/neuefische/capstone /ds-capstone-alzheimers-/.venv/lib/python3.9/site-packages (from tensorflow-metal==0.4.0->-r ../requirements.txt (line 9)) (0.37.1)\n",
      "Requirement already satisfied: typeguard>=2.7 in /Users/tamarapallien/neuefische/capstone /ds-capstone-alzheimers-/.venv/lib/python3.9/site-packages (from tensorflow-addons==0.17.1->-r ../requirements.txt (line 13)) (2.13.3)\n",
      "Requirement already satisfied: psutil in /Users/tamarapallien/neuefische/capstone /ds-capstone-alzheimers-/.venv/lib/python3.9/site-packages (from jgo>=1.0.3->pyimagej==1.2.1->-r ../requirements.txt (line 7)) (5.9.1)\n",
      "Requirement already satisfied: MarkupSafe>=2.0 in /Users/tamarapallien/neuefische/capstone /ds-capstone-alzheimers-/.venv/lib/python3.9/site-packages (from jinja2>=2.1->jupyterlab==3.2.6->-r ../requirements.txt (line 1)) (2.1.1)\n",
      "Requirement already satisfied: terminado>=0.8.3 in /Users/tamarapallien/neuefische/capstone /ds-capstone-alzheimers-/.venv/lib/python3.9/site-packages (from jupyter-server~=1.4->jupyterlab==3.2.6->-r ../requirements.txt (line 1)) (0.15.0)\n",
      "Requirement already satisfied: anyio<4,>=3.1.0 in /Users/tamarapallien/neuefische/capstone /ds-capstone-alzheimers-/.venv/lib/python3.9/site-packages (from jupyter-server~=1.4->jupyterlab==3.2.6->-r ../requirements.txt (line 1)) (3.6.1)\n",
      "Requirement already satisfied: pyzmq>=17 in /Users/tamarapallien/neuefische/capstone /ds-capstone-alzheimers-/.venv/lib/python3.9/site-packages (from jupyter-server~=1.4->jupyterlab==3.2.6->-r ../requirements.txt (line 1)) (23.2.1)\n",
      "Requirement already satisfied: websocket-client in /Users/tamarapallien/neuefische/capstone /ds-capstone-alzheimers-/.venv/lib/python3.9/site-packages (from jupyter-server~=1.4->jupyterlab==3.2.6->-r ../requirements.txt (line 1)) (1.3.3)\n",
      "Requirement already satisfied: argon2-cffi in /Users/tamarapallien/neuefische/capstone /ds-capstone-alzheimers-/.venv/lib/python3.9/site-packages (from jupyter-server~=1.4->jupyterlab==3.2.6->-r ../requirements.txt (line 1)) (21.3.0)\n",
      "Requirement already satisfied: prometheus-client in /Users/tamarapallien/neuefische/capstone /ds-capstone-alzheimers-/.venv/lib/python3.9/site-packages (from jupyter-server~=1.4->jupyterlab==3.2.6->-r ../requirements.txt (line 1)) (0.14.1)\n",
      "Requirement already satisfied: Send2Trash in /Users/tamarapallien/neuefische/capstone /ds-capstone-alzheimers-/.venv/lib/python3.9/site-packages (from jupyter-server~=1.4->jupyterlab==3.2.6->-r ../requirements.txt (line 1)) (1.8.0)\n",
      "Requirement already satisfied: jupyter-client>=6.1.12 in /Users/tamarapallien/neuefische/capstone /ds-capstone-alzheimers-/.venv/lib/python3.9/site-packages (from jupyter-server~=1.4->jupyterlab==3.2.6->-r ../requirements.txt (line 1)) (7.3.4)\n",
      "Requirement already satisfied: nbconvert>=6.4.4 in /Users/tamarapallien/neuefische/capstone /ds-capstone-alzheimers-/.venv/lib/python3.9/site-packages (from jupyter-server~=1.4->jupyterlab==3.2.6->-r ../requirements.txt (line 1)) (6.5.3)\n",
      "Requirement already satisfied: traitlets>=5.1 in /Users/tamarapallien/neuefische/capstone /ds-capstone-alzheimers-/.venv/lib/python3.9/site-packages (from jupyter-server~=1.4->jupyterlab==3.2.6->-r ../requirements.txt (line 1)) (5.3.0)\n",
      "Requirement already satisfied: nbformat>=5.2.0 in /Users/tamarapallien/neuefische/capstone /ds-capstone-alzheimers-/.venv/lib/python3.9/site-packages (from jupyter-server~=1.4->jupyterlab==3.2.6->-r ../requirements.txt (line 1)) (5.4.0)\n",
      "Requirement already satisfied: importlib-metadata>=3.6 in /Users/tamarapallien/neuefische/capstone /ds-capstone-alzheimers-/.venv/lib/python3.9/site-packages (from jupyterlab-server~=2.3->jupyterlab==3.2.6->-r ../requirements.txt (line 1)) (4.12.0)\n",
      "Requirement already satisfied: json5 in /Users/tamarapallien/neuefische/capstone /ds-capstone-alzheimers-/.venv/lib/python3.9/site-packages (from jupyterlab-server~=2.3->jupyterlab==3.2.6->-r ../requirements.txt (line 1)) (0.9.9)\n",
      "Requirement already satisfied: requests in /Users/tamarapallien/neuefische/capstone /ds-capstone-alzheimers-/.venv/lib/python3.9/site-packages (from jupyterlab-server~=2.3->jupyterlab==3.2.6->-r ../requirements.txt (line 1)) (2.28.1)\n",
      "Requirement already satisfied: jsonschema>=3.0.1 in /Users/tamarapallien/neuefische/capstone /ds-capstone-alzheimers-/.venv/lib/python3.9/site-packages (from jupyterlab-server~=2.3->jupyterlab==3.2.6->-r ../requirements.txt (line 1)) (4.10.0)\n",
      "Requirement already satisfied: babel in /Users/tamarapallien/neuefische/capstone /ds-capstone-alzheimers-/.venv/lib/python3.9/site-packages (from jupyterlab-server~=2.3->jupyterlab==3.2.6->-r ../requirements.txt (line 1)) (2.10.3)\n",
      "Requirement already satisfied: tifffile in /Users/tamarapallien/neuefische/capstone /ds-capstone-alzheimers-/.venv/lib/python3.9/site-packages (from labeling>=0.1.12->pyimagej==1.2.1->-r ../requirements.txt (line 7)) (2022.8.12)\n",
      "Requirement already satisfied: ipython-genutils in /Users/tamarapallien/neuefische/capstone /ds-capstone-alzheimers-/.venv/lib/python3.9/site-packages (from nbclassic~=0.2->jupyterlab==3.2.6->-r ../requirements.txt (line 1)) (0.2.0)\n",
      "Requirement already satisfied: nest-asyncio>=1.5 in /Users/tamarapallien/neuefische/capstone /ds-capstone-alzheimers-/.venv/lib/python3.9/site-packages (from nbclassic~=0.2->jupyterlab==3.2.6->-r ../requirements.txt (line 1)) (1.5.5)\n",
      "Requirement already satisfied: notebook-shim>=0.1.0 in /Users/tamarapallien/neuefische/capstone /ds-capstone-alzheimers-/.venv/lib/python3.9/site-packages (from nbclassic~=0.2->jupyterlab==3.2.6->-r ../requirements.txt (line 1)) (0.1.0)\n",
      "Requirement already satisfied: ipykernel in /Users/tamarapallien/neuefische/capstone /ds-capstone-alzheimers-/.venv/lib/python3.9/site-packages (from nbclassic~=0.2->jupyterlab==3.2.6->-r ../requirements.txt (line 1)) (6.15.1)\n",
      "Requirement already satisfied: markdown>=2.6.8 in /Users/tamarapallien/neuefische/capstone /ds-capstone-alzheimers-/.venv/lib/python3.9/site-packages (from tensorboard<2.9,>=2.8->tensorflow-macos==2.8.0->-r ../requirements.txt (line 8)) (3.4.1)\n",
      "Requirement already satisfied: tensorboard-data-server<0.7.0,>=0.6.0 in /Users/tamarapallien/neuefische/capstone /ds-capstone-alzheimers-/.venv/lib/python3.9/site-packages (from tensorboard<2.9,>=2.8->tensorflow-macos==2.8.0->-r ../requirements.txt (line 8)) (0.6.1)\n",
      "Requirement already satisfied: werkzeug>=0.11.15 in /Users/tamarapallien/neuefische/capstone /ds-capstone-alzheimers-/.venv/lib/python3.9/site-packages (from tensorboard<2.9,>=2.8->tensorflow-macos==2.8.0->-r ../requirements.txt (line 8)) (2.2.2)\n",
      "Requirement already satisfied: tensorboard-plugin-wit>=1.6.0 in /Users/tamarapallien/neuefische/capstone /ds-capstone-alzheimers-/.venv/lib/python3.9/site-packages (from tensorboard<2.9,>=2.8->tensorflow-macos==2.8.0->-r ../requirements.txt (line 8)) (1.8.1)\n",
      "Requirement already satisfied: google-auth-oauthlib<0.5,>=0.4.1 in /Users/tamarapallien/neuefische/capstone /ds-capstone-alzheimers-/.venv/lib/python3.9/site-packages (from tensorboard<2.9,>=2.8->tensorflow-macos==2.8.0->-r ../requirements.txt (line 8)) (0.4.6)\n",
      "Requirement already satisfied: google-auth<3,>=1.6.3 in /Users/tamarapallien/neuefische/capstone /ds-capstone-alzheimers-/.venv/lib/python3.9/site-packages (from tensorboard<2.9,>=2.8->tensorflow-macos==2.8.0->-r ../requirements.txt (line 8)) (2.10.0)\n",
      "Requirement already satisfied: pygments>=2.4.0 in /Users/tamarapallien/neuefische/capstone /ds-capstone-alzheimers-/.venv/lib/python3.9/site-packages (from ipython->jupyterlab==3.2.6->-r ../requirements.txt (line 1)) (2.13.0)\n",
      "Requirement already satisfied: appnope in /Users/tamarapallien/neuefische/capstone /ds-capstone-alzheimers-/.venv/lib/python3.9/site-packages (from ipython->jupyterlab==3.2.6->-r ../requirements.txt (line 1)) (0.1.3)\n",
      "Requirement already satisfied: prompt-toolkit!=3.0.0,!=3.0.1,<3.1.0,>=2.0.0 in /Users/tamarapallien/neuefische/capstone /ds-capstone-alzheimers-/.venv/lib/python3.9/site-packages (from ipython->jupyterlab==3.2.6->-r ../requirements.txt (line 1)) (3.0.30)\n",
      "Requirement already satisfied: backcall in /Users/tamarapallien/neuefische/capstone /ds-capstone-alzheimers-/.venv/lib/python3.9/site-packages (from ipython->jupyterlab==3.2.6->-r ../requirements.txt (line 1)) (0.2.0)\n",
      "Requirement already satisfied: stack-data in /Users/tamarapallien/neuefische/capstone /ds-capstone-alzheimers-/.venv/lib/python3.9/site-packages (from ipython->jupyterlab==3.2.6->-r ../requirements.txt (line 1)) (0.4.0)\n",
      "Requirement already satisfied: pickleshare in /Users/tamarapallien/neuefische/capstone /ds-capstone-alzheimers-/.venv/lib/python3.9/site-packages (from ipython->jupyterlab==3.2.6->-r ../requirements.txt (line 1)) (0.7.5)\n",
      "Requirement already satisfied: jedi>=0.16 in /Users/tamarapallien/neuefische/capstone /ds-capstone-alzheimers-/.venv/lib/python3.9/site-packages (from ipython->jupyterlab==3.2.6->-r ../requirements.txt (line 1)) (0.18.1)\n",
      "Requirement already satisfied: pexpect>4.3 in /Users/tamarapallien/neuefische/capstone /ds-capstone-alzheimers-/.venv/lib/python3.9/site-packages (from ipython->jupyterlab==3.2.6->-r ../requirements.txt (line 1)) (4.8.0)\n",
      "Requirement already satisfied: matplotlib-inline in /Users/tamarapallien/neuefische/capstone /ds-capstone-alzheimers-/.venv/lib/python3.9/site-packages (from ipython->jupyterlab==3.2.6->-r ../requirements.txt (line 1)) (0.1.3)\n",
      "Requirement already satisfied: decorator in /Users/tamarapallien/neuefische/capstone /ds-capstone-alzheimers-/.venv/lib/python3.9/site-packages (from ipython->jupyterlab==3.2.6->-r ../requirements.txt (line 1)) (5.1.1)\n",
      "Requirement already satisfied: sniffio>=1.1 in /Users/tamarapallien/neuefische/capstone /ds-capstone-alzheimers-/.venv/lib/python3.9/site-packages (from anyio<4,>=3.1.0->jupyter-server~=1.4->jupyterlab==3.2.6->-r ../requirements.txt (line 1)) (1.2.0)\n",
      "Requirement already satisfied: idna>=2.8 in /Users/tamarapallien/neuefische/capstone /ds-capstone-alzheimers-/.venv/lib/python3.9/site-packages (from anyio<4,>=3.1.0->jupyter-server~=1.4->jupyterlab==3.2.6->-r ../requirements.txt (line 1)) (3.3)\n",
      "Requirement already satisfied: cachetools<6.0,>=2.0.0 in /Users/tamarapallien/neuefische/capstone /ds-capstone-alzheimers-/.venv/lib/python3.9/site-packages (from google-auth<3,>=1.6.3->tensorboard<2.9,>=2.8->tensorflow-macos==2.8.0->-r ../requirements.txt (line 8)) (5.2.0)\n",
      "Requirement already satisfied: pyasn1-modules>=0.2.1 in /Users/tamarapallien/neuefische/capstone /ds-capstone-alzheimers-/.venv/lib/python3.9/site-packages (from google-auth<3,>=1.6.3->tensorboard<2.9,>=2.8->tensorflow-macos==2.8.0->-r ../requirements.txt (line 8)) (0.2.8)\n",
      "Requirement already satisfied: rsa<5,>=3.1.4 in /Users/tamarapallien/neuefische/capstone /ds-capstone-alzheimers-/.venv/lib/python3.9/site-packages (from google-auth<3,>=1.6.3->tensorboard<2.9,>=2.8->tensorflow-macos==2.8.0->-r ../requirements.txt (line 8)) (4.9)\n",
      "Requirement already satisfied: requests-oauthlib>=0.7.0 in /Users/tamarapallien/neuefische/capstone /ds-capstone-alzheimers-/.venv/lib/python3.9/site-packages (from google-auth-oauthlib<0.5,>=0.4.1->tensorboard<2.9,>=2.8->tensorflow-macos==2.8.0->-r ../requirements.txt (line 8)) (1.3.1)\n",
      "Requirement already satisfied: zipp>=0.5 in /Users/tamarapallien/neuefische/capstone /ds-capstone-alzheimers-/.venv/lib/python3.9/site-packages (from importlib-metadata>=3.6->jupyterlab-server~=2.3->jupyterlab==3.2.6->-r ../requirements.txt (line 1)) (3.8.1)\n",
      "Requirement already satisfied: parso<0.9.0,>=0.8.0 in /Users/tamarapallien/neuefische/capstone /ds-capstone-alzheimers-/.venv/lib/python3.9/site-packages (from jedi>=0.16->ipython->jupyterlab==3.2.6->-r ../requirements.txt (line 1)) (0.8.3)\n",
      "Requirement already satisfied: attrs>=17.4.0 in /Users/tamarapallien/neuefische/capstone /ds-capstone-alzheimers-/.venv/lib/python3.9/site-packages (from jsonschema>=3.0.1->jupyterlab-server~=2.3->jupyterlab==3.2.6->-r ../requirements.txt (line 1)) (22.1.0)\n",
      "Requirement already satisfied: pyrsistent!=0.17.0,!=0.17.1,!=0.17.2,>=0.14.0 in /Users/tamarapallien/neuefische/capstone /ds-capstone-alzheimers-/.venv/lib/python3.9/site-packages (from jsonschema>=3.0.1->jupyterlab-server~=2.3->jupyterlab==3.2.6->-r ../requirements.txt (line 1)) (0.18.1)\n",
      "Requirement already satisfied: entrypoints in /Users/tamarapallien/neuefische/capstone /ds-capstone-alzheimers-/.venv/lib/python3.9/site-packages (from jupyter-client>=6.1.12->jupyter-server~=1.4->jupyterlab==3.2.6->-r ../requirements.txt (line 1)) (0.4)\n",
      "Requirement already satisfied: beautifulsoup4 in /Users/tamarapallien/neuefische/capstone /ds-capstone-alzheimers-/.venv/lib/python3.9/site-packages (from nbconvert>=6.4.4->jupyter-server~=1.4->jupyterlab==3.2.6->-r ../requirements.txt (line 1)) (4.11.1)\n",
      "Requirement already satisfied: bleach in /Users/tamarapallien/neuefische/capstone /ds-capstone-alzheimers-/.venv/lib/python3.9/site-packages (from nbconvert>=6.4.4->jupyter-server~=1.4->jupyterlab==3.2.6->-r ../requirements.txt (line 1)) (5.0.1)\n",
      "Requirement already satisfied: tinycss2 in /Users/tamarapallien/neuefische/capstone /ds-capstone-alzheimers-/.venv/lib/python3.9/site-packages (from nbconvert>=6.4.4->jupyter-server~=1.4->jupyterlab==3.2.6->-r ../requirements.txt (line 1)) (1.1.1)\n",
      "Requirement already satisfied: lxml in /Users/tamarapallien/neuefische/capstone /ds-capstone-alzheimers-/.venv/lib/python3.9/site-packages (from nbconvert>=6.4.4->jupyter-server~=1.4->jupyterlab==3.2.6->-r ../requirements.txt (line 1)) (4.9.1)\n",
      "Requirement already satisfied: nbclient>=0.5.0 in /Users/tamarapallien/neuefische/capstone /ds-capstone-alzheimers-/.venv/lib/python3.9/site-packages (from nbconvert>=6.4.4->jupyter-server~=1.4->jupyterlab==3.2.6->-r ../requirements.txt (line 1)) (0.6.6)\n",
      "Requirement already satisfied: mistune<2,>=0.8.1 in /Users/tamarapallien/neuefische/capstone /ds-capstone-alzheimers-/.venv/lib/python3.9/site-packages (from nbconvert>=6.4.4->jupyter-server~=1.4->jupyterlab==3.2.6->-r ../requirements.txt (line 1)) (0.8.4)\n",
      "Requirement already satisfied: jupyterlab-pygments in /Users/tamarapallien/neuefische/capstone /ds-capstone-alzheimers-/.venv/lib/python3.9/site-packages (from nbconvert>=6.4.4->jupyter-server~=1.4->jupyterlab==3.2.6->-r ../requirements.txt (line 1)) (0.2.2)\n",
      "Requirement already satisfied: defusedxml in /Users/tamarapallien/neuefische/capstone /ds-capstone-alzheimers-/.venv/lib/python3.9/site-packages (from nbconvert>=6.4.4->jupyter-server~=1.4->jupyterlab==3.2.6->-r ../requirements.txt (line 1)) (0.7.1)\n",
      "Requirement already satisfied: pandocfilters>=1.4.1 in /Users/tamarapallien/neuefische/capstone /ds-capstone-alzheimers-/.venv/lib/python3.9/site-packages (from nbconvert>=6.4.4->jupyter-server~=1.4->jupyterlab==3.2.6->-r ../requirements.txt (line 1)) (1.5.0)\n",
      "Requirement already satisfied: fastjsonschema in /Users/tamarapallien/neuefische/capstone /ds-capstone-alzheimers-/.venv/lib/python3.9/site-packages (from nbformat>=5.2.0->jupyter-server~=1.4->jupyterlab==3.2.6->-r ../requirements.txt (line 1)) (2.16.1)\n",
      "Requirement already satisfied: ptyprocess>=0.5 in /Users/tamarapallien/neuefische/capstone /ds-capstone-alzheimers-/.venv/lib/python3.9/site-packages (from pexpect>4.3->ipython->jupyterlab==3.2.6->-r ../requirements.txt (line 1)) (0.7.0)\n",
      "Requirement already satisfied: wcwidth in /Users/tamarapallien/neuefische/capstone /ds-capstone-alzheimers-/.venv/lib/python3.9/site-packages (from prompt-toolkit!=3.0.0,!=3.0.1,<3.1.0,>=2.0.0->ipython->jupyterlab==3.2.6->-r ../requirements.txt (line 1)) (0.2.5)\n",
      "Requirement already satisfied: charset-normalizer<3,>=2 in /Users/tamarapallien/neuefische/capstone /ds-capstone-alzheimers-/.venv/lib/python3.9/site-packages (from requests->jupyterlab-server~=2.3->jupyterlab==3.2.6->-r ../requirements.txt (line 1)) (2.1.0)\n",
      "Requirement already satisfied: urllib3<1.27,>=1.21.1 in /Users/tamarapallien/neuefische/capstone /ds-capstone-alzheimers-/.venv/lib/python3.9/site-packages (from requests->jupyterlab-server~=2.3->jupyterlab==3.2.6->-r ../requirements.txt (line 1)) (1.26.11)\n",
      "Requirement already satisfied: certifi>=2017.4.17 in /Users/tamarapallien/neuefische/capstone /ds-capstone-alzheimers-/.venv/lib/python3.9/site-packages (from requests->jupyterlab-server~=2.3->jupyterlab==3.2.6->-r ../requirements.txt (line 1)) (2022.6.15)\n",
      "Requirement already satisfied: argon2-cffi-bindings in /Users/tamarapallien/neuefische/capstone /ds-capstone-alzheimers-/.venv/lib/python3.9/site-packages (from argon2-cffi->jupyter-server~=1.4->jupyterlab==3.2.6->-r ../requirements.txt (line 1)) (21.2.0)\n",
      "Requirement already satisfied: debugpy>=1.0 in /Users/tamarapallien/neuefische/capstone /ds-capstone-alzheimers-/.venv/lib/python3.9/site-packages (from ipykernel->nbclassic~=0.2->jupyterlab==3.2.6->-r ../requirements.txt (line 1)) (1.6.3)\n",
      "Requirement already satisfied: pure-eval in /Users/tamarapallien/neuefische/capstone /ds-capstone-alzheimers-/.venv/lib/python3.9/site-packages (from stack-data->ipython->jupyterlab==3.2.6->-r ../requirements.txt (line 1)) (0.2.2)\n",
      "Requirement already satisfied: asttokens in /Users/tamarapallien/neuefische/capstone /ds-capstone-alzheimers-/.venv/lib/python3.9/site-packages (from stack-data->ipython->jupyterlab==3.2.6->-r ../requirements.txt (line 1)) (2.0.8)\n",
      "Requirement already satisfied: executing in /Users/tamarapallien/neuefische/capstone /ds-capstone-alzheimers-/.venv/lib/python3.9/site-packages (from stack-data->ipython->jupyterlab==3.2.6->-r ../requirements.txt (line 1)) (0.10.0)\n",
      "Requirement already satisfied: pyasn1<0.5.0,>=0.4.6 in /Users/tamarapallien/neuefische/capstone /ds-capstone-alzheimers-/.venv/lib/python3.9/site-packages (from pyasn1-modules>=0.2.1->google-auth<3,>=1.6.3->tensorboard<2.9,>=2.8->tensorflow-macos==2.8.0->-r ../requirements.txt (line 8)) (0.4.8)\n",
      "Requirement already satisfied: oauthlib>=3.0.0 in /Users/tamarapallien/neuefische/capstone /ds-capstone-alzheimers-/.venv/lib/python3.9/site-packages (from requests-oauthlib>=0.7.0->google-auth-oauthlib<0.5,>=0.4.1->tensorboard<2.9,>=2.8->tensorflow-macos==2.8.0->-r ../requirements.txt (line 8)) (3.2.0)\n",
      "Requirement already satisfied: cffi>=1.0.1 in /Users/tamarapallien/neuefische/capstone /ds-capstone-alzheimers-/.venv/lib/python3.9/site-packages (from argon2-cffi-bindings->argon2-cffi->jupyter-server~=1.4->jupyterlab==3.2.6->-r ../requirements.txt (line 1)) (1.15.1)\n",
      "Requirement already satisfied: soupsieve>1.2 in /Users/tamarapallien/neuefische/capstone /ds-capstone-alzheimers-/.venv/lib/python3.9/site-packages (from beautifulsoup4->nbconvert>=6.4.4->jupyter-server~=1.4->jupyterlab==3.2.6->-r ../requirements.txt (line 1)) (2.3.2.post1)\n",
      "Requirement already satisfied: webencodings in /Users/tamarapallien/neuefische/capstone /ds-capstone-alzheimers-/.venv/lib/python3.9/site-packages (from bleach->nbconvert>=6.4.4->jupyter-server~=1.4->jupyterlab==3.2.6->-r ../requirements.txt (line 1)) (0.5.1)\n",
      "Requirement already satisfied: pycparser in /Users/tamarapallien/neuefische/capstone /ds-capstone-alzheimers-/.venv/lib/python3.9/site-packages (from cffi>=1.0.1->argon2-cffi-bindings->argon2-cffi->jupyter-server~=1.4->jupyterlab==3.2.6->-r ../requirements.txt (line 1)) (2.21)\n",
      "Note: you may need to restart the kernel to use updated packages.\n"
     ]
    }
   ],
   "source": [
    "pip install -r ../requirements.txt"
   ]
  },
  {
   "cell_type": "code",
   "execution_count": 2,
   "metadata": {},
   "outputs": [],
   "source": [
    "#Import all required packages\n",
    "import numpy as np\n",
    "import pandas as pd\n",
    "import seaborn as sns\n",
    "import matplotlib.pyplot as plt\n",
    "from matplotlib.patches import Rectangle\n",
    "from sklearn.model_selection import train_test_split\n",
    "import os\n",
    "\n",
    "# Import TensorFlow packages \n",
    "\n",
    "import tensorflow as tf   \n",
    "import tensorflow_hub as hub\n",
    "from tensorflow import keras\n",
    "from tensorflow.keras import layers\n",
    "from tensorflow.keras import regularizers\n",
    "from keras.models import Sequential\n",
    "from keras.layers import Dense, Activation, Dropout, InputLayer, Flatten, Conv2D, MaxPooling2D\n",
    "\n",
    "\n",
    "\n"
   ]
  },
  {
   "cell_type": "code",
   "execution_count": 3,
   "metadata": {},
   "outputs": [],
   "source": [
    "#to use functions from scripts in the image processing folder\n",
    "import sys\n",
    "from pathlib import Path\n",
    "sys.path.insert(0, str(Path(sys.path[0]).parent.absolute()))\n",
    "from EDA.EDA_functions import *\n",
    "from preprocessing.image_processing import load_MRI_gifs, extract_box, stacked_boxes"
   ]
  },
  {
   "cell_type": "code",
   "execution_count": 4,
   "metadata": {},
   "outputs": [
    {
     "data": {
      "text/html": [
       "<div>\n",
       "<style scoped>\n",
       "    .dataframe tbody tr th:only-of-type {\n",
       "        vertical-align: middle;\n",
       "    }\n",
       "\n",
       "    .dataframe tbody tr th {\n",
       "        vertical-align: top;\n",
       "    }\n",
       "\n",
       "    .dataframe thead th {\n",
       "        text-align: right;\n",
       "    }\n",
       "</style>\n",
       "<table border=\"1\" class=\"dataframe\">\n",
       "  <thead>\n",
       "    <tr style=\"text-align: right;\">\n",
       "      <th></th>\n",
       "      <th>ID</th>\n",
       "      <th>M/F</th>\n",
       "      <th>Hand</th>\n",
       "      <th>Age</th>\n",
       "      <th>Educ</th>\n",
       "      <th>SES</th>\n",
       "      <th>MMSE</th>\n",
       "      <th>CDR</th>\n",
       "      <th>eTIV</th>\n",
       "      <th>nWBV</th>\n",
       "      <th>ASF</th>\n",
       "      <th>Delay</th>\n",
       "    </tr>\n",
       "  </thead>\n",
       "  <tbody>\n",
       "    <tr>\n",
       "      <th>0</th>\n",
       "      <td>OAS1_0001_MR1</td>\n",
       "      <td>F</td>\n",
       "      <td>R</td>\n",
       "      <td>74</td>\n",
       "      <td>2.0</td>\n",
       "      <td>3.0</td>\n",
       "      <td>29.0</td>\n",
       "      <td>0.0</td>\n",
       "      <td>1344</td>\n",
       "      <td>0.743</td>\n",
       "      <td>1.306</td>\n",
       "      <td>NaN</td>\n",
       "    </tr>\n",
       "    <tr>\n",
       "      <th>1</th>\n",
       "      <td>OAS1_0002_MR1</td>\n",
       "      <td>F</td>\n",
       "      <td>R</td>\n",
       "      <td>55</td>\n",
       "      <td>4.0</td>\n",
       "      <td>1.0</td>\n",
       "      <td>29.0</td>\n",
       "      <td>0.0</td>\n",
       "      <td>1147</td>\n",
       "      <td>0.810</td>\n",
       "      <td>1.531</td>\n",
       "      <td>NaN</td>\n",
       "    </tr>\n",
       "  </tbody>\n",
       "</table>\n",
       "</div>"
      ],
      "text/plain": [
       "              ID M/F Hand  Age  Educ  SES  MMSE  CDR  eTIV   nWBV    ASF  \\\n",
       "0  OAS1_0001_MR1   F    R   74   2.0  3.0  29.0  0.0  1344  0.743  1.306   \n",
       "1  OAS1_0002_MR1   F    R   55   4.0  1.0  29.0  0.0  1147  0.810  1.531   \n",
       "\n",
       "   Delay  \n",
       "0    NaN  \n",
       "1    NaN  "
      ]
     },
     "execution_count": 4,
     "metadata": {},
     "output_type": "execute_result"
    }
   ],
   "source": [
    "#Load the images \n",
    "df=pd.read_csv('/Users/tamarapallien/neuefische/capstone /ds-capstone-alzheimers-/Data/Tables/oasis_cross-sectional.csv')\n",
    "df.head(2)"
   ]
  },
  {
   "cell_type": "code",
   "execution_count": 5,
   "metadata": {},
   "outputs": [],
   "source": [
    "#Replace NaN in CDR column with 0 \n",
    "df['CDR'].fillna(0, inplace=True)"
   ]
  },
  {
   "cell_type": "code",
   "execution_count": 6,
   "metadata": {},
   "outputs": [],
   "source": [
    "## image loading\n",
    "def load_MRI_gifs(IDs, plane=\"all\"):\n",
    "    '''Given a set of IDs (\"OAS1_0xxx_MR1\") returns the atlas corrected traverse, sagittal and cortical images as numpy arrays'''\n",
    "    tra = []\n",
    "    sag = []\n",
    "    cor = []\n",
    "    for path in IDs:\n",
    "        path1 = '../Data/Images/' + path + '/PROCESSED/MPRAGE/T88_111/'\n",
    "        for img in os.listdir(path1):\n",
    "            if img.endswith('t88_gfc_tra_90.gif'):\n",
    "                tra.append(plt.imread(path1+img))\n",
    "            elif img.endswith('t88_gfc_sag_95.gif'):\n",
    "                sag.append(plt.imread(path1+img))\n",
    "            elif img.endswith('t88_gfc_cor_110.gif'):\n",
    "                cor.append(plt.imread(path1+img))\n",
    "    if plane == \"traverse\":\n",
    "        return np.array(tra)\n",
    "    elif plane == \"sagittal\":\n",
    "        return np.array(sag)\n",
    "    elif plane == \"cortical\":\n",
    "        return np.array(cor)\n",
    "    elif plane == \"all\":\n",
    "        return [np.array(tra), np.array(sag), np.array(cor)]\n",
    "    else:\n",
    "        print(\"Inncorect selection of planes\")"
   ]
  },
  {
   "cell_type": "code",
   "execution_count": 7,
   "metadata": {},
   "outputs": [],
   "source": [
    "#Load the single slice images \n",
    "tra, sag, cor= load_MRI_gifs(df[\"ID\"], \"all\")"
   ]
  },
  {
   "cell_type": "code",
   "execution_count": 8,
   "metadata": {},
   "outputs": [],
   "source": [
    "#create all labels\n",
    "labels=df['CDR']!=0\n",
    "labels=labels.astype(int) #change the bools to integer"
   ]
  },
  {
   "cell_type": "code",
   "execution_count": 9,
   "metadata": {},
   "outputs": [],
   "source": [
    "#Train, test split \n",
    "\n",
    "X_train, X_test, y_train, y_test=train_test_split(tra,labels, random_state=42, stratify=labels)"
   ]
  },
  {
   "cell_type": "code",
   "execution_count": 10,
   "metadata": {},
   "outputs": [
    {
     "data": {
      "text/plain": [
       "(436, 208, 176)"
      ]
     },
     "execution_count": 10,
     "metadata": {},
     "output_type": "execute_result"
    }
   ],
   "source": [
    "image_shape=tra.shape\n",
    "image_shape"
   ]
  },
  {
   "cell_type": "code",
   "execution_count": 11,
   "metadata": {},
   "outputs": [
    {
     "name": "stdout",
     "output_type": "stream",
     "text": [
      "Metal device set to: Apple M1\n",
      "\n",
      "systemMemory: 8.00 GB\n",
      "maxCacheSize: 2.67 GB\n",
      "\n"
     ]
    },
    {
     "name": "stderr",
     "output_type": "stream",
     "text": [
      "2022-08-19 14:52:08.861584: I tensorflow/core/common_runtime/pluggable_device/pluggable_device_factory.cc:305] Could not identify NUMA node of platform GPU ID 0, defaulting to 0. Your kernel may not have been built with NUMA support.\n",
      "2022-08-19 14:52:08.862238: I tensorflow/core/common_runtime/pluggable_device/pluggable_device_factory.cc:271] Created TensorFlow device (/job:localhost/replica:0/task:0/device:GPU:0 with 0 MB memory) -> physical PluggableDevice (device: 0, name: METAL, pci bus id: <undefined>)\n"
     ]
    }
   ],
   "source": [
    "# Built a model \n",
    "model=Sequential()\n",
    "model.add(InputLayer(input_shape=[208,176]))\n",
    "model.add(Flatten())\n",
    "model.add(Dense(units=20, activation='relu'))\n",
    "model.add(Dense(units=1, activation='softmax'))\n"
   ]
  },
  {
   "cell_type": "code",
   "execution_count": 12,
   "metadata": {},
   "outputs": [],
   "source": [
    "#Compile model \n",
    "import tensorflow_addons as tfa\n",
    "\n",
    "model.compile(optimizer='adam', loss='binary_crossentropy',metrics=['accuracy', keras.metrics.Recall(), tfa.metrics.MatthewsCorrelationCoefficient(num_classes=2)])"
   ]
  },
  {
   "cell_type": "code",
   "execution_count": 13,
   "metadata": {},
   "outputs": [
    {
     "name": "stdout",
     "output_type": "stream",
     "text": [
      "Epoch 1/10\n"
     ]
    },
    {
     "name": "stderr",
     "output_type": "stream",
     "text": [
      "2022-08-19 14:52:09.180797: W tensorflow/core/platform/profile_utils/cpu_utils.cc:128] Failed to get CPU frequency: 0 Hz\n",
      "2022-08-19 14:52:09.789704: I tensorflow/core/grappler/optimizers/custom_graph_optimizer_registry.cc:113] Plugin optimizer for device_type GPU is enabled.\n"
     ]
    },
    {
     "name": "stdout",
     "output_type": "stream",
     "text": [
      "9/9 [==============================] - ETA: 0s - loss: 86.5943 - accuracy: 0.2299 - recall: 1.0000 - MatthewsCorrelationCoefficient: 0.0000e+00"
     ]
    },
    {
     "name": "stderr",
     "output_type": "stream",
     "text": [
      "2022-08-19 14:52:10.826013: I tensorflow/core/grappler/optimizers/custom_graph_optimizer_registry.cc:113] Plugin optimizer for device_type GPU is enabled.\n"
     ]
    },
    {
     "name": "stdout",
     "output_type": "stream",
     "text": [
      "9/9 [==============================] - 2s 80ms/step - loss: 86.5943 - accuracy: 0.2299 - recall: 1.0000 - MatthewsCorrelationCoefficient: 0.0000e+00 - val_loss: 0.6926 - val_accuracy: 0.2273 - val_recall: 1.0000 - val_MatthewsCorrelationCoefficient: 0.0000e+00\n",
      "Epoch 2/10\n",
      "9/9 [==============================] - 0s 32ms/step - loss: 0.6923 - accuracy: 0.2299 - recall: 1.0000 - MatthewsCorrelationCoefficient: 0.0000e+00 - val_loss: 0.6910 - val_accuracy: 0.2273 - val_recall: 1.0000 - val_MatthewsCorrelationCoefficient: 0.0000e+00\n",
      "Epoch 3/10\n",
      "9/9 [==============================] - 0s 40ms/step - loss: 0.6905 - accuracy: 0.2299 - recall: 1.0000 - MatthewsCorrelationCoefficient: 0.0000e+00 - val_loss: 0.6891 - val_accuracy: 0.2273 - val_recall: 1.0000 - val_MatthewsCorrelationCoefficient: 0.0000e+00\n",
      "Epoch 4/10\n",
      "9/9 [==============================] - 0s 40ms/step - loss: 0.6886 - accuracy: 0.2299 - recall: 1.0000 - MatthewsCorrelationCoefficient: 0.0000e+00 - val_loss: 0.6870 - val_accuracy: 0.2273 - val_recall: 1.0000 - val_MatthewsCorrelationCoefficient: 0.0000e+00\n",
      "Epoch 5/10\n",
      "9/9 [==============================] - 0s 35ms/step - loss: 0.6866 - accuracy: 0.2299 - recall: 1.0000 - MatthewsCorrelationCoefficient: 0.0000e+00 - val_loss: 0.6850 - val_accuracy: 0.2273 - val_recall: 1.0000 - val_MatthewsCorrelationCoefficient: 0.0000e+00\n",
      "Epoch 6/10\n",
      "9/9 [==============================] - 0s 34ms/step - loss: 0.6846 - accuracy: 0.2299 - recall: 1.0000 - MatthewsCorrelationCoefficient: 0.0000e+00 - val_loss: 0.6829 - val_accuracy: 0.2273 - val_recall: 1.0000 - val_MatthewsCorrelationCoefficient: 0.0000e+00\n",
      "Epoch 7/10\n",
      "9/9 [==============================] - 0s 41ms/step - loss: 0.6825 - accuracy: 0.2299 - recall: 1.0000 - MatthewsCorrelationCoefficient: 0.0000e+00 - val_loss: 0.6808 - val_accuracy: 0.2273 - val_recall: 1.0000 - val_MatthewsCorrelationCoefficient: 0.0000e+00\n",
      "Epoch 8/10\n",
      "9/9 [==============================] - 0s 33ms/step - loss: 0.6804 - accuracy: 0.2299 - recall: 1.0000 - MatthewsCorrelationCoefficient: 0.0000e+00 - val_loss: 0.6786 - val_accuracy: 0.2273 - val_recall: 1.0000 - val_MatthewsCorrelationCoefficient: 0.0000e+00\n",
      "Epoch 9/10\n",
      "9/9 [==============================] - 0s 36ms/step - loss: 0.6783 - accuracy: 0.2299 - recall: 1.0000 - MatthewsCorrelationCoefficient: 0.0000e+00 - val_loss: 0.6767 - val_accuracy: 0.2273 - val_recall: 1.0000 - val_MatthewsCorrelationCoefficient: 0.0000e+00\n",
      "Epoch 10/10\n",
      "9/9 [==============================] - 0s 30ms/step - loss: 0.6764 - accuracy: 0.2299 - recall: 1.0000 - MatthewsCorrelationCoefficient: 0.0000e+00 - val_loss: 0.6746 - val_accuracy: 0.2273 - val_recall: 1.0000 - val_MatthewsCorrelationCoefficient: 0.0000e+00\n"
     ]
    },
    {
     "data": {
      "text/plain": [
       "<keras.callbacks.History at 0x287f9f430>"
      ]
     },
     "execution_count": 13,
     "metadata": {},
     "output_type": "execute_result"
    }
   ],
   "source": [
    "#Train the model \n",
    "model.fit(X_train, y_train, batch_size=32, epochs=10, verbose=True, validation_split=0.2)"
   ]
  },
  {
   "cell_type": "code",
   "execution_count": 15,
   "metadata": {},
   "outputs": [
    {
     "data": {
      "text/plain": [
       "1"
      ]
     },
     "execution_count": 15,
     "metadata": {},
     "output_type": "execute_result"
    }
   ],
   "source": [
    "#Evaluate the model \n",
    "(y_pred>0.5).astype(int).max()"
   ]
  },
  {
   "cell_type": "code",
   "execution_count": 28,
   "metadata": {},
   "outputs": [],
   "source": [
    "model2=Sequential()\n",
    "model2.add(Conv2D(2,3,activation='relu', padding='same', input_shape=(208, 176,1)))\n",
    "model2.add(Conv2D(2,3, activation='relu', padding='same'))\n",
    "model2.add(MaxPooling2D(pool_size=(2,2)))\n",
    "model2.add(Conv2D(2,3, activation='relu', padding='same'))\n",
    "model2.add(Conv2D(2,3, activation='relu', padding='same'))\n",
    "model2.add(MaxPooling2D(pool_size=(2,2)))\n",
    "model2.add(Flatten())\n",
    "model2.add(Dropout(0.15))\n",
    "model2.add(Dense(100, activation='relu'))\n",
    "model2.add(Dropout(0.15))\n",
    "model2.add(Dense(50, activation='relu'))\n",
    "model2.add(Dense(1, activation='sigmoid'))"
   ]
  },
  {
   "cell_type": "code",
   "execution_count": 29,
   "metadata": {},
   "outputs": [],
   "source": [
    "model2.compile(optimizer=tf.keras.optimizers.Adam(learning_rate=0.001),loss='sparse_categorical_crossentropy', metrics=['accuracy'])"
   ]
  },
  {
   "cell_type": "code",
   "execution_count": 30,
   "metadata": {},
   "outputs": [
    {
     "name": "stdout",
     "output_type": "stream",
     "text": [
      "Epoch 1/50\n"
     ]
    },
    {
     "name": "stderr",
     "output_type": "stream",
     "text": [
      "2022-08-19 14:59:14.348496: I tensorflow/core/grappler/optimizers/custom_graph_optimizer_registry.cc:113] Plugin optimizer for device_type GPU is enabled.\n"
     ]
    },
    {
     "name": "stdout",
     "output_type": "stream",
     "text": [
      "9/9 [==============================] - 1s 91ms/step - loss: 0.0000e+00 - accuracy: 0.7663 - val_loss: 0.0000e+00 - val_accuracy: 0.7727\n",
      "Epoch 2/50\n",
      "1/9 [==>...........................] - ETA: 0s - loss: 0.0000e+00 - accuracy: 0.8125"
     ]
    },
    {
     "name": "stderr",
     "output_type": "stream",
     "text": [
      "2022-08-19 14:59:15.216854: I tensorflow/core/grappler/optimizers/custom_graph_optimizer_registry.cc:113] Plugin optimizer for device_type GPU is enabled.\n"
     ]
    },
    {
     "name": "stdout",
     "output_type": "stream",
     "text": [
      "9/9 [==============================] - 0s 35ms/step - loss: 0.0000e+00 - accuracy: 0.7701 - val_loss: 0.0000e+00 - val_accuracy: 0.7727\n",
      "Epoch 3/50\n",
      "9/9 [==============================] - 0s 30ms/step - loss: 0.0000e+00 - accuracy: 0.7701 - val_loss: 0.0000e+00 - val_accuracy: 0.7727\n",
      "Epoch 4/50\n",
      "9/9 [==============================] - 0s 30ms/step - loss: 0.0000e+00 - accuracy: 0.7701 - val_loss: 0.0000e+00 - val_accuracy: 0.7727\n",
      "Epoch 5/50\n",
      "9/9 [==============================] - 0s 31ms/step - loss: 0.0000e+00 - accuracy: 0.7701 - val_loss: 0.0000e+00 - val_accuracy: 0.7727\n",
      "Epoch 6/50\n",
      "9/9 [==============================] - 0s 30ms/step - loss: 0.0000e+00 - accuracy: 0.7701 - val_loss: 0.0000e+00 - val_accuracy: 0.7727\n",
      "Epoch 7/50\n",
      "9/9 [==============================] - 0s 31ms/step - loss: 0.0000e+00 - accuracy: 0.7701 - val_loss: 0.0000e+00 - val_accuracy: 0.7727\n",
      "Epoch 8/50\n",
      "9/9 [==============================] - 0s 29ms/step - loss: 0.0000e+00 - accuracy: 0.7701 - val_loss: 0.0000e+00 - val_accuracy: 0.7727\n",
      "Epoch 9/50\n",
      "9/9 [==============================] - 0s 30ms/step - loss: 0.0000e+00 - accuracy: 0.7701 - val_loss: 0.0000e+00 - val_accuracy: 0.7727\n",
      "Epoch 10/50\n",
      "9/9 [==============================] - 0s 30ms/step - loss: 0.0000e+00 - accuracy: 0.7701 - val_loss: 0.0000e+00 - val_accuracy: 0.7727\n",
      "Epoch 11/50\n",
      "9/9 [==============================] - 0s 29ms/step - loss: 0.0000e+00 - accuracy: 0.7701 - val_loss: 0.0000e+00 - val_accuracy: 0.7727\n",
      "Epoch 12/50\n",
      "9/9 [==============================] - 0s 29ms/step - loss: 0.0000e+00 - accuracy: 0.7701 - val_loss: 0.0000e+00 - val_accuracy: 0.7727\n",
      "Epoch 13/50\n",
      "9/9 [==============================] - 0s 31ms/step - loss: 0.0000e+00 - accuracy: 0.7701 - val_loss: 0.0000e+00 - val_accuracy: 0.7727\n",
      "Epoch 14/50\n",
      "9/9 [==============================] - 0s 29ms/step - loss: 0.0000e+00 - accuracy: 0.7701 - val_loss: 0.0000e+00 - val_accuracy: 0.7727\n",
      "Epoch 15/50\n",
      "9/9 [==============================] - 0s 30ms/step - loss: 0.0000e+00 - accuracy: 0.7701 - val_loss: 0.0000e+00 - val_accuracy: 0.7727\n",
      "Epoch 16/50\n",
      "9/9 [==============================] - 0s 30ms/step - loss: 0.0000e+00 - accuracy: 0.7701 - val_loss: 0.0000e+00 - val_accuracy: 0.7727\n",
      "Epoch 17/50\n",
      "9/9 [==============================] - 0s 29ms/step - loss: 0.0000e+00 - accuracy: 0.7701 - val_loss: 0.0000e+00 - val_accuracy: 0.7727\n",
      "Epoch 18/50\n",
      "9/9 [==============================] - 0s 31ms/step - loss: 0.0000e+00 - accuracy: 0.7701 - val_loss: 0.0000e+00 - val_accuracy: 0.7727\n",
      "Epoch 19/50\n",
      "9/9 [==============================] - 0s 29ms/step - loss: 0.0000e+00 - accuracy: 0.7701 - val_loss: 0.0000e+00 - val_accuracy: 0.7727\n",
      "Epoch 20/50\n",
      "9/9 [==============================] - 0s 29ms/step - loss: 0.0000e+00 - accuracy: 0.7701 - val_loss: 0.0000e+00 - val_accuracy: 0.7727\n",
      "Epoch 21/50\n",
      "9/9 [==============================] - 0s 29ms/step - loss: 0.0000e+00 - accuracy: 0.7701 - val_loss: 0.0000e+00 - val_accuracy: 0.7727\n",
      "Epoch 22/50\n",
      "9/9 [==============================] - 0s 29ms/step - loss: 0.0000e+00 - accuracy: 0.7701 - val_loss: 0.0000e+00 - val_accuracy: 0.7727\n",
      "Epoch 23/50\n",
      "9/9 [==============================] - 0s 30ms/step - loss: 0.0000e+00 - accuracy: 0.7701 - val_loss: 0.0000e+00 - val_accuracy: 0.7727\n",
      "Epoch 24/50\n",
      "9/9 [==============================] - 0s 30ms/step - loss: 0.0000e+00 - accuracy: 0.7701 - val_loss: 0.0000e+00 - val_accuracy: 0.7727\n",
      "Epoch 25/50\n",
      "9/9 [==============================] - 0s 29ms/step - loss: 0.0000e+00 - accuracy: 0.7701 - val_loss: 0.0000e+00 - val_accuracy: 0.7727\n",
      "Epoch 26/50\n",
      "9/9 [==============================] - 0s 30ms/step - loss: 0.0000e+00 - accuracy: 0.7701 - val_loss: 0.0000e+00 - val_accuracy: 0.7727\n",
      "Epoch 27/50\n",
      "9/9 [==============================] - 0s 30ms/step - loss: 0.0000e+00 - accuracy: 0.7701 - val_loss: 0.0000e+00 - val_accuracy: 0.7727\n",
      "Epoch 28/50\n",
      "9/9 [==============================] - 0s 37ms/step - loss: 0.0000e+00 - accuracy: 0.7701 - val_loss: 0.0000e+00 - val_accuracy: 0.7727\n",
      "Epoch 29/50\n",
      "9/9 [==============================] - 0s 32ms/step - loss: 0.0000e+00 - accuracy: 0.7701 - val_loss: 0.0000e+00 - val_accuracy: 0.7727\n",
      "Epoch 30/50\n",
      "9/9 [==============================] - 0s 29ms/step - loss: 0.0000e+00 - accuracy: 0.7701 - val_loss: 0.0000e+00 - val_accuracy: 0.7727\n",
      "Epoch 31/50\n",
      "9/9 [==============================] - 0s 30ms/step - loss: 0.0000e+00 - accuracy: 0.7701 - val_loss: 0.0000e+00 - val_accuracy: 0.7727\n",
      "Epoch 32/50\n",
      "9/9 [==============================] - 0s 30ms/step - loss: 0.0000e+00 - accuracy: 0.7701 - val_loss: 0.0000e+00 - val_accuracy: 0.7727\n",
      "Epoch 33/50\n",
      "9/9 [==============================] - 0s 39ms/step - loss: 0.0000e+00 - accuracy: 0.7701 - val_loss: 0.0000e+00 - val_accuracy: 0.7727\n",
      "Epoch 34/50\n",
      "9/9 [==============================] - 0s 30ms/step - loss: 0.0000e+00 - accuracy: 0.7701 - val_loss: 0.0000e+00 - val_accuracy: 0.7727\n",
      "Epoch 35/50\n",
      "9/9 [==============================] - 0s 31ms/step - loss: 0.0000e+00 - accuracy: 0.7701 - val_loss: 0.0000e+00 - val_accuracy: 0.7727\n",
      "Epoch 36/50\n",
      "9/9 [==============================] - 0s 29ms/step - loss: 0.0000e+00 - accuracy: 0.7701 - val_loss: 0.0000e+00 - val_accuracy: 0.7727\n",
      "Epoch 37/50\n",
      "9/9 [==============================] - 0s 32ms/step - loss: 0.0000e+00 - accuracy: 0.7701 - val_loss: 0.0000e+00 - val_accuracy: 0.7727\n",
      "Epoch 38/50\n",
      "9/9 [==============================] - 0s 31ms/step - loss: 0.0000e+00 - accuracy: 0.7701 - val_loss: 0.0000e+00 - val_accuracy: 0.7727\n",
      "Epoch 39/50\n",
      "9/9 [==============================] - 0s 31ms/step - loss: 0.0000e+00 - accuracy: 0.7701 - val_loss: 0.0000e+00 - val_accuracy: 0.7727\n",
      "Epoch 40/50\n",
      "9/9 [==============================] - 0s 31ms/step - loss: 0.0000e+00 - accuracy: 0.7701 - val_loss: 0.0000e+00 - val_accuracy: 0.7727\n",
      "Epoch 41/50\n",
      "9/9 [==============================] - 0s 30ms/step - loss: 0.0000e+00 - accuracy: 0.7701 - val_loss: 0.0000e+00 - val_accuracy: 0.7727\n",
      "Epoch 42/50\n",
      "9/9 [==============================] - 0s 31ms/step - loss: 0.0000e+00 - accuracy: 0.7701 - val_loss: 0.0000e+00 - val_accuracy: 0.7727\n",
      "Epoch 43/50\n",
      "9/9 [==============================] - 0s 30ms/step - loss: 0.0000e+00 - accuracy: 0.7701 - val_loss: 0.0000e+00 - val_accuracy: 0.7727\n",
      "Epoch 44/50\n",
      "9/9 [==============================] - 0s 32ms/step - loss: 0.0000e+00 - accuracy: 0.7701 - val_loss: 0.0000e+00 - val_accuracy: 0.7727\n",
      "Epoch 45/50\n",
      "9/9 [==============================] - 0s 30ms/step - loss: 0.0000e+00 - accuracy: 0.7701 - val_loss: 0.0000e+00 - val_accuracy: 0.7727\n",
      "Epoch 46/50\n",
      "9/9 [==============================] - 0s 30ms/step - loss: 0.0000e+00 - accuracy: 0.7701 - val_loss: 0.0000e+00 - val_accuracy: 0.7727\n",
      "Epoch 47/50\n",
      "9/9 [==============================] - 0s 31ms/step - loss: 0.0000e+00 - accuracy: 0.7701 - val_loss: 0.0000e+00 - val_accuracy: 0.7727\n",
      "Epoch 48/50\n",
      "9/9 [==============================] - 0s 32ms/step - loss: 0.0000e+00 - accuracy: 0.7701 - val_loss: 0.0000e+00 - val_accuracy: 0.7727\n",
      "Epoch 49/50\n",
      "9/9 [==============================] - 0s 34ms/step - loss: 0.0000e+00 - accuracy: 0.7701 - val_loss: 0.0000e+00 - val_accuracy: 0.7727\n",
      "Epoch 50/50\n",
      "9/9 [==============================] - 0s 30ms/step - loss: 0.0000e+00 - accuracy: 0.7701 - val_loss: 0.0000e+00 - val_accuracy: 0.7727\n"
     ]
    },
    {
     "data": {
      "text/plain": [
       "<keras.callbacks.History at 0x2d9dd0e80>"
      ]
     },
     "execution_count": 30,
     "metadata": {},
     "output_type": "execute_result"
    }
   ],
   "source": [
    "model2.fit(X_train, y_train, batch_size=32, epochs=50, verbose=True, validation_split=0.2)"
   ]
  },
  {
   "cell_type": "code",
   "execution_count": 31,
   "metadata": {},
   "outputs": [
    {
     "name": "stderr",
     "output_type": "stream",
     "text": [
      "2022-08-19 15:23:56.376751: I tensorflow/core/grappler/optimizers/custom_graph_optimizer_registry.cc:113] Plugin optimizer for device_type GPU is enabled.\n"
     ]
    }
   ],
   "source": [
    "y_pred=model2.predict(X_test)"
   ]
  }
 ],
 "metadata": {
  "kernelspec": {
   "display_name": "Python 3.9.8 ('.venv': venv)",
   "language": "python",
   "name": "python3"
  },
  "language_info": {
   "codemirror_mode": {
    "name": "ipython",
    "version": 3
   },
   "file_extension": ".py",
   "mimetype": "text/x-python",
   "name": "python",
   "nbconvert_exporter": "python",
   "pygments_lexer": "ipython3",
   "version": "3.9.8"
  },
  "orig_nbformat": 4,
  "vscode": {
   "interpreter": {
    "hash": "68df357d1236ea760662511d700563405db38e78ff847247caa8274b511a18ea"
   }
  }
 },
 "nbformat": 4,
 "nbformat_minor": 2
}
