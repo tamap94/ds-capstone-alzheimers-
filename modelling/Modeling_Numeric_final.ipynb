{
 "cells": [
  {
   "cell_type": "markdown",
   "metadata": {},
   "source": [
    "# Alzheimer prediction based on numerical data \n",
    "\n",
    "## Summary\n",
    "\n",
    "In this Notebook the numerical data which is provided by the OASIS-1 dataset (https://www.oasis-brains.org) will be used as input for different classifiers with the aim to predict Alzheimer's disease. Further, the dataset for ADNI-1 will be used in the second part for the same classifier and the performance compared to the OASIS-1 dataset. In the last section, both datasets will be combined and used to predict Alzheimers. \n",
    "\n",
    "**NOTE**: In this notebook we will only predict healthy (= 0) and AD (=1), so it is a binary classification problem. \n",
    "\n",
    "### The datasets \n",
    "\n",
    "The OASIS-1 dataset consists of 416 subjects, of which 316 were diagnosed as being non-demented (CDR = 0, control group) and 100 with being demented ranging from very mild dementia (0.5), mild dementia (1) to moderate dementia (2). The ADNI-1 dataset contains 831 subjects. \n",
    "\n"
   ]
  },
  {
   "cell_type": "code",
   "execution_count": 1,
   "metadata": {},
   "outputs": [],
   "source": [
    "# Import all the required packages \n",
    "\n",
    "# Import all the required packages for data analysis and the EDA\n",
    "\n",
    "import numpy as np\n",
    "import pandas as pd\n",
    "import seaborn as sns\n",
    "import matplotlib.pyplot as plt\n",
    "from matplotlib.patches import Rectangle\n",
    "from sklearn.model_selection import train_test_split\n",
    "import os\n",
    "import matplotlib.patches as mpatches\n",
    "from numpy import isnan\n",
    "import sys\n",
    "sys.path.append('../')\n",
    "\n",
    "#Import packages for machine learning \n",
    "from sklearn.model_selection import train_test_split, GridSearchCV\n",
    "from sklearn.metrics import accuracy_score, confusion_matrix, recall_score, precision_score, classification_report, ConfusionMatrixDisplay\n",
    "from sklearn.svm import SVC\n",
    "from sklearn.ensemble import ExtraTreesClassifier\n",
    "from sklearn.preprocessing import StandardScaler\n",
    "from sklearn.impute import KNNImputer\n",
    "\n",
    "np.random.seed(42)"
   ]
  },
  {
   "cell_type": "code",
   "execution_count": 2,
   "metadata": {},
   "outputs": [
    {
     "data": {
      "text/plain": [
       "<Experiment: artifact_location='s3://neuefische-mlflow/mlflow-artifacts/56', experiment_id='56', lifecycle_stage='active', name='alzbusters_numeric_models', tags={}>"
      ]
     },
     "execution_count": 2,
     "metadata": {},
     "output_type": "execute_result"
    }
   ],
   "source": [
    "# Import packages to see models in MLFlow \n",
    "import logging\n",
    "import parsenvy\n",
    "\n",
    "from logging import getLogger\n",
    "import mlflow\n",
    "from tadpole_challenge.config_tp import TRACKING_URI, EXPERIMENT_NAME\n",
    "mlflow.set_tracking_uri(TRACKING_URI)\n",
    "mlflow.set_experiment(EXPERIMENT_NAME)"
   ]
  },
  {
   "cell_type": "code",
   "execution_count": 3,
   "metadata": {},
   "outputs": [],
   "source": [
    "# Load functions to get the dataset and process it \n",
    "from preprocessing.getdata import get_csvdata, get_tadpole, drop_tadpole"
   ]
  },
  {
   "cell_type": "markdown",
   "metadata": {},
   "source": [
    "### Part 1 - The OASIS dataset \n",
    "\n",
    "For extended EDA of this dataset have a look into the OASIS_1_EDA_numeric."
   ]
  },
  {
   "cell_type": "code",
   "execution_count": 4,
   "metadata": {},
   "outputs": [
    {
     "data": {
      "text/html": [
       "<div>\n",
       "<style scoped>\n",
       "    .dataframe tbody tr th:only-of-type {\n",
       "        vertical-align: middle;\n",
       "    }\n",
       "\n",
       "    .dataframe tbody tr th {\n",
       "        vertical-align: top;\n",
       "    }\n",
       "\n",
       "    .dataframe thead th {\n",
       "        text-align: right;\n",
       "    }\n",
       "</style>\n",
       "<table border=\"1\" class=\"dataframe\">\n",
       "  <thead>\n",
       "    <tr style=\"text-align: right;\">\n",
       "      <th></th>\n",
       "      <th>ID</th>\n",
       "      <th>M/F</th>\n",
       "      <th>Age</th>\n",
       "      <th>Educ</th>\n",
       "      <th>SES</th>\n",
       "      <th>MMSE</th>\n",
       "      <th>CDR</th>\n",
       "      <th>eTIV</th>\n",
       "      <th>nWBV</th>\n",
       "      <th>ASF</th>\n",
       "    </tr>\n",
       "  </thead>\n",
       "  <tbody>\n",
       "    <tr>\n",
       "      <th>0</th>\n",
       "      <td>OAS1_0001_MR1</td>\n",
       "      <td>F</td>\n",
       "      <td>74</td>\n",
       "      <td>2.0</td>\n",
       "      <td>3.0</td>\n",
       "      <td>29.0</td>\n",
       "      <td>0</td>\n",
       "      <td>1344</td>\n",
       "      <td>0.743</td>\n",
       "      <td>1.306</td>\n",
       "    </tr>\n",
       "    <tr>\n",
       "      <th>1</th>\n",
       "      <td>OAS1_0002_MR1</td>\n",
       "      <td>F</td>\n",
       "      <td>55</td>\n",
       "      <td>4.0</td>\n",
       "      <td>1.0</td>\n",
       "      <td>29.0</td>\n",
       "      <td>0</td>\n",
       "      <td>1147</td>\n",
       "      <td>0.810</td>\n",
       "      <td>1.531</td>\n",
       "    </tr>\n",
       "    <tr>\n",
       "      <th>2</th>\n",
       "      <td>OAS1_0003_MR1</td>\n",
       "      <td>F</td>\n",
       "      <td>73</td>\n",
       "      <td>4.0</td>\n",
       "      <td>3.0</td>\n",
       "      <td>27.0</td>\n",
       "      <td>1</td>\n",
       "      <td>1454</td>\n",
       "      <td>0.708</td>\n",
       "      <td>1.207</td>\n",
       "    </tr>\n",
       "    <tr>\n",
       "      <th>3</th>\n",
       "      <td>OAS1_0004_MR1</td>\n",
       "      <td>M</td>\n",
       "      <td>28</td>\n",
       "      <td>NaN</td>\n",
       "      <td>NaN</td>\n",
       "      <td>NaN</td>\n",
       "      <td>0</td>\n",
       "      <td>1588</td>\n",
       "      <td>0.803</td>\n",
       "      <td>1.105</td>\n",
       "    </tr>\n",
       "    <tr>\n",
       "      <th>4</th>\n",
       "      <td>OAS1_0005_MR1</td>\n",
       "      <td>M</td>\n",
       "      <td>18</td>\n",
       "      <td>NaN</td>\n",
       "      <td>NaN</td>\n",
       "      <td>NaN</td>\n",
       "      <td>0</td>\n",
       "      <td>1737</td>\n",
       "      <td>0.848</td>\n",
       "      <td>1.010</td>\n",
       "    </tr>\n",
       "    <tr>\n",
       "      <th>5</th>\n",
       "      <td>OAS1_0006_MR1</td>\n",
       "      <td>F</td>\n",
       "      <td>24</td>\n",
       "      <td>NaN</td>\n",
       "      <td>NaN</td>\n",
       "      <td>NaN</td>\n",
       "      <td>0</td>\n",
       "      <td>1131</td>\n",
       "      <td>0.862</td>\n",
       "      <td>1.551</td>\n",
       "    </tr>\n",
       "    <tr>\n",
       "      <th>6</th>\n",
       "      <td>OAS1_0007_MR1</td>\n",
       "      <td>M</td>\n",
       "      <td>21</td>\n",
       "      <td>NaN</td>\n",
       "      <td>NaN</td>\n",
       "      <td>NaN</td>\n",
       "      <td>0</td>\n",
       "      <td>1516</td>\n",
       "      <td>0.830</td>\n",
       "      <td>1.157</td>\n",
       "    </tr>\n",
       "    <tr>\n",
       "      <th>7</th>\n",
       "      <td>OAS1_0009_MR1</td>\n",
       "      <td>F</td>\n",
       "      <td>20</td>\n",
       "      <td>NaN</td>\n",
       "      <td>NaN</td>\n",
       "      <td>NaN</td>\n",
       "      <td>0</td>\n",
       "      <td>1505</td>\n",
       "      <td>0.843</td>\n",
       "      <td>1.166</td>\n",
       "    </tr>\n",
       "    <tr>\n",
       "      <th>8</th>\n",
       "      <td>OAS1_0010_MR1</td>\n",
       "      <td>M</td>\n",
       "      <td>74</td>\n",
       "      <td>5.0</td>\n",
       "      <td>2.0</td>\n",
       "      <td>30.0</td>\n",
       "      <td>0</td>\n",
       "      <td>1636</td>\n",
       "      <td>0.689</td>\n",
       "      <td>1.073</td>\n",
       "    </tr>\n",
       "    <tr>\n",
       "      <th>9</th>\n",
       "      <td>OAS1_0011_MR1</td>\n",
       "      <td>F</td>\n",
       "      <td>52</td>\n",
       "      <td>3.0</td>\n",
       "      <td>2.0</td>\n",
       "      <td>30.0</td>\n",
       "      <td>0</td>\n",
       "      <td>1321</td>\n",
       "      <td>0.827</td>\n",
       "      <td>1.329</td>\n",
       "    </tr>\n",
       "  </tbody>\n",
       "</table>\n",
       "</div>"
      ],
      "text/plain": [
       "              ID M/F  Age  Educ  SES  MMSE  CDR  eTIV   nWBV    ASF\n",
       "0  OAS1_0001_MR1   F   74   2.0  3.0  29.0    0  1344  0.743  1.306\n",
       "1  OAS1_0002_MR1   F   55   4.0  1.0  29.0    0  1147  0.810  1.531\n",
       "2  OAS1_0003_MR1   F   73   4.0  3.0  27.0    1  1454  0.708  1.207\n",
       "3  OAS1_0004_MR1   M   28   NaN  NaN   NaN    0  1588  0.803  1.105\n",
       "4  OAS1_0005_MR1   M   18   NaN  NaN   NaN    0  1737  0.848  1.010\n",
       "5  OAS1_0006_MR1   F   24   NaN  NaN   NaN    0  1131  0.862  1.551\n",
       "6  OAS1_0007_MR1   M   21   NaN  NaN   NaN    0  1516  0.830  1.157\n",
       "7  OAS1_0009_MR1   F   20   NaN  NaN   NaN    0  1505  0.843  1.166\n",
       "8  OAS1_0010_MR1   M   74   5.0  2.0  30.0    0  1636  0.689  1.073\n",
       "9  OAS1_0011_MR1   F   52   3.0  2.0  30.0    0  1321  0.827  1.329"
      ]
     },
     "execution_count": 4,
     "metadata": {},
     "output_type": "execute_result"
    }
   ],
   "source": [
    "#Import the dataset\n",
    "\n",
    "df_oasis=get_csvdata(drop_young=False, drop_contradictions=False)\n",
    "df_oasis.head(10)"
   ]
  },
  {
   "cell_type": "code",
   "execution_count": 5,
   "metadata": {},
   "outputs": [
    {
     "name": "stdout",
     "output_type": "stream",
     "text": [
      "<class 'pandas.core.frame.DataFrame'>\n",
      "RangeIndex: 436 entries, 0 to 435\n",
      "Data columns (total 10 columns):\n",
      " #   Column  Non-Null Count  Dtype  \n",
      "---  ------  --------------  -----  \n",
      " 0   ID      436 non-null    object \n",
      " 1   M/F     436 non-null    object \n",
      " 2   Age     436 non-null    int64  \n",
      " 3   Educ    235 non-null    float64\n",
      " 4   SES     216 non-null    float64\n",
      " 5   MMSE    235 non-null    float64\n",
      " 6   CDR     436 non-null    int64  \n",
      " 7   eTIV    436 non-null    int64  \n",
      " 8   nWBV    436 non-null    float64\n",
      " 9   ASF     436 non-null    float64\n",
      "dtypes: float64(5), int64(3), object(2)\n",
      "memory usage: 34.2+ KB\n"
     ]
    }
   ],
   "source": [
    "df_oasis.info()"
   ]
  },
  {
   "cell_type": "code",
   "execution_count": 6,
   "metadata": {},
   "outputs": [],
   "source": [
    "#For the modeling, we do not need the ID column since it does not hold any information for the prediction \n",
    "df_oasis.drop(columns=['ID'], inplace=True, axis=1)\n",
    "\n",
    "#Create dummies for the gender column \n",
    "\n",
    "df_oasis=pd.get_dummies(df_oasis, columns=['M/F'], drop_first=False)"
   ]
  },
  {
   "cell_type": "code",
   "execution_count": 7,
   "metadata": {},
   "outputs": [
    {
     "data": {
      "text/plain": [
       "Age        0\n",
       "Educ     201\n",
       "SES      220\n",
       "MMSE     201\n",
       "CDR        0\n",
       "eTIV       0\n",
       "nWBV       0\n",
       "ASF        0\n",
       "M/F_F      0\n",
       "M/F_M      0\n",
       "dtype: int64"
      ]
     },
     "execution_count": 7,
     "metadata": {},
     "output_type": "execute_result"
    }
   ],
   "source": [
    "# Let us check how many missing values we have \n",
    "df_oasis.isnull().sum()"
   ]
  },
  {
   "cell_type": "code",
   "execution_count": 8,
   "metadata": {},
   "outputs": [],
   "source": [
    "#Perform train-test split \n",
    "X= df_oasis.drop('CDR', axis=1)\n",
    "y=df_oasis['CDR']\n",
    "X_train, X_test, y_train, y_test=train_test_split(X, y, random_state=42, stratify=y)"
   ]
  },
  {
   "cell_type": "code",
   "execution_count": 9,
   "metadata": {},
   "outputs": [],
   "source": [
    "#There are only missing values in the Education, Socioeconomic and MMSE column \n",
    "#We will use the KNN nearest neighbor imputer to predict those values and fill the empty columns \n",
    "\n",
    "\n",
    "#define imputer\n",
    "imputer = KNNImputer(n_neighbors=5, weights='uniform', metric='nan_euclidean')\n",
    "\n",
    "# fit on the dataset\n",
    "imputer.fit(X_train)\n",
    "\n",
    "# transform X_train und X_test\n",
    "X_train = imputer.transform(X_train)\n",
    "X_test = imputer.transform(X_test)"
   ]
  },
  {
   "cell_type": "code",
   "execution_count": 10,
   "metadata": {},
   "outputs": [],
   "source": [
    "#As a last step we need to scale our data \n",
    "#Use Standard Scaler for the numeric data \n",
    "scaler = StandardScaler()\n",
    "X_train_scaled=scaler.fit_transform(X_train)\n",
    "X_test_scaled=scaler.transform(X_test)"
   ]
  },
  {
   "cell_type": "markdown",
   "metadata": {},
   "source": [
    "#### 1.1 SVM"
   ]
  },
  {
   "cell_type": "code",
   "execution_count": 11,
   "metadata": {},
   "outputs": [],
   "source": [
    "# setting the MLFlow connection and experiment\n",
    "mlflow.start_run(run_name='1_oasis_trans_scaled_SVM')\n",
    "run = mlflow.active_run()"
   ]
  },
  {
   "cell_type": "code",
   "execution_count": 12,
   "metadata": {},
   "outputs": [
    {
     "name": "stdout",
     "output_type": "stream",
     "text": [
      "Fitting 5 folds for each of 420 candidates, totalling 2100 fits\n"
     ]
    },
    {
     "data": {
      "text/plain": [
       "GridSearchCV(cv=5, estimator=SVC(), n_jobs=-1,\n",
       "             param_grid=[{'C': [0.01, 0.1, 1, 10, 100], 'degree': [2, 3, 4],\n",
       "                          'gamma': [0.0001, 0.001, 0.01, 0.1, 1, 'auto',\n",
       "                                    'scale'],\n",
       "                          'kernel': ['rbf', 'linear', 'poly', 'sigmoid']}],\n",
       "             scoring='accuracy', verbose=1)"
      ]
     },
     "execution_count": 12,
     "metadata": {},
     "output_type": "execute_result"
    }
   ],
   "source": [
    "# Define hyperparameter grid for SVM\n",
    "param_grid = [{'kernel': ['rbf', 'linear', 'poly', 'sigmoid'], \n",
    "               'gamma': [0.0001, 0.001, 0.01, 0.1, 1, 'auto', 'scale'],\n",
    "               'C': [0.01, 0.1, 1, 10, 100],\n",
    "               'degree': [2, 3, 4]\n",
    "              }]\n",
    "\n",
    "gs = GridSearchCV(SVC(), param_grid, scoring='accuracy', cv=5, verbose=1, n_jobs=-1)\n",
    "\n",
    "gs.fit(X_train_scaled, y_train)"
   ]
  },
  {
   "cell_type": "code",
   "execution_count": 13,
   "metadata": {},
   "outputs": [
    {
     "name": "stdout",
     "output_type": "stream",
     "text": [
      "Best Parameters: {'C': 100, 'degree': 2, 'gamma': 0.01, 'kernel': 'rbf'}\n"
     ]
    }
   ],
   "source": [
    "# Print best parameters \n",
    "print('Best Parameters:', gs.best_params_)"
   ]
  },
  {
   "cell_type": "code",
   "execution_count": 14,
   "metadata": {},
   "outputs": [],
   "source": [
    "# Evaluate on test set\n",
    "best_model = gs.best_estimator_\n",
    "y_pred_tuned = best_model.predict(X_test_scaled)"
   ]
  },
  {
   "cell_type": "code",
   "execution_count": 15,
   "metadata": {},
   "outputs": [
    {
     "name": "stdout",
     "output_type": "stream",
     "text": [
      "The accuracy on the training set is 0.9480122324159022\n",
      "The accuracy on the test dataset is 0.8256880733944955\n"
     ]
    }
   ],
   "source": [
    "# Check out the metrics\n",
    "acc_train = accuracy_score(y_train, best_model.predict(X_train_scaled))\n",
    "acc_test = accuracy_score(y_test, y_pred_tuned)\n",
    "print(f'The accuracy on the training set is {acc_train}')\n",
    "print(f'The accuracy on the test dataset is {acc_test}')"
   ]
  },
  {
   "cell_type": "code",
   "execution_count": 16,
   "metadata": {},
   "outputs": [
    {
     "data": {
      "image/png": "[encoded data removed]",
      "text/plain": [
       "<Figure size 432x288 with 2 Axes>"
      ]
     },
     "metadata": {
      "needs_background": "light"
     },
     "output_type": "display_data"
    }
   ],
   "source": [
    "# Plotting the confusing matrix\n",
    "mat = confusion_matrix(y_test, y_pred_tuned.round())\n",
    "cmd = ConfusionMatrixDisplay(mat, display_labels=['Healthy','AD'])\n",
    "cmd.plot();"
   ]
  },
  {
   "cell_type": "code",
   "execution_count": 17,
   "metadata": {},
   "outputs": [
    {
     "name": "stdout",
     "output_type": "stream",
     "text": [
      "              precision    recall  f1-score   support\n",
      "\n",
      "           0       0.90      0.87      0.88        84\n",
      "           1       0.61      0.68      0.64        25\n",
      "\n",
      "    accuracy                           0.83       109\n",
      "   macro avg       0.75      0.77      0.76       109\n",
      "weighted avg       0.83      0.83      0.83       109\n",
      "\n"
     ]
    }
   ],
   "source": [
    "#Print out the classification report \n",
    "print(classification_report(y_test, y_pred_tuned))"
   ]
  },
  {
   "cell_type": "code",
   "execution_count": 18,
   "metadata": {},
   "outputs": [
    {
     "data": {
      "text/plain": [
       "<Run: data=<RunData: metrics={'test-accuracy': 0.8256880733944955, 'train-accuracy': 0.9480122324159022}, params={}, tags={'mlflow.runName': '1_oasis_trans_scaled_SVM',\n",
       " 'mlflow.source.git.commit': 'fec7fbc79a3ffae3b9c9fb784985cfd3a66b9538',\n",
       " 'mlflow.source.name': '/Users/tamarapallien/neuefische/capstone '\n",
       "                       '/ds-capstone-alzheimers-/.venv/lib/python3.9/site-packages/ipykernel_launcher.py',\n",
       " 'mlflow.source.type': 'LOCAL',\n",
       " 'mlflow.user': 'tamarapallien'}>, info=<RunInfo: artifact_uri='s3://neuefische-mlflow/mlflow-artifacts/56/bcf55e9b29e24be09df96e481b5cf202/artifacts', end_time=1661958501478, experiment_id='56', lifecycle_stage='active', run_id='bcf55e9b29e24be09df96e481b5cf202', run_uuid='bcf55e9b29e24be09df96e481b5cf202', start_time=1661958495086, status='FINISHED', user_id='tamarapallien'>>"
      ]
     },
     "execution_count": 18,
     "metadata": {},
     "output_type": "execute_result"
    }
   ],
   "source": [
    "#logging metrics\n",
    "mlflow.log_metric(\"train-\" + \"accuracy\", acc_train)\n",
    "mlflow.log_metric(\"test-\" + \"accuracy\", acc_test)\n",
    "\n",
    "# mlflow.sklearn.log_model(reg, \"model\")\n",
    "mlflow.end_run()\n",
    "\n",
    "mlflow.get_run(run_id=run.info.run_id)"
   ]
  },
  {
   "cell_type": "markdown",
   "metadata": {},
   "source": [
    "#### 1.2 ExtraTreeClassifier "
   ]
  },
  {
   "cell_type": "code",
   "execution_count": 19,
   "metadata": {},
   "outputs": [],
   "source": [
    "# setting the MLFlow connection and experiment\n",
    "mlflow.start_run(run_name='2_oasis_trans_scaled_Xtree')\n",
    "run = mlflow.active_run()"
   ]
  },
  {
   "cell_type": "code",
   "execution_count": 20,
   "metadata": {},
   "outputs": [
    {
     "name": "stdout",
     "output_type": "stream",
     "text": [
      "Fitting 5 folds for each of 3 candidates, totalling 15 fits\n",
      "[CV 2/5] END criterion=gini, max_depth=20, min_samples_leaf=2, min_samples_split=60, n_estimators=50;, score=0.894 total time=   0.0s\n",
      "[CV 1/5] END criterion=gini, max_depth=20, min_samples_leaf=2, min_samples_split=60, n_estimators=50;, score=0.894 total time=   0.1s\n",
      "[CV 3/5] END criterion=gini, max_depth=20, min_samples_leaf=2, min_samples_split=60, n_estimators=50;, score=0.877 total time=   0.1s\n",
      "[CV 4/5] END criterion=gini, max_depth=20, min_samples_leaf=2, min_samples_split=60, n_estimators=50;, score=0.954 total time=   0.1s\n",
      "[CV 5/5] END criterion=gini, max_depth=20, min_samples_leaf=2, min_samples_split=60, n_estimators=50;, score=0.831 total time=   0.1s\n",
      "[CV 1/5] END criterion=gini, max_depth=20, min_samples_leaf=2, min_samples_split=60, n_estimators=100;, score=0.894 total time=   0.1s\n",
      "[CV 2/5] END criterion=gini, max_depth=20, min_samples_leaf=2, min_samples_split=60, n_estimators=100;, score=0.924 total time=   0.0s\n",
      "[CV 5/5] END criterion=gini, max_depth=20, min_samples_leaf=2, min_samples_split=60, n_estimators=100;, score=0.831 total time=   0.1s\n",
      "[CV 4/5] END criterion=gini, max_depth=20, min_samples_leaf=2, min_samples_split=60, n_estimators=100;, score=0.954 total time=   0.1s\n",
      "[CV 3/5] END criterion=gini, max_depth=20, min_samples_leaf=2, min_samples_split=60, n_estimators=100;, score=0.862 total time=   0.1s\n",
      "[CV 3/5] END criterion=gini, max_depth=20, min_samples_leaf=2, min_samples_split=60, n_estimators=200;, score=0.846 total time=   0.1s\n",
      "[CV 2/5] END criterion=gini, max_depth=20, min_samples_leaf=2, min_samples_split=60, n_estimators=200;, score=0.924 total time=   0.1s\n",
      "[CV 1/5] END criterion=gini, max_depth=20, min_samples_leaf=2, min_samples_split=60, n_estimators=200;, score=0.909 total time=   0.1s\n",
      "[CV 4/5] END criterion=gini, max_depth=20, min_samples_leaf=2, min_samples_split=60, n_estimators=200;, score=0.969 total time=   0.1s\n",
      "[CV 5/5] END criterion=gini, max_depth=20, min_samples_leaf=2, min_samples_split=60, n_estimators=200;, score=0.831 total time=   0.1s\n"
     ]
    },
    {
     "data": {
      "text/plain": [
       "{'criterion': 'gini',\n",
       " 'max_depth': 20,\n",
       " 'min_samples_leaf': 2,\n",
       " 'min_samples_split': 60,\n",
       " 'n_estimators': 200}"
      ]
     },
     "execution_count": 20,
     "metadata": {},
     "output_type": "execute_result"
    }
   ],
   "source": [
    "#We analyze the performance of the ExtraTreeClassifier using GridSearch \n",
    "\n",
    "param_grid = {'n_estimators': [50,100,200],\n",
    "                'criterion': ['gini'],\n",
    "                'max_depth': [20],\n",
    "                'min_samples_split': [60],\n",
    "                'min_samples_leaf': [2]\n",
    "}\n",
    "\n",
    "gs = GridSearchCV(ExtraTreesClassifier(), param_grid=param_grid, n_jobs=-1, verbose=3, scoring='accuracy')\n",
    "\n",
    "gs.fit(X_train_scaled, y_train)\n",
    "gs.best_params_"
   ]
  },
  {
   "cell_type": "code",
   "execution_count": 21,
   "metadata": {},
   "outputs": [],
   "source": [
    "# Evaluate on test set\n",
    "best_model = gs.best_estimator_\n",
    "y_pred_tuned = best_model.predict(X_test_scaled)"
   ]
  },
  {
   "cell_type": "code",
   "execution_count": 22,
   "metadata": {},
   "outputs": [
    {
     "name": "stdout",
     "output_type": "stream",
     "text": [
      "The accuracy on the training set is 0.9296636085626911\n",
      "The accuracy on the test dataset is 0.8807339449541285\n"
     ]
    }
   ],
   "source": [
    "# Check out the metrics\n",
    "acc_train = accuracy_score(y_train, best_model.predict(X_train_scaled))\n",
    "acc_test = accuracy_score(y_test, y_pred_tuned)\n",
    "print(f'The accuracy on the training set is {acc_train}')\n",
    "print(f'The accuracy on the test dataset is {acc_test}')"
   ]
  },
  {
   "cell_type": "code",
   "execution_count": 23,
   "metadata": {},
   "outputs": [
    {
     "data": {
      "image/png": "[encoded data removed]",
      "text/plain": [
       "<Figure size 432x288 with 2 Axes>"
      ]
     },
     "metadata": {
      "needs_background": "light"
     },
     "output_type": "display_data"
    }
   ],
   "source": [
    "# Plotting the confusing matrix\n",
    "mat = confusion_matrix(y_test, y_pred_tuned.round())\n",
    "cmd = ConfusionMatrixDisplay(mat, display_labels=['Healthy','AD'])\n",
    "cmd.plot();"
   ]
  },
  {
   "cell_type": "code",
   "execution_count": 24,
   "metadata": {},
   "outputs": [
    {
     "name": "stdout",
     "output_type": "stream",
     "text": [
      "              precision    recall  f1-score   support\n",
      "\n",
      "           0       0.89      0.96      0.93        84\n",
      "           1       0.83      0.60      0.70        25\n",
      "\n",
      "    accuracy                           0.88       109\n",
      "   macro avg       0.86      0.78      0.81       109\n",
      "weighted avg       0.88      0.88      0.87       109\n",
      "\n"
     ]
    }
   ],
   "source": [
    "#Print out the classification report \n",
    "print(classification_report(y_test, y_pred_tuned))"
   ]
  },
  {
   "cell_type": "code",
   "execution_count": 65,
   "metadata": {},
   "outputs": [
    {
     "data": {
      "image/png": "[encoded data removed]",
      "text/plain": [
       "<Figure size 432x288 with 1 Axes>"
      ]
     },
     "metadata": {
      "needs_background": "light"
     },
     "output_type": "display_data"
    }
   ],
   "source": [
    "# Computing the importance of each feature\n",
    "feature_importance = best_model.feature_importances_\n",
    "\n",
    "# Normalizing the individual importances\n",
    "feature_importance_normalized = np.std([tree.feature_importances_ for tree in \n",
    "                                        best_model.estimators_],\n",
    "                                        axis = 0)\n",
    "                        \n",
    "\n",
    "#Plotting a Bar Graph to compare the models\n",
    "plt.bar(X.columns, feature_importance_normalized)\n",
    "plt.xlabel('Features')\n",
    "plt.ylabel('Normalized feature importance')\n",
    "plt.title('Comparison of feature importance for the OASIS dataset')\n",
    "plt.show()                      "
   ]
  },
  {
   "cell_type": "code",
   "execution_count": 26,
   "metadata": {},
   "outputs": [
    {
     "data": {
      "text/plain": [
       "<Run: data=<RunData: metrics={'test-accuracy': 0.8807339449541285, 'train-accuracy': 0.9296636085626911}, params={}, tags={'mlflow.runName': '2_oasis_trans_scaled_Xtree',\n",
       " 'mlflow.source.git.commit': 'fec7fbc79a3ffae3b9c9fb784985cfd3a66b9538',\n",
       " 'mlflow.source.name': '/Users/tamarapallien/neuefische/capstone '\n",
       "                       '/ds-capstone-alzheimers-/.venv/lib/python3.9/site-packages/ipykernel_launcher.py',\n",
       " 'mlflow.source.type': 'LOCAL',\n",
       " 'mlflow.user': 'tamarapallien'}>, info=<RunInfo: artifact_uri='s3://neuefische-mlflow/mlflow-artifacts/56/d158f8dd505b400ba6a265f1cde69680/artifacts', end_time=1661958502694, experiment_id='56', lifecycle_stage='active', run_id='d158f8dd505b400ba6a265f1cde69680', run_uuid='d158f8dd505b400ba6a265f1cde69680', start_time=1661958501690, status='FINISHED', user_id='tamarapallien'>>"
      ]
     },
     "execution_count": 26,
     "metadata": {},
     "output_type": "execute_result"
    }
   ],
   "source": [
    "#logging metrics\n",
    "mlflow.log_metric(\"train-\" + \"accuracy\", acc_train)\n",
    "mlflow.log_metric(\"test-\" + \"accuracy\", acc_test)\n",
    "\n",
    "# mlflow.sklearn.log_model(reg, \"model\")\n",
    "mlflow.end_run()\n",
    "\n",
    "mlflow.get_run(run_id=run.info.run_id)"
   ]
  },
  {
   "cell_type": "markdown",
   "metadata": {},
   "source": [
    "### Part 2 - The ADNI dataset "
   ]
  },
  {
   "cell_type": "code",
   "execution_count": 36,
   "metadata": {},
   "outputs": [
    {
     "name": "stderr",
     "output_type": "stream",
     "text": [
      "/var/folders/v3/9m4l768x37nbr7_d_v6t2fhm0000gn/T/ipykernel_87524/1707069863.py:3: DtypeWarning: Columns (18,19,20,103,104) have mixed types.Specify dtype option on import or set low_memory=False.\n",
      "  df_adni=get_tadpole()\n"
     ]
    },
    {
     "data": {
      "text/html": [
       "<div>\n",
       "<style scoped>\n",
       "    .dataframe tbody tr th:only-of-type {\n",
       "        vertical-align: middle;\n",
       "    }\n",
       "\n",
       "    .dataframe tbody tr th {\n",
       "        vertical-align: top;\n",
       "    }\n",
       "\n",
       "    .dataframe thead th {\n",
       "        text-align: right;\n",
       "    }\n",
       "</style>\n",
       "<table border=\"1\" class=\"dataframe\">\n",
       "  <thead>\n",
       "    <tr style=\"text-align: right;\">\n",
       "      <th></th>\n",
       "      <th>RID</th>\n",
       "      <th>ID</th>\n",
       "      <th>VISCODE</th>\n",
       "      <th>SITE</th>\n",
       "      <th>COLPROT</th>\n",
       "      <th>ORIGPROT</th>\n",
       "      <th>EXAMDATE</th>\n",
       "      <th>DX_bl</th>\n",
       "      <th>AGE</th>\n",
       "      <th>PTGENDER</th>\n",
       "      <th>...</th>\n",
       "      <th>PTAU_bl</th>\n",
       "      <th>FDG_bl</th>\n",
       "      <th>PIB_bl</th>\n",
       "      <th>AV45_bl</th>\n",
       "      <th>Years_bl</th>\n",
       "      <th>Month_bl</th>\n",
       "      <th>Month</th>\n",
       "      <th>M</th>\n",
       "      <th>update_stamp</th>\n",
       "      <th>label</th>\n",
       "    </tr>\n",
       "  </thead>\n",
       "  <tbody>\n",
       "    <tr>\n",
       "      <th>0</th>\n",
       "      <td>2</td>\n",
       "      <td>011_S_0002</td>\n",
       "      <td>bl</td>\n",
       "      <td>11</td>\n",
       "      <td>ADNI1</td>\n",
       "      <td>ADNI1</td>\n",
       "      <td>2005-09-08</td>\n",
       "      <td>CN</td>\n",
       "      <td>74.3</td>\n",
       "      <td>Male</td>\n",
       "      <td>...</td>\n",
       "      <td>NaN</td>\n",
       "      <td>1.36665</td>\n",
       "      <td>NaN</td>\n",
       "      <td>NaN</td>\n",
       "      <td>0.0</td>\n",
       "      <td>0.0</td>\n",
       "      <td>0</td>\n",
       "      <td>0</td>\n",
       "      <td>2019-02-14 23:58:27.0</td>\n",
       "      <td>0</td>\n",
       "    </tr>\n",
       "    <tr>\n",
       "      <th>1</th>\n",
       "      <td>3</td>\n",
       "      <td>011_S_0003</td>\n",
       "      <td>bl</td>\n",
       "      <td>11</td>\n",
       "      <td>ADNI1</td>\n",
       "      <td>ADNI1</td>\n",
       "      <td>2005-09-12</td>\n",
       "      <td>AD</td>\n",
       "      <td>81.3</td>\n",
       "      <td>Male</td>\n",
       "      <td>...</td>\n",
       "      <td>22.83</td>\n",
       "      <td>1.08355</td>\n",
       "      <td>NaN</td>\n",
       "      <td>NaN</td>\n",
       "      <td>0.0</td>\n",
       "      <td>0.0</td>\n",
       "      <td>0</td>\n",
       "      <td>0</td>\n",
       "      <td>2019-02-14 23:58:27.0</td>\n",
       "      <td>1</td>\n",
       "    </tr>\n",
       "    <tr>\n",
       "      <th>10</th>\n",
       "      <td>5</td>\n",
       "      <td>011_S_0005</td>\n",
       "      <td>bl</td>\n",
       "      <td>11</td>\n",
       "      <td>ADNI1</td>\n",
       "      <td>ADNI1</td>\n",
       "      <td>2005-09-07</td>\n",
       "      <td>CN</td>\n",
       "      <td>73.7</td>\n",
       "      <td>Male</td>\n",
       "      <td>...</td>\n",
       "      <td>33.43</td>\n",
       "      <td>1.29343</td>\n",
       "      <td>NaN</td>\n",
       "      <td>NaN</td>\n",
       "      <td>0.0</td>\n",
       "      <td>0.0</td>\n",
       "      <td>0</td>\n",
       "      <td>0</td>\n",
       "      <td>2019-02-14 23:58:27.0</td>\n",
       "      <td>0</td>\n",
       "    </tr>\n",
       "    <tr>\n",
       "      <th>20</th>\n",
       "      <td>7</td>\n",
       "      <td>022_S_0007</td>\n",
       "      <td>bl</td>\n",
       "      <td>22</td>\n",
       "      <td>ADNI1</td>\n",
       "      <td>ADNI1</td>\n",
       "      <td>2005-10-06</td>\n",
       "      <td>AD</td>\n",
       "      <td>75.4</td>\n",
       "      <td>Male</td>\n",
       "      <td>...</td>\n",
       "      <td>NaN</td>\n",
       "      <td>NaN</td>\n",
       "      <td>NaN</td>\n",
       "      <td>NaN</td>\n",
       "      <td>0.0</td>\n",
       "      <td>0.0</td>\n",
       "      <td>0</td>\n",
       "      <td>0</td>\n",
       "      <td>2019-02-14 23:58:27.0</td>\n",
       "      <td>1</td>\n",
       "    </tr>\n",
       "    <tr>\n",
       "      <th>22</th>\n",
       "      <td>10</td>\n",
       "      <td>011_S_0010</td>\n",
       "      <td>bl</td>\n",
       "      <td>11</td>\n",
       "      <td>ADNI1</td>\n",
       "      <td>ADNI1</td>\n",
       "      <td>2005-11-10</td>\n",
       "      <td>AD</td>\n",
       "      <td>73.9</td>\n",
       "      <td>Female</td>\n",
       "      <td>...</td>\n",
       "      <td>31.26</td>\n",
       "      <td>1.11532</td>\n",
       "      <td>NaN</td>\n",
       "      <td>NaN</td>\n",
       "      <td>0.0</td>\n",
       "      <td>0.0</td>\n",
       "      <td>0</td>\n",
       "      <td>0</td>\n",
       "      <td>2019-02-14 23:58:27.0</td>\n",
       "      <td>1</td>\n",
       "    </tr>\n",
       "    <tr>\n",
       "      <th>26</th>\n",
       "      <td>14</td>\n",
       "      <td>022_S_0014</td>\n",
       "      <td>bl</td>\n",
       "      <td>22</td>\n",
       "      <td>ADNI1</td>\n",
       "      <td>ADNI1</td>\n",
       "      <td>2005-11-04</td>\n",
       "      <td>CN</td>\n",
       "      <td>78.5</td>\n",
       "      <td>Female</td>\n",
       "      <td>...</td>\n",
       "      <td>16.68</td>\n",
       "      <td>1.25096</td>\n",
       "      <td>NaN</td>\n",
       "      <td>NaN</td>\n",
       "      <td>0.0</td>\n",
       "      <td>0.0</td>\n",
       "      <td>0</td>\n",
       "      <td>0</td>\n",
       "      <td>2019-02-14 23:58:27.0</td>\n",
       "      <td>0</td>\n",
       "    </tr>\n",
       "    <tr>\n",
       "      <th>31</th>\n",
       "      <td>15</td>\n",
       "      <td>100_S_0015</td>\n",
       "      <td>bl</td>\n",
       "      <td>100</td>\n",
       "      <td>ADNI1</td>\n",
       "      <td>ADNI1</td>\n",
       "      <td>2005-10-18</td>\n",
       "      <td>CN</td>\n",
       "      <td>80.8</td>\n",
       "      <td>Male</td>\n",
       "      <td>...</td>\n",
       "      <td>NaN</td>\n",
       "      <td>NaN</td>\n",
       "      <td>NaN</td>\n",
       "      <td>NaN</td>\n",
       "      <td>0.0</td>\n",
       "      <td>0.0</td>\n",
       "      <td>0</td>\n",
       "      <td>0</td>\n",
       "      <td>2019-02-14 23:58:27.0</td>\n",
       "      <td>0</td>\n",
       "    </tr>\n",
       "    <tr>\n",
       "      <th>34</th>\n",
       "      <td>16</td>\n",
       "      <td>011_S_0016</td>\n",
       "      <td>bl</td>\n",
       "      <td>11</td>\n",
       "      <td>ADNI1</td>\n",
       "      <td>ADNI1</td>\n",
       "      <td>2005-10-13</td>\n",
       "      <td>CN</td>\n",
       "      <td>65.4</td>\n",
       "      <td>Male</td>\n",
       "      <td>...</td>\n",
       "      <td>15.88</td>\n",
       "      <td>1.38702</td>\n",
       "      <td>NaN</td>\n",
       "      <td>NaN</td>\n",
       "      <td>0.0</td>\n",
       "      <td>0.0</td>\n",
       "      <td>0</td>\n",
       "      <td>0</td>\n",
       "      <td>2019-02-14 23:58:27.0</td>\n",
       "      <td>0</td>\n",
       "    </tr>\n",
       "    <tr>\n",
       "      <th>39</th>\n",
       "      <td>21</td>\n",
       "      <td>011_S_0021</td>\n",
       "      <td>bl</td>\n",
       "      <td>11</td>\n",
       "      <td>ADNI1</td>\n",
       "      <td>ADNI1</td>\n",
       "      <td>2005-10-24</td>\n",
       "      <td>CN</td>\n",
       "      <td>72.6</td>\n",
       "      <td>Female</td>\n",
       "      <td>...</td>\n",
       "      <td>NaN</td>\n",
       "      <td>1.37788</td>\n",
       "      <td>NaN</td>\n",
       "      <td>NaN</td>\n",
       "      <td>0.0</td>\n",
       "      <td>0.0</td>\n",
       "      <td>0</td>\n",
       "      <td>0</td>\n",
       "      <td>2019-02-14 23:58:27.0</td>\n",
       "      <td>0</td>\n",
       "    </tr>\n",
       "    <tr>\n",
       "      <th>43</th>\n",
       "      <td>23</td>\n",
       "      <td>011_S_0023</td>\n",
       "      <td>bl</td>\n",
       "      <td>11</td>\n",
       "      <td>ADNI1</td>\n",
       "      <td>ADNI1</td>\n",
       "      <td>2005-11-08</td>\n",
       "      <td>CN</td>\n",
       "      <td>71.7</td>\n",
       "      <td>Male</td>\n",
       "      <td>...</td>\n",
       "      <td>16.74</td>\n",
       "      <td>1.36097</td>\n",
       "      <td>NaN</td>\n",
       "      <td>NaN</td>\n",
       "      <td>0.0</td>\n",
       "      <td>0.0</td>\n",
       "      <td>0</td>\n",
       "      <td>0</td>\n",
       "      <td>2019-02-14 23:58:27.0</td>\n",
       "      <td>0</td>\n",
       "    </tr>\n",
       "  </tbody>\n",
       "</table>\n",
       "<p>10 rows × 114 columns</p>\n",
       "</div>"
      ],
      "text/plain": [
       "    RID          ID VISCODE  SITE COLPROT ORIGPROT    EXAMDATE DX_bl   AGE  \\\n",
       "0     2  011_S_0002      bl    11   ADNI1    ADNI1  2005-09-08    CN  74.3   \n",
       "1     3  011_S_0003      bl    11   ADNI1    ADNI1  2005-09-12    AD  81.3   \n",
       "10    5  011_S_0005      bl    11   ADNI1    ADNI1  2005-09-07    CN  73.7   \n",
       "20    7  022_S_0007      bl    22   ADNI1    ADNI1  2005-10-06    AD  75.4   \n",
       "22   10  011_S_0010      bl    11   ADNI1    ADNI1  2005-11-10    AD  73.9   \n",
       "26   14  022_S_0014      bl    22   ADNI1    ADNI1  2005-11-04    CN  78.5   \n",
       "31   15  100_S_0015      bl   100   ADNI1    ADNI1  2005-10-18    CN  80.8   \n",
       "34   16  011_S_0016      bl    11   ADNI1    ADNI1  2005-10-13    CN  65.4   \n",
       "39   21  011_S_0021      bl    11   ADNI1    ADNI1  2005-10-24    CN  72.6   \n",
       "43   23  011_S_0023      bl    11   ADNI1    ADNI1  2005-11-08    CN  71.7   \n",
       "\n",
       "   PTGENDER  ...  PTAU_bl   FDG_bl PIB_bl AV45_bl  Years_bl  Month_bl  Month  \\\n",
       "0      Male  ...      NaN  1.36665    NaN     NaN       0.0       0.0      0   \n",
       "1      Male  ...    22.83  1.08355    NaN     NaN       0.0       0.0      0   \n",
       "10     Male  ...    33.43  1.29343    NaN     NaN       0.0       0.0      0   \n",
       "20     Male  ...      NaN      NaN    NaN     NaN       0.0       0.0      0   \n",
       "22   Female  ...    31.26  1.11532    NaN     NaN       0.0       0.0      0   \n",
       "26   Female  ...    16.68  1.25096    NaN     NaN       0.0       0.0      0   \n",
       "31     Male  ...      NaN      NaN    NaN     NaN       0.0       0.0      0   \n",
       "34     Male  ...    15.88  1.38702    NaN     NaN       0.0       0.0      0   \n",
       "39   Female  ...      NaN  1.37788    NaN     NaN       0.0       0.0      0   \n",
       "43     Male  ...    16.74  1.36097    NaN     NaN       0.0       0.0      0   \n",
       "\n",
       "    M           update_stamp label  \n",
       "0   0  2019-02-14 23:58:27.0     0  \n",
       "1   0  2019-02-14 23:58:27.0     1  \n",
       "10  0  2019-02-14 23:58:27.0     0  \n",
       "20  0  2019-02-14 23:58:27.0     1  \n",
       "22  0  2019-02-14 23:58:27.0     1  \n",
       "26  0  2019-02-14 23:58:27.0     0  \n",
       "31  0  2019-02-14 23:58:27.0     0  \n",
       "34  0  2019-02-14 23:58:27.0     0  \n",
       "39  0  2019-02-14 23:58:27.0     0  \n",
       "43  0  2019-02-14 23:58:27.0     0  \n",
       "\n",
       "[10 rows x 114 columns]"
      ]
     },
     "execution_count": 36,
     "metadata": {},
     "output_type": "execute_result"
    }
   ],
   "source": [
    "#Import the dataset\n",
    "\n",
    "df_adni=get_tadpole()\n",
    "df_adni.head(10)"
   ]
  },
  {
   "cell_type": "code",
   "execution_count": 38,
   "metadata": {},
   "outputs": [
    {
     "data": {
      "text/html": [
       "<div>\n",
       "<style scoped>\n",
       "    .dataframe tbody tr th:only-of-type {\n",
       "        vertical-align: middle;\n",
       "    }\n",
       "\n",
       "    .dataframe tbody tr th {\n",
       "        vertical-align: top;\n",
       "    }\n",
       "\n",
       "    .dataframe thead th {\n",
       "        text-align: right;\n",
       "    }\n",
       "</style>\n",
       "<table border=\"1\" class=\"dataframe\">\n",
       "  <thead>\n",
       "    <tr style=\"text-align: right;\">\n",
       "      <th></th>\n",
       "      <th>ID</th>\n",
       "      <th>AGE</th>\n",
       "      <th>PTGENDER</th>\n",
       "      <th>PTEDUCAT</th>\n",
       "      <th>APOE4</th>\n",
       "      <th>ABETA</th>\n",
       "      <th>TAU</th>\n",
       "      <th>PTAU</th>\n",
       "      <th>ADAS11</th>\n",
       "      <th>ADAS13</th>\n",
       "      <th>MMSE</th>\n",
       "      <th>RAVLT_immediate</th>\n",
       "      <th>Ventricles</th>\n",
       "      <th>Hippocampus</th>\n",
       "      <th>WholeBrain</th>\n",
       "      <th>Entorhinal</th>\n",
       "      <th>label</th>\n",
       "    </tr>\n",
       "  </thead>\n",
       "  <tbody>\n",
       "    <tr>\n",
       "      <th>0</th>\n",
       "      <td>011_S_0002</td>\n",
       "      <td>74.3</td>\n",
       "      <td>Male</td>\n",
       "      <td>16</td>\n",
       "      <td>0.0</td>\n",
       "      <td>NaN</td>\n",
       "      <td>NaN</td>\n",
       "      <td>NaN</td>\n",
       "      <td>10.67</td>\n",
       "      <td>18.67</td>\n",
       "      <td>28.0</td>\n",
       "      <td>44.0</td>\n",
       "      <td>118233.0</td>\n",
       "      <td>8336.0</td>\n",
       "      <td>1229740.0</td>\n",
       "      <td>4177.0</td>\n",
       "      <td>0</td>\n",
       "    </tr>\n",
       "    <tr>\n",
       "      <th>1</th>\n",
       "      <td>011_S_0003</td>\n",
       "      <td>81.3</td>\n",
       "      <td>Male</td>\n",
       "      <td>18</td>\n",
       "      <td>1.0</td>\n",
       "      <td>741.5</td>\n",
       "      <td>239.7</td>\n",
       "      <td>22.83</td>\n",
       "      <td>22.00</td>\n",
       "      <td>31.00</td>\n",
       "      <td>20.0</td>\n",
       "      <td>22.0</td>\n",
       "      <td>84599.0</td>\n",
       "      <td>5319.0</td>\n",
       "      <td>1129830.0</td>\n",
       "      <td>1791.0</td>\n",
       "      <td>1</td>\n",
       "    </tr>\n",
       "  </tbody>\n",
       "</table>\n",
       "</div>"
      ],
      "text/plain": [
       "           ID   AGE PTGENDER  PTEDUCAT  APOE4  ABETA    TAU   PTAU  ADAS11  \\\n",
       "0  011_S_0002  74.3     Male        16    0.0    NaN    NaN    NaN   10.67   \n",
       "1  011_S_0003  81.3     Male        18    1.0  741.5  239.7  22.83   22.00   \n",
       "\n",
       "   ADAS13  MMSE  RAVLT_immediate  Ventricles  Hippocampus  WholeBrain  \\\n",
       "0   18.67  28.0             44.0    118233.0       8336.0   1229740.0   \n",
       "1   31.00  20.0             22.0     84599.0       5319.0   1129830.0   \n",
       "\n",
       "   Entorhinal  label  \n",
       "0      4177.0      0  \n",
       "1      1791.0      1  "
      ]
     },
     "execution_count": 38,
     "metadata": {},
     "output_type": "execute_result"
    }
   ],
   "source": [
    "# As the next step we remove all the columns that we do not need for our modeling \n",
    "df_adni=drop_tadpole(df_adni)\n",
    "df_adni.head(2)"
   ]
  },
  {
   "cell_type": "code",
   "execution_count": 40,
   "metadata": {},
   "outputs": [
    {
     "name": "stdout",
     "output_type": "stream",
     "text": [
      "<class 'pandas.core.frame.DataFrame'>\n",
      "Int64Index: 417 entries, 0 to 13134\n",
      "Data columns (total 17 columns):\n",
      " #   Column           Non-Null Count  Dtype  \n",
      "---  ------           --------------  -----  \n",
      " 0   ID               417 non-null    object \n",
      " 1   AGE              417 non-null    float64\n",
      " 2   PTGENDER         417 non-null    object \n",
      " 3   PTEDUCAT         417 non-null    int64  \n",
      " 4   APOE4            417 non-null    float64\n",
      " 5   ABETA            209 non-null    object \n",
      " 6   TAU              209 non-null    object \n",
      " 7   PTAU             209 non-null    object \n",
      " 8   ADAS11           416 non-null    float64\n",
      " 9   ADAS13           412 non-null    float64\n",
      " 10  MMSE             417 non-null    float64\n",
      " 11  RAVLT_immediate  413 non-null    float64\n",
      " 12  Ventricles       410 non-null    float64\n",
      " 13  Hippocampus      345 non-null    float64\n",
      " 14  WholeBrain       413 non-null    float64\n",
      " 15  Entorhinal       345 non-null    float64\n",
      " 16  label            417 non-null    int64  \n",
      "dtypes: float64(10), int64(2), object(5)\n",
      "memory usage: 58.6+ KB\n"
     ]
    }
   ],
   "source": [
    "df_adni.info()"
   ]
  },
  {
   "cell_type": "code",
   "execution_count": 41,
   "metadata": {},
   "outputs": [
    {
     "data": {
      "text/plain": [
       "ID                   0\n",
       "AGE                  0\n",
       "PTGENDER             0\n",
       "PTEDUCAT             0\n",
       "APOE4                0\n",
       "ABETA              208\n",
       "TAU                208\n",
       "PTAU               208\n",
       "ADAS11               1\n",
       "ADAS13               5\n",
       "MMSE                 0\n",
       "RAVLT_immediate      4\n",
       "Ventricles           7\n",
       "Hippocampus         72\n",
       "WholeBrain           4\n",
       "Entorhinal          72\n",
       "label                0\n",
       "dtype: int64"
      ]
     },
     "execution_count": 41,
     "metadata": {},
     "output_type": "execute_result"
    }
   ],
   "source": [
    "df_adni.isnull().sum()"
   ]
  },
  {
   "cell_type": "code",
   "execution_count": 42,
   "metadata": {},
   "outputs": [],
   "source": [
    "#For the modeling, we do not need the ID column since it does not hold any information for the prediction \n",
    "df_adni.drop(columns=['ID'], inplace=True, axis=1)\n",
    "\n",
    "#Create dummies for the gender column \n",
    "\n",
    "df_adni=pd.get_dummies(df_adni, columns=['PTGENDER'], drop_first=False)"
   ]
  },
  {
   "cell_type": "code",
   "execution_count": 47,
   "metadata": {},
   "outputs": [
    {
     "data": {
      "text/html": [
       "<div>\n",
       "<style scoped>\n",
       "    .dataframe tbody tr th:only-of-type {\n",
       "        vertical-align: middle;\n",
       "    }\n",
       "\n",
       "    .dataframe tbody tr th {\n",
       "        vertical-align: top;\n",
       "    }\n",
       "\n",
       "    .dataframe thead th {\n",
       "        text-align: right;\n",
       "    }\n",
       "</style>\n",
       "<table border=\"1\" class=\"dataframe\">\n",
       "  <thead>\n",
       "    <tr style=\"text-align: right;\">\n",
       "      <th></th>\n",
       "      <th>TAU</th>\n",
       "      <th>PTAU</th>\n",
       "      <th>ABETA</th>\n",
       "    </tr>\n",
       "  </thead>\n",
       "  <tbody>\n",
       "    <tr>\n",
       "      <th>0</th>\n",
       "      <td>NaN</td>\n",
       "      <td>NaN</td>\n",
       "      <td>NaN</td>\n",
       "    </tr>\n",
       "    <tr>\n",
       "      <th>1</th>\n",
       "      <td>239.7</td>\n",
       "      <td>22.83</td>\n",
       "      <td>741.5</td>\n",
       "    </tr>\n",
       "    <tr>\n",
       "      <th>10</th>\n",
       "      <td>337.0</td>\n",
       "      <td>33.43</td>\n",
       "      <td>547.3</td>\n",
       "    </tr>\n",
       "    <tr>\n",
       "      <th>20</th>\n",
       "      <td>NaN</td>\n",
       "      <td>NaN</td>\n",
       "      <td>NaN</td>\n",
       "    </tr>\n",
       "    <tr>\n",
       "      <th>22</th>\n",
       "      <td>329.9</td>\n",
       "      <td>31.26</td>\n",
       "      <td>357.4</td>\n",
       "    </tr>\n",
       "    <tr>\n",
       "      <th>...</th>\n",
       "      <td>...</td>\n",
       "      <td>...</td>\n",
       "      <td>...</td>\n",
       "    </tr>\n",
       "    <tr>\n",
       "      <th>11947</th>\n",
       "      <td>246.7</td>\n",
       "      <td>20.77</td>\n",
       "      <td>NaN</td>\n",
       "    </tr>\n",
       "    <tr>\n",
       "      <th>13124</th>\n",
       "      <td>NaN</td>\n",
       "      <td>NaN</td>\n",
       "      <td>314.7</td>\n",
       "    </tr>\n",
       "    <tr>\n",
       "      <th>13127</th>\n",
       "      <td>NaN</td>\n",
       "      <td>NaN</td>\n",
       "      <td>390.9</td>\n",
       "    </tr>\n",
       "    <tr>\n",
       "      <th>13133</th>\n",
       "      <td>NaN</td>\n",
       "      <td>NaN</td>\n",
       "      <td>529.3</td>\n",
       "    </tr>\n",
       "    <tr>\n",
       "      <th>13134</th>\n",
       "      <td>NaN</td>\n",
       "      <td>NaN</td>\n",
       "      <td>428.8</td>\n",
       "    </tr>\n",
       "  </tbody>\n",
       "</table>\n",
       "<p>417 rows × 3 columns</p>\n",
       "</div>"
      ],
      "text/plain": [
       "         TAU   PTAU  ABETA\n",
       "0        NaN    NaN    NaN\n",
       "1      239.7  22.83  741.5\n",
       "10     337.0  33.43  547.3\n",
       "20       NaN    NaN    NaN\n",
       "22     329.9  31.26  357.4\n",
       "...      ...    ...    ...\n",
       "11947  246.7  20.77    NaN\n",
       "13124    NaN    NaN  314.7\n",
       "13127    NaN    NaN  390.9\n",
       "13133    NaN    NaN  529.3\n",
       "13134    NaN    NaN  428.8\n",
       "\n",
       "[417 rows x 3 columns]"
      ]
     },
     "execution_count": 47,
     "metadata": {},
     "output_type": "execute_result"
    }
   ],
   "source": [
    "# To predict the values for ABETA, Tau, etc. we first need to modify these columns \n",
    "\n",
    "df_adni[\"PTAU\"].replace(\"<8\",np.nan, inplace=True)\n",
    "df_adni[\"PTAU\"].replace(\">120\",np.nan, inplace=True)\n",
    "df_adni[\"ABETA\"].replace(\"<200\",np.nan, inplace=True)\n",
    "df_adni[\"ABETA\"].replace(\">1700\",np.nan, inplace=True)\n",
    "df_adni[\"TAU\"].replace(\"<80\",np.nan, inplace=True)\n",
    "df_adni[\"TAU\"].replace(\">1300\",np.nan, inplace=True)\n",
    "\n",
    "#Convert the columns to float \n",
    "df_adni[['TAU', 'PTAU', 'ABETA']].astype(float)"
   ]
  },
  {
   "cell_type": "code",
   "execution_count": 48,
   "metadata": {},
   "outputs": [],
   "source": [
    "#Perform train-test split \n",
    "X= df_adni.drop('label', axis=1)\n",
    "y=df_adni['label']\n",
    "X_train, X_test, y_train, y_test=train_test_split(X, y, random_state=42, stratify=y)"
   ]
  },
  {
   "cell_type": "code",
   "execution_count": 49,
   "metadata": {},
   "outputs": [],
   "source": [
    "#We will use the KNN nearest neighbor imputer to predict those values and fill the empty columns \n",
    "\n",
    "\n",
    "#define imputer\n",
    "imputer = KNNImputer(n_neighbors=5, weights='uniform', metric='nan_euclidean')\n",
    "\n",
    "# fit on the dataset\n",
    "imputer.fit(X_train)\n",
    "\n",
    "# transform X_train und X_test\n",
    "X_train = imputer.transform(X_train)\n",
    "X_test = imputer.transform(X_test)"
   ]
  },
  {
   "cell_type": "code",
   "execution_count": 50,
   "metadata": {},
   "outputs": [],
   "source": [
    "#As a last step we need to scale our data \n",
    "#Use Standard Scaler for the numeric data \n",
    "scaler = StandardScaler()\n",
    "X_train_scaled=scaler.fit_transform(X_train)\n",
    "X_test_scaled=scaler.transform(X_test)"
   ]
  },
  {
   "cell_type": "markdown",
   "metadata": {},
   "source": [
    "#### 2.1 SVM with Adni dataset "
   ]
  },
  {
   "cell_type": "code",
   "execution_count": 51,
   "metadata": {},
   "outputs": [],
   "source": [
    "# setting the MLFlow connection and experiment\n",
    "mlflow.start_run(run_name='3_adni_trans_scaled_SVM')\n",
    "run = mlflow.active_run()"
   ]
  },
  {
   "cell_type": "code",
   "execution_count": 52,
   "metadata": {},
   "outputs": [
    {
     "name": "stdout",
     "output_type": "stream",
     "text": [
      "Fitting 5 folds for each of 420 candidates, totalling 2100 fits\n"
     ]
    },
    {
     "data": {
      "text/plain": [
       "GridSearchCV(cv=5, estimator=SVC(), n_jobs=-1,\n",
       "             param_grid=[{'C': [0.01, 0.1, 1, 10, 100], 'degree': [2, 3, 4],\n",
       "                          'gamma': [0.0001, 0.001, 0.01, 0.1, 1, 'auto',\n",
       "                                    'scale'],\n",
       "                          'kernel': ['rbf', 'linear', 'poly', 'sigmoid']}],\n",
       "             scoring='accuracy', verbose=1)"
      ]
     },
     "execution_count": 52,
     "metadata": {},
     "output_type": "execute_result"
    }
   ],
   "source": [
    "# Define hyperparameter grid for SVM\n",
    "param_grid = [{'kernel': ['rbf', 'linear', 'poly', 'sigmoid'], \n",
    "               'gamma': [0.0001, 0.001, 0.01, 0.1, 1, 'auto', 'scale'],\n",
    "               'C': [0.01, 0.1, 1, 10, 100],\n",
    "               'degree': [2, 3, 4]\n",
    "              }]\n",
    "\n",
    "gs = GridSearchCV(SVC(), param_grid, scoring='accuracy', cv=5, verbose=1, n_jobs=-1)\n",
    "\n",
    "gs.fit(X_train_scaled, y_train)"
   ]
  },
  {
   "cell_type": "code",
   "execution_count": 53,
   "metadata": {},
   "outputs": [],
   "source": [
    "# Evaluate on test set\n",
    "best_model = gs.best_estimator_\n",
    "y_pred_tuned = best_model.predict(X_test_scaled)"
   ]
  },
  {
   "cell_type": "code",
   "execution_count": 54,
   "metadata": {},
   "outputs": [
    {
     "name": "stdout",
     "output_type": "stream",
     "text": [
      "The accuracy of the adni on the training set is 1.0\n",
      "The accuracy of the adni on the test dataset is 0.9904761904761905\n"
     ]
    }
   ],
   "source": [
    "# Check out the metrics\n",
    "acc_train = accuracy_score(y_train, best_model.predict(X_train_scaled))\n",
    "acc_test = accuracy_score(y_test, y_pred_tuned)\n",
    "print(f'The accuracy of the adni on the training set is {acc_train}')\n",
    "print(f'The accuracy of the adni on the test dataset is {acc_test}')"
   ]
  },
  {
   "cell_type": "code",
   "execution_count": 55,
   "metadata": {},
   "outputs": [
    {
     "data": {
      "image/png": "[encoded data removed]",
      "text/plain": [
       "<Figure size 432x288 with 2 Axes>"
      ]
     },
     "metadata": {
      "needs_background": "light"
     },
     "output_type": "display_data"
    }
   ],
   "source": [
    "# Plotting the confusing matrix\n",
    "mat = confusion_matrix(y_test, y_pred_tuned.round())\n",
    "cmd = ConfusionMatrixDisplay(mat, display_labels=['Healthy','AD'])\n",
    "cmd.plot();"
   ]
  },
  {
   "cell_type": "code",
   "execution_count": 56,
   "metadata": {},
   "outputs": [
    {
     "name": "stdout",
     "output_type": "stream",
     "text": [
      "              precision    recall  f1-score   support\n",
      "\n",
      "           0       1.00      0.98      0.99        58\n",
      "           1       0.98      1.00      0.99        47\n",
      "\n",
      "    accuracy                           0.99       105\n",
      "   macro avg       0.99      0.99      0.99       105\n",
      "weighted avg       0.99      0.99      0.99       105\n",
      "\n"
     ]
    }
   ],
   "source": [
    "#Print out the classification report \n",
    "print(classification_report(y_test, y_pred_tuned))"
   ]
  },
  {
   "cell_type": "code",
   "execution_count": 57,
   "metadata": {},
   "outputs": [
    {
     "data": {
      "text/plain": [
       "<Run: data=<RunData: metrics={'test-accuracy': 0.9904761904761905, 'train-accuracy': 1.0}, params={}, tags={'mlflow.runName': '3_adni_trans_scaled_SVM',\n",
       " 'mlflow.source.git.commit': 'fec7fbc79a3ffae3b9c9fb784985cfd3a66b9538',\n",
       " 'mlflow.source.name': '/Users/tamarapallien/neuefische/capstone '\n",
       "                       '/ds-capstone-alzheimers-/.venv/lib/python3.9/site-packages/ipykernel_launcher.py',\n",
       " 'mlflow.source.type': 'LOCAL',\n",
       " 'mlflow.user': 'tamarapallien'}>, info=<RunInfo: artifact_uri='s3://neuefische-mlflow/mlflow-artifacts/56/96a1485808c34874a2c28ad9cbecc9db/artifacts', end_time=1661959207107, experiment_id='56', lifecycle_stage='active', run_id='96a1485808c34874a2c28ad9cbecc9db', run_uuid='96a1485808c34874a2c28ad9cbecc9db', start_time=1661959035037, status='FINISHED', user_id='tamarapallien'>>"
      ]
     },
     "execution_count": 57,
     "metadata": {},
     "output_type": "execute_result"
    }
   ],
   "source": [
    "#logging metrics\n",
    "mlflow.log_metric(\"train-\" + \"accuracy\", acc_train)\n",
    "mlflow.log_metric(\"test-\" + \"accuracy\", acc_test)\n",
    "\n",
    "# mlflow.sklearn.log_model(reg, \"model\")\n",
    "mlflow.end_run()\n",
    "\n",
    "mlflow.get_run(run_id=run.info.run_id)"
   ]
  },
  {
   "cell_type": "markdown",
   "metadata": {},
   "source": [
    "#### 2.2 ExtraTreeClassifier on the Adni dataset "
   ]
  },
  {
   "cell_type": "code",
   "execution_count": 58,
   "metadata": {},
   "outputs": [],
   "source": [
    "# setting the MLFlow connection and experiment\n",
    "mlflow.start_run(run_name='4_adni_trans_scaled_Xtree')\n",
    "run = mlflow.active_run()"
   ]
  },
  {
   "cell_type": "code",
   "execution_count": 59,
   "metadata": {},
   "outputs": [
    {
     "name": "stdout",
     "output_type": "stream",
     "text": [
      "Fitting 5 folds for each of 3 candidates, totalling 15 fits\n",
      "[CV 2/5] END criterion=gini, max_depth=20, min_samples_leaf=2, min_samples_split=60, n_estimators=50;, score=0.984 total time=   0.0s\n",
      "[CV 1/5] END criterion=gini, max_depth=20, min_samples_leaf=2, min_samples_split=60, n_estimators=50;, score=1.000 total time=   0.0s\n",
      "[CV 3/5] END criterion=gini, max_depth=20, min_samples_leaf=2, min_samples_split=60, n_estimators=50;, score=1.000 total time=   0.1s\n",
      "[CV 4/5] END criterion=gini, max_depth=20, min_samples_leaf=2, min_samples_split=60, n_estimators=50;, score=0.984 total time=   0.1s\n",
      "[CV 5/5] END criterion=gini, max_depth=20, min_samples_leaf=2, min_samples_split=60, n_estimators=50;, score=1.000 total time=   0.1s\n",
      "[CV 5/5] END criterion=gini, max_depth=20, min_samples_leaf=2, min_samples_split=60, n_estimators=100;, score=0.984 total time=   0.1s\n",
      "[CV 4/5] END criterion=gini, max_depth=20, min_samples_leaf=2, min_samples_split=60, n_estimators=100;, score=1.000 total time=   0.1s\n",
      "[CV 1/5] END criterion=gini, max_depth=20, min_samples_leaf=2, min_samples_split=60, n_estimators=100;, score=0.984 total time=   0.1s\n",
      "[CV 3/5] END criterion=gini, max_depth=20, min_samples_leaf=2, min_samples_split=60, n_estimators=100;, score=1.000 total time=   0.1s\n",
      "[CV 2/5] END criterion=gini, max_depth=20, min_samples_leaf=2, min_samples_split=60, n_estimators=100;, score=0.984 total time=   0.1s\n",
      "[CV 1/5] END criterion=gini, max_depth=20, min_samples_leaf=2, min_samples_split=60, n_estimators=200;, score=1.000 total time=   0.1s\n",
      "[CV 2/5] END criterion=gini, max_depth=20, min_samples_leaf=2, min_samples_split=60, n_estimators=200;, score=0.984 total time=   0.1s\n",
      "[CV 5/5] END criterion=gini, max_depth=20, min_samples_leaf=2, min_samples_split=60, n_estimators=200;, score=1.000 total time=   0.1s\n",
      "[CV 3/5] END criterion=gini, max_depth=20, min_samples_leaf=2, min_samples_split=60, n_estimators=200;, score=1.000 total time=   0.1s\n",
      "[CV 4/5] END criterion=gini, max_depth=20, min_samples_leaf=2, min_samples_split=60, n_estimators=200;, score=1.000 total time=   0.1s\n"
     ]
    },
    {
     "data": {
      "text/plain": [
       "{'criterion': 'gini',\n",
       " 'max_depth': 20,\n",
       " 'min_samples_leaf': 2,\n",
       " 'min_samples_split': 60,\n",
       " 'n_estimators': 200}"
      ]
     },
     "execution_count": 59,
     "metadata": {},
     "output_type": "execute_result"
    }
   ],
   "source": [
    "#We analyze the performance of the ExtraTreeClassifier using GridSearch \n",
    "\n",
    "param_grid = {'n_estimators': [50,100,200],\n",
    "                'criterion': ['gini'],\n",
    "                'max_depth': [20],\n",
    "                'min_samples_split': [60],\n",
    "                'min_samples_leaf': [2]\n",
    "}\n",
    "\n",
    "gs = GridSearchCV(ExtraTreesClassifier(), param_grid=param_grid, n_jobs=-1, verbose=3, scoring='accuracy')\n",
    "\n",
    "gs.fit(X_train_scaled, y_train)\n",
    "gs.best_params_"
   ]
  },
  {
   "cell_type": "code",
   "execution_count": 60,
   "metadata": {},
   "outputs": [],
   "source": [
    "# Evaluate on test set\n",
    "best_model = gs.best_estimator_\n",
    "y_pred_tuned = best_model.predict(X_test_scaled)"
   ]
  },
  {
   "cell_type": "code",
   "execution_count": 61,
   "metadata": {},
   "outputs": [
    {
     "name": "stdout",
     "output_type": "stream",
     "text": [
      "The accuracy on the training set is 0.9967948717948718\n",
      "The accuracy on the test dataset is 0.9904761904761905\n"
     ]
    }
   ],
   "source": [
    "# Check out the metrics\n",
    "acc_train = accuracy_score(y_train, best_model.predict(X_train_scaled))\n",
    "acc_test = accuracy_score(y_test, y_pred_tuned)\n",
    "print(f'The accuracy on the training set is {acc_train}')\n",
    "print(f'The accuracy on the test dataset is {acc_test}')"
   ]
  },
  {
   "cell_type": "code",
   "execution_count": 62,
   "metadata": {},
   "outputs": [
    {
     "data": {
      "image/png": "[encoded data removed]",
      "text/plain": [
       "<Figure size 432x288 with 2 Axes>"
      ]
     },
     "metadata": {
      "needs_background": "light"
     },
     "output_type": "display_data"
    }
   ],
   "source": [
    "# Plotting the confusing matrix\n",
    "mat = confusion_matrix(y_test, y_pred_tuned.round())\n",
    "cmd = ConfusionMatrixDisplay(mat, display_labels=['Healthy','AD'])\n",
    "cmd.plot();"
   ]
  },
  {
   "cell_type": "code",
   "execution_count": 63,
   "metadata": {},
   "outputs": [
    {
     "name": "stdout",
     "output_type": "stream",
     "text": [
      "              precision    recall  f1-score   support\n",
      "\n",
      "           0       0.98      1.00      0.99        58\n",
      "           1       1.00      0.98      0.99        47\n",
      "\n",
      "    accuracy                           0.99       105\n",
      "   macro avg       0.99      0.99      0.99       105\n",
      "weighted avg       0.99      0.99      0.99       105\n",
      "\n"
     ]
    }
   ],
   "source": [
    "#Print out the classification report \n",
    "print(classification_report(y_test, y_pred_tuned))"
   ]
  },
  {
   "cell_type": "code",
   "execution_count": 67,
   "metadata": {},
   "outputs": [
    {
     "data": {
      "image/png": "[encoded data removed]",
      "text/plain": [
       "<Figure size 432x288 with 1 Axes>"
      ]
     },
     "metadata": {
      "needs_background": "light"
     },
     "output_type": "display_data"
    }
   ],
   "source": [
    "# Computing the importance of each feature\n",
    "feature_importance = best_model.feature_importances_\n",
    "\n",
    "# Normalizing the individual importances\n",
    "feature_importance_normalized = np.std([tree.feature_importances_ for tree in \n",
    "                                        best_model.estimators_],\n",
    "                                        axis = 0)\n",
    "                        \n",
    "\n",
    "#Plotting a Bar Graph to compare the models\n",
    "plt.bar(X.columns, feature_importance_normalized)\n",
    "plt.xlabel('Features')\n",
    "plt.xticks(rotation=90)\n",
    "plt.ylabel('Normalized feature importance')\n",
    "plt.title('Comparison of feature importance for the ADNI dataset')\n",
    "plt.show()  "
   ]
  },
  {
   "cell_type": "code",
   "execution_count": 68,
   "metadata": {},
   "outputs": [
    {
     "data": {
      "text/plain": [
       "<Run: data=<RunData: metrics={'test-accuracy': 0.9904761904761905, 'train-accuracy': 0.9967948717948718}, params={}, tags={'mlflow.runName': '4_adni_trans_scaled_Xtree',\n",
       " 'mlflow.source.git.commit': 'fec7fbc79a3ffae3b9c9fb784985cfd3a66b9538',\n",
       " 'mlflow.source.name': '/Users/tamarapallien/neuefische/capstone '\n",
       "                       '/ds-capstone-alzheimers-/.venv/lib/python3.9/site-packages/ipykernel_launcher.py',\n",
       " 'mlflow.source.type': 'LOCAL',\n",
       " 'mlflow.user': 'tamarapallien'}>, info=<RunInfo: artifact_uri='s3://neuefische-mlflow/mlflow-artifacts/56/c0fd40662e7e4197b29b4323c32a5b41/artifacts', end_time=1661959449325, experiment_id='56', lifecycle_stage='active', run_id='c0fd40662e7e4197b29b4323c32a5b41', run_uuid='c0fd40662e7e4197b29b4323c32a5b41', start_time=1661959231671, status='FINISHED', user_id='tamarapallien'>>"
      ]
     },
     "execution_count": 68,
     "metadata": {},
     "output_type": "execute_result"
    }
   ],
   "source": [
    "#logging metrics\n",
    "mlflow.log_metric(\"train-\" + \"accuracy\", acc_train)\n",
    "mlflow.log_metric(\"test-\" + \"accuracy\", acc_test)\n",
    "\n",
    "# mlflow.sklearn.log_model(reg, \"model\")\n",
    "mlflow.end_run()\n",
    "\n",
    "mlflow.get_run(run_id=run.info.run_id)"
   ]
  }
 ],
 "metadata": {
  "kernelspec": {
   "display_name": "Python 3.9.8 ('.venv': venv)",
   "language": "python",
   "name": "python3"
  },
  "language_info": {
   "codemirror_mode": {
    "name": "ipython",
    "version": 3
   },
   "file_extension": ".py",
   "mimetype": "text/x-python",
   "name": "python",
   "nbconvert_exporter": "python",
   "pygments_lexer": "ipython3",
   "version": "3.9.8"
  },
  "orig_nbformat": 4,
  "vscode": {
   "interpreter": {
    "hash": "68df357d1236ea760662511d700563405db38e78ff847247caa8274b511a18ea"
   }
  }
 },
 "nbformat": 4,
 "nbformat_minor": 2
}
