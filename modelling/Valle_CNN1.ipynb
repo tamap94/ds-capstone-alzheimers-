{
 "cells": [
  {
   "cell_type": "code",
   "execution_count": 2,
   "metadata": {},
   "outputs": [],
   "source": [
    "import numpy as np\n",
    "import pandas as pd\n",
    "import seaborn as sns\n",
    "import matplotlib.pyplot as plt\n",
    "import os\n",
    "import sys\n",
    "sys.path.append('../')\n",
    "\n",
    "from sklearn.model_selection import train_test_split\n",
    "from sklearn.metrics import accuracy_score, confusion_matrix, recall_score, precision_score, precision_recall_curve\n",
    "\n",
    "import tensorflow as tf\n",
    "from tensorflow.keras.utils import plot_model\n",
    "\n",
    "import keras \n",
    "from keras.models import Sequential\n",
    "from keras.layers import Dense, Activation, Dropout, InputLayer, Flatten, Conv2D, MaxPooling2D\n",
    "\n",
    "np.random.seed(42)\n",
    "tf.random.set_seed(42)\n",
    "\n",
    "from scipy import stats"
   ]
  },
  {
   "cell_type": "code",
   "execution_count": 3,
   "metadata": {},
   "outputs": [],
   "source": [
    "from preprocessing.getdata import *\n",
    "\n",
    "# load csv_file\n",
    "df = get_csvdata(drop_young=True, drop_contradictions=True)\n",
    "\n",
    "#split dataframe into train and test\n",
    "dfTrain, dfTest, y_train, y_test = train_test_split(df, df['CDR'], stratify = df['CDR'], random_state=42)"
   ]
  },
  {
   "cell_type": "code",
   "execution_count": 4,
   "metadata": {},
   "outputs": [],
   "source": [
    "training_history= {}\n",
    "test_performance= []"
   ]
  },
  {
   "cell_type": "code",
   "execution_count": 44,
   "metadata": {},
   "outputs": [],
   "source": [
    "# load image data (N slices above and below the plane (m), suggested by the datasource)\n",
    "# standard values for m are 95 for dim=0, 110 for dim=1, 90 for dim=2\n",
    "\n",
    "\n",
    "N, d, m, dim, norm, file = 0, 1, 90, 2, True, \"masked\"\n",
    "X_train = get_slices(dfTrain['ID'], N=N, d=d, m=m, dim=dim, normalize=norm, file=file)\n",
    "\n",
    "#number of slices for the test data\n",
    "Ntest=0\n",
    "X_test = get_slices(dfTest['ID'], m=m, dim=dim, N=Ntest, normalize=norm, file=file)\n",
    "\n",
    "#expand y_train to the same length as X_train\n",
    "y_train = y_train.repeat(1+2*N) \n",
    "\n",
    "data_params = f\"N,d,m,dim,Ntest={N},{d},{m},{dim},{Ntest},{norm},{file}\""
   ]
  },
  {
   "cell_type": "code",
   "execution_count": 45,
   "metadata": {},
   "outputs": [],
   "source": [
    "HEIGHT = X_train.shape[1]\n",
    "WIDTH = X_train.shape[2]"
   ]
  },
  {
   "cell_type": "code",
   "execution_count": 46,
   "metadata": {},
   "outputs": [
    {
     "data": {
      "text/plain": [
       "'model = Sequential()\\nmodel_name = \"CNN_8-16\"\\n# layers\\nmodel.add(InputLayer(input_shape=[HEIGHT, WIDTH, 1], name=\\'image\\'))\\nmodel.add(Conv2D(8, 3, activation=\"relu\", padding=\"same\", kernel_regularizer=keras.regularizers.l2(l=0.01)))\\nmodel.add(Conv2D(8, 3, activation=\"relu\", padding=\"same\", kernel_regularizer=keras.regularizers.l2(l=0.01)))\\nmodel.add(MaxPooling2D(pool_size=[2, 2], strides=2))\\n#model.add(Dropout(0.2))\\nmodel.add(Conv2D(16, 3, activation=\"relu\", padding=\"same\", kernel_regularizer=keras.regularizers.l2(l=0.01)))\\nmodel.add(Conv2D(16, 3, activation=\"relu\", padding=\"same\", kernel_regularizer=keras.regularizers.l2(l=0.01)))\\nmodel.add(MaxPooling2D(pool_size=[2, 2], strides=2))\\n#model.add(Dropout(0.2))\\nmodel.add(Flatten())\\nmodel.add(Dropout(0.2))\\nmodel.add(Dense(units=64, activation=\"relu\", kernel_regularizer=\\'l2\\'))\\nmodel.add(Dense(units = 1, kernel_initializer = \\'uniform\\', activation = \\'sigmoid\\'))\\n\\noptimizer = tf.keras.optimizers.Adam(learning_rate=0.001, name=\\'Adam\\')\\n\\nmodel.compile(\\n    optimizer = optimizer,\\n    loss = \\'binary_crossentropy\\', \\n    metrics = [\\'accuracy\\'])#, keras.metrics.Precision(), keras.metrics.Recall()])\\nprint(model.summary())'"
      ]
     },
     "execution_count": 46,
     "metadata": {},
     "output_type": "execute_result"
    }
   ],
   "source": [
    "'''model = Sequential()\n",
    "model_name = \"CNN_8-16\"\n",
    "# layers\n",
    "model.add(InputLayer(input_shape=[HEIGHT, WIDTH, 1], name='image'))\n",
    "model.add(Conv2D(8, 3, activation=\"relu\", padding=\"same\", kernel_regularizer=keras.regularizers.l2(l=0.01)))\n",
    "model.add(Conv2D(8, 3, activation=\"relu\", padding=\"same\", kernel_regularizer=keras.regularizers.l2(l=0.01)))\n",
    "model.add(MaxPooling2D(pool_size=[2, 2], strides=2))\n",
    "#model.add(Dropout(0.2))\n",
    "model.add(Conv2D(16, 3, activation=\"relu\", padding=\"same\", kernel_regularizer=keras.regularizers.l2(l=0.01)))\n",
    "model.add(Conv2D(16, 3, activation=\"relu\", padding=\"same\", kernel_regularizer=keras.regularizers.l2(l=0.01)))\n",
    "model.add(MaxPooling2D(pool_size=[2, 2], strides=2))\n",
    "#model.add(Dropout(0.2))\n",
    "model.add(Flatten())\n",
    "model.add(Dropout(0.2))\n",
    "model.add(Dense(units=64, activation=\"relu\", kernel_regularizer='l2'))\n",
    "model.add(Dense(units = 1, kernel_initializer = 'uniform', activation = 'sigmoid'))\n",
    "\n",
    "optimizer = tf.keras.optimizers.Adam(learning_rate=0.001, name='Adam')\n",
    "\n",
    "model.compile(\n",
    "    optimizer = optimizer,\n",
    "    loss = 'binary_crossentropy', \n",
    "    metrics = ['accuracy'])#, keras.metrics.Precision(), keras.metrics.Recall()])\n",
    "print(model.summary())'''\n",
    "\n"
   ]
  },
  {
   "cell_type": "code",
   "execution_count": 47,
   "metadata": {},
   "outputs": [
    {
     "name": "stdout",
     "output_type": "stream",
     "text": [
      "Model: \"sequential_3\"\n",
      "_________________________________________________________________\n",
      " Layer (type)                Output Shape              Param #   \n",
      "=================================================================\n",
      " conv2d_12 (Conv2D)          (None, 176, 208, 8)       80        \n",
      "                                                                 \n",
      " conv2d_13 (Conv2D)          (None, 176, 208, 8)       584       \n",
      "                                                                 \n",
      " max_pooling2d_6 (MaxPooling  (None, 88, 104, 8)       0         \n",
      " 2D)                                                             \n",
      "                                                                 \n",
      " conv2d_14 (Conv2D)          (None, 88, 104, 16)       1168      \n",
      "                                                                 \n",
      " conv2d_15 (Conv2D)          (None, 88, 104, 16)       2320      \n",
      "                                                                 \n",
      " max_pooling2d_7 (MaxPooling  (None, 44, 52, 16)       0         \n",
      " 2D)                                                             \n",
      "                                                                 \n",
      " flatten_3 (Flatten)         (None, 36608)             0         \n",
      "                                                                 \n",
      " dense_6 (Dense)             (None, 64)                2342976   \n",
      "                                                                 \n",
      " dense_7 (Dense)             (None, 1)                 65        \n",
      "                                                                 \n",
      "=================================================================\n",
      "Total params: 2,347,193\n",
      "Trainable params: 2,347,193\n",
      "Non-trainable params: 0\n",
      "_________________________________________________________________\n",
      "None\n"
     ]
    }
   ],
   "source": [
    "model = Sequential()\n",
    "model_name = \"CNN_8-16_lessReg\"\n",
    "# layers\n",
    "model.add(InputLayer(input_shape=[HEIGHT, WIDTH, 1], name='image'))\n",
    "model.add(Conv2D(8, 3, activation=\"relu\", padding=\"same\"))\n",
    "model.add(Conv2D(8, 3, activation=\"relu\", padding=\"same\"))\n",
    "#model.add(Dropout(0.2))\n",
    "model.add(MaxPooling2D(pool_size=[2, 2], strides=2))\n",
    "model.add(Conv2D(16, 3, activation=\"relu\", padding=\"same\"))\n",
    "model.add(Conv2D(16, 3, activation=\"relu\", padding=\"same\"))\n",
    "#model.add(Dropout(0.2))\n",
    "#model.add(MaxPooling2D(pool_size=[2, 2], strides=2))\n",
    "#model.add(Conv2D(32, 3, activation=\"relu\", padding=\"same\"))\n",
    "#model.add(Conv2D(32, 3, activation=\"relu\", padding=\"same\"))\n",
    "#model.add(Dropout(0.2))\n",
    "model.add(MaxPooling2D(pool_size=[2, 2], strides=2))\n",
    "model.add(Flatten())\n",
    "model.add(Dense(units=64, activation=\"relu\", kernel_regularizer='l2'))\n",
    "model.add(Dense(units = 1, kernel_initializer = 'uniform', activation = 'sigmoid'))\n",
    "\n",
    "optimizer = tf.keras.optimizers.Adam(learning_rate=0.001, name='Adam')\n",
    "\n",
    "model.compile(\n",
    "    optimizer = optimizer,\n",
    "    loss = 'binary_crossentropy', \n",
    "    metrics = ['accuracy'])#, keras.metrics.Precision(), keras.metrics.Recall()])\n",
    "print(model.summary())\n"
   ]
  },
  {
   "cell_type": "code",
   "execution_count": 48,
   "metadata": {},
   "outputs": [
    {
     "data": {
      "text/plain": [
       "'model = Sequential()\\nmodel_name = \"VGG16\"\\n# layers\\nmodel.add(InputLayer(input_shape=[HEIGHT, WIDTH, 1], name=\\'image\\'))\\nmodel.add(Conv2D(64, 3, activation=\"relu\", padding=\"same\"))\\nmodel.add(Conv2D(64, 3, activation=\"relu\", padding=\"same\"))\\nmodel.add(MaxPooling2D())\\nmodel.add(Conv2D(128, 3, activation=\"relu\", padding=\"same\"))\\nmodel.add(Conv2D(128, 3, activation=\"relu\", padding=\"same\"))\\nmodel.add(MaxPooling2D())\\nmodel.add(Conv2D(256, 3, activation=\"relu\", padding=\"same\"))\\nmodel.add(Conv2D(256, 3, activation=\"relu\", padding=\"same\"))\\nmodel.add(Conv2D(256, 3, activation=\"relu\", padding=\"same\"))\\nmodel.add(MaxPooling2D())\\nmodel.add(Conv2D(512, 3, activation=\"relu\", padding=\"same\"))\\nmodel.add(Conv2D(512, 3, activation=\"relu\", padding=\"same\"))\\nmodel.add(Conv2D(512, 3, activation=\"relu\", padding=\"same\"))\\nmodel.add(MaxPooling2D())\\nmodel.add(Conv2D(512, 3, activation=\"relu\", padding=\"same\"))\\nmodel.add(Conv2D(512, 3, activation=\"relu\", padding=\"same\"))\\nmodel.add(Conv2D(512, 3, activation=\"relu\", padding=\"same\"))\\nmodel.add(MaxPooling2D())\\nmodel.add(Flatten())\\nmodel.add(Dense(units=256, activation=\"relu\"))\\nmodel.add(Dense(units=128, activation=\"relu\"))\\nmodel.add(Dense(units = 1, activation = \\'sigmoid\\'))\\n\\nmodel.compile(optimizer = \\'adam\\', loss = \\'binary_crossentropy\\', metrics = [\\'accuracy\\'])#, keras.metrics.Precision(), keras.metrics.Recall()])\\nprint(model.summary())'"
      ]
     },
     "execution_count": 48,
     "metadata": {},
     "output_type": "execute_result"
    }
   ],
   "source": [
    "'''model = Sequential()\n",
    "model_name = \"VGG16\"\n",
    "# layers\n",
    "model.add(InputLayer(input_shape=[HEIGHT, WIDTH, 1], name='image'))\n",
    "model.add(Conv2D(64, 3, activation=\"relu\", padding=\"same\"))\n",
    "model.add(Conv2D(64, 3, activation=\"relu\", padding=\"same\"))\n",
    "model.add(MaxPooling2D())\n",
    "model.add(Conv2D(128, 3, activation=\"relu\", padding=\"same\"))\n",
    "model.add(Conv2D(128, 3, activation=\"relu\", padding=\"same\"))\n",
    "model.add(MaxPooling2D())\n",
    "model.add(Conv2D(256, 3, activation=\"relu\", padding=\"same\"))\n",
    "model.add(Conv2D(256, 3, activation=\"relu\", padding=\"same\"))\n",
    "model.add(Conv2D(256, 3, activation=\"relu\", padding=\"same\"))\n",
    "model.add(MaxPooling2D())\n",
    "model.add(Conv2D(512, 3, activation=\"relu\", padding=\"same\"))\n",
    "model.add(Conv2D(512, 3, activation=\"relu\", padding=\"same\"))\n",
    "model.add(Conv2D(512, 3, activation=\"relu\", padding=\"same\"))\n",
    "model.add(MaxPooling2D())\n",
    "model.add(Conv2D(512, 3, activation=\"relu\", padding=\"same\"))\n",
    "model.add(Conv2D(512, 3, activation=\"relu\", padding=\"same\"))\n",
    "model.add(Conv2D(512, 3, activation=\"relu\", padding=\"same\"))\n",
    "model.add(MaxPooling2D())\n",
    "model.add(Flatten())\n",
    "model.add(Dense(units=256, activation=\"relu\"))\n",
    "model.add(Dense(units=128, activation=\"relu\"))\n",
    "model.add(Dense(units = 1, activation = 'sigmoid'))\n",
    "\n",
    "model.compile(optimizer = 'adam', loss = 'binary_crossentropy', metrics = ['accuracy'])#, keras.metrics.Precision(), keras.metrics.Recall()])\n",
    "print(model.summary())'''"
   ]
  },
  {
   "cell_type": "code",
   "execution_count": null,
   "metadata": {},
   "outputs": [],
   "source": []
  },
  {
   "cell_type": "code",
   "execution_count": 49,
   "metadata": {},
   "outputs": [
    {
     "name": "stdout",
     "output_type": "stream",
     "text": [
      "Epoch 1/25\n"
     ]
    },
    {
     "name": "stderr",
     "output_type": "stream",
     "text": [
      "2022-08-22 18:09:31.141009: I tensorflow/core/grappler/optimizers/custom_graph_optimizer_registry.cc:113] Plugin optimizer for device_type GPU is enabled.\n"
     ]
    },
    {
     "name": "stdout",
     "output_type": "stream",
     "text": [
      "4/4 [==============================] - 1s 184ms/step - loss: 1.6664 - accuracy: 0.5278 - val_loss: 1.1325 - val_accuracy: 0.3929\n",
      "Epoch 2/25\n",
      "1/4 [======>.......................] - ETA: 0s - loss: 1.1294 - accuracy: 0.4688"
     ]
    },
    {
     "name": "stderr",
     "output_type": "stream",
     "text": [
      "2022-08-22 18:09:32.227638: I tensorflow/core/grappler/optimizers/custom_graph_optimizer_registry.cc:113] Plugin optimizer for device_type GPU is enabled.\n"
     ]
    },
    {
     "name": "stdout",
     "output_type": "stream",
     "text": [
      "4/4 [==============================] - 0s 83ms/step - loss: 0.9965 - accuracy: 0.5278 - val_loss: 0.8141 - val_accuracy: 0.3929\n",
      "Epoch 3/25\n",
      "4/4 [==============================] - 0s 86ms/step - loss: 0.7686 - accuracy: 0.5278 - val_loss: 0.7673 - val_accuracy: 0.3929\n",
      "Epoch 4/25\n",
      "4/4 [==============================] - 0s 84ms/step - loss: 0.7404 - accuracy: 0.5278 - val_loss: 0.7634 - val_accuracy: 0.3929\n",
      "Epoch 5/25\n",
      "4/4 [==============================] - 0s 92ms/step - loss: 0.7555 - accuracy: 0.5278 - val_loss: 0.7647 - val_accuracy: 0.3929\n",
      "Epoch 6/25\n",
      "4/4 [==============================] - 0s 80ms/step - loss: 0.7533 - accuracy: 0.5278 - val_loss: 0.7450 - val_accuracy: 0.3929\n",
      "Epoch 7/25\n",
      "4/4 [==============================] - 0s 83ms/step - loss: 0.7313 - accuracy: 0.5278 - val_loss: 0.7240 - val_accuracy: 0.3929\n",
      "Epoch 8/25\n",
      "4/4 [==============================] - 0s 104ms/step - loss: 0.7095 - accuracy: 0.5278 - val_loss: 0.7080 - val_accuracy: 0.3929\n",
      "Epoch 9/25\n",
      "4/4 [==============================] - 0s 77ms/step - loss: 0.7003 - accuracy: 0.5278 - val_loss: 0.7067 - val_accuracy: 0.3929\n",
      "Epoch 10/25\n",
      "4/4 [==============================] - 0s 82ms/step - loss: 0.6958 - accuracy: 0.5278 - val_loss: 0.7020 - val_accuracy: 0.3929\n",
      "Epoch 11/25\n",
      "4/4 [==============================] - 0s 94ms/step - loss: 0.7029 - accuracy: 0.5370 - val_loss: 0.7028 - val_accuracy: 0.3929\n",
      "Epoch 12/25\n",
      "4/4 [==============================] - 0s 76ms/step - loss: 0.6993 - accuracy: 0.5648 - val_loss: 0.6988 - val_accuracy: 0.6071\n",
      "Epoch 13/25\n",
      "4/4 [==============================] - 0s 76ms/step - loss: 0.7012 - accuracy: 0.4907 - val_loss: 0.6999 - val_accuracy: 0.4643\n",
      "Epoch 14/25\n",
      "4/4 [==============================] - 0s 76ms/step - loss: 0.6989 - accuracy: 0.5556 - val_loss: 0.7006 - val_accuracy: 0.3929\n",
      "Epoch 15/25\n",
      "4/4 [==============================] - 0s 77ms/step - loss: 0.6970 - accuracy: 0.5278 - val_loss: 0.7006 - val_accuracy: 0.3929\n",
      "Epoch 16/25\n",
      "4/4 [==============================] - 0s 80ms/step - loss: 0.6955 - accuracy: 0.5278 - val_loss: 0.6991 - val_accuracy: 0.3929\n",
      "Epoch 17/25\n",
      "4/4 [==============================] - 0s 77ms/step - loss: 0.6933 - accuracy: 0.5278 - val_loss: 0.6985 - val_accuracy: 0.3929\n",
      "Epoch 18/25\n",
      "4/4 [==============================] - 0s 78ms/step - loss: 0.6917 - accuracy: 0.5278 - val_loss: 0.7002 - val_accuracy: 0.3929\n",
      "Epoch 19/25\n",
      "4/4 [==============================] - 0s 79ms/step - loss: 0.6935 - accuracy: 0.5278 - val_loss: 0.6997 - val_accuracy: 0.3929\n",
      "Epoch 20/25\n",
      "4/4 [==============================] - 0s 81ms/step - loss: 0.6877 - accuracy: 0.6019 - val_loss: 0.6842 - val_accuracy: 0.6429\n",
      "Epoch 21/25\n",
      "4/4 [==============================] - 0s 82ms/step - loss: 0.6928 - accuracy: 0.6296 - val_loss: 0.6925 - val_accuracy: 0.5714\n",
      "Epoch 22/25\n",
      "4/4 [==============================] - 0s 87ms/step - loss: 0.6841 - accuracy: 0.6574 - val_loss: 0.6996 - val_accuracy: 0.3929\n",
      "Epoch 23/25\n",
      "4/4 [==============================] - 0s 76ms/step - loss: 0.6820 - accuracy: 0.5463 - val_loss: 0.6837 - val_accuracy: 0.6071\n",
      "Epoch 24/25\n",
      "4/4 [==============================] - 0s 79ms/step - loss: 0.6718 - accuracy: 0.6667 - val_loss: 0.6687 - val_accuracy: 0.6429\n",
      "Epoch 25/25\n",
      "4/4 [==============================] - 0s 79ms/step - loss: 0.6523 - accuracy: 0.6574 - val_loss: 0.7298 - val_accuracy: 0.4286\n"
     ]
    }
   ],
   "source": [
    "training_history[model_name+data_params] = model.fit(X_train, y_train, batch_size = 32, validation_split=0.2, epochs = 25)"
   ]
  },
  {
   "cell_type": "code",
   "execution_count": 50,
   "metadata": {},
   "outputs": [
    {
     "name": "stderr",
     "output_type": "stream",
     "text": [
      "2022-08-22 18:09:40.349835: I tensorflow/core/grappler/optimizers/custom_graph_optimizer_registry.cc:113] Plugin optimizer for device_type GPU is enabled.\n"
     ]
    }
   ],
   "source": [
    "# prediction of outcomes and conversion to binary\n",
    "y_pred_probs = model.predict(X_test)\n",
    "y_pred = (y_pred_probs>0.5).astype(int)"
   ]
  },
  {
   "cell_type": "code",
   "execution_count": 51,
   "metadata": {},
   "outputs": [],
   "source": [
    "# reshape is necessary if X_test also consists of multiple slices per sample\n",
    "\n",
    "if Ntest != 0:\n",
    "    test_length, slices_per_test_sample = dfTest.shape[0], int(y_pred.shape[0]/dfTest.shape[0])\n",
    "\n",
    "    l = []\n",
    "    for i in range(test_length):\n",
    "        for j in np.where(y_pred.reshape((test_length,slices_per_test_sample))[i]==y_test.values[i])[0]:\n",
    "            l.append(j)\n",
    "\n",
    "    for i in range(12):\n",
    "        print(i, l.count(i))\n",
    "\n",
    "    y_pred = np.array(stats.mode(y_pred.reshape((test_length,slices_per_test_sample)), axis=1, keepdims=False))[0]"
   ]
  },
  {
   "cell_type": "code",
   "execution_count": 52,
   "metadata": {},
   "outputs": [
    {
     "data": {
      "image/png": "[encoded data removed]",
      "text/plain": [
       "<Figure size 432x288 with 1 Axes>"
      ]
     },
     "metadata": {
      "needs_background": "light"
     },
     "output_type": "display_data"
    }
   ],
   "source": [
    "# summarize history for accuracy\n",
    "plt.plot(training_history[model_name+data_params].history['accuracy'])\n",
    "plt.plot(training_history[model_name+data_params].history['val_accuracy'])\n",
    "plt.title(f\"model accuracy for \"+model_name+data_params)\n",
    "plt.ylabel('accuracy')\n",
    "plt.xlabel('epoch')\n",
    "plt.legend(['train', 'validation'], loc='upper left')\n",
    "plt.ylim([0.4,1.1])\n",
    "plt.show()"
   ]
  },
  {
   "cell_type": "code",
   "execution_count": 53,
   "metadata": {},
   "outputs": [],
   "source": [
    "import tensorflow_docs as tfdocs\n",
    "import tensorflow_docs.modeling\n",
    "import tensorflow_docs.plots"
   ]
  },
  {
   "cell_type": "code",
   "execution_count": 54,
   "metadata": {},
   "outputs": [
    {
     "data": {
      "image/png": "[encoded data removed]",
      "text/plain": [
       "<Figure size 864x576 with 1 Axes>"
      ]
     },
     "metadata": {
      "needs_background": "light"
     },
     "output_type": "display_data"
    }
   ],
   "source": [
    "# Instantiate HistoryPlotter\n",
    "plotter = tfdocs.plots.HistoryPlotter(metric = 'accuracy', smoothing_std=10)\n",
    "\n",
    "# Plot results of all models\n",
    "\n",
    "plt.figure(figsize=(12,8)) \n",
    "plotter.plot(training_history)\n",
    "plt.xlim([5, max(plt.xlim())])\n",
    "plt.ylim([0.5, 1])\n",
    "plt.xlabel('Epochs')\n",
    "plt.title('Comparison of all models')\n",
    "plt.legend(loc='upper right')\n",
    "plt.savefig(\"../models/Valle_CNN1_comparison_2.png\");"
   ]
  },
  {
   "cell_type": "code",
   "execution_count": 55,
   "metadata": {},
   "outputs": [
    {
     "name": "stdout",
     "output_type": "stream",
     "text": [
      "accuracy:  0.48\n",
      "recall:  0.0\n",
      "precision:  0.0\n"
     ]
    },
    {
     "data": {
      "text/html": [
       "<div>\n",
       "<style scoped>\n",
       "    .dataframe tbody tr th:only-of-type {\n",
       "        vertical-align: middle;\n",
       "    }\n",
       "\n",
       "    .dataframe tbody tr th {\n",
       "        vertical-align: top;\n",
       "    }\n",
       "\n",
       "    .dataframe thead th {\n",
       "        text-align: right;\n",
       "    }\n",
       "</style>\n",
       "<table border=\"1\" class=\"dataframe\">\n",
       "  <thead>\n",
       "    <tr style=\"text-align: right;\">\n",
       "      <th></th>\n",
       "      <th>model</th>\n",
       "      <th>data</th>\n",
       "      <th>accuracy</th>\n",
       "      <th>recall</th>\n",
       "      <th>precision</th>\n",
       "    </tr>\n",
       "  </thead>\n",
       "  <tbody>\n",
       "    <tr>\n",
       "      <th>0</th>\n",
       "      <td>CNN_8-16_lessReg</td>\n",
       "      <td>N,d,m,dim,Ntest=0,1,90,2,0,False</td>\n",
       "      <td>0.61</td>\n",
       "      <td>0.52</td>\n",
       "      <td>0.63</td>\n",
       "    </tr>\n",
       "    <tr>\n",
       "      <th>1</th>\n",
       "      <td>CNN_8-16_lessReg</td>\n",
       "      <td>N,d,m,dim,Ntest=0,1,90,2,0,False</td>\n",
       "      <td>0.57</td>\n",
       "      <td>0.30</td>\n",
       "      <td>0.64</td>\n",
       "    </tr>\n",
       "    <tr>\n",
       "      <th>2</th>\n",
       "      <td>CNN_8-16_lessReg</td>\n",
       "      <td>N,d,m,dim,Ntest=0,1,90,2,0,True</td>\n",
       "      <td>0.50</td>\n",
       "      <td>0.00</td>\n",
       "      <td>0.00</td>\n",
       "    </tr>\n",
       "    <tr>\n",
       "      <th>3</th>\n",
       "      <td>CNN_8-16_lessReg</td>\n",
       "      <td>N,d,m,dim,Ntest=0,1,90,2,0,True</td>\n",
       "      <td>0.48</td>\n",
       "      <td>0.00</td>\n",
       "      <td>0.00</td>\n",
       "    </tr>\n",
       "  </tbody>\n",
       "</table>\n",
       "</div>"
      ],
      "text/plain": [
       "              model                              data  accuracy  recall  \\\n",
       "0  CNN_8-16_lessReg  N,d,m,dim,Ntest=0,1,90,2,0,False      0.61    0.52   \n",
       "1  CNN_8-16_lessReg  N,d,m,dim,Ntest=0,1,90,2,0,False      0.57    0.30   \n",
       "2  CNN_8-16_lessReg   N,d,m,dim,Ntest=0,1,90,2,0,True      0.50    0.00   \n",
       "3  CNN_8-16_lessReg   N,d,m,dim,Ntest=0,1,90,2,0,True      0.48    0.00   \n",
       "\n",
       "   precision  \n",
       "0       0.63  \n",
       "1       0.64  \n",
       "2       0.00  \n",
       "3       0.00  "
      ]
     },
     "execution_count": 55,
     "metadata": {},
     "output_type": "execute_result"
    },
    {
     "data": {
      "image/png": "[encoded data removed]",
      "text/plain": [
       "<Figure size 432x288 with 1 Axes>"
      ]
     },
     "metadata": {
      "needs_background": "light"
     },
     "output_type": "display_data"
    }
   ],
   "source": [
    "accuracy_score(y_test, y_pred)\n",
    "mat = confusion_matrix(y_test, y_pred)\n",
    "sns.heatmap(mat.T, square=True, annot=True, fmt='d', cbar=False)\n",
    "plt.xlabel('true label')\n",
    "plt.ylabel('predicted label')\n",
    "print('accuracy: ' , accuracy_score(y_test, y_pred.round()).round(2))\n",
    "print('recall: ' , recall_score(y_test, y_pred.round()).round(2))\n",
    "print('precision: ' , precision_score(y_test, y_pred.round()).round(2))\n",
    "\n",
    "test_performance.append((model_name, data_params, accuracy_score(y_test, y_pred.round()).round(2), recall_score(y_test, y_pred.round()).round(2), precision_score(y_test, y_pred.round()).round(2)))\n",
    "df_perf = pd.DataFrame(test_performance, columns= [\"model\", \"data\", \"accuracy\", \"recall\", \"precision\"])\n",
    "df_perf"
   ]
  },
  {
   "cell_type": "code",
   "execution_count": 56,
   "metadata": {},
   "outputs": [],
   "source": [
    "df_perf.to_csv(\"../models/Valle_CNN1_2.csv\")"
   ]
  },
  {
   "cell_type": "code",
   "execution_count": null,
   "metadata": {},
   "outputs": [],
   "source": []
  }
 ],
 "metadata": {
  "kernelspec": {
   "display_name": "Python 3.9.8 ('.venv': venv)",
   "language": "python",
   "name": "python3"
  },
  "language_info": {
   "codemirror_mode": {
    "name": "ipython",
    "version": 3
   },
   "file_extension": ".py",
   "mimetype": "text/x-python",
   "name": "python",
   "nbconvert_exporter": "python",
   "pygments_lexer": "ipython3",
   "version": "3.9.8"
  },
  "orig_nbformat": 4,
  "vscode": {
   "interpreter": {
    "hash": "28d7a5be6aa37377b3c28a3b570a70259e8597afc38d6715f828fee2716552b7"
   }
  }
 },
 "nbformat": 4,
 "nbformat_minor": 2
}
