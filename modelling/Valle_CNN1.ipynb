{
 "cells": [
  {
   "cell_type": "markdown",
   "metadata": {},
   "source": [
    "### Notebook is a modified copy of modelling/Dennis_CNN3.ipynb"
   ]
  },
  {
   "cell_type": "code",
   "execution_count": 1,
   "metadata": {},
   "outputs": [],
   "source": [
    "import numpy as np\n",
    "import pandas as pd\n",
    "import seaborn as sns\n",
    "import matplotlib.pyplot as plt\n",
    "import os\n",
    "import sys\n",
    "sys.path.append('../')\n",
    "\n",
    "from sklearn.model_selection import train_test_split\n",
    "from sklearn.metrics import accuracy_score, confusion_matrix, recall_score, precision_score, precision_recall_curve\n",
    "\n",
    "import tensorflow as tf\n",
    "from tensorflow.keras.utils import plot_model\n",
    "\n",
    "import keras \n",
    "from keras.models import Sequential\n",
    "from keras.layers import Dense, Activation, Dropout, InputLayer, Flatten, Conv2D, MaxPooling2D\n",
    "\n",
    "np.random.seed(42)\n",
    "tf.random.set_seed(42)\n",
    "\n",
    "from scipy import stats"
   ]
  },
  {
   "cell_type": "code",
   "execution_count": 2,
   "metadata": {},
   "outputs": [],
   "source": [
    "from preprocessing.getdata import *\n",
    "\n",
    "# load csv_file\n",
    "df = get_csvdata()\n",
    "\n",
    "#split dataframe into train and test\n",
    "dfTrain, dfTest, y_train, y_test = train_test_split(df, df['CDR'], stratify = df['CDR'], random_state=42)\n",
    "training_history= {}"
   ]
  },
  {
   "cell_type": "code",
   "execution_count": 12,
   "metadata": {},
   "outputs": [],
   "source": [
    "# load image data (N slices above and below the plane (m), suggested by the datasource)\n",
    "# standard values for m are 95 for dim=0, 90 for dim=1, 110 for dim=2\n",
    "N, d, m, dim = 10, 2, 90, 2\n",
    "X_train = get_slices(dfTrain['ID'], N=N, d=d, m=m, dim=dim,)\n",
    "\n",
    "#load only single slices for test data to simulate a situation when only these slices are available and not the whole 3D image\n",
    "\n",
    "Ntest=5\n",
    "X_test = get_slices(dfTest['ID'], m=m, dim=dim, N=Ntest) \n",
    "\n",
    "#expand y_train to the same length as X_train\n",
    "y_train = y_train.repeat(1+2*N) \n"
   ]
  },
  {
   "cell_type": "code",
   "execution_count": 13,
   "metadata": {},
   "outputs": [],
   "source": [
    "HEIGHT = X_train.shape[1]\n",
    "WIDTH = X_train.shape[2]"
   ]
  },
  {
   "cell_type": "code",
   "execution_count": 14,
   "metadata": {},
   "outputs": [],
   "source": [
    "model = Sequential()\n",
    "\n",
    "# layers\n",
    "model.add(InputLayer(input_shape=[HEIGHT, WIDTH, 1], name='image'))\n",
    "model.add(Conv2D(8, 3, activation=\"relu\", padding=\"same\", kernel_regularizer=keras.regularizers.l2(l=0.01)))\n",
    "model.add(Conv2D(8, 3, activation=\"relu\", padding=\"same\", kernel_regularizer=keras.regularizers.l2(l=0.01)))\n",
    "model.add(MaxPooling2D(pool_size=[2, 2], strides=2))\n",
    "#model.add(Dropout(0.2))\n",
    "model.add(Conv2D(16, 3, activation=\"relu\", padding=\"same\", kernel_regularizer=keras.regularizers.l2(l=0.01)))\n",
    "model.add(Conv2D(16, 3, activation=\"relu\", padding=\"same\", kernel_regularizer=keras.regularizers.l2(l=0.01)))\n",
    "model.add(MaxPooling2D(pool_size=[2, 2], strides=2))\n",
    "#model.add(Dropout(0.2))\n",
    "model.add(Flatten())\n",
    "model.add(Dropout(0.2))\n",
    "model.add(Dense(units=64, activation=\"relu\", kernel_regularizer='l2'))\n",
    "model.add(Dense(units = 1, kernel_initializer = 'uniform', activation = 'sigmoid'))\n",
    "\n"
   ]
  },
  {
   "cell_type": "code",
   "execution_count": 15,
   "metadata": {},
   "outputs": [
    {
     "name": "stdout",
     "output_type": "stream",
     "text": [
      "Model: \"sequential_1\"\n",
      "_________________________________________________________________\n",
      " Layer (type)                Output Shape              Param #   \n",
      "=================================================================\n",
      " conv2d_4 (Conv2D)           (None, 176, 208, 8)       80        \n",
      "                                                                 \n",
      " conv2d_5 (Conv2D)           (None, 176, 208, 8)       584       \n",
      "                                                                 \n",
      " max_pooling2d_2 (MaxPooling  (None, 88, 104, 8)       0         \n",
      " 2D)                                                             \n",
      "                                                                 \n",
      " conv2d_6 (Conv2D)           (None, 88, 104, 16)       1168      \n",
      "                                                                 \n",
      " conv2d_7 (Conv2D)           (None, 88, 104, 16)       2320      \n",
      "                                                                 \n",
      " max_pooling2d_3 (MaxPooling  (None, 44, 52, 16)       0         \n",
      " 2D)                                                             \n",
      "                                                                 \n",
      " flatten_1 (Flatten)         (None, 36608)             0         \n",
      "                                                                 \n",
      " dropout_1 (Dropout)         (None, 36608)             0         \n",
      "                                                                 \n",
      " dense_2 (Dense)             (None, 64)                2342976   \n",
      "                                                                 \n",
      " dense_3 (Dense)             (None, 1)                 65        \n",
      "                                                                 \n",
      "=================================================================\n",
      "Total params: 2,347,193\n",
      "Trainable params: 2,347,193\n",
      "Non-trainable params: 0\n",
      "_________________________________________________________________\n",
      "None\n"
     ]
    }
   ],
   "source": [
    "optimizer = tf.keras.optimizers.Adam(learning_rate=0.001, name='Adam')\n",
    "\n",
    "model.compile(\n",
    "    optimizer = optimizer,\n",
    "    loss = 'binary_crossentropy', \n",
    "    metrics = ['accuracy'])#, keras.metrics.Precision(), keras.metrics.Recall()])\n",
    "print(model.summary())"
   ]
  },
  {
   "cell_type": "code",
   "execution_count": 16,
   "metadata": {},
   "outputs": [
    {
     "name": "stdout",
     "output_type": "stream",
     "text": [
      "Epoch 1/20\n"
     ]
    },
    {
     "name": "stderr",
     "output_type": "stream",
     "text": [
      "2022-08-22 14:11:19.744736: I tensorflow/core/grappler/optimizers/custom_graph_optimizer_registry.cc:113] Plugin optimizer for device_type GPU is enabled.\n"
     ]
    },
    {
     "name": "stdout",
     "output_type": "stream",
     "text": [
      "72/72 [==============================] - ETA: 0s - loss: 8.3360 - accuracy: 0.5836"
     ]
    },
    {
     "name": "stderr",
     "output_type": "stream",
     "text": [
      "2022-08-22 14:11:29.588078: I tensorflow/core/grappler/optimizers/custom_graph_optimizer_registry.cc:113] Plugin optimizer for device_type GPU is enabled.\n"
     ]
    },
    {
     "name": "stdout",
     "output_type": "stream",
     "text": [
      "72/72 [==============================] - 12s 138ms/step - loss: 8.3360 - accuracy: 0.5836 - val_loss: 1.4367 - val_accuracy: 0.9948\n",
      "Epoch 2/20\n",
      "72/72 [==============================] - 8s 104ms/step - loss: 1.4836 - accuracy: 0.6848 - val_loss: 1.1919 - val_accuracy: 0.9108\n",
      "Epoch 3/20\n",
      "72/72 [==============================] - 7s 99ms/step - loss: 1.2696 - accuracy: 0.7771 - val_loss: 1.1120 - val_accuracy: 0.8916\n",
      "Epoch 4/20\n",
      "72/72 [==============================] - 9s 121ms/step - loss: 1.0732 - accuracy: 0.8520 - val_loss: 1.7977 - val_accuracy: 0.4685\n",
      "Epoch 5/20\n",
      "72/72 [==============================] - 8s 108ms/step - loss: 0.9335 - accuracy: 0.8945 - val_loss: 1.8655 - val_accuracy: 0.4528\n",
      "Epoch 6/20\n",
      "72/72 [==============================] - 9s 125ms/step - loss: 0.8487 - accuracy: 0.9168 - val_loss: 2.0299 - val_accuracy: 0.4808\n",
      "Epoch 7/20\n",
      "72/72 [==============================] - 7s 104ms/step - loss: 0.7418 - accuracy: 0.9483 - val_loss: 2.0775 - val_accuracy: 0.4650\n",
      "Epoch 8/20\n",
      "72/72 [==============================] - 7s 100ms/step - loss: 0.6913 - accuracy: 0.9496 - val_loss: 2.3602 - val_accuracy: 0.4843\n",
      "Epoch 9/20\n",
      "72/72 [==============================] - 6s 86ms/step - loss: 0.6511 - accuracy: 0.9593 - val_loss: 1.2083 - val_accuracy: 0.7552\n",
      "Epoch 10/20\n",
      "72/72 [==============================] - 6s 84ms/step - loss: 0.5998 - accuracy: 0.9689 - val_loss: 1.9497 - val_accuracy: 0.5699\n",
      "Epoch 11/20\n",
      "72/72 [==============================] - 6s 85ms/step - loss: 0.5802 - accuracy: 0.9689 - val_loss: 1.1925 - val_accuracy: 0.7483\n",
      "Epoch 12/20\n",
      "72/72 [==============================] - 8s 113ms/step - loss: 0.5916 - accuracy: 0.9540 - val_loss: 1.1411 - val_accuracy: 0.7745\n",
      "Epoch 13/20\n",
      "72/72 [==============================] - 8s 108ms/step - loss: 0.5621 - accuracy: 0.9558 - val_loss: 2.8226 - val_accuracy: 0.4441\n",
      "Epoch 14/20\n",
      "72/72 [==============================] - 7s 99ms/step - loss: 0.4905 - accuracy: 0.9829 - val_loss: 2.0559 - val_accuracy: 0.5752\n",
      "Epoch 15/20\n",
      "72/72 [==============================] - 7s 94ms/step - loss: 0.4810 - accuracy: 0.9777 - val_loss: 2.1911 - val_accuracy: 0.5769\n",
      "Epoch 16/20\n",
      "72/72 [==============================] - 7s 97ms/step - loss: 0.4500 - accuracy: 0.9842 - val_loss: 2.4613 - val_accuracy: 0.5105\n",
      "Epoch 17/20\n",
      "72/72 [==============================] - 6s 86ms/step - loss: 0.4603 - accuracy: 0.9702 - val_loss: 2.3119 - val_accuracy: 0.5245\n",
      "Epoch 18/20\n",
      "72/72 [==============================] - 7s 92ms/step - loss: 0.4318 - accuracy: 0.9834 - val_loss: 3.0688 - val_accuracy: 0.4126\n",
      "Epoch 19/20\n",
      "72/72 [==============================] - 7s 99ms/step - loss: 0.4324 - accuracy: 0.9737 - val_loss: 2.2148 - val_accuracy: 0.5944\n",
      "Epoch 20/20\n",
      "72/72 [==============================] - 6s 88ms/step - loss: 0.4211 - accuracy: 0.9759 - val_loss: 2.8528 - val_accuracy: 0.5210\n"
     ]
    }
   ],
   "source": [
    "training_history[f\"N,d,m,dim,Ntest={N},{d},{m},{dim},{Ntest}\"] = model.fit(X_train, y_train, batch_size = 32, validation_split=0.2, epochs = 20)"
   ]
  },
  {
   "cell_type": "code",
   "execution_count": 17,
   "metadata": {},
   "outputs": [
    {
     "name": "stderr",
     "output_type": "stream",
     "text": [
      "2022-08-22 14:13:50.279747: I tensorflow/core/grappler/optimizers/custom_graph_optimizer_registry.cc:113] Plugin optimizer for device_type GPU is enabled.\n"
     ]
    }
   ],
   "source": [
    "# prediction of outcomes and conversion to binary\n",
    "y_pred_probs = model.predict(X_test)\n",
    "y_pred = (y_pred_probs>0.5).astype(int)\n",
    "\n"
   ]
  },
  {
   "cell_type": "code",
   "execution_count": 20,
   "metadata": {},
   "outputs": [
    {
     "data": {
      "text/plain": [
       "(2856, 176, 208)"
      ]
     },
     "execution_count": 20,
     "metadata": {},
     "output_type": "execute_result"
    }
   ],
   "source": [
    "X_train.shape"
   ]
  },
  {
   "cell_type": "code",
   "execution_count": 21,
   "metadata": {},
   "outputs": [
    {
     "name": "stdout",
     "output_type": "stream",
     "text": [
      "0 24\n",
      "1 26\n",
      "2 24\n",
      "3 25\n",
      "4 29\n",
      "5 24\n",
      "6 29\n",
      "7 23\n",
      "8 27\n",
      "9 23\n",
      "10 28\n",
      "11 0\n"
     ]
    }
   ],
   "source": [
    "# reshape is necessary if X_test also consists of multiple slices per sample\n",
    "\n",
    "if Ntest != 0:\n",
    "    test_length, slices_per_test_sample = dfTest.shape[0], int(y_pred.shape[0]/dfTest.shape[0])\n",
    "\n",
    "    l = []\n",
    "    for i in range(test_length):\n",
    "        for j in np.where(y_pred.reshape((test_length,slices_per_test_sample))[i]==y_test.values[i])[0]:\n",
    "            l.append(j)\n",
    "        \n",
    "    for i in range(slices_per_test_sample+1):\n",
    "        print(i, l.count(i))\n",
    "\n",
    "    y_pred = np.array(stats.mode(y_pred.reshape((test_length,slices_per_test_sample)), axis=1, keepdims=False))[0]"
   ]
  },
  {
   "cell_type": "code",
   "execution_count": 22,
   "metadata": {},
   "outputs": [
    {
     "name": "stdout",
     "output_type": "stream",
     "text": [
      "accuracy:  0.57\n",
      "recall:  0.43\n",
      "precision:  0.59\n"
     ]
    },
    {
     "data": {
      "image/png": "[encoded data removed]",
      "text/plain": [
       "<Figure size 432x288 with 1 Axes>"
      ]
     },
     "metadata": {
      "needs_background": "light"
     },
     "output_type": "display_data"
    }
   ],
   "source": [
    "accuracy_score(y_test, y_pred)\n",
    "mat = confusion_matrix(y_test, y_pred)\n",
    "sns.heatmap(mat.T, square=True, annot=True, fmt='d', cbar=False)\n",
    "plt.xlabel('true label')\n",
    "plt.ylabel('predicted label')\n",
    "print('accuracy: ' , accuracy_score(y_test, y_pred.round()).round(2))\n",
    "print('recall: ' , recall_score(y_test, y_pred.round()).round(2))\n",
    "print('precision: ' , precision_score(y_test, y_pred.round()).round(2))"
   ]
  },
  {
   "cell_type": "code",
   "execution_count": 23,
   "metadata": {},
   "outputs": [
    {
     "data": {
      "image/png": "[encoded data removed]",
      "text/plain": [
       "<Figure size 432x288 with 1 Axes>"
      ]
     },
     "metadata": {
      "needs_background": "light"
     },
     "output_type": "display_data"
    }
   ],
   "source": [
    "# summarize history for accuracy\n",
    "plt.plot(training_history[f\"N,d,m,dim,Ntest={N},{d},{m},{dim},{Ntest}\"].history['accuracy'])\n",
    "plt.plot(training_history[f\"N,d,m,dim,Ntest={N},{d},{m},{dim},{Ntest}\"].history['val_accuracy'])\n",
    "plt.title(f\"model accuracy for N,d,m,dim,Ntest={N},{d},{m},{dim},{Ntest}\")\n",
    "plt.ylabel('accuracy')\n",
    "plt.xlabel('epoch')\n",
    "plt.legend(['train', 'validation'], loc='upper left')\n",
    "plt.ylim([0.5,1.1])\n",
    "plt.show()"
   ]
  },
  {
   "cell_type": "code",
   "execution_count": 30,
   "metadata": {},
   "outputs": [],
   "source": [
    "import tensorflow_docs as tfdocs\n",
    "import tensorflow_docs.modeling\n",
    "import tensorflow_docs.plots"
   ]
  },
  {
   "cell_type": "code",
   "execution_count": 33,
   "metadata": {},
   "outputs": [
    {
     "data": {
      "image/png": "[encoded data removed]",
      "text/plain": [
       "<Figure size 432x288 with 1 Axes>"
      ]
     },
     "metadata": {
      "needs_background": "light"
     },
     "output_type": "display_data"
    }
   ],
   "source": [
    "# Instantiate HistoryPlotter\n",
    "plotter = tfdocs.plots.HistoryPlotter(metric = 'accuracy', smoothing_std=10)\n",
    "\n",
    "# Plot results of all models\n",
    "plotter.plot(training_history)\n",
    "plt.xlim([5, max(plt.xlim())])\n",
    "plt.ylim([0, 1])\n",
    "plt.xlabel('Epochs')\n",
    "plt.title('Comparison of all models')\n",
    "plt.legend(loc='upper right');"
   ]
  },
  {
   "cell_type": "code",
   "execution_count": null,
   "metadata": {},
   "outputs": [],
   "source": []
  }
 ],
 "metadata": {
  "kernelspec": {
   "display_name": "Python 3.9.8 ('.venv': venv)",
   "language": "python",
   "name": "python3"
  },
  "language_info": {
   "codemirror_mode": {
    "name": "ipython",
    "version": 3
   },
   "file_extension": ".py",
   "mimetype": "text/x-python",
   "name": "python",
   "nbconvert_exporter": "python",
   "pygments_lexer": "ipython3",
   "version": "3.9.8"
  },
  "orig_nbformat": 4,
  "vscode": {
   "interpreter": {
    "hash": "28d7a5be6aa37377b3c28a3b570a70259e8597afc38d6715f828fee2716552b7"
   }
  }
 },
 "nbformat": 4,
 "nbformat_minor": 2
}
