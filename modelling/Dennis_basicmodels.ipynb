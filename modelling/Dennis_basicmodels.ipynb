{
 "cells": [
  {
   "cell_type": "code",
   "execution_count": 2,
   "metadata": {},
   "outputs": [],
   "source": [
    "import numpy as np\n",
    "import pandas as pd\n",
    "import seaborn as sns\n",
    "import matplotlib.pyplot as plt\n",
    "import os\n",
    "import sys\n",
    "sys.path.append('../')\n",
    "\n",
    "from sklearn.model_selection import train_test_split, GridSearchCV\n",
    "from sklearn.metrics import accuracy_score, confusion_matrix, recall_score, precision_score, precision_recall_curve\n",
    "from sklearn.svm import SVC\n",
    "from sklearn.ensemble import ExtraTreesClassifier\n",
    "\n",
    "np.random.seed(42)\n",
    "\n",
    "from sklearn.decomposition import PCA\n",
    "from sklearn.preprocessing import StandardScaler"
   ]
  },
  {
   "cell_type": "code",
   "execution_count": 3,
   "metadata": {},
   "outputs": [],
   "source": [
    "from preprocessing.getdata import *\n",
    "df = get_csvdata()\n"
   ]
  },
  {
   "cell_type": "code",
   "execution_count": 25,
   "metadata": {},
   "outputs": [],
   "source": [
    "dfTrain, dfTest, y_train, y_test = train_test_split(df, df['CDR'], stratify = df['CDR'], random_state=42)\n",
    "\n",
    "X_test = get_slices(dfTest['ID'], dim=2, m=90)\n",
    "X_test = X_test.reshape((len(X_test),-1))\n",
    "\n",
    "d=2\n",
    "N=5\n",
    "\n",
    "X_train = get_slices(dfTrain['ID'], N=N, d=d, dim=2, m=90)\n",
    "y_train = y_train.repeat(1+2*N)\n",
    "X_train = X_train.reshape((len(X_train),-1))"
   ]
  },
  {
   "cell_type": "code",
   "execution_count": 4,
   "metadata": {},
   "outputs": [],
   "source": [
    "data = get_3D_data(df['ID'])\n",
    "X_train, X_test, y_train, y_test = train_test_split(data, df['CDR'], stratify = df['CDR'], random_state=42)\n",
    "del data \n",
    "\n",
    "X_train = X_train.reshape((len(X_train),-1))\n",
    "X_test = X_test.reshape((len(X_test),-1))"
   ]
  },
  {
   "cell_type": "code",
   "execution_count": 5,
   "metadata": {},
   "outputs": [],
   "source": [
    "scaler = StandardScaler()\n",
    "X_train_scaled = scaler.fit_transform(X_train)\n",
    "X_test_scaled = scaler.transform(X_test)"
   ]
  },
  {
   "cell_type": "code",
   "execution_count": 6,
   "metadata": {},
   "outputs": [
    {
     "ename": "",
     "evalue": "",
     "output_type": "error",
     "traceback": [
      "Der Kernel ist beim Ausführen von Code in der aktuellen Zelle oder einer vorherigen Zelle abgestürzt. Bitte überprüfen Sie den Code in der/den Zelle(n), um eine mögliche Fehlerursache zu identifizieren. Klicken Sie <a href='https://aka.ms/vscodeJupyterKernelCrash'>hier</a>, um weitere Informationen zu erhalten. Weitere Details finden Sie in Jupyter <a href='command:jupyter.viewOutput'>log</a>."
     ]
    },
    {
     "ename": "",
     "evalue": "",
     "output_type": "error",
     "traceback": [
      "\u001b[1;31mCanceled future for execute_request message before replies were done"
     ]
    }
   ],
   "source": [
    "pca = PCA(n_components=100, svd_solver='randomized')\n",
    "X_train_pca = pca.fit_transform(X_train_scaled)\n",
    "X_test_pca = pca.transform(X_test_scaled)"
   ]
  },
  {
   "cell_type": "code",
   "execution_count": 28,
   "metadata": {},
   "outputs": [
    {
     "data": {
      "text/plain": [
       "[<matplotlib.lines.Line2D at 0x2871d3d60>]"
      ]
     },
     "execution_count": 28,
     "metadata": {},
     "output_type": "execute_result"
    },
    {
     "data": {
      "image/png": "[encoded data removed]",
      "text/plain": [
       "<Figure size 432x288 with 1 Axes>"
      ]
     },
     "metadata": {
      "needs_background": "light"
     },
     "output_type": "display_data"
    }
   ],
   "source": [
    "plt.plot(pca.explained_variance_ratio_)"
   ]
  },
  {
   "cell_type": "code",
   "execution_count": 36,
   "metadata": {},
   "outputs": [
    {
     "data": {
      "text/plain": [
       "SVC()"
      ]
     },
     "execution_count": 36,
     "metadata": {},
     "output_type": "execute_result"
    }
   ],
   "source": [
    "model = SVC()\n",
    "model.fit(X_train_pca, y_train)"
   ]
  },
  {
   "cell_type": "code",
   "execution_count": 32,
   "metadata": {},
   "outputs": [
    {
     "name": "stdout",
     "output_type": "stream",
     "text": [
      "(1496, 36608)\n",
      "(1496, 1496)\n"
     ]
    }
   ],
   "source": [
    "print(X_train.shape)\n",
    "print(X_train_pca.shape)"
   ]
  },
  {
   "cell_type": "code",
   "execution_count": 33,
   "metadata": {},
   "outputs": [
    {
     "name": "stdout",
     "output_type": "stream",
     "text": [
      "Fitting 5 folds for each of 48 candidates, totalling 240 fits\n",
      "[CV 1/5] END .......C=0.1, gamma=1, kernel=poly;, score=0.573 total time=   3.4s\n",
      "[CV 2/5] END .......C=0.1, gamma=1, kernel=poly;, score=0.448 total time=   3.6s\n",
      "[CV 3/5] END .......C=0.1, gamma=1, kernel=poly;, score=0.609 total time=   3.8s\n",
      "[CV 1/5] END ........C=0.1, gamma=1, kernel=rbf;, score=0.500 total time=   3.9s\n",
      "[CV 3/5] END ........C=0.1, gamma=1, kernel=rbf;, score=0.535 total time=   3.9s\n",
      "[CV 4/5] END ........C=0.1, gamma=1, kernel=rbf;, score=0.502 total time=   4.0s\n",
      "[CV 2/5] END ........C=0.1, gamma=1, kernel=rbf;, score=0.498 total time=   4.0s\n",
      "[CV 5/5] END ........C=0.1, gamma=1, kernel=rbf;, score=0.498 total time=   4.0s\n",
      "[CV 1/5] END ....C=0.1, gamma=1, kernel=sigmoid;, score=0.520 total time=   2.2s\n",
      "[CV 2/5] END ....C=0.1, gamma=1, kernel=sigmoid;, score=0.492 total time=   2.1s\n",
      "[CV 3/5] END ....C=0.1, gamma=1, kernel=sigmoid;, score=0.525 total time=   2.2s\n",
      "[CV 4/5] END ....C=0.1, gamma=1, kernel=sigmoid;, score=0.569 total time=   2.2s\n",
      "[CV 5/5] END ....C=0.1, gamma=1, kernel=sigmoid;, score=0.502 total time=   2.4s\n",
      "[CV 4/5] END .......C=0.1, gamma=1, kernel=poly;, score=0.535 total time=   3.6s\n",
      "[CV 5/5] END .......C=0.1, gamma=1, kernel=poly;, score=0.732 total time=   3.9s\n",
      "[CV 1/5] END ......C=0.1, gamma=0.1, kernel=rbf;, score=0.500 total time=   4.1s\n",
      "[CV 4/5] END ......C=0.1, gamma=0.1, kernel=rbf;, score=0.502 total time=   3.7s\n",
      "[CV 2/5] END ......C=0.1, gamma=0.1, kernel=rbf;, score=0.498 total time=   3.8s\n",
      "[CV 3/5] END ......C=0.1, gamma=0.1, kernel=rbf;, score=0.535 total time=   3.8s\n",
      "[CV 1/5] END .....C=0.1, gamma=0.1, kernel=poly;, score=0.573 total time=   3.4s\n",
      "[CV 5/5] END ......C=0.1, gamma=0.1, kernel=rbf;, score=0.498 total time=   3.9s\n",
      "[CV 2/5] END .....C=0.1, gamma=0.1, kernel=poly;, score=0.448 total time=   3.4s\n",
      "[CV 3/5] END .....C=0.1, gamma=0.1, kernel=poly;, score=0.609 total time=   3.5s\n",
      "[CV 4/5] END .....C=0.1, gamma=0.1, kernel=poly;, score=0.535 total time=   3.4s\n",
      "[CV 1/5] END ..C=0.1, gamma=0.1, kernel=sigmoid;, score=0.527 total time=   2.2s\n",
      "[CV 2/5] END ..C=0.1, gamma=0.1, kernel=sigmoid;, score=0.505 total time=   2.3s\n",
      "[CV 3/5] END ..C=0.1, gamma=0.1, kernel=sigmoid;, score=0.515 total time=   2.2s\n",
      "[CV 5/5] END ..C=0.1, gamma=0.1, kernel=sigmoid;, score=0.502 total time=   2.1s\n",
      "[CV 4/5] END ..C=0.1, gamma=0.1, kernel=sigmoid;, score=0.565 total time=   2.4s\n",
      "[CV 5/5] END .....C=0.1, gamma=0.1, kernel=poly;, score=0.732 total time=   3.6s\n",
      "[CV 1/5] END .....C=0.1, gamma=0.01, kernel=rbf;, score=0.500 total time=   3.8s\n",
      "[CV 2/5] END .....C=0.1, gamma=0.01, kernel=rbf;, score=0.498 total time=   3.8s\n",
      "[CV 3/5] END .....C=0.1, gamma=0.01, kernel=rbf;, score=0.535 total time=   3.7s\n",
      "[CV 4/5] END .....C=0.1, gamma=0.01, kernel=rbf;, score=0.502 total time=   3.7s\n",
      "[CV 5/5] END .....C=0.1, gamma=0.01, kernel=rbf;, score=0.498 total time=   3.6s\n",
      "[CV 2/5] END ....C=0.1, gamma=0.01, kernel=poly;, score=0.448 total time=   3.4s\n",
      "[CV 1/5] END ....C=0.1, gamma=0.01, kernel=poly;, score=0.573 total time=   3.6s\n",
      "[CV 3/5] END ....C=0.1, gamma=0.01, kernel=poly;, score=0.609 total time=   3.4s\n",
      "[CV 1/5] END .C=0.1, gamma=0.01, kernel=sigmoid;, score=0.517 total time=   2.3s\n",
      "[CV 4/5] END ....C=0.1, gamma=0.01, kernel=poly;, score=0.535 total time=   3.6s\n",
      "[CV 3/5] END .C=0.1, gamma=0.01, kernel=sigmoid;, score=0.522 total time=   2.6s\n",
      "[CV 2/5] END .C=0.1, gamma=0.01, kernel=sigmoid;, score=0.485 total time=   2.7s\n",
      "[CV 5/5] END .C=0.1, gamma=0.01, kernel=sigmoid;, score=0.498 total time=   2.4s\n",
      "[CV 4/5] END .C=0.1, gamma=0.01, kernel=sigmoid;, score=0.579 total time=   2.6s\n",
      "[CV 5/5] END ....C=0.1, gamma=0.01, kernel=poly;, score=0.732 total time=   4.1s\n",
      "[CV 1/5] END ....C=0.1, gamma=0.001, kernel=rbf;, score=0.500 total time=   4.2s\n",
      "[CV 2/5] END ....C=0.1, gamma=0.001, kernel=rbf;, score=0.498 total time=   4.0s\n",
      "[CV 1/5] END ...C=0.1, gamma=0.001, kernel=poly;, score=0.573 total time=   3.5s\n",
      "[CV 2/5] END ...C=0.1, gamma=0.001, kernel=poly;, score=0.448 total time=   3.7s\n",
      "[CV 3/5] END ....C=0.1, gamma=0.001, kernel=rbf;, score=0.535 total time=   4.1s\n",
      "[CV 5/5] END ....C=0.1, gamma=0.001, kernel=rbf;, score=0.639 total time=   3.9s\n",
      "[CV 4/5] END ....C=0.1, gamma=0.001, kernel=rbf;, score=0.502 total time=   4.1s\n",
      "[CV 3/5] END ...C=0.1, gamma=0.001, kernel=poly;, score=0.609 total time=   3.3s\n",
      "[CV 4/5] END ...C=0.1, gamma=0.001, kernel=poly;, score=0.535 total time=   3.7s\n",
      "[CV 1/5] END C=0.1, gamma=0.001, kernel=sigmoid;, score=0.533 total time=   2.7s\n",
      "[CV 2/5] END C=0.1, gamma=0.001, kernel=sigmoid;, score=0.498 total time=   2.7s\n",
      "[CV 3/5] END C=0.1, gamma=0.001, kernel=sigmoid;, score=0.572 total time=   2.8s\n",
      "[CV 5/5] END C=0.1, gamma=0.001, kernel=sigmoid;, score=0.512 total time=   2.6s\n",
      "[CV 4/5] END C=0.1, gamma=0.001, kernel=sigmoid;, score=0.582 total time=   3.3s\n",
      "[CV 5/5] END ...C=0.1, gamma=0.001, kernel=poly;, score=0.732 total time=   4.4s\n",
      "[CV 1/5] END ..........C=1, gamma=1, kernel=rbf;, score=0.500 total time=   4.7s\n",
      "[CV 2/5] END ..........C=1, gamma=1, kernel=rbf;, score=0.498 total time=   4.6s\n",
      "[CV 1/5] END .........C=1, gamma=1, kernel=poly;, score=0.573 total time=   4.3s\n",
      "[CV 4/5] END ..........C=1, gamma=1, kernel=rbf;, score=0.502 total time=   4.5s\n",
      "[CV 3/5] END ..........C=1, gamma=1, kernel=rbf;, score=0.535 total time=   4.9s\n",
      "[CV 5/5] END ..........C=1, gamma=1, kernel=rbf;, score=0.538 total time=   4.7s\n",
      "[CV 2/5] END .........C=1, gamma=1, kernel=poly;, score=0.448 total time=   4.3s\n",
      "[CV 3/5] END .........C=1, gamma=1, kernel=poly;, score=0.609 total time=   4.4s\n",
      "[CV 4/5] END .........C=1, gamma=1, kernel=poly;, score=0.535 total time=   4.2s\n",
      "[CV 1/5] END ......C=1, gamma=1, kernel=sigmoid;, score=0.533 total time=   2.2s\n",
      "[CV 2/5] END ......C=1, gamma=1, kernel=sigmoid;, score=0.492 total time=   2.2s\n",
      "[CV 3/5] END ......C=1, gamma=1, kernel=sigmoid;, score=0.522 total time=   2.3s\n",
      "[CV 4/5] END ......C=1, gamma=1, kernel=sigmoid;, score=0.572 total time=   2.5s\n",
      "[CV 5/5] END ......C=1, gamma=1, kernel=sigmoid;, score=0.492 total time=   2.6s\n",
      "[CV 5/5] END .........C=1, gamma=1, kernel=poly;, score=0.732 total time=   4.2s\n",
      "[CV 1/5] END ........C=1, gamma=0.1, kernel=rbf;, score=0.500 total time=   4.4s\n",
      "[CV 2/5] END ........C=1, gamma=0.1, kernel=rbf;, score=0.498 total time=   4.2s\n",
      "[CV 3/5] END ........C=1, gamma=0.1, kernel=rbf;, score=0.535 total time=   4.2s\n",
      "[CV 4/5] END ........C=1, gamma=0.1, kernel=rbf;, score=0.502 total time=   4.3s\n",
      "[CV 5/5] END ........C=1, gamma=0.1, kernel=rbf;, score=0.538 total time=   4.1s\n",
      "[CV 1/5] END .......C=1, gamma=0.1, kernel=poly;, score=0.573 total time=   3.9s\n",
      "[CV 2/5] END .......C=1, gamma=0.1, kernel=poly;, score=0.448 total time=   3.8s\n",
      "[CV 3/5] END .......C=1, gamma=0.1, kernel=poly;, score=0.609 total time=   3.9s\n",
      "[CV 1/5] END ....C=1, gamma=0.1, kernel=sigmoid;, score=0.520 total time=   2.1s\n",
      "[CV 3/5] END ....C=1, gamma=0.1, kernel=sigmoid;, score=0.545 total time=   2.1s\n",
      "[CV 2/5] END ....C=1, gamma=0.1, kernel=sigmoid;, score=0.498 total time=   2.4s\n",
      "[CV 5/5] END ....C=1, gamma=0.1, kernel=sigmoid;, score=0.492 total time=   2.0s\n",
      "[CV 4/5] END ....C=1, gamma=0.1, kernel=sigmoid;, score=0.565 total time=   2.3s\n",
      "[CV 4/5] END .......C=1, gamma=0.1, kernel=poly;, score=0.535 total time=   3.8s\n",
      "[CV 5/5] END .......C=1, gamma=0.1, kernel=poly;, score=0.732 total time=   3.8s\n",
      "[CV 1/5] END .......C=1, gamma=0.01, kernel=rbf;, score=0.500 total time=   4.0s\n",
      "[CV 1/5] END ......C=1, gamma=0.01, kernel=poly;, score=0.573 total time=   3.7s\n",
      "[CV 2/5] END .......C=1, gamma=0.01, kernel=rbf;, score=0.498 total time=   4.2s\n",
      "[CV 3/5] END .......C=1, gamma=0.01, kernel=rbf;, score=0.535 total time=   4.2s\n",
      "[CV 4/5] END .......C=1, gamma=0.01, kernel=rbf;, score=0.502 total time=   4.1s\n",
      "[CV 5/5] END .......C=1, gamma=0.01, kernel=rbf;, score=0.538 total time=   4.4s\n",
      "[CV 2/5] END ......C=1, gamma=0.01, kernel=poly;, score=0.448 total time=   3.8s\n",
      "[CV 3/5] END ......C=1, gamma=0.01, kernel=poly;, score=0.609 total time=   4.0s\n",
      "[CV 1/5] END ...C=1, gamma=0.01, kernel=sigmoid;, score=0.520 total time=   2.1s\n",
      "[CV 3/5] END ...C=1, gamma=0.01, kernel=sigmoid;, score=0.528 total time=   2.0s\n",
      "[CV 2/5] END ...C=1, gamma=0.01, kernel=sigmoid;, score=0.488 total time=   2.4s\n",
      "[CV 5/5] END ...C=1, gamma=0.01, kernel=sigmoid;, score=0.492 total time=   2.2s\n",
      "[CV 4/5] END ...C=1, gamma=0.01, kernel=sigmoid;, score=0.589 total time=   2.5s\n",
      "[CV 4/5] END ......C=1, gamma=0.01, kernel=poly;, score=0.535 total time=   4.1s\n",
      "[CV 5/5] END ......C=1, gamma=0.01, kernel=poly;, score=0.732 total time=   4.0s\n",
      "[CV 1/5] END ......C=1, gamma=0.001, kernel=rbf;, score=0.500 total time=   4.8s\n",
      "[CV 2/5] END ......C=1, gamma=0.001, kernel=rbf;, score=0.498 total time=   4.5s\n",
      "[CV 3/5] END ......C=1, gamma=0.001, kernel=rbf;, score=0.535 total time=   4.4s\n",
      "[CV 1/5] END .....C=1, gamma=0.001, kernel=poly;, score=0.573 total time=   4.0s\n",
      "[CV 4/5] END ......C=1, gamma=0.001, kernel=rbf;, score=0.502 total time=   4.6s\n",
      "[CV 5/5] END ......C=1, gamma=0.001, kernel=rbf;, score=0.538 total time=   4.7s\n",
      "[CV 2/5] END .....C=1, gamma=0.001, kernel=poly;, score=0.448 total time=   4.1s\n",
      "[CV 3/5] END .....C=1, gamma=0.001, kernel=poly;, score=0.609 total time=   4.2s\n",
      "[CV 1/5] END ..C=1, gamma=0.001, kernel=sigmoid;, score=0.510 total time=   2.5s\n",
      "[CV 2/5] END ..C=1, gamma=0.001, kernel=sigmoid;, score=0.495 total time=   2.7s\n",
      "[CV 3/5] END ..C=1, gamma=0.001, kernel=sigmoid;, score=0.528 total time=   2.8s\n",
      "[CV 4/5] END ..C=1, gamma=0.001, kernel=sigmoid;, score=0.575 total time=   2.9s\n",
      "[CV 5/5] END ..C=1, gamma=0.001, kernel=sigmoid;, score=0.512 total time=   2.9s\n",
      "[CV 4/5] END .....C=1, gamma=0.001, kernel=poly;, score=0.535 total time=   4.3s\n",
      "[CV 5/5] END .....C=1, gamma=0.001, kernel=poly;, score=0.732 total time=   4.4s\n",
      "[CV 1/5] END .........C=10, gamma=1, kernel=rbf;, score=0.500 total time=   4.4s\n",
      "[CV 2/5] END .........C=10, gamma=1, kernel=rbf;, score=0.498 total time=   4.1s\n",
      "[CV 1/5] END ........C=10, gamma=1, kernel=poly;, score=0.573 total time=   3.2s\n",
      "[CV 3/5] END .........C=10, gamma=1, kernel=rbf;, score=0.535 total time=   3.9s\n",
      "[CV 4/5] END .........C=10, gamma=1, kernel=rbf;, score=0.502 total time=   3.9s\n",
      "[CV 2/5] END ........C=10, gamma=1, kernel=poly;, score=0.448 total time=   3.5s\n",
      "[CV 5/5] END .........C=10, gamma=1, kernel=rbf;, score=0.538 total time=   4.0s\n",
      "[CV 3/5] END ........C=10, gamma=1, kernel=poly;, score=0.609 total time=   3.6s\n",
      "[CV 2/5] END .....C=10, gamma=1, kernel=sigmoid;, score=0.492 total time=   1.9s\n",
      "[CV 1/5] END .....C=10, gamma=1, kernel=sigmoid;, score=0.533 total time=   2.2s\n",
      "[CV 4/5] END .....C=10, gamma=1, kernel=sigmoid;, score=0.572 total time=   2.1s\n",
      "[CV 3/5] END .....C=10, gamma=1, kernel=sigmoid;, score=0.525 total time=   2.3s\n",
      "[CV 4/5] END ........C=10, gamma=1, kernel=poly;, score=0.535 total time=   3.8s\n",
      "[CV 5/5] END .....C=10, gamma=1, kernel=sigmoid;, score=0.492 total time=   2.3s\n",
      "[CV 5/5] END ........C=10, gamma=1, kernel=poly;, score=0.732 total time=   4.5s\n",
      "[CV 1/5] END .......C=10, gamma=0.1, kernel=rbf;, score=0.500 total time=   4.5s\n",
      "[CV 2/5] END .......C=10, gamma=0.1, kernel=rbf;, score=0.498 total time=   4.5s\n",
      "[CV 3/5] END .......C=10, gamma=0.1, kernel=rbf;, score=0.535 total time=   4.3s\n",
      "[CV 1/5] END ......C=10, gamma=0.1, kernel=poly;, score=0.573 total time=   3.7s\n",
      "[CV 2/5] END ......C=10, gamma=0.1, kernel=poly;, score=0.448 total time=   3.6s\n",
      "[CV 4/5] END .......C=10, gamma=0.1, kernel=rbf;, score=0.502 total time=   4.1s\n",
      "[CV 5/5] END .......C=10, gamma=0.1, kernel=rbf;, score=0.538 total time=   4.2s\n",
      "[CV 3/5] END ......C=10, gamma=0.1, kernel=poly;, score=0.609 total time=   3.7s\n",
      "[CV 1/5] END ...C=10, gamma=0.1, kernel=sigmoid;, score=0.520 total time=   2.1s\n",
      "[CV 2/5] END ...C=10, gamma=0.1, kernel=sigmoid;, score=0.508 total time=   2.1s\n",
      "[CV 5/5] END ...C=10, gamma=0.1, kernel=sigmoid;, score=0.488 total time=   2.0s\n",
      "[CV 4/5] END ...C=10, gamma=0.1, kernel=sigmoid;, score=0.565 total time=   2.4s\n",
      "[CV 3/5] END ...C=10, gamma=0.1, kernel=sigmoid;, score=0.559 total time=   2.9s\n",
      "[CV 4/5] END ......C=10, gamma=0.1, kernel=poly;, score=0.535 total time=   3.9s\n",
      "[CV 5/5] END ......C=10, gamma=0.1, kernel=poly;, score=0.732 total time=   4.0s\n",
      "[CV 1/5] END ......C=10, gamma=0.01, kernel=rbf;, score=0.500 total time=   4.1s\n",
      "[CV 2/5] END ......C=10, gamma=0.01, kernel=rbf;, score=0.498 total time=   4.1s\n",
      "[CV 3/5] END ......C=10, gamma=0.01, kernel=rbf;, score=0.535 total time=   4.1s\n",
      "[CV 4/5] END ......C=10, gamma=0.01, kernel=rbf;, score=0.502 total time=   4.0s\n",
      "[CV 2/5] END .....C=10, gamma=0.01, kernel=poly;, score=0.448 total time=   3.5s\n",
      "[CV 1/5] END .....C=10, gamma=0.01, kernel=poly;, score=0.573 total time=   3.5s\n",
      "[CV 5/5] END ......C=10, gamma=0.01, kernel=rbf;, score=0.538 total time=   4.2s\n",
      "[CV 3/5] END .....C=10, gamma=0.01, kernel=poly;, score=0.609 total time=   3.6s\n",
      "[CV 1/5] END ..C=10, gamma=0.01, kernel=sigmoid;, score=0.520 total time=   2.0s\n",
      "[CV 3/5] END ..C=10, gamma=0.01, kernel=sigmoid;, score=0.528 total time=   1.8s\n",
      "[CV 2/5] END ..C=10, gamma=0.01, kernel=sigmoid;, score=0.495 total time=   2.2s\n",
      "[CV 5/5] END ..C=10, gamma=0.01, kernel=sigmoid;, score=0.492 total time=   1.9s\n",
      "[CV 4/5] END ..C=10, gamma=0.01, kernel=sigmoid;, score=0.589 total time=   2.4s\n",
      "[CV 4/5] END .....C=10, gamma=0.01, kernel=poly;, score=0.535 total time=   3.6s\n",
      "[CV 5/5] END .....C=10, gamma=0.01, kernel=poly;, score=0.732 total time=   3.6s\n",
      "[CV 1/5] END .....C=10, gamma=0.001, kernel=rbf;, score=0.500 total time=   3.8s\n",
      "[CV 3/5] END .....C=10, gamma=0.001, kernel=rbf;, score=0.535 total time=   3.8s\n",
      "[CV 2/5] END .....C=10, gamma=0.001, kernel=rbf;, score=0.498 total time=   3.9s\n",
      "[CV 5/5] END .....C=10, gamma=0.001, kernel=rbf;, score=0.538 total time=   3.5s\n",
      "[CV 1/5] END ....C=10, gamma=0.001, kernel=poly;, score=0.573 total time=   3.5s\n",
      "[CV 4/5] END .....C=10, gamma=0.001, kernel=rbf;, score=0.502 total time=   3.9s\n",
      "[CV 2/5] END ....C=10, gamma=0.001, kernel=poly;, score=0.448 total time=   3.5s\n",
      "[CV 3/5] END ....C=10, gamma=0.001, kernel=poly;, score=0.609 total time=   3.6s\n",
      "[CV 1/5] END .C=10, gamma=0.001, kernel=sigmoid;, score=0.510 total time=   2.1s\n",
      "[CV 2/5] END .C=10, gamma=0.001, kernel=sigmoid;, score=0.488 total time=   2.3s\n",
      "[CV 4/5] END .C=10, gamma=0.001, kernel=sigmoid;, score=0.569 total time=   2.4s\n",
      "[CV 3/5] END .C=10, gamma=0.001, kernel=sigmoid;, score=0.532 total time=   2.4s\n",
      "[CV 5/5] END .C=10, gamma=0.001, kernel=sigmoid;, score=0.512 total time=   2.4s\n",
      "[CV 4/5] END ....C=10, gamma=0.001, kernel=poly;, score=0.535 total time=   3.9s\n",
      "[CV 5/5] END ....C=10, gamma=0.001, kernel=poly;, score=0.732 total time=   3.8s\n",
      "[CV 1/5] END ........C=100, gamma=1, kernel=rbf;, score=0.500 total time=   3.9s\n",
      "[CV 2/5] END ........C=100, gamma=1, kernel=rbf;, score=0.498 total time=   3.9s\n",
      "[CV 3/5] END ........C=100, gamma=1, kernel=rbf;, score=0.535 total time=   3.9s\n",
      "[CV 1/5] END .......C=100, gamma=1, kernel=poly;, score=0.573 total time=   3.4s\n",
      "[CV 2/5] END .......C=100, gamma=1, kernel=poly;, score=0.448 total time=   3.5s\n",
      "[CV 4/5] END ........C=100, gamma=1, kernel=rbf;, score=0.502 total time=   3.9s\n",
      "[CV 5/5] END ........C=100, gamma=1, kernel=rbf;, score=0.538 total time=   4.0s\n",
      "[CV 3/5] END .......C=100, gamma=1, kernel=poly;, score=0.609 total time=   3.4s\n",
      "[CV 1/5] END ....C=100, gamma=1, kernel=sigmoid;, score=0.533 total time=   1.7s\n",
      "[CV 2/5] END ....C=100, gamma=1, kernel=sigmoid;, score=0.495 total time=   1.7s\n",
      "[CV 3/5] END ....C=100, gamma=1, kernel=sigmoid;, score=0.528 total time=   1.8s\n",
      "[CV 4/5] END ....C=100, gamma=1, kernel=sigmoid;, score=0.572 total time=   1.8s\n",
      "[CV 4/5] END .......C=100, gamma=1, kernel=poly;, score=0.535 total time=   3.5s\n",
      "[CV 5/5] END ....C=100, gamma=1, kernel=sigmoid;, score=0.492 total time=   2.1s\n",
      "[CV 5/5] END .......C=100, gamma=1, kernel=poly;, score=0.732 total time=   3.5s\n",
      "[CV 1/5] END ......C=100, gamma=0.1, kernel=rbf;, score=0.500 total time=   4.3s\n",
      "[CV 2/5] END ......C=100, gamma=0.1, kernel=rbf;, score=0.498 total time=   4.6s\n",
      "[CV 3/5] END ......C=100, gamma=0.1, kernel=rbf;, score=0.535 total time=   4.8s\n",
      "[CV 2/5] END .....C=100, gamma=0.1, kernel=poly;, score=0.448 total time=   4.3s\n",
      "[CV 1/5] END .....C=100, gamma=0.1, kernel=poly;, score=0.573 total time=   4.6s\n",
      "[CV 4/5] END ......C=100, gamma=0.1, kernel=rbf;, score=0.502 total time=   5.1s\n",
      "[CV 5/5] END ......C=100, gamma=0.1, kernel=rbf;, score=0.538 total time=   5.1s\n",
      "[CV 3/5] END .....C=100, gamma=0.1, kernel=poly;, score=0.609 total time=   5.0s\n",
      "[CV 1/5] END ..C=100, gamma=0.1, kernel=sigmoid;, score=0.520 total time=   2.7s\n",
      "[CV 2/5] END ..C=100, gamma=0.1, kernel=sigmoid;, score=0.502 total time=   2.7s\n",
      "[CV 5/5] END ..C=100, gamma=0.1, kernel=sigmoid;, score=0.488 total time=   2.8s\n",
      "[CV 4/5] END .....C=100, gamma=0.1, kernel=poly;, score=0.535 total time=   5.0s\n",
      "[CV 3/5] END ..C=100, gamma=0.1, kernel=sigmoid;, score=0.559 total time=   3.2s\n",
      "[CV 4/5] END ..C=100, gamma=0.1, kernel=sigmoid;, score=0.565 total time=   3.0s\n",
      "[CV 5/5] END .....C=100, gamma=0.1, kernel=poly;, score=0.732 total time=   5.1s\n",
      "[CV 1/5] END .....C=100, gamma=0.01, kernel=rbf;, score=0.500 total time=   4.5s\n",
      "[CV 2/5] END .....C=100, gamma=0.01, kernel=rbf;, score=0.498 total time=   4.6s\n",
      "[CV 3/5] END .....C=100, gamma=0.01, kernel=rbf;, score=0.535 total time=   4.4s\n",
      "[CV 1/5] END ....C=100, gamma=0.01, kernel=poly;, score=0.573 total time=   3.8s\n",
      "[CV 2/5] END ....C=100, gamma=0.01, kernel=poly;, score=0.448 total time=   3.8s\n",
      "[CV 4/5] END .....C=100, gamma=0.01, kernel=rbf;, score=0.502 total time=   4.3s\n",
      "[CV 5/5] END .....C=100, gamma=0.01, kernel=rbf;, score=0.538 total time=   4.4s\n",
      "[CV 3/5] END ....C=100, gamma=0.01, kernel=poly;, score=0.609 total time=   3.8s\n",
      "[CV 1/5] END .C=100, gamma=0.01, kernel=sigmoid;, score=0.520 total time=   2.3s\n",
      "[CV 3/5] END .C=100, gamma=0.01, kernel=sigmoid;, score=0.528 total time=   2.4s\n",
      "[CV 2/5] END .C=100, gamma=0.01, kernel=sigmoid;, score=0.495 total time=   2.5s\n",
      "[CV 5/5] END .C=100, gamma=0.01, kernel=sigmoid;, score=0.492 total time=   2.4s\n",
      "[CV 4/5] END ....C=100, gamma=0.01, kernel=poly;, score=0.535 total time=   4.4s\n",
      "[CV 4/5] END .C=100, gamma=0.01, kernel=sigmoid;, score=0.589 total time=   2.8s\n",
      "[CV 5/5] END ....C=100, gamma=0.01, kernel=poly;, score=0.732 total time=   4.9s\n",
      "[CV 1/5] END ....C=100, gamma=0.001, kernel=rbf;, score=0.500 total time=   5.2s\n",
      "[CV 3/5] END ....C=100, gamma=0.001, kernel=rbf;, score=0.535 total time=   4.6s\n",
      "[CV 2/5] END ....C=100, gamma=0.001, kernel=rbf;, score=0.498 total time=   4.8s\n",
      "[CV 2/5] END ...C=100, gamma=0.001, kernel=poly;, score=0.448 total time=   4.0s\n",
      "[CV 1/5] END ...C=100, gamma=0.001, kernel=poly;, score=0.573 total time=   4.1s\n",
      "[CV 4/5] END ....C=100, gamma=0.001, kernel=rbf;, score=0.502 total time=   4.7s\n",
      "[CV 5/5] END ....C=100, gamma=0.001, kernel=rbf;, score=0.538 total time=   4.7s\n",
      "[CV 3/5] END ...C=100, gamma=0.001, kernel=poly;, score=0.609 total time=   3.3s\n",
      "[CV 1/5] END C=100, gamma=0.001, kernel=sigmoid;, score=0.510 total time=   2.0s\n",
      "[CV 2/5] END C=100, gamma=0.001, kernel=sigmoid;, score=0.488 total time=   2.1s\n",
      "[CV 3/5] END C=100, gamma=0.001, kernel=sigmoid;, score=0.528 total time=   2.2s\n",
      "[CV 4/5] END C=100, gamma=0.001, kernel=sigmoid;, score=0.569 total time=   2.2s\n",
      "[CV 5/5] END C=100, gamma=0.001, kernel=sigmoid;, score=0.512 total time=   2.0s\n",
      "[CV 4/5] END ...C=100, gamma=0.001, kernel=poly;, score=0.535 total time=   3.4s\n",
      "[CV 5/5] END ...C=100, gamma=0.001, kernel=poly;, score=0.732 total time=   3.0s\n"
     ]
    },
    {
     "data": {
      "text/plain": [
       "{'C': 0.1, 'gamma': 1, 'kernel': 'poly'}"
      ]
     },
     "execution_count": 33,
     "metadata": {},
     "output_type": "execute_result"
    }
   ],
   "source": [
    "param_grid = {'C': [0.1,1, 10, 100], \n",
    "    'gamma': [1,0.1,0.01,0.001],\n",
    "    'kernel': ['rbf', 'poly', 'sigmoid']}\n",
    "\n",
    "gs = GridSearchCV(SVC(), param_grid=param_grid, n_jobs=-1, verbose=3, scoring='accuracy')\n",
    "\n",
    "gs.fit(X_train_pca, y_train)\n",
    "gs.best_params_"
   ]
  },
  {
   "cell_type": "code",
   "execution_count": 34,
   "metadata": {},
   "outputs": [],
   "source": [
    "model = gs.best_estimator_"
   ]
  },
  {
   "cell_type": "code",
   "execution_count": 37,
   "metadata": {},
   "outputs": [
    {
     "name": "stdout",
     "output_type": "stream",
     "text": [
      "0.6086956521739131\n"
     ]
    },
    {
     "data": {
      "text/plain": [
       "0.9973262032085561"
      ]
     },
     "execution_count": 37,
     "metadata": {},
     "output_type": "execute_result"
    }
   ],
   "source": [
    "y_pred = model.predict(X_test_pca)\n",
    "acc = accuracy_score(y_test, y_pred)\n",
    "print(acc)\n",
    "accuracy_score(y_train, model.predict(X_train_pca))"
   ]
  },
  {
   "cell_type": "code",
   "execution_count": 8,
   "metadata": {},
   "outputs": [
    {
     "name": "stdout",
     "output_type": "stream",
     "text": [
      "accuracy:  0.57\n",
      "recall:  0.52\n",
      "precision:  0.57\n"
     ]
    },
    {
     "data": {
      "image/png": "[encoded data removed]",
      "text/plain": [
       "<Figure size 432x288 with 1 Axes>"
      ]
     },
     "metadata": {
      "needs_background": "light"
     },
     "output_type": "display_data"
    }
   ],
   "source": [
    "# Plotting the confusing matrix\n",
    "mat = confusion_matrix(y_test, y_pred)\n",
    "sns.heatmap(mat.T, square=True, annot=True, fmt='d', cbar=False)\n",
    "plt.xlabel('true label')\n",
    "plt.ylabel('predicted label')\n",
    "print('accuracy: ' , accuracy_score(y_test, y_pred).round(2))\n",
    "print('recall: ' , recall_score(y_test, y_pred).round(2))\n",
    "print('precision: ' , precision_score(y_test, y_pred).round(2))"
   ]
  }
 ],
 "metadata": {
  "kernelspec": {
   "display_name": "Python 3.9.8 ('.venv': venv)",
   "language": "python",
   "name": "python3"
  },
  "language_info": {
   "codemirror_mode": {
    "name": "ipython",
    "version": 3
   },
   "file_extension": ".py",
   "mimetype": "text/x-python",
   "name": "python",
   "nbconvert_exporter": "python",
   "pygments_lexer": "ipython3",
   "version": "3.9.8"
  },
  "orig_nbformat": 4,
  "vscode": {
   "interpreter": {
    "hash": "4aabaac7d428528a0ce6def5bece3fccfbe94dd49d29425f23b4abc8d9df7555"
   }
  }
 },
 "nbformat": 4,
 "nbformat_minor": 2
}
