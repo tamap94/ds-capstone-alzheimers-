{
 "cells": [
  {
   "cell_type": "code",
   "execution_count": 1,
   "metadata": {},
   "outputs": [],
   "source": [
    "import numpy as np\n",
    "import pandas as pd\n",
    "import seaborn as sns\n",
    "import matplotlib.pyplot as plt\n",
    "import os\n",
    "import sys\n",
    "sys.path.append('../')\n",
    "\n",
    "from sklearn.model_selection import train_test_split, GridSearchCV\n",
    "from sklearn.metrics import accuracy_score, confusion_matrix, recall_score, precision_score, precision_recall_curve\n",
    "from sklearn.svm import SVC\n",
    "from sklearn.ensemble import ExtraTreesClassifier\n",
    "\n",
    "np.random.seed(42)"
   ]
  },
  {
   "cell_type": "code",
   "execution_count": 2,
   "metadata": {},
   "outputs": [],
   "source": [
    "from preprocessing.getdata import *\n",
    "df = get_csvdata()\n",
    "dfTrain, dfTest, y_train, y_test = train_test_split(df, df['CDR'], stratify = df['CDR'], random_state=42)"
   ]
  },
  {
   "cell_type": "code",
   "execution_count": 3,
   "metadata": {},
   "outputs": [],
   "source": [
    "X_test = get_slices(dfTest['ID'], dim=2, m=90)\n",
    "X_test = X_test.reshape((len(X_test),-1))\n",
    "\n",
    "d=2\n",
    "N=0\n",
    "\n",
    "X_train = get_slices(dfTrain['ID'], N=N, d=d, dim=2, m=90)\n",
    "y_train = y_train.repeat(1+2*N)\n",
    "X_train = X_train.reshape((len(X_train),-1))"
   ]
  },
  {
   "cell_type": "code",
   "execution_count": 11,
   "metadata": {},
   "outputs": [
    {
     "data": {
      "text/plain": [
       "ExtraTreesClassifier()"
      ]
     },
     "execution_count": 11,
     "metadata": {},
     "output_type": "execute_result"
    }
   ],
   "source": [
    "#model = SVC()\n",
    "model = ExtraTreesClassifier()\n",
    "model.fit(X_train, y_train)"
   ]
  },
  {
   "cell_type": "code",
   "execution_count": 4,
   "metadata": {},
   "outputs": [
    {
     "name": "stdout",
     "output_type": "stream",
     "text": [
      "Fitting 5 folds for each of 48 candidates, totalling 240 fits\n",
      "[CV 1/5] END .......C=0.1, gamma=1, kernel=poly;, score=0.607 total time=   1.2s\n",
      "[CV 3/5] END .......C=0.1, gamma=1, kernel=poly;, score=0.519 total time=   1.2s\n",
      "[CV 2/5] END .......C=0.1, gamma=1, kernel=poly;, score=0.481 total time=   1.2s\n",
      "[CV 2/5] END ........C=0.1, gamma=1, kernel=rbf;, score=0.481 total time=   1.6s\n",
      "[CV 1/5] END ........C=0.1, gamma=1, kernel=rbf;, score=0.500 total time=   1.6s\n",
      "[CV 3/5] END ........C=0.1, gamma=1, kernel=rbf;, score=0.481 total time=   1.6s\n",
      "[CV 4/5] END ........C=0.1, gamma=1, kernel=rbf;, score=0.481 total time=   1.7s\n",
      "[CV 5/5] END ........C=0.1, gamma=1, kernel=rbf;, score=0.481 total time=   1.7s\n",
      "[CV 4/5] END .......C=0.1, gamma=1, kernel=poly;, score=0.593 total time=   1.4s\n",
      "[CV 5/5] END .......C=0.1, gamma=1, kernel=poly;, score=0.741 total time=   1.4s\n",
      "[CV 1/5] END ....C=0.1, gamma=1, kernel=sigmoid;, score=0.500 total time=   1.4s\n",
      "[CV 3/5] END ....C=0.1, gamma=1, kernel=sigmoid;, score=0.481 total time=   1.4s\n",
      "[CV 2/5] END ....C=0.1, gamma=1, kernel=sigmoid;, score=0.481 total time=   1.5s\n",
      "[CV 5/5] END ....C=0.1, gamma=1, kernel=sigmoid;, score=0.481 total time=   1.5s\n",
      "[CV 4/5] END ....C=0.1, gamma=1, kernel=sigmoid;, score=0.481 total time=   1.5s\n",
      "[CV 1/5] END ......C=0.1, gamma=0.1, kernel=rbf;, score=0.500 total time=   2.1s\n",
      "[CV 2/5] END .....C=0.1, gamma=0.1, kernel=poly;, score=0.481 total time=   1.5s\n",
      "[CV 1/5] END .....C=0.1, gamma=0.1, kernel=poly;, score=0.607 total time=   1.6s\n",
      "[CV 3/5] END .....C=0.1, gamma=0.1, kernel=poly;, score=0.519 total time=   1.6s\n",
      "[CV 4/5] END ......C=0.1, gamma=0.1, kernel=rbf;, score=0.481 total time=   2.0s\n",
      "[CV 3/5] END ......C=0.1, gamma=0.1, kernel=rbf;, score=0.481 total time=   2.1s\n",
      "[CV 2/5] END ......C=0.1, gamma=0.1, kernel=rbf;, score=0.481 total time=   2.1s\n",
      "[CV 5/5] END ......C=0.1, gamma=0.1, kernel=rbf;, score=0.481 total time=   1.9s\n",
      "[CV 4/5] END .....C=0.1, gamma=0.1, kernel=poly;, score=0.593 total time=   1.5s\n",
      "[CV 3/5] END ..C=0.1, gamma=0.1, kernel=sigmoid;, score=0.481 total time=   1.4s\n",
      "[CV 5/5] END .....C=0.1, gamma=0.1, kernel=poly;, score=0.741 total time=   1.6s\n",
      "[CV 1/5] END ..C=0.1, gamma=0.1, kernel=sigmoid;, score=0.500 total time=   1.7s\n",
      "[CV 2/5] END ..C=0.1, gamma=0.1, kernel=sigmoid;, score=0.481 total time=   1.7s\n",
      "[CV 4/5] END ..C=0.1, gamma=0.1, kernel=sigmoid;, score=0.481 total time=   1.9s\n",
      "[CV 5/5] END ..C=0.1, gamma=0.1, kernel=sigmoid;, score=0.481 total time=   1.9s\n",
      "[CV 1/5] END .....C=0.1, gamma=0.01, kernel=rbf;, score=0.607 total time=   2.3s\n",
      "[CV 2/5] END .....C=0.1, gamma=0.01, kernel=rbf;, score=0.481 total time=   2.4s\n",
      "[CV 1/5] END ....C=0.1, gamma=0.01, kernel=poly;, score=0.607 total time=   1.7s\n",
      "[CV 2/5] END ....C=0.1, gamma=0.01, kernel=poly;, score=0.481 total time=   1.7s\n",
      "[CV 3/5] END ....C=0.1, gamma=0.01, kernel=poly;, score=0.519 total time=   1.8s\n",
      "[CV 5/5] END .....C=0.1, gamma=0.01, kernel=rbf;, score=0.481 total time=   2.1s\n",
      "[CV 3/5] END .....C=0.1, gamma=0.01, kernel=rbf;, score=0.481 total time=   2.3s\n",
      "[CV 4/5] END .....C=0.1, gamma=0.01, kernel=rbf;, score=0.481 total time=   2.3s\n",
      "[CV 5/5] END ....C=0.1, gamma=0.01, kernel=poly;, score=0.741 total time=   1.2s\n",
      "[CV 4/5] END ....C=0.1, gamma=0.01, kernel=poly;, score=0.593 total time=   1.6s\n",
      "[CV 1/5] END .C=0.1, gamma=0.01, kernel=sigmoid;, score=0.500 total time=   1.5s\n",
      "[CV 2/5] END .C=0.1, gamma=0.01, kernel=sigmoid;, score=0.481 total time=   1.6s\n",
      "[CV 3/5] END .C=0.1, gamma=0.01, kernel=sigmoid;, score=0.481 total time=   1.5s\n",
      "[CV 5/5] END .C=0.1, gamma=0.01, kernel=sigmoid;, score=0.481 total time=   1.5s\n",
      "[CV 4/5] END .C=0.1, gamma=0.01, kernel=sigmoid;, score=0.481 total time=   1.6s\n",
      "[CV 1/5] END ....C=0.1, gamma=0.001, kernel=rbf;, score=0.821 total time=   1.9s\n",
      "[CV 2/5] END ....C=0.1, gamma=0.001, kernel=rbf;, score=0.481 total time=   1.8s\n",
      "[CV 3/5] END ....C=0.1, gamma=0.001, kernel=rbf;, score=0.481 total time=   1.9s\n",
      "[CV 2/5] END ...C=0.1, gamma=0.001, kernel=poly;, score=0.519 total time=   1.1s\n",
      "[CV 1/5] END ...C=0.1, gamma=0.001, kernel=poly;, score=0.536 total time=   1.4s\n",
      "[CV 3/5] END ...C=0.1, gamma=0.001, kernel=poly;, score=0.444 total time=   1.4s\n",
      "[CV 4/5] END ....C=0.1, gamma=0.001, kernel=rbf;, score=0.481 total time=   1.8s\n",
      "[CV 5/5] END ....C=0.1, gamma=0.001, kernel=rbf;, score=0.481 total time=   1.8s\n",
      "[CV 4/5] END ...C=0.1, gamma=0.001, kernel=poly;, score=0.630 total time=   1.5s\n",
      "[CV 5/5] END ...C=0.1, gamma=0.001, kernel=poly;, score=0.667 total time=   1.5s\n",
      "[CV 1/5] END C=0.1, gamma=0.001, kernel=sigmoid;, score=0.500 total time=   1.6s\n",
      "[CV 2/5] END C=0.1, gamma=0.001, kernel=sigmoid;, score=0.481 total time=   1.6s\n",
      "[CV 3/5] END C=0.1, gamma=0.001, kernel=sigmoid;, score=0.481 total time=   1.6s\n",
      "[CV 4/5] END C=0.1, gamma=0.001, kernel=sigmoid;, score=0.481 total time=   1.5s\n",
      "[CV 5/5] END C=0.1, gamma=0.001, kernel=sigmoid;, score=0.481 total time=   1.5s\n",
      "[CV 1/5] END ..........C=1, gamma=1, kernel=rbf;, score=0.500 total time=   1.6s\n",
      "[CV 2/5] END ..........C=1, gamma=1, kernel=rbf;, score=0.481 total time=   1.9s\n",
      "[CV 3/5] END ..........C=1, gamma=1, kernel=rbf;, score=0.519 total time=   1.8s\n",
      "[CV 4/5] END ..........C=1, gamma=1, kernel=rbf;, score=0.556 total time=   1.8s\n",
      "[CV 1/5] END .........C=1, gamma=1, kernel=poly;, score=0.607 total time=   1.4s\n",
      "[CV 2/5] END .........C=1, gamma=1, kernel=poly;, score=0.481 total time=   1.5s\n",
      "[CV 3/5] END .........C=1, gamma=1, kernel=poly;, score=0.519 total time=   1.6s\n",
      "[CV 4/5] END .........C=1, gamma=1, kernel=poly;, score=0.593 total time=   1.2s\n",
      "[CV 5/5] END ..........C=1, gamma=1, kernel=rbf;, score=0.481 total time=   1.9s\n",
      "[CV 5/5] END .........C=1, gamma=1, kernel=poly;, score=0.741 total time=   1.5s\n",
      "[CV 3/5] END ......C=1, gamma=1, kernel=sigmoid;, score=0.519 total time=   1.1s\n",
      "[CV 1/5] END ......C=1, gamma=1, kernel=sigmoid;, score=0.500 total time=   1.8s\n",
      "[CV 2/5] END ......C=1, gamma=1, kernel=sigmoid;, score=0.481 total time=   1.6s\n",
      "[CV 4/5] END ......C=1, gamma=1, kernel=sigmoid;, score=0.481 total time=   1.5s\n",
      "[CV 5/5] END ......C=1, gamma=1, kernel=sigmoid;, score=0.481 total time=   1.5s\n",
      "[CV 1/5] END ........C=1, gamma=0.1, kernel=rbf;, score=0.500 total time=   1.8s\n",
      "[CV 2/5] END ........C=1, gamma=0.1, kernel=rbf;, score=0.481 total time=   1.8s\n",
      "[CV 1/5] END .......C=1, gamma=0.1, kernel=poly;, score=0.607 total time=   1.3s\n",
      "[CV 3/5] END ........C=1, gamma=0.1, kernel=rbf;, score=0.519 total time=   1.8s\n",
      "[CV 4/5] END ........C=1, gamma=0.1, kernel=rbf;, score=0.519 total time=   1.8s\n",
      "[CV 2/5] END .......C=1, gamma=0.1, kernel=poly;, score=0.481 total time=   1.4s\n",
      "[CV 5/5] END ........C=1, gamma=0.1, kernel=rbf;, score=0.481 total time=   1.6s\n",
      "[CV 3/5] END .......C=1, gamma=0.1, kernel=poly;, score=0.519 total time=   1.3s\n",
      "[CV 5/5] END .......C=1, gamma=0.1, kernel=poly;, score=0.741 total time=   1.5s\n",
      "[CV 4/5] END .......C=1, gamma=0.1, kernel=poly;, score=0.593 total time=   1.6s\n",
      "[CV 1/5] END ....C=1, gamma=0.1, kernel=sigmoid;, score=0.500 total time=   1.5s\n",
      "[CV 2/5] END ....C=1, gamma=0.1, kernel=sigmoid;, score=0.481 total time=   1.6s\n",
      "[CV 3/5] END ....C=1, gamma=0.1, kernel=sigmoid;, score=0.519 total time=   1.5s\n",
      "[CV 4/5] END ....C=1, gamma=0.1, kernel=sigmoid;, score=0.481 total time=   1.6s\n",
      "[CV 5/5] END ....C=1, gamma=0.1, kernel=sigmoid;, score=0.481 total time=   1.6s\n",
      "[CV 1/5] END .......C=1, gamma=0.01, kernel=rbf;, score=0.607 total time=   1.7s\n",
      "[CV 2/5] END .......C=1, gamma=0.01, kernel=rbf;, score=0.556 total time=   1.7s\n",
      "[CV 3/5] END .......C=1, gamma=0.01, kernel=rbf;, score=0.481 total time=   1.7s\n",
      "[CV 4/5] END .......C=1, gamma=0.01, kernel=rbf;, score=0.741 total time=   1.5s\n",
      "[CV 1/5] END ......C=1, gamma=0.01, kernel=poly;, score=0.607 total time=   1.3s\n",
      "[CV 2/5] END ......C=1, gamma=0.01, kernel=poly;, score=0.481 total time=   1.3s\n",
      "[CV 3/5] END ......C=1, gamma=0.01, kernel=poly;, score=0.519 total time=   1.4s\n",
      "[CV 4/5] END ......C=1, gamma=0.01, kernel=poly;, score=0.593 total time=   1.5s\n",
      "[CV 5/5] END .......C=1, gamma=0.01, kernel=rbf;, score=0.741 total time=   1.9s\n",
      "[CV 5/5] END ......C=1, gamma=0.01, kernel=poly;, score=0.741 total time=   1.4s\n",
      "[CV 1/5] END ...C=1, gamma=0.01, kernel=sigmoid;, score=0.500 total time=   1.4s\n",
      "[CV 4/5] END ...C=1, gamma=0.01, kernel=sigmoid;, score=0.519 total time=   1.2s\n",
      "[CV 2/5] END ...C=1, gamma=0.01, kernel=sigmoid;, score=0.481 total time=   1.4s\n",
      "[CV 3/5] END ...C=1, gamma=0.01, kernel=sigmoid;, score=0.519 total time=   1.5s\n",
      "[CV 5/5] END ...C=1, gamma=0.01, kernel=sigmoid;, score=0.481 total time=   1.5s\n",
      "[CV 2/5] END ......C=1, gamma=0.001, kernel=rbf;, score=0.444 total time=   1.6s\n",
      "[CV 1/5] END ......C=1, gamma=0.001, kernel=rbf;, score=0.643 total time=   1.6s\n",
      "[CV 3/5] END ......C=1, gamma=0.001, kernel=rbf;, score=0.444 total time=   1.6s\n",
      "[CV 1/5] END .....C=1, gamma=0.001, kernel=poly;, score=0.571 total time=   1.3s\n",
      "[CV 2/5] END .....C=1, gamma=0.001, kernel=poly;, score=0.481 total time=   1.2s\n",
      "[CV 4/5] END ......C=1, gamma=0.001, kernel=rbf;, score=0.741 total time=   1.6s\n",
      "[CV 3/5] END .....C=1, gamma=0.001, kernel=poly;, score=0.481 total time=   1.1s\n",
      "[CV 5/5] END ......C=1, gamma=0.001, kernel=rbf;, score=0.704 total time=   1.7s\n",
      "[CV 4/5] END .....C=1, gamma=0.001, kernel=poly;, score=0.667 total time=   1.2s\n",
      "[CV 5/5] END .....C=1, gamma=0.001, kernel=poly;, score=0.778 total time=   1.3s\n",
      "[CV 1/5] END ..C=1, gamma=0.001, kernel=sigmoid;, score=0.500 total time=   1.3s\n",
      "[CV 2/5] END ..C=1, gamma=0.001, kernel=sigmoid;, score=0.481 total time=   1.3s\n",
      "[CV 3/5] END ..C=1, gamma=0.001, kernel=sigmoid;, score=0.481 total time=   1.3s\n",
      "[CV 5/5] END ..C=1, gamma=0.001, kernel=sigmoid;, score=0.481 total time=   1.2s\n",
      "[CV 4/5] END ..C=1, gamma=0.001, kernel=sigmoid;, score=0.519 total time=   1.4s\n",
      "[CV 1/5] END .........C=10, gamma=1, kernel=rbf;, score=0.500 total time=   1.5s\n",
      "[CV 3/5] END .........C=10, gamma=1, kernel=rbf;, score=0.519 total time=   1.7s\n",
      "[CV 2/5] END .........C=10, gamma=1, kernel=rbf;, score=0.481 total time=   1.8s\n",
      "[CV 1/5] END ........C=10, gamma=1, kernel=poly;, score=0.607 total time=   1.2s\n",
      "[CV 2/5] END ........C=10, gamma=1, kernel=poly;, score=0.481 total time=   1.3s\n",
      "[CV 3/5] END ........C=10, gamma=1, kernel=poly;, score=0.519 total time=   1.3s\n",
      "[CV 5/5] END .........C=10, gamma=1, kernel=rbf;, score=0.481 total time=   1.6s\n",
      "[CV 4/5] END ........C=10, gamma=1, kernel=poly;, score=0.593 total time=   1.3s\n",
      "[CV 4/5] END .........C=10, gamma=1, kernel=rbf;, score=0.556 total time=   1.9s\n",
      "[CV 1/5] END .....C=10, gamma=1, kernel=sigmoid;, score=0.500 total time=   1.5s\n",
      "[CV 5/5] END ........C=10, gamma=1, kernel=poly;, score=0.741 total time=   1.6s\n",
      "[CV 2/5] END .....C=10, gamma=1, kernel=sigmoid;, score=0.481 total time=   1.5s\n",
      "[CV 3/5] END .....C=10, gamma=1, kernel=sigmoid;, score=0.519 total time=   1.5s\n",
      "[CV 4/5] END .....C=10, gamma=1, kernel=sigmoid;, score=0.519 total time=   1.7s\n",
      "[CV 5/5] END .....C=10, gamma=1, kernel=sigmoid;, score=0.481 total time=   1.6s\n",
      "[CV 1/5] END .......C=10, gamma=0.1, kernel=rbf;, score=0.500 total time=   1.9s\n",
      "[CV 2/5] END .......C=10, gamma=0.1, kernel=rbf;, score=0.481 total time=   2.0s\n",
      "[CV 1/5] END ......C=10, gamma=0.1, kernel=poly;, score=0.607 total time=   1.4s\n",
      "[CV 3/5] END .......C=10, gamma=0.1, kernel=rbf;, score=0.519 total time=   1.8s\n",
      "[CV 4/5] END .......C=10, gamma=0.1, kernel=rbf;, score=0.556 total time=   1.8s\n",
      "[CV 2/5] END ......C=10, gamma=0.1, kernel=poly;, score=0.481 total time=   1.4s\n",
      "[CV 5/5] END .......C=10, gamma=0.1, kernel=rbf;, score=0.481 total time=   1.8s\n",
      "[CV 3/5] END ......C=10, gamma=0.1, kernel=poly;, score=0.519 total time=   1.5s\n",
      "[CV 4/5] END ......C=10, gamma=0.1, kernel=poly;, score=0.593 total time=   1.2s\n",
      "[CV 5/5] END ......C=10, gamma=0.1, kernel=poly;, score=0.741 total time=   1.5s\n",
      "[CV 1/5] END ...C=10, gamma=0.1, kernel=sigmoid;, score=0.500 total time=   1.4s\n",
      "[CV 2/5] END ...C=10, gamma=0.1, kernel=sigmoid;, score=0.481 total time=   1.4s\n",
      "[CV 4/5] END ...C=10, gamma=0.1, kernel=sigmoid;, score=0.519 total time=   1.4s\n",
      "[CV 5/5] END ...C=10, gamma=0.1, kernel=sigmoid;, score=0.481 total time=   1.4s\n",
      "[CV 3/5] END ...C=10, gamma=0.1, kernel=sigmoid;, score=0.519 total time=   1.6s\n",
      "[CV 2/5] END ......C=10, gamma=0.01, kernel=rbf;, score=0.556 total time=   1.7s\n",
      "[CV 1/5] END ......C=10, gamma=0.01, kernel=rbf;, score=0.571 total time=   1.9s\n",
      "[CV 3/5] END ......C=10, gamma=0.01, kernel=rbf;, score=0.519 total time=   1.9s\n",
      "[CV 4/5] END ......C=10, gamma=0.01, kernel=rbf;, score=0.741 total time=   1.7s\n",
      "[CV 1/5] END .....C=10, gamma=0.01, kernel=poly;, score=0.607 total time=   1.6s\n",
      "[CV 3/5] END .....C=10, gamma=0.01, kernel=poly;, score=0.519 total time=   1.5s\n",
      "[CV 2/5] END .....C=10, gamma=0.01, kernel=poly;, score=0.481 total time=   1.6s\n",
      "[CV 5/5] END ......C=10, gamma=0.01, kernel=rbf;, score=0.778 total time=   1.7s\n",
      "[CV 4/5] END .....C=10, gamma=0.01, kernel=poly;, score=0.593 total time=   1.5s\n",
      "[CV 5/5] END .....C=10, gamma=0.01, kernel=poly;, score=0.741 total time=   1.4s\n",
      "[CV 1/5] END ..C=10, gamma=0.01, kernel=sigmoid;, score=0.500 total time=   1.4s\n",
      "[CV 4/5] END ..C=10, gamma=0.01, kernel=sigmoid;, score=0.519 total time=   1.3s\n",
      "[CV 2/5] END ..C=10, gamma=0.01, kernel=sigmoid;, score=0.481 total time=   1.4s\n",
      "[CV 5/5] END ..C=10, gamma=0.01, kernel=sigmoid;, score=0.481 total time=   1.3s\n",
      "[CV 3/5] END ..C=10, gamma=0.01, kernel=sigmoid;, score=0.519 total time=   1.4s\n",
      "[CV 1/5] END .....C=10, gamma=0.001, kernel=rbf;, score=0.429 total time=   1.7s\n",
      "[CV 2/5] END .....C=10, gamma=0.001, kernel=rbf;, score=0.481 total time=   1.6s\n",
      "[CV 3/5] END .....C=10, gamma=0.001, kernel=rbf;, score=0.556 total time=   1.7s\n",
      "[CV 1/5] END ....C=10, gamma=0.001, kernel=poly;, score=0.607 total time=   1.3s\n",
      "[CV 4/5] END .....C=10, gamma=0.001, kernel=rbf;, score=0.556 total time=   1.6s\n",
      "[CV 2/5] END ....C=10, gamma=0.001, kernel=poly;, score=0.519 total time=   1.3s\n",
      "[CV 3/5] END ....C=10, gamma=0.001, kernel=poly;, score=0.519 total time=   1.3s\n",
      "[CV 5/5] END .....C=10, gamma=0.001, kernel=rbf;, score=0.778 total time=   1.5s\n",
      "[CV 1/5] END .C=10, gamma=0.001, kernel=sigmoid;, score=0.321 total time=   0.8s\n",
      "[CV 4/5] END ....C=10, gamma=0.001, kernel=poly;, score=0.593 total time=   1.4s\n",
      "[CV 5/5] END ....C=10, gamma=0.001, kernel=poly;, score=0.778 total time=   1.2s\n",
      "[CV 5/5] END .C=10, gamma=0.001, kernel=sigmoid;, score=0.593 total time=   0.8s\n",
      "[CV 2/5] END .C=10, gamma=0.001, kernel=sigmoid;, score=0.481 total time=   1.0s\n",
      "[CV 4/5] END .C=10, gamma=0.001, kernel=sigmoid;, score=0.333 total time=   0.9s\n",
      "[CV 3/5] END .C=10, gamma=0.001, kernel=sigmoid;, score=0.593 total time=   1.1s\n",
      "[CV 1/5] END ........C=100, gamma=1, kernel=rbf;, score=0.500 total time=   1.6s\n",
      "[CV 2/5] END ........C=100, gamma=1, kernel=rbf;, score=0.481 total time=   1.7s\n",
      "[CV 3/5] END ........C=100, gamma=1, kernel=rbf;, score=0.519 total time=   1.6s\n",
      "[CV 4/5] END ........C=100, gamma=1, kernel=rbf;, score=0.556 total time=   1.6s\n",
      "[CV 1/5] END .......C=100, gamma=1, kernel=poly;, score=0.607 total time=   1.3s\n",
      "[CV 2/5] END .......C=100, gamma=1, kernel=poly;, score=0.481 total time=   1.3s\n",
      "[CV 3/5] END .......C=100, gamma=1, kernel=poly;, score=0.519 total time=   1.3s\n",
      "[CV 5/5] END ........C=100, gamma=1, kernel=rbf;, score=0.481 total time=   1.7s\n",
      "[CV 4/5] END .......C=100, gamma=1, kernel=poly;, score=0.593 total time=   1.3s\n",
      "[CV 5/5] END .......C=100, gamma=1, kernel=poly;, score=0.741 total time=   1.3s\n",
      "[CV 1/5] END ....C=100, gamma=1, kernel=sigmoid;, score=0.500 total time=   1.3s\n",
      "[CV 3/5] END ....C=100, gamma=1, kernel=sigmoid;, score=0.519 total time=   1.3s\n",
      "[CV 2/5] END ....C=100, gamma=1, kernel=sigmoid;, score=0.481 total time=   1.5s\n",
      "[CV 4/5] END ....C=100, gamma=1, kernel=sigmoid;, score=0.519 total time=   1.4s\n",
      "[CV 5/5] END ....C=100, gamma=1, kernel=sigmoid;, score=0.481 total time=   1.4s\n",
      "[CV 1/5] END ......C=100, gamma=0.1, kernel=rbf;, score=0.500 total time=   1.6s\n",
      "[CV 3/5] END ......C=100, gamma=0.1, kernel=rbf;, score=0.519 total time=   1.5s\n",
      "[CV 2/5] END ......C=100, gamma=0.1, kernel=rbf;, score=0.481 total time=   1.6s\n",
      "[CV 4/5] END ......C=100, gamma=0.1, kernel=rbf;, score=0.556 total time=   1.5s\n",
      "[CV 2/5] END .....C=100, gamma=0.1, kernel=poly;, score=0.481 total time=   1.2s\n",
      "[CV 1/5] END .....C=100, gamma=0.1, kernel=poly;, score=0.607 total time=   1.3s\n",
      "[CV 5/5] END ......C=100, gamma=0.1, kernel=rbf;, score=0.481 total time=   1.6s\n",
      "[CV 3/5] END .....C=100, gamma=0.1, kernel=poly;, score=0.519 total time=   1.5s\n",
      "[CV 4/5] END .....C=100, gamma=0.1, kernel=poly;, score=0.593 total time=   1.2s\n",
      "[CV 5/5] END .....C=100, gamma=0.1, kernel=poly;, score=0.741 total time=   1.4s\n",
      "[CV 1/5] END ..C=100, gamma=0.1, kernel=sigmoid;, score=0.500 total time=   1.4s\n",
      "[CV 2/5] END ..C=100, gamma=0.1, kernel=sigmoid;, score=0.481 total time=   1.3s\n",
      "[CV 4/5] END ..C=100, gamma=0.1, kernel=sigmoid;, score=0.519 total time=   1.3s\n",
      "[CV 3/5] END ..C=100, gamma=0.1, kernel=sigmoid;, score=0.519 total time=   1.4s\n",
      "[CV 5/5] END ..C=100, gamma=0.1, kernel=sigmoid;, score=0.481 total time=   1.3s\n",
      "[CV 1/5] END .....C=100, gamma=0.01, kernel=rbf;, score=0.571 total time=   1.5s\n",
      "[CV 2/5] END .....C=100, gamma=0.01, kernel=rbf;, score=0.556 total time=   1.5s\n",
      "[CV 1/5] END ....C=100, gamma=0.01, kernel=poly;, score=0.607 total time=   1.2s\n",
      "[CV 4/5] END .....C=100, gamma=0.01, kernel=rbf;, score=0.741 total time=   1.6s\n",
      "[CV 3/5] END .....C=100, gamma=0.01, kernel=rbf;, score=0.519 total time=   1.6s\n",
      "[CV 2/5] END ....C=100, gamma=0.01, kernel=poly;, score=0.481 total time=   1.4s\n",
      "[CV 5/5] END .....C=100, gamma=0.01, kernel=rbf;, score=0.778 total time=   1.6s\n",
      "[CV 3/5] END ....C=100, gamma=0.01, kernel=poly;, score=0.519 total time=   1.4s\n",
      "[CV 4/5] END ....C=100, gamma=0.01, kernel=poly;, score=0.593 total time=   1.2s\n",
      "[CV 5/5] END ....C=100, gamma=0.01, kernel=poly;, score=0.741 total time=   1.3s\n",
      "[CV 1/5] END .C=100, gamma=0.01, kernel=sigmoid;, score=0.500 total time=   1.4s\n",
      "[CV 2/5] END .C=100, gamma=0.01, kernel=sigmoid;, score=0.481 total time=   1.2s\n",
      "[CV 4/5] END .C=100, gamma=0.01, kernel=sigmoid;, score=0.519 total time=   1.2s\n",
      "[CV 5/5] END .C=100, gamma=0.01, kernel=sigmoid;, score=0.481 total time=   1.3s\n",
      "[CV 3/5] END .C=100, gamma=0.01, kernel=sigmoid;, score=0.519 total time=   1.4s\n",
      "[CV 1/5] END ....C=100, gamma=0.001, kernel=rbf;, score=0.429 total time=   1.5s\n",
      "[CV 2/5] END ....C=100, gamma=0.001, kernel=rbf;, score=0.481 total time=   1.5s\n",
      "[CV 3/5] END ....C=100, gamma=0.001, kernel=rbf;, score=0.556 total time=   1.5s\n",
      "[CV 1/5] END ...C=100, gamma=0.001, kernel=poly;, score=0.607 total time=   1.3s\n",
      "[CV 4/5] END ....C=100, gamma=0.001, kernel=rbf;, score=0.593 total time=   1.5s\n",
      "[CV 2/5] END ...C=100, gamma=0.001, kernel=poly;, score=0.481 total time=   1.4s\n",
      "[CV 3/5] END ...C=100, gamma=0.001, kernel=poly;, score=0.519 total time=   1.3s\n",
      "[CV 5/5] END ....C=100, gamma=0.001, kernel=rbf;, score=0.741 total time=   1.6s\n",
      "[CV 1/5] END C=100, gamma=0.001, kernel=sigmoid;, score=0.321 total time=   0.8s\n",
      "[CV 4/5] END ...C=100, gamma=0.001, kernel=poly;, score=0.593 total time=   1.3s\n",
      "[CV 5/5] END ...C=100, gamma=0.001, kernel=poly;, score=0.741 total time=   1.2s\n",
      "[CV 5/5] END C=100, gamma=0.001, kernel=sigmoid;, score=0.630 total time=   0.5s\n",
      "[CV 2/5] END C=100, gamma=0.001, kernel=sigmoid;, score=0.481 total time=   0.7s\n",
      "[CV 4/5] END C=100, gamma=0.001, kernel=sigmoid;, score=0.333 total time=   0.6s\n",
      "[CV 3/5] END C=100, gamma=0.001, kernel=sigmoid;, score=0.593 total time=   0.7s\n"
     ]
    },
    {
     "data": {
      "text/plain": [
       "{'C': 10, 'gamma': 0.01, 'kernel': 'rbf'}"
      ]
     },
     "execution_count": 4,
     "metadata": {},
     "output_type": "execute_result"
    }
   ],
   "source": [
    "param_grid = {'C': [0.1,1, 10, 100], \n",
    "    'gamma': [1,0.1,0.01,0.001],\n",
    "    'kernel': ['rbf', 'poly', 'sigmoid']}\n",
    "\n",
    "gs = GridSearchCV(SVC(), param_grid=param_grid, n_jobs=-1, verbose=3, scoring='accuracy')\n",
    "\n",
    "gs.fit(X_train, y_train)\n",
    "gs.best_params_"
   ]
  },
  {
   "cell_type": "code",
   "execution_count": 27,
   "metadata": {},
   "outputs": [
    {
     "name": "stdout",
     "output_type": "stream",
     "text": [
      "Fitting 5 folds for each of 3 candidates, totalling 15 fits\n",
      "[CV 1/5] END criterion=gini, max_depth=20, min_samples_leaf=2, min_samples_split=60, n_estimators=50;, score=0.717 total time=   8.5s\n",
      "[CV 2/5] END criterion=gini, max_depth=20, min_samples_leaf=2, min_samples_split=60, n_estimators=50;, score=0.518 total time=   8.6s\n",
      "[CV 4/5] END criterion=gini, max_depth=20, min_samples_leaf=2, min_samples_split=60, n_estimators=50;, score=0.679 total time=   8.6s\n",
      "[CV 5/5] END criterion=gini, max_depth=20, min_samples_leaf=2, min_samples_split=60, n_estimators=50;, score=0.696 total time=   8.7s\n",
      "[CV 3/5] END criterion=gini, max_depth=20, min_samples_leaf=2, min_samples_split=60, n_estimators=50;, score=0.538 total time=   8.8s\n",
      "[CV 1/5] END criterion=gini, max_depth=20, min_samples_leaf=2, min_samples_split=60, n_estimators=100;, score=0.697 total time=  10.9s\n",
      "[CV 2/5] END criterion=gini, max_depth=20, min_samples_leaf=2, min_samples_split=60, n_estimators=100;, score=0.518 total time=  10.9s\n",
      "[CV 3/5] END criterion=gini, max_depth=20, min_samples_leaf=2, min_samples_split=60, n_estimators=100;, score=0.505 total time=  10.9s\n",
      "[CV 5/5] END criterion=gini, max_depth=20, min_samples_leaf=2, min_samples_split=60, n_estimators=100;, score=0.732 total time=  10.0s\n",
      "[CV 4/5] END criterion=gini, max_depth=20, min_samples_leaf=2, min_samples_split=60, n_estimators=100;, score=0.682 total time=  10.6s\n",
      "[CV 3/5] END criterion=gini, max_depth=20, min_samples_leaf=2, min_samples_split=60, n_estimators=200;, score=0.538 total time=  13.0s\n",
      "[CV 1/5] END criterion=gini, max_depth=20, min_samples_leaf=2, min_samples_split=60, n_estimators=200;, score=0.667 total time=  13.5s\n",
      "[CV 2/5] END criterion=gini, max_depth=20, min_samples_leaf=2, min_samples_split=60, n_estimators=200;, score=0.498 total time=  13.4s\n",
      "[CV 4/5] END criterion=gini, max_depth=20, min_samples_leaf=2, min_samples_split=60, n_estimators=200;, score=0.686 total time=  11.3s\n",
      "[CV 5/5] END criterion=gini, max_depth=20, min_samples_leaf=2, min_samples_split=60, n_estimators=200;, score=0.722 total time=  11.5s\n"
     ]
    },
    {
     "data": {
      "text/plain": [
       "{'criterion': 'gini',\n",
       " 'max_depth': 20,\n",
       " 'min_samples_leaf': 2,\n",
       " 'min_samples_split': 60,\n",
       " 'n_estimators': 50}"
      ]
     },
     "execution_count": 27,
     "metadata": {},
     "output_type": "execute_result"
    }
   ],
   "source": [
    "param_grid = {'n_estimators': [50,100,200],\n",
    "                'criterion': ['gini'],\n",
    "                'max_depth': [20],\n",
    "                'min_samples_split': [60],\n",
    "                'min_samples_leaf': [2]\n",
    "}\n",
    "\n",
    "gs = GridSearchCV(ExtraTreesClassifier(), param_grid=param_grid, n_jobs=-1, verbose=3, scoring='accuracy')\n",
    "\n",
    "gs.fit(X_train, y_train)\n",
    "gs.best_params_"
   ]
  },
  {
   "cell_type": "code",
   "execution_count": 5,
   "metadata": {},
   "outputs": [],
   "source": [
    "model = gs.best_estimator_"
   ]
  },
  {
   "cell_type": "code",
   "execution_count": 6,
   "metadata": {},
   "outputs": [
    {
     "name": "stdout",
     "output_type": "stream",
     "text": [
      "0.5652173913043478\n"
     ]
    },
    {
     "data": {
      "text/plain": [
       "1.0"
      ]
     },
     "execution_count": 6,
     "metadata": {},
     "output_type": "execute_result"
    }
   ],
   "source": [
    "y_pred = model.predict(X_test)\n",
    "acc = accuracy_score(y_test, y_pred)\n",
    "print(acc)\n",
    "accuracy_score(y_train, model.predict(X_train))"
   ]
  },
  {
   "cell_type": "code",
   "execution_count": 11,
   "metadata": {},
   "outputs": [
    {
     "name": "stdout",
     "output_type": "stream",
     "text": [
      "accuracy:  0.65\n",
      "recall:  0.74\n",
      "precision:  0.63\n"
     ]
    },
    {
     "data": {
      "image/png": "[encoded data removed]",
      "text/plain": [
       "<Figure size 432x288 with 1 Axes>"
      ]
     },
     "metadata": {
      "needs_background": "light"
     },
     "output_type": "display_data"
    }
   ],
   "source": [
    "# Plotting the confusing matrix\n",
    "mat = confusion_matrix(y_test, y_pred)\n",
    "sns.heatmap(mat.T, square=True, annot=True, fmt='d', cbar=False)\n",
    "plt.xlabel('true label')\n",
    "plt.ylabel('predicted label')\n",
    "print('accuracy: ' , accuracy_score(y_test, y_pred).round(2))\n",
    "print('recall: ' , recall_score(y_test, y_pred).round(2))\n",
    "print('precision: ' , precision_score(y_test, y_pred).round(2))"
   ]
  }
 ],
 "metadata": {
  "kernelspec": {
   "display_name": "Python 3.9.8 ('.venv': venv)",
   "language": "python",
   "name": "python3"
  },
  "language_info": {
   "codemirror_mode": {
    "name": "ipython",
    "version": 3
   },
   "file_extension": ".py",
   "mimetype": "text/x-python",
   "name": "python",
   "nbconvert_exporter": "python",
   "pygments_lexer": "ipython3",
   "version": "3.9.8"
  },
  "orig_nbformat": 4,
  "vscode": {
   "interpreter": {
    "hash": "4aabaac7d428528a0ce6def5bece3fccfbe94dd49d29425f23b4abc8d9df7555"
   }
  }
 },
 "nbformat": 4,
 "nbformat_minor": 2
}
