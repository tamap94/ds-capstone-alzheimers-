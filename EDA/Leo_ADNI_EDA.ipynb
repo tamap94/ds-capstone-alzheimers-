{
 "cells": [
  {
   "cell_type": "markdown",
   "metadata": {},
   "source": [
    "# EDA of ADNI dataset\n",
    "## Numerical EDA\n",
    "### General information\n",
    "ADNI dataset (https://www.oasis-brains.org)\n",
    "- Number of subjects: 831\n",
    "- Number of MRI scans: 2886\n",
    "- AD classification: \n",
    "  - CN (normal control, CDR = 0)\n",
    "  - MCI (mild cognitive impairment, CDR = 0.5)\n",
    "  - AD (Alzheimer's disease dementia, CDR = 0.5 or 1)"
   ]
  },
  {
   "cell_type": "markdown",
   "metadata": {},
   "source": [
    "### Libraries"
   ]
  },
  {
   "cell_type": "code",
   "execution_count": 64,
   "metadata": {},
   "outputs": [],
   "source": [
    "# import libraries for data analysis and visualization \n",
    "import pandas as pd\n",
    "import numpy as np\n",
    "import matplotlib.pyplot as plt\n",
    "import seaborn as sns\n",
    "\n",
    "# set a colorcode for all the plots \n",
    "sns.set_palette(palette='ch:start=.2,rot=-.3')\n",
    "\n",
    "# set figure size for higher resolution\n",
    "sns.set(rc={'figure.figsize':(6,3)})\n",
    "plt.rcParams['figure.dpi'] = 100"
   ]
  },
  {
   "cell_type": "markdown",
   "metadata": {},
   "source": [
    "### Dataset"
   ]
  },
  {
   "cell_type": "code",
   "execution_count": 65,
   "metadata": {},
   "outputs": [],
   "source": [
    "df = pd.read_csv(\"../data/FreeSurfer_8_23_2022.csv\")"
   ]
  },
  {
   "cell_type": "markdown",
   "metadata": {},
   "source": [
    "### Data overview"
   ]
  },
  {
   "cell_type": "code",
   "execution_count": 66,
   "metadata": {},
   "outputs": [
    {
     "data": {
      "text/html": [
       "<div>\n",
       "<style scoped>\n",
       "    .dataframe tbody tr th:only-of-type {\n",
       "        vertical-align: middle;\n",
       "    }\n",
       "\n",
       "    .dataframe tbody tr th {\n",
       "        vertical-align: top;\n",
       "    }\n",
       "\n",
       "    .dataframe thead th {\n",
       "        text-align: right;\n",
       "    }\n",
       "</style>\n",
       "<table border=\"1\" class=\"dataframe\">\n",
       "  <thead>\n",
       "    <tr style=\"text-align: right;\">\n",
       "      <th></th>\n",
       "      <th>Image Data ID</th>\n",
       "      <th>Subject</th>\n",
       "      <th>Group</th>\n",
       "      <th>Sex</th>\n",
       "      <th>Age</th>\n",
       "      <th>Visit</th>\n",
       "      <th>Modality</th>\n",
       "      <th>Description</th>\n",
       "      <th>Type</th>\n",
       "      <th>Acq Date</th>\n",
       "      <th>Format</th>\n",
       "      <th>Downloaded</th>\n",
       "    </tr>\n",
       "  </thead>\n",
       "  <tbody>\n",
       "    <tr>\n",
       "      <th>0</th>\n",
       "      <td>I185317</td>\n",
       "      <td>941_S_1363</td>\n",
       "      <td>MCI</td>\n",
       "      <td>F</td>\n",
       "      <td>70</td>\n",
       "      <td>1</td>\n",
       "      <td>MRI</td>\n",
       "      <td>FreeSurfer Cross-Sectional Processing brainmask</td>\n",
       "      <td>Post-processed</td>\n",
       "      <td>3/12/2007</td>\n",
       "      <td>MGH</td>\n",
       "      <td>8/23/2022</td>\n",
       "    </tr>\n",
       "    <tr>\n",
       "      <th>1</th>\n",
       "      <td>I185316</td>\n",
       "      <td>941_S_1363</td>\n",
       "      <td>MCI</td>\n",
       "      <td>F</td>\n",
       "      <td>70</td>\n",
       "      <td>1</td>\n",
       "      <td>MRI</td>\n",
       "      <td>FreeSurfer Cross-Sectional Processing aparc+aseg</td>\n",
       "      <td>Post-processed</td>\n",
       "      <td>3/12/2007</td>\n",
       "      <td>MGH</td>\n",
       "      <td>8/23/2022</td>\n",
       "    </tr>\n",
       "    <tr>\n",
       "      <th>2</th>\n",
       "      <td>I173268</td>\n",
       "      <td>941_S_1311</td>\n",
       "      <td>MCI</td>\n",
       "      <td>M</td>\n",
       "      <td>69</td>\n",
       "      <td>1</td>\n",
       "      <td>MRI</td>\n",
       "      <td>FreeSurfer Cross-Sectional Processing aparc+aseg</td>\n",
       "      <td>Post-processed</td>\n",
       "      <td>3/02/2007</td>\n",
       "      <td>MGH</td>\n",
       "      <td>8/23/2022</td>\n",
       "    </tr>\n",
       "  </tbody>\n",
       "</table>\n",
       "</div>"
      ],
      "text/plain": [
       "  Image Data ID     Subject Group Sex  Age  Visit Modality  \\\n",
       "0       I185317  941_S_1363   MCI   F   70      1      MRI   \n",
       "1       I185316  941_S_1363   MCI   F   70      1      MRI   \n",
       "2       I173268  941_S_1311   MCI   M   69      1      MRI   \n",
       "\n",
       "                                        Description            Type  \\\n",
       "0   FreeSurfer Cross-Sectional Processing brainmask  Post-processed   \n",
       "1  FreeSurfer Cross-Sectional Processing aparc+aseg  Post-processed   \n",
       "2  FreeSurfer Cross-Sectional Processing aparc+aseg  Post-processed   \n",
       "\n",
       "    Acq Date Format Downloaded  \n",
       "0  3/12/2007    MGH  8/23/2022  \n",
       "1  3/12/2007    MGH  8/23/2022  \n",
       "2  3/02/2007    MGH  8/23/2022  "
      ]
     },
     "execution_count": 66,
     "metadata": {},
     "output_type": "execute_result"
    }
   ],
   "source": [
    "df.head(3)"
   ]
  },
  {
   "cell_type": "code",
   "execution_count": 67,
   "metadata": {},
   "outputs": [
    {
     "data": {
      "text/html": [
       "<div>\n",
       "<style scoped>\n",
       "    .dataframe tbody tr th:only-of-type {\n",
       "        vertical-align: middle;\n",
       "    }\n",
       "\n",
       "    .dataframe tbody tr th {\n",
       "        vertical-align: top;\n",
       "    }\n",
       "\n",
       "    .dataframe thead th {\n",
       "        text-align: right;\n",
       "    }\n",
       "</style>\n",
       "<table border=\"1\" class=\"dataframe\">\n",
       "  <thead>\n",
       "    <tr style=\"text-align: right;\">\n",
       "      <th></th>\n",
       "      <th>Image Data ID</th>\n",
       "      <th>Subject</th>\n",
       "      <th>Group</th>\n",
       "      <th>Sex</th>\n",
       "      <th>Age</th>\n",
       "      <th>Visit</th>\n",
       "      <th>Modality</th>\n",
       "      <th>Description</th>\n",
       "      <th>Type</th>\n",
       "      <th>Acq Date</th>\n",
       "      <th>Format</th>\n",
       "      <th>Downloaded</th>\n",
       "    </tr>\n",
       "  </thead>\n",
       "  <tbody>\n",
       "    <tr>\n",
       "      <th>2883</th>\n",
       "      <td>I252116</td>\n",
       "      <td>002_S_0413</td>\n",
       "      <td>CN</td>\n",
       "      <td>F</td>\n",
       "      <td>76</td>\n",
       "      <td>1</td>\n",
       "      <td>MRI</td>\n",
       "      <td>FreeSurfer Cross-Sectional Processing aparc+aseg</td>\n",
       "      <td>Post-processed</td>\n",
       "      <td>5/02/2006</td>\n",
       "      <td>MGH</td>\n",
       "      <td>8/23/2022</td>\n",
       "    </tr>\n",
       "    <tr>\n",
       "      <th>2884</th>\n",
       "      <td>I167591</td>\n",
       "      <td>002_S_0295</td>\n",
       "      <td>CN</td>\n",
       "      <td>M</td>\n",
       "      <td>85</td>\n",
       "      <td>1</td>\n",
       "      <td>MRI</td>\n",
       "      <td>FreeSurfer Cross-Sectional Processing aparc+aseg</td>\n",
       "      <td>Post-processed</td>\n",
       "      <td>4/18/2006</td>\n",
       "      <td>MGH</td>\n",
       "      <td>8/23/2022</td>\n",
       "    </tr>\n",
       "    <tr>\n",
       "      <th>2885</th>\n",
       "      <td>I167590</td>\n",
       "      <td>002_S_0295</td>\n",
       "      <td>CN</td>\n",
       "      <td>M</td>\n",
       "      <td>85</td>\n",
       "      <td>1</td>\n",
       "      <td>MRI</td>\n",
       "      <td>FreeSurfer Cross-Sectional Processing brainmask</td>\n",
       "      <td>Post-processed</td>\n",
       "      <td>4/18/2006</td>\n",
       "      <td>MGH</td>\n",
       "      <td>8/23/2022</td>\n",
       "    </tr>\n",
       "  </tbody>\n",
       "</table>\n",
       "</div>"
      ],
      "text/plain": [
       "     Image Data ID     Subject Group Sex  Age  Visit Modality  \\\n",
       "2883       I252116  002_S_0413    CN   F   76      1      MRI   \n",
       "2884       I167591  002_S_0295    CN   M   85      1      MRI   \n",
       "2885       I167590  002_S_0295    CN   M   85      1      MRI   \n",
       "\n",
       "                                           Description            Type  \\\n",
       "2883  FreeSurfer Cross-Sectional Processing aparc+aseg  Post-processed   \n",
       "2884  FreeSurfer Cross-Sectional Processing aparc+aseg  Post-processed   \n",
       "2885   FreeSurfer Cross-Sectional Processing brainmask  Post-processed   \n",
       "\n",
       "       Acq Date Format Downloaded  \n",
       "2883  5/02/2006    MGH  8/23/2022  \n",
       "2884  4/18/2006    MGH  8/23/2022  \n",
       "2885  4/18/2006    MGH  8/23/2022  "
      ]
     },
     "execution_count": 67,
     "metadata": {},
     "output_type": "execute_result"
    }
   ],
   "source": [
    "df.tail(3)"
   ]
  },
  {
   "cell_type": "code",
   "execution_count": 68,
   "metadata": {},
   "outputs": [
    {
     "name": "stdout",
     "output_type": "stream",
     "text": [
      "Image Data ID: 2886\n",
      "Subject: 831\n",
      "Group: 3\n",
      "Sex: 2\n",
      "Age: 37\n",
      "Visit: 1\n",
      "Modality: 1\n",
      "Description: 4\n",
      "Type: 1\n",
      "Acq Date: 357\n",
      "Format: 1\n",
      "Downloaded: 1\n"
     ]
    }
   ],
   "source": [
    "# number of unique entries for each column\n",
    "for i in df:\n",
    "    n = df[i].nunique()\n",
    "    print(f\"{i}: {n}\")"
   ]
  },
  {
   "cell_type": "markdown",
   "metadata": {},
   "source": [
    "### Demographic"
   ]
  },
  {
   "cell_type": "code",
   "execution_count": 69,
   "metadata": {},
   "outputs": [],
   "source": [
    "# drop columns with just one unique entry\n",
    "df.drop([\"Visit\",\"Modality\",\"Type\",\"Format\",\"Downloaded\"],axis=1, inplace=True)\n",
    "\n",
    "# drop columns irrelevant for demographic analysis\n",
    "df.drop([\"Description\",\"Acq Date\"],axis=1, inplace=True)"
   ]
  },
  {
   "cell_type": "code",
   "execution_count": 70,
   "metadata": {},
   "outputs": [],
   "source": [
    "# rename columns to avoid spaces\n",
    "df.rename(columns={\"Image Data ID\":\"Image_data_ID\"},inplace=True);"
   ]
  },
  {
   "cell_type": "code",
   "execution_count": 71,
   "metadata": {},
   "outputs": [
    {
     "data": {
      "text/html": [
       "<div>\n",
       "<style scoped>\n",
       "    .dataframe tbody tr th:only-of-type {\n",
       "        vertical-align: middle;\n",
       "    }\n",
       "\n",
       "    .dataframe tbody tr th {\n",
       "        vertical-align: top;\n",
       "    }\n",
       "\n",
       "    .dataframe thead th {\n",
       "        text-align: right;\n",
       "    }\n",
       "</style>\n",
       "<table border=\"1\" class=\"dataframe\">\n",
       "  <thead>\n",
       "    <tr style=\"text-align: right;\">\n",
       "      <th></th>\n",
       "      <th>Image_data_ID</th>\n",
       "      <th>Subject</th>\n",
       "      <th>Group</th>\n",
       "      <th>Sex</th>\n",
       "      <th>Age</th>\n",
       "    </tr>\n",
       "  </thead>\n",
       "  <tbody>\n",
       "    <tr>\n",
       "      <th>0</th>\n",
       "      <td>I185317</td>\n",
       "      <td>941_S_1363</td>\n",
       "      <td>MCI</td>\n",
       "      <td>F</td>\n",
       "      <td>70</td>\n",
       "    </tr>\n",
       "    <tr>\n",
       "      <th>1</th>\n",
       "      <td>I185316</td>\n",
       "      <td>941_S_1363</td>\n",
       "      <td>MCI</td>\n",
       "      <td>F</td>\n",
       "      <td>70</td>\n",
       "    </tr>\n",
       "    <tr>\n",
       "      <th>2</th>\n",
       "      <td>I173268</td>\n",
       "      <td>941_S_1311</td>\n",
       "      <td>MCI</td>\n",
       "      <td>M</td>\n",
       "      <td>69</td>\n",
       "    </tr>\n",
       "  </tbody>\n",
       "</table>\n",
       "</div>"
      ],
      "text/plain": [
       "  Image_data_ID     Subject Group Sex  Age\n",
       "0       I185317  941_S_1363   MCI   F   70\n",
       "1       I185316  941_S_1363   MCI   F   70\n",
       "2       I173268  941_S_1311   MCI   M   69"
      ]
     },
     "execution_count": 71,
     "metadata": {},
     "output_type": "execute_result"
    }
   ],
   "source": [
    "df.head(3)"
   ]
  },
  {
   "cell_type": "code",
   "execution_count": 72,
   "metadata": {},
   "outputs": [
    {
     "name": "stdout",
     "output_type": "stream",
     "text": [
      "Number of studied subjects: 831\n"
     ]
    }
   ],
   "source": [
    "# number of subjects\n",
    "print(f\"Number of studied subjects: {df.Subject.nunique()}\")"
   ]
  },
  {
   "cell_type": "code",
   "execution_count": 73,
   "metadata": {},
   "outputs": [
    {
     "name": "stdout",
     "output_type": "stream",
     "text": [
      "Number of MRI scans: 2886\n"
     ]
    }
   ],
   "source": [
    "# number of MRI scans (considering longitudinal and cross-sectional images separately)\n",
    "print(f\"Number of MRI scans: {df.Image_data_ID.nunique()}\")"
   ]
  },
  {
   "cell_type": "code",
   "execution_count": 74,
   "metadata": {},
   "outputs": [],
   "source": [
    "# group by subject and remove duplicates\n",
    "df1 = df.groupby(\"Subject\")\n",
    "df = df1.max().reset_index()\n",
    "df.drop(\"Image_data_ID\", axis=1, inplace=True)"
   ]
  },
  {
   "cell_type": "code",
   "execution_count": 75,
   "metadata": {},
   "outputs": [
    {
     "data": {
      "text/html": [
       "<div>\n",
       "<style scoped>\n",
       "    .dataframe tbody tr th:only-of-type {\n",
       "        vertical-align: middle;\n",
       "    }\n",
       "\n",
       "    .dataframe tbody tr th {\n",
       "        vertical-align: top;\n",
       "    }\n",
       "\n",
       "    .dataframe thead th {\n",
       "        text-align: right;\n",
       "    }\n",
       "</style>\n",
       "<table border=\"1\" class=\"dataframe\">\n",
       "  <thead>\n",
       "    <tr style=\"text-align: right;\">\n",
       "      <th></th>\n",
       "      <th>Subject</th>\n",
       "      <th>Group</th>\n",
       "      <th>Sex</th>\n",
       "      <th>Age</th>\n",
       "    </tr>\n",
       "  </thead>\n",
       "  <tbody>\n",
       "    <tr>\n",
       "      <th>0</th>\n",
       "      <td>002_S_0295</td>\n",
       "      <td>CN</td>\n",
       "      <td>M</td>\n",
       "      <td>85</td>\n",
       "    </tr>\n",
       "    <tr>\n",
       "      <th>1</th>\n",
       "      <td>002_S_0413</td>\n",
       "      <td>CN</td>\n",
       "      <td>F</td>\n",
       "      <td>76</td>\n",
       "    </tr>\n",
       "    <tr>\n",
       "      <th>2</th>\n",
       "      <td>002_S_0559</td>\n",
       "      <td>CN</td>\n",
       "      <td>M</td>\n",
       "      <td>79</td>\n",
       "    </tr>\n",
       "  </tbody>\n",
       "</table>\n",
       "</div>"
      ],
      "text/plain": [
       "      Subject Group Sex  Age\n",
       "0  002_S_0295    CN   M   85\n",
       "1  002_S_0413    CN   F   76\n",
       "2  002_S_0559    CN   M   79"
      ]
     },
     "execution_count": 75,
     "metadata": {},
     "output_type": "execute_result"
    }
   ],
   "source": [
    "df.head(3)"
   ]
  },
  {
   "cell_type": "markdown",
   "metadata": {},
   "source": [
    "#### Information of studied subjects"
   ]
  },
  {
   "cell_type": "code",
   "execution_count": 76,
   "metadata": {},
   "outputs": [
    {
     "data": {
      "image/png": "[encoded data removed]",
      "text/plain": [
       "<Figure size 600x300 with 1 Axes>"
      ]
     },
     "metadata": {},
     "output_type": "display_data"
    }
   ],
   "source": [
    "# check distribution of male/female\n",
    "sns.countplot(data=df, x='Sex');"
   ]
  },
  {
   "cell_type": "code",
   "execution_count": 77,
   "metadata": {},
   "outputs": [
    {
     "data": {
      "text/plain": [
       "M    0.58\n",
       "F    0.42\n",
       "Name: Sex, dtype: float64"
      ]
     },
     "execution_count": 77,
     "metadata": {},
     "output_type": "execute_result"
    }
   ],
   "source": [
    "# check percentage of male/female\n",
    "df[\"Sex\"].value_counts(\"M\").round(2)"
   ]
  },
  {
   "cell_type": "markdown",
   "metadata": {},
   "source": [
    "Subjects studied are 58% male and 42% female."
   ]
  },
  {
   "cell_type": "code",
   "execution_count": 78,
   "metadata": {},
   "outputs": [
    {
     "data": {
      "image/png": "[encoded data removed]",
      "text/plain": [
       "<Figure size 600x300 with 1 Axes>"
      ]
     },
     "metadata": {},
     "output_type": "display_data"
    }
   ],
   "source": [
    "# check distribution of CN, AD and MCI groups\n",
    "sns.countplot(data = df, x = 'Group');"
   ]
  },
  {
   "cell_type": "code",
   "execution_count": 79,
   "metadata": {},
   "outputs": [
    {
     "data": {
      "text/plain": [
       "MCI    0.49\n",
       "CN     0.27\n",
       "AD     0.24\n",
       "Name: Group, dtype: float64"
      ]
     },
     "execution_count": 79,
     "metadata": {},
     "output_type": "execute_result"
    }
   ],
   "source": [
    "# check percentage of CN, AD, and MCI groups\n",
    "df[\"Group\"].value_counts(\"CN\").round(2)"
   ]
  },
  {
   "cell_type": "markdown",
   "metadata": {},
   "source": [
    "27% of the studied subjects are normal controls (CN), 49% have mild cognitive impairment (MCI) and 24% have Alzheimer's disease (AD)."
   ]
  },
  {
   "cell_type": "code",
   "execution_count": 80,
   "metadata": {},
   "outputs": [
    {
     "name": "stdout",
     "output_type": "stream",
     "text": [
      "min age: 55; max age: 91\n"
     ]
    },
    {
     "data": {
      "text/html": [
       "<div>\n",
       "<style scoped>\n",
       "    .dataframe tbody tr th:only-of-type {\n",
       "        vertical-align: middle;\n",
       "    }\n",
       "\n",
       "    .dataframe tbody tr th {\n",
       "        vertical-align: top;\n",
       "    }\n",
       "\n",
       "    .dataframe thead th {\n",
       "        text-align: right;\n",
       "    }\n",
       "</style>\n",
       "<table border=\"1\" class=\"dataframe\">\n",
       "  <thead>\n",
       "    <tr style=\"text-align: right;\">\n",
       "      <th></th>\n",
       "      <th>Subject</th>\n",
       "      <th>Group</th>\n",
       "      <th>Sex</th>\n",
       "      <th>Age</th>\n",
       "      <th>Age_category</th>\n",
       "    </tr>\n",
       "  </thead>\n",
       "  <tbody>\n",
       "    <tr>\n",
       "      <th>0</th>\n",
       "      <td>002_S_0295</td>\n",
       "      <td>CN</td>\n",
       "      <td>M</td>\n",
       "      <td>85</td>\n",
       "      <td>83-87</td>\n",
       "    </tr>\n",
       "    <tr>\n",
       "      <th>1</th>\n",
       "      <td>002_S_0413</td>\n",
       "      <td>CN</td>\n",
       "      <td>F</td>\n",
       "      <td>76</td>\n",
       "      <td>75-79</td>\n",
       "    </tr>\n",
       "    <tr>\n",
       "      <th>2</th>\n",
       "      <td>002_S_0559</td>\n",
       "      <td>CN</td>\n",
       "      <td>M</td>\n",
       "      <td>79</td>\n",
       "      <td>75-79</td>\n",
       "    </tr>\n",
       "  </tbody>\n",
       "</table>\n",
       "</div>"
      ],
      "text/plain": [
       "      Subject Group Sex  Age Age_category\n",
       "0  002_S_0295    CN   M   85        83-87\n",
       "1  002_S_0413    CN   F   76        75-79\n",
       "2  002_S_0559    CN   M   79        75-79"
      ]
     },
     "execution_count": 80,
     "metadata": {},
     "output_type": "execute_result"
    }
   ],
   "source": [
    "# check age distribution\n",
    "print(f\"min age: {df.Age.min()}; max age: {df.Age.max()}\")\n",
    "\n",
    "# make age bins\n",
    "df_age = pd.cut(df.Age, bins = 9, labels=['55-59', '59-63',\"63-67\",\"67-71\",\"71-75\",\"75-79\",\"79-83\",\"83-87\",\"87-91\"])\n",
    "\n",
    "# add age bins as a new column to the dataframe \n",
    "df=df.join(df_age, how='inner', rsuffix='_category')\n",
    "df.head(3)\n"
   ]
  },
  {
   "cell_type": "code",
   "execution_count": 81,
   "metadata": {},
   "outputs": [
    {
     "data": {
      "image/png": "[encoded data removed]",
      "text/plain": [
       "<Figure size 600x300 with 1 Axes>"
      ]
     },
     "metadata": {},
     "output_type": "display_data"
    }
   ],
   "source": [
    "sns.countplot(data = df, x = 'Age_category');"
   ]
  },
  {
   "cell_type": "code",
   "execution_count": 82,
   "metadata": {},
   "outputs": [
    {
     "data": {
      "text/plain": [
       "71-75    0.23\n",
       "75-79    0.22\n",
       "79-83    0.16\n",
       "67-71    0.15\n",
       "83-87    0.10\n",
       "63-67    0.06\n",
       "59-63    0.04\n",
       "55-59    0.02\n",
       "87-91    0.02\n",
       "Name: Age_category, dtype: float64"
      ]
     },
     "execution_count": 82,
     "metadata": {},
     "output_type": "execute_result"
    }
   ],
   "source": [
    "# check percentage of each age category\n",
    "df[\"Age_category\"].value_counts(\"55-59\").round(2)"
   ]
  },
  {
   "cell_type": "markdown",
   "metadata": {},
   "source": [
    "The majority of the studied subjects (45%) is between 71 and 79 years old."
   ]
  },
  {
   "cell_type": "code",
   "execution_count": 83,
   "metadata": {},
   "outputs": [
    {
     "data": {
      "image/png": "[encoded data removed]",
      "text/plain": [
       "<Figure size 1000x400 with 2 Axes>"
      ]
     },
     "metadata": {},
     "output_type": "display_data"
    }
   ],
   "source": [
    "# check distribution of CV, MCI and MCI per sex and age category \n",
    "fig, axes = plt.subplots(1,2, figsize=(10, 4))\n",
    "axes[0].set_title('Dementia cases per Gender')\n",
    "sns.countplot(data=df, x='Sex', hue='Group', ax=axes[0]).set(xlabel='Gender', ylabel='Count')\n",
    "axes[0].legend(title='Dementia',bbox_to_anchor=(0.6, 1), loc='upper left')\n",
    "\n",
    "sns.countplot(data=df, x='Age_category', hue='Group', ax=axes[1]).set(xlabel='Age category', ylabel='Count')\n",
    "axes[1].set_title('Dementia cases per Age Category')\n",
    "axes[1].legend(title='Dementia',bbox_to_anchor=(0.02, 1), loc='upper left');"
   ]
  },
  {
   "cell_type": "code",
   "execution_count": 84,
   "metadata": {},
   "outputs": [
    {
     "data": {
      "text/plain": [
       "Group  Sex\n",
       "AD     M      0.52\n",
       "       F      0.48\n",
       "CN     M      0.51\n",
       "       F      0.49\n",
       "MCI    M      0.64\n",
       "       F      0.36\n",
       "Name: Sex, dtype: float64"
      ]
     },
     "execution_count": 84,
     "metadata": {},
     "output_type": "execute_result"
    }
   ],
   "source": [
    "# check percentage of male and female subjects for each group\n",
    "df_group = df.groupby(\"Group\")\n",
    "df_group.Sex.value_counts(\"M\").round(2)"
   ]
  },
  {
   "cell_type": "markdown",
   "metadata": {},
   "source": [
    "51% of the CN subjects, 52% of the AD subjects and 64% of the MCI subjects are male."
   ]
  },
  {
   "cell_type": "code",
   "execution_count": 95,
   "metadata": {},
   "outputs": [
    {
     "data": {
      "text/plain": [
       "Group       \n",
       "AD     79-83    0.18\n",
       "       71-75    0.17\n",
       "       75-79    0.17\n",
       "       67-71    0.16\n",
       "       83-87    0.15\n",
       "       63-67    0.08\n",
       "       55-59    0.04\n",
       "       59-63    0.03\n",
       "       87-91    0.03\n",
       "CN     71-75    0.31\n",
       "       75-79    0.30\n",
       "       67-71    0.15\n",
       "       79-83    0.12\n",
       "       83-87    0.08\n",
       "       59-63    0.02\n",
       "       87-91    0.01\n",
       "       63-67    0.01\n",
       "       55-59    0.00\n",
       "MCI    71-75    0.21\n",
       "       75-79    0.20\n",
       "       79-83    0.18\n",
       "       67-71    0.14\n",
       "       83-87    0.09\n",
       "       63-67    0.08\n",
       "       59-63    0.06\n",
       "       55-59    0.03\n",
       "       87-91    0.01\n",
       "Name: Age_category, dtype: float64"
      ]
     },
     "execution_count": 95,
     "metadata": {},
     "output_type": "execute_result"
    }
   ],
   "source": [
    "# check percentage of each age category\n",
    "df_group.Age_category.value_counts(\"55-59\").round(2)"
   ]
  },
  {
   "cell_type": "markdown",
   "metadata": {},
   "source": [
    "The majority of CN and MCI subjects is between 71 and 75 year old (31% of CN and 21% of MCI subjects) and the majority of AD subjects is between 79 and 83 years old (18%)."
   ]
  },
  {
   "cell_type": "markdown",
   "metadata": {},
   "source": [
    "## Image EDA"
   ]
  }
 ],
 "metadata": {
  "kernelspec": {
   "display_name": "Python 3.9.8 ('.venv': venv)",
   "language": "python",
   "name": "python3"
  },
  "language_info": {
   "codemirror_mode": {
    "name": "ipython",
    "version": 3
   },
   "file_extension": ".py",
   "mimetype": "text/x-python",
   "name": "python",
   "nbconvert_exporter": "python",
   "pygments_lexer": "ipython3",
   "version": "3.9.8"
  },
  "orig_nbformat": 4,
  "vscode": {
   "interpreter": {
    "hash": "1eaf42d829422746b409e02075f126ce2c2fbfe4d082a37aa2ea1ca1144e2892"
   }
  }
 },
 "nbformat": 4,
 "nbformat_minor": 2
}
